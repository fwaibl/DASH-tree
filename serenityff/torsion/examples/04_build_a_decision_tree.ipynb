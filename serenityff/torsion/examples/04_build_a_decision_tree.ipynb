{
 "cells": [
  {
   "cell_type": "code",
   "execution_count": 1,
   "metadata": {},
   "outputs": [],
   "source": [
    "import os\n",
    "from shutil import rmtree\n",
    "from rdkit import Chem\n",
    "from rdkit.Chem.Draw import IPythonConsole\n",
    "IPythonConsole.ipython_useSVG=True\n",
    "IPythonConsole.drawOptions.addAtomIndices=True\n",
    "from tqdm import tqdm\n",
    "import numpy as np\n",
    "import pandas as pd\n",
    "\n",
    "from serenityff.torsion.tree.dash_tree import DASHTorsionTree\n",
    "from serenityff.charge.tree.atom_features import AtomFeatures\n",
    "from serenityff.torsion.tree_develop.tree_constructor import Torsion_tree_constructor"
   ]
  },
  {
   "cell_type": "code",
   "execution_count": 2,
   "metadata": {},
   "outputs": [],
   "source": [
    "data_file=\"../data/example_extraction.csv\"\n",
    "sdf_suply=\"../data/example.sdf\" \n",
    "data_split = 0.2\n",
    "out_folder = \"./example_tree_out\"\n",
    "if os.path.exists(out_folder):\n",
    "    rmtree(out_folder)\n",
    "os.mkdir(out_folder)"
   ]
  },
  {
   "cell_type": "code",
   "execution_count": 3,
   "metadata": {},
   "outputs": [],
   "source": [
    "mol_supplier = Chem.SDMolSupplier(sdf_suply)\n",
    "df_test = pd.read_csv(data_file)"
   ]
  },
  {
   "cell_type": "code",
   "execution_count": 4,
   "metadata": {},
   "outputs": [
    {
     "name": "stdout",
     "output_type": "stream",
     "text": [
      "2024-01-09 21:02:18.878920\tInitializing Tree_constructor\n",
      "2024-01-09 21:02:18.880769\tMols imported, starting df import\n",
      "2024-01-09 21:02:18.888967\tSanitizing\n",
      "2024-01-09 21:02:18.904964\tCheck charge sanity\n"
     ]
    },
    {
     "name": "stderr",
     "output_type": "stream",
     "text": [
      "100%|██████████| 20/20 [00:00<00:00, 4298.54it/s]"
     ]
    },
    {
     "name": "stdout",
     "output_type": "stream",
     "text": [
      "Number of wrong charged mols: 0 of 20 mols\n",
      "2024-01-09 21:02:18.914880\tdf imported, starting data spliting\n",
      "2024-01-09 21:02:18.915586\tSplitting data\n",
      "2024-01-09 21:02:18.917216\tData split, delete original\n",
      "2024-01-09 21:02:18.938560\tStarting table filling\n"
     ]
    },
    {
     "name": "stderr",
     "output_type": "stream",
     "text": [
      "\n",
      "100%|██████████| 334/334 [00:00<00:00, 2397.17it/s]"
     ]
    },
    {
     "name": "stdout",
     "output_type": "stream",
     "text": [
      "2024-01-09 21:02:19.087558\tTable filled, starting adjacency matrix creation\n"
     ]
    },
    {
     "name": "stderr",
     "output_type": "stream",
     "text": [
      "\n"
     ]
    },
    {
     "name": "stdout",
     "output_type": "stream",
     "text": [
      "Creating Adjacency matrices:\n"
     ]
    },
    {
     "name": "stderr",
     "output_type": "stream",
     "text": [
      "100%|██████████| 20/20 [00:00<00:00, 1506.25it/s]"
     ]
    },
    {
     "name": "stdout",
     "output_type": "stream",
     "text": [
      "Number of train mols: 16\n",
      "Number of test mols: 4\n"
     ]
    },
    {
     "name": "stderr",
     "output_type": "stream",
     "text": [
      "\n"
     ]
    },
    {
     "name": "stdout",
     "output_type": "stream",
     "text": [
      "Found 142 torsions in the dataset\n",
      "Created a dataframe with (142, 9) torsions\n"
     ]
    }
   ],
   "source": [
    "tree_constructor = Torsion_tree_constructor(df_path=data_file,\n",
    "                sdf_suplier=sdf_suply,\n",
    "                num_layers_to_build=16,\n",
    "                data_split=data_split,\n",
    "                verbose=True,\n",
    "                sanitize=True,\n",
    "                sanitize_charges=True)"
   ]
  },
  {
   "cell_type": "code",
   "execution_count": 5,
   "metadata": {},
   "outputs": [
    {
     "data": {
      "text/html": [
       "<div>\n",
       "<style scoped>\n",
       "    .dataframe tbody tr th:only-of-type {\n",
       "        vertical-align: middle;\n",
       "    }\n",
       "\n",
       "    .dataframe tbody tr th {\n",
       "        vertical-align: top;\n",
       "    }\n",
       "\n",
       "    .dataframe thead th {\n",
       "        text-align: right;\n",
       "    }\n",
       "</style>\n",
       "<table border=\"1\" class=\"dataframe\">\n",
       "  <thead>\n",
       "    <tr style=\"text-align: right;\">\n",
       "      <th></th>\n",
       "      <th>atomtype</th>\n",
       "      <th>idx_in_mol</th>\n",
       "      <th>mol_index</th>\n",
       "      <th>node_attentions</th>\n",
       "      <th>truth</th>\n",
       "      <th>h_connectivity</th>\n",
       "      <th>connected_atoms</th>\n",
       "      <th>total_connected_attention</th>\n",
       "      <th>atom_feature</th>\n",
       "    </tr>\n",
       "  </thead>\n",
       "  <tbody>\n",
       "    <tr>\n",
       "      <th>20</th>\n",
       "      <td>O</td>\n",
       "      <td>0</td>\n",
       "      <td>1</td>\n",
       "      <td>[0.08731412076250168, 0.07575401684894212, 0.0...</td>\n",
       "      <td>-0.484899</td>\n",
       "      <td>-1</td>\n",
       "      <td>[2, 1, 3, 4]</td>\n",
       "      <td>0.599979</td>\n",
       "      <td>156553111</td>\n",
       "    </tr>\n",
       "    <tr>\n",
       "      <th>21</th>\n",
       "      <td>C</td>\n",
       "      <td>1</td>\n",
       "      <td>1</td>\n",
       "      <td>[0.07533094601506285, 0.07949683829561092, 0.0...</td>\n",
       "      <td>0.000381</td>\n",
       "      <td>-1</td>\n",
       "      <td>[3, 8, 7, 6]</td>\n",
       "      <td>0.392914</td>\n",
       "      <td>49436500</td>\n",
       "    </tr>\n",
       "    <tr>\n",
       "      <th>26</th>\n",
       "      <td>N</td>\n",
       "      <td>2</td>\n",
       "      <td>1</td>\n",
       "      <td>[0.0760680088577648, 0.07624203235535834, 0.07...</td>\n",
       "      <td>-0.000414</td>\n",
       "      <td>-1</td>\n",
       "      <td>[8, 7, 6, 5]</td>\n",
       "      <td>0.614799</td>\n",
       "      <td>100276857</td>\n",
       "    </tr>\n",
       "    <tr>\n",
       "      <th>25</th>\n",
       "      <td>C</td>\n",
       "      <td>3</td>\n",
       "      <td>1</td>\n",
       "      <td>[0.07952590797072513, 0.0767484929016264, 0.07...</td>\n",
       "      <td>-0.000025</td>\n",
       "      <td>-1</td>\n",
       "      <td>[7, 6, 5, 4]</td>\n",
       "      <td>0.387219</td>\n",
       "      <td>49849837</td>\n",
       "    </tr>\n",
       "    <tr>\n",
       "      <th>24</th>\n",
       "      <td>C</td>\n",
       "      <td>4</td>\n",
       "      <td>1</td>\n",
       "      <td>[0.07947201368734608, 0.07641943049244446, 0.0...</td>\n",
       "      <td>0.000456</td>\n",
       "      <td>-1</td>\n",
       "      <td>[6, 5, 4, 3]</td>\n",
       "      <td>0.357515</td>\n",
       "      <td>49849836</td>\n",
       "    </tr>\n",
       "    <tr>\n",
       "      <th>...</th>\n",
       "      <td>...</td>\n",
       "      <td>...</td>\n",
       "      <td>...</td>\n",
       "      <td>...</td>\n",
       "      <td>...</td>\n",
       "      <td>...</td>\n",
       "      <td>...</td>\n",
       "      <td>...</td>\n",
       "      <td>...</td>\n",
       "    </tr>\n",
       "    <tr>\n",
       "      <th>406</th>\n",
       "      <td>C</td>\n",
       "      <td>2</td>\n",
       "      <td>19</td>\n",
       "      <td>[0.03662447512365832, 0.037163860413569255, 0....</td>\n",
       "      <td>-0.490934</td>\n",
       "      <td>-1</td>\n",
       "      <td>[2, 3, 4, 5]</td>\n",
       "      <td>0.36673</td>\n",
       "      <td>60418214</td>\n",
       "    </tr>\n",
       "    <tr>\n",
       "      <th>407</th>\n",
       "      <td>C</td>\n",
       "      <td>3</td>\n",
       "      <td>19</td>\n",
       "      <td>[0.035285019837321366, 0.03745373971211091, 0....</td>\n",
       "      <td>-0.189262</td>\n",
       "      <td>-1</td>\n",
       "      <td>[3, 4, 5, 6]</td>\n",
       "      <td>0.369222</td>\n",
       "      <td>151195731</td>\n",
       "    </tr>\n",
       "    <tr>\n",
       "      <th>410</th>\n",
       "      <td>O</td>\n",
       "      <td>4</td>\n",
       "      <td>19</td>\n",
       "      <td>[0.029042437193256325, 0.040045953766984284, 0...</td>\n",
       "      <td>-0.007612</td>\n",
       "      <td>-1</td>\n",
       "      <td>[6, 5, 7, 8]</td>\n",
       "      <td>0.60137</td>\n",
       "      <td>151194993</td>\n",
       "    </tr>\n",
       "    <tr>\n",
       "      <th>409</th>\n",
       "      <td>C</td>\n",
       "      <td>5</td>\n",
       "      <td>19</td>\n",
       "      <td>[0.019444394729595877, 0.030420347852354694, 0...</td>\n",
       "      <td>0.498968</td>\n",
       "      <td>-1</td>\n",
       "      <td>[5, 7, 8, 9]</td>\n",
       "      <td>0.340875</td>\n",
       "      <td>58512325</td>\n",
       "    </tr>\n",
       "    <tr>\n",
       "      <th>411</th>\n",
       "      <td>C</td>\n",
       "      <td>6</td>\n",
       "      <td>19</td>\n",
       "      <td>[0.010369376729091748, 0.02166066152057687, 0....</td>\n",
       "      <td>-0.011477</td>\n",
       "      <td>-1</td>\n",
       "      <td>[7, 8, 9, 10]</td>\n",
       "      <td>0.36081</td>\n",
       "      <td>145673029</td>\n",
       "    </tr>\n",
       "  </tbody>\n",
       "</table>\n",
       "<p>142 rows × 9 columns</p>\n",
       "</div>"
      ],
      "text/plain": [
       "    atomtype idx_in_mol mol_index  \\\n",
       "20         O          0         1   \n",
       "21         C          1         1   \n",
       "26         N          2         1   \n",
       "25         C          3         1   \n",
       "24         C          4         1   \n",
       "..       ...        ...       ...   \n",
       "406        C          2        19   \n",
       "407        C          3        19   \n",
       "410        O          4        19   \n",
       "409        C          5        19   \n",
       "411        C          6        19   \n",
       "\n",
       "                                       node_attentions     truth  \\\n",
       "20   [0.08731412076250168, 0.07575401684894212, 0.0... -0.484899   \n",
       "21   [0.07533094601506285, 0.07949683829561092, 0.0...  0.000381   \n",
       "26   [0.0760680088577648, 0.07624203235535834, 0.07... -0.000414   \n",
       "25   [0.07952590797072513, 0.0767484929016264, 0.07... -0.000025   \n",
       "24   [0.07947201368734608, 0.07641943049244446, 0.0...  0.000456   \n",
       "..                                                 ...       ...   \n",
       "406  [0.03662447512365832, 0.037163860413569255, 0.... -0.490934   \n",
       "407  [0.035285019837321366, 0.03745373971211091, 0.... -0.189262   \n",
       "410  [0.029042437193256325, 0.040045953766984284, 0... -0.007612   \n",
       "409  [0.019444394729595877, 0.030420347852354694, 0...  0.498968   \n",
       "411  [0.010369376729091748, 0.02166066152057687, 0.... -0.011477   \n",
       "\n",
       "    h_connectivity connected_atoms total_connected_attention atom_feature  \n",
       "20              -1    [2, 1, 3, 4]                  0.599979    156553111  \n",
       "21              -1    [3, 8, 7, 6]                  0.392914     49436500  \n",
       "26              -1    [8, 7, 6, 5]                  0.614799    100276857  \n",
       "25              -1    [7, 6, 5, 4]                  0.387219     49849837  \n",
       "24              -1    [6, 5, 4, 3]                  0.357515     49849836  \n",
       "..             ...             ...                       ...          ...  \n",
       "406             -1    [2, 3, 4, 5]                   0.36673     60418214  \n",
       "407             -1    [3, 4, 5, 6]                  0.369222    151195731  \n",
       "410             -1    [6, 5, 7, 8]                   0.60137    151194993  \n",
       "409             -1    [5, 7, 8, 9]                  0.340875     58512325  \n",
       "411             -1   [7, 8, 9, 10]                   0.36081    145673029  \n",
       "\n",
       "[142 rows x 9 columns]"
      ]
     },
     "execution_count": 5,
     "metadata": {},
     "output_type": "execute_result"
    }
   ],
   "source": [
    "tree_constructor.df"
   ]
  },
  {
   "cell_type": "code",
   "execution_count": 6,
   "metadata": {},
   "outputs": [
    {
     "name": "stdout",
     "output_type": "stream",
     "text": [
      "Preparing Dataframe:\n",
      "Number of unique atom features in df: 92\n",
      "Creating Tree Level 0:\n"
     ]
    },
    {
     "name": "stderr",
     "output_type": "stream",
     "text": [
      "100%|██████████| 92/92 [00:00<00:00, 1788.57it/s]"
     ]
    },
    {
     "name": "stdout",
     "output_type": "stream",
     "text": [
      "2024-01-09 21:02:19.500325\tLayer 0 done\n"
     ]
    },
    {
     "name": "stderr",
     "output_type": "stream",
     "text": [
      "\n"
     ]
    }
   ],
   "source": [
    "tree_constructor.create_tree_level_0()"
   ]
  },
  {
   "cell_type": "code",
   "execution_count": 7,
   "metadata": {},
   "outputs": [
    {
     "name": "stdout",
     "output_type": "stream",
     "text": [
      "AF=156553111 - Layer 1 done\n",
      "children layer 1: [node --- lvl: 2, Num=1, Mean=0.0000, std=0.0000, fp=(8, 1, 0, True, 0) (1, 4)]\n",
      "AF 156553111 done\n",
      "AF=49436500 - Layer 1 done\n",
      "children layer 1: [node --- lvl: 2, Num=1, Mean=0.0000, std=0.0000, fp=(6, 3, 0, True, 0) (0, 4)]\n",
      "AF 49436500 done\n",
      "AF=100276857 - Layer 1 done\n",
      "children layer 1: [node --- lvl: 2, Num=1, Mean=0.0000, std=0.0000, fp=(6, 3, 0, True, 1) (3, 4)]\n",
      "AF 100276857 done\n",
      "AF=49849837 - Layer 1 done\n",
      "children layer 1: [node --- lvl: 2, Num=1, Mean=0.0000, std=0.0000, fp=(6, 3, 0, True, 0) (3, 4)]\n",
      "AF 49849837 done\n",
      "AF=49849836 - Layer 1 done\n",
      "children layer 1: [node --- lvl: 2, Num=1, Mean=0.0000, std=0.0000, fp=(7, 2, 0, True, 0) (3, 4)]\n",
      "AF 49849836 done\n",
      "AF=100276735 - Layer 1 done\n",
      "children layer 1: [node --- lvl: 2, Num=1, Mean=0.0000, std=0.0000, fp=(6, 3, 0, True, 1) (0, 4)]\n",
      "AF 100276735 done\n",
      "AF=49849715 - Layer 1 done\n",
      "children layer 1: [node --- lvl: 2, Num=1, Mean=0.0000, std=0.0000, fp=(6, 3, 0, True, 0) (1, 4)]\n",
      "AF 49849715 done\n",
      "AF=100269028 - Layer 1 done\n",
      "children layer 1: [node --- lvl: 2, Num=1, Mean=0.0000, std=0.0000, fp=(6, 3, 0, True, 0) (2, 4)]\n",
      "AF 100269028 done\n",
      "AF=48483924 - Layer 1 done\n",
      "children layer 1: [node --- lvl: 2, Num=1, Mean=0.0000, std=0.0000, fp=(8, 2, 0, True, 0) (0, 4)]\n",
      "AF 48483924 done\n",
      "AF=101139978 - Layer 1 done\n",
      "children layer 1: [node --- lvl: 2, Num=1, Mean=0.0000, std=0.0000, fp=(6, 4, 0, False, 2) (2, 1)]\n",
      "AF 101139978 done\n",
      "AF=154737262 - Layer 1 done\n",
      "children layer 1: [node --- lvl: 2, Num=1, Mean=0.0000, std=0.0000, fp=(7, 2, 0, True, 0) (0, 4)]\n",
      "AF 154737262 done\n",
      "AF=100261822 - Layer 1 done\n",
      "children layer 1: [node --- lvl: 2, Num=1, Mean=0.0000, std=0.0000, fp=(8, 2, 0, True, 0) (2, 4)]\n",
      "AF 100261822 done\n",
      "AF=155168898 - Layer 1 done\n",
      "children layer 1: [node --- lvl: 2, Num=1, Mean=0.0000, std=0.0000, fp=(8, 2, 0, True, 0) (1, 4)]\n",
      "AF 155168898 done\n",
      "AF=60313173 - Layer 1 done\n",
      "children layer 1: [node --- lvl: 2, Num=1, Mean=0.0000, std=0.0000, fp=(8, 2, 0, True, 0) (2, 4)]\n",
      "AF 60313173 done\n",
      "AF=60417354 - Layer 1 done\n",
      "children layer 1: [node --- lvl: 2, Num=1, Mean=0.0000, std=0.0000, fp=(8, 1, 0, True, 0) (2, 4)]\n",
      "AF 60417354 done\n",
      "AF=114893648 - Layer 1 done\n",
      "children layer 1: [node --- lvl: 2, Num=1, Mean=0.0000, std=0.0000, fp=(8, 2, 0, True, 0) (0, 4)]\n",
      "AF 114893648 done\n",
      "AF=60864735 - Layer 1 done\n",
      "children layer 1: [node --- lvl: 2, Num=1, Mean=0.0000, std=0.0000, fp=(6, 3, 0, True, 0) (0, 1)]\n",
      "AF 60864735 done\n",
      "AF=156553149 - Layer 1 done\n",
      "children layer 1: [node --- lvl: 2, Num=1, Mean=0.0000, std=0.0000, fp=(8, 1, 0, True, 0) (1, 4)]\n",
      "AF 156553149 done\n",
      "AF=49422836 - Layer 1 done\n",
      "children layer 1: [node --- lvl: 2, Num=1, Mean=0.0000, std=0.0000, fp=(6, 3, 0, True, 1) (0, 4)]\n",
      "AF 49422836 done\n",
      "AF=118420425 - Layer 1 done\n",
      "children layer 1: [node --- lvl: 2, Num=1, Mean=0.0000, std=0.0000, fp=(6, 3, 0, True, 1) (3, 4)]\n",
      "AF 118420425 done\n",
      "AF=49433084 - Layer 1 done\n",
      "children layer 1: [node --- lvl: 2, Num=1, Mean=0.0000, std=0.0000, fp=(6, 3, 0, True, 0) (0, 4)]\n",
      "AF 49433084 done\n",
      "AF=120236151 - Layer 1 done\n",
      "children layer 1: [node --- lvl: 2, Num=1, Mean=0.0000, std=0.0000, fp=(7, 2, 0, True, 0) (2, 4)]\n",
      "AF 120236151 done\n",
      "AF=49418200 - Layer 1 done\n",
      "children layer 1: [node --- lvl: 2, Num=1, Mean=0.0000, std=0.0000, fp=(7, 3, 0, True, 2) (2, 4)]\n",
      "AF 49418200 done\n",
      "AF=49432963 - Layer 1 done\n",
      "children layer 1: [node --- lvl: 2, Num=1, Mean=0.0000, std=0.0000, fp=(7, 3, 0, True, 2) (1, 4)]\n",
      "AF 49432963 done\n",
      "AF=100266708 - Layer 1 done\n",
      "children layer 1: [node --- lvl: 2, Num=1, Mean=0.0000, std=0.0000, fp=(6, 3, 0, True, 0) (1, 4)]\n",
      "AF 100266708 done\n",
      "AF=60407350 - Layer 1 done\n",
      "children layer 1: [node --- lvl: 2, Num=1, Mean=0.0000, std=0.0000, fp=(7, 2, 0, True, 0) (0, 4)]\n",
      "AF 60407350 done\n",
      "AF=120326337 - Layer 1 done\n",
      "children layer 1: [node --- lvl: 2, Num=1, Mean=0.0000, std=0.0000, fp=(6, 4, 0, False, 3) (1, 1)]\n",
      "AF 120326337 done\n",
      "AF=58605044 - Layer 1 done\n",
      "children layer 1: [node --- lvl: 2, Num=1, Mean=0.0000, std=0.0000, fp=(7, 3, 0, True, 2) (3, 4)]\n",
      "AF 58605044 done\n",
      "AF=120239695 - Layer 1 done\n",
      "children layer 1: [node --- lvl: 2, Num=1, Mean=0.0000, std=0.0000, fp=(6, 3, 0, True, 0) (2, 4)]\n",
      "AF 120239695 done\n",
      "AF=60744809 - Layer 1 done\n",
      "children layer 1: [node --- lvl: 2, Num=1, Mean=0.0000, std=0.0000, fp=(7, 3, 0, True, 2) (2, 4)]\n",
      "AF 60744809 done\n",
      "AF=100262683 - Layer 1 done\n",
      "children layer 1: [node --- lvl: 2, Num=1, Mean=0.0000, std=0.0000, fp=(7, 3, 0, True, 2) (1, 4)]\n",
      "AF 100262683 done\n",
      "AF=58602360 - Layer 1 done\n",
      "children layer 1: [node --- lvl: 2, Num=1, Mean=0.0000, std=0.0000, fp=(7, 3, 0, True, 2) (0, 4)]\n",
      "AF 58602360 done\n",
      "AF=60418093 - Layer 1 done\n",
      "children layer 1: [node --- lvl: 2, Num=1, Mean=0.0000, std=0.0000, fp=(6, 3, 0, True, 0) (0, 1)]\n",
      "AF 60418093 done\n",
      "AF=100366749 - Layer 1 done\n",
      "children layer 1: [node --- lvl: 2, Num=1, Mean=0.0000, std=0.0000, fp=(6, 3, 0, True, 0) (3, 4)]\n",
      "AF 100366749 done\n",
      "AF=116709381 - Layer 1 done\n",
      "children layer 1: [node --- lvl: 2, Num=1, Mean=0.0000, std=0.0000, fp=(6, 3, 0, True, 0) (3, 1)]\n",
      "AF 116709381 done\n",
      "AF=60403324 - Layer 1 done\n",
      "children layer 1: [node --- lvl: 2, Num=1, Mean=0.0000, std=0.0000, fp=(8, 2, 0, True, 1) (3, 4)]\n",
      "AF 60403324 done\n",
      "AF=145658882 - Layer 1 done\n",
      "children layer 1: [node --- lvl: 2, Num=1, Mean=0.0000, std=0.0000, fp=(8, 2, 0, True, 1) (2, 4)]\n",
      "AF 145658882 done\n",
      "AF=154738122 - Layer 1 done\n",
      "children layer 1: [node --- lvl: 2, Num=1, Mean=0.0000, std=0.0000, fp=(6, 3, 0, True, 1) (3, 4)]\n",
      "AF 154738122 done\n",
      "AF=154752269 - Layer 1 done\n",
      "children layer 1: [node --- lvl: 2, Num=1, Mean=0.0000, std=0.0000, fp=(6, 3, 0, True, 0) (0, 4)]\n",
      "AF 154752269 done\n",
      "AF=49440160 - Layer 1 done\n",
      "children layer 1: [node --- lvl: 2, Num=1, Mean=0.0000, std=0.0000, fp=(6, 4, 0, False, 2) (3, 1)]\n",
      "AF 49440160 done\n",
      "AF=50296235 - Layer 1 done\n",
      "children layer 1: [node --- lvl: 2, Num=1, Mean=0.0000, std=0.0000, fp=(6, 4, 0, False, 2) (2, 1)]\n",
      "AF 50296235 done\n",
      "AF=154737385 - Layer 1 done\n",
      "children layer 1: [node --- lvl: 2, Num=1, Mean=0.0000, std=0.0000, fp=(6, 3, 0, True, 1) (0, 4)]\n",
      "AF 154737385 done\n",
      "AF=140866208 - Layer 1 done\n",
      "children layer 1: [node --- lvl: 2, Num=1, Mean=0.0000, std=0.0000, fp=(8, 1, 0, True, 0) (1, 4)]\n",
      "AF 140866208 done\n",
      "AF=202054268 - Layer 1 done\n",
      "children layer 1: [node --- lvl: 2, Num=1, Mean=0.0000, std=0.0000, fp=(6, 3, 0, True, 0) (1, 1)]\n",
      "AF 202054268 done\n",
      "AF=145658761 - Layer 1 done\n",
      "children layer 1: [node --- lvl: 2, Num=1, Mean=0.0000, std=0.0000, fp=(8, 2, 0, True, 1) (2, 4)]\n",
      "AF 145658761 done\n",
      "AF=62233934 - Layer 1 done\n",
      "children layer 1: [node --- lvl: 2, Num=1, Mean=0.0000, std=0.0000, fp=(8, 1, 0, True, 0) (3, 4)]\n",
      "AF 62233934 done\n",
      "AF=62680461 - Layer 1 done\n",
      "children layer 1: [node --- lvl: 2, Num=1, Mean=0.0000, std=0.0000, fp=(6, 4, 0, False, 3) (0, 1)]\n",
      "AF 62680461 done\n",
      "AF=60402470 - Layer 1 done\n",
      "children layer 1: [node --- lvl: 2, Num=1, Mean=0.0000, std=0.0000, fp=(8, 1, 0, True, 0) (2, 4)]\n",
      "AF 60402470 done\n",
      "AF=58497319 - Layer 1 done\n",
      "children layer 1: [node --- lvl: 2, Num=1, Mean=0.0000, std=0.0000, fp=(8, 1, 0, True, 0) (1, 4)]\n",
      "AF 58497319 done\n",
      "AF=49433085 - Layer 1 done\n",
      "children layer 1: [node --- lvl: 2, Num=1, Mean=0.0000, std=0.0000, fp=(6, 3, 0, True, 0) (3, 4)]\n",
      "AF 49433085 done\n",
      "AF=59048880 - Layer 1 done\n",
      "children layer 1: [node --- lvl: 2, Num=1, Mean=0.0000, std=0.0000, fp=(6, 3, 0, True, 0) (3, 4)]\n",
      "AF 59048880 done\n",
      "AF=114892794 - Layer 1 done\n",
      "children layer 1: [node --- lvl: 2, Num=1, Mean=0.0000, std=0.0000, fp=(6, 4, 0, False, 2) (3, 1)]\n",
      "AF 114892794 done\n",
      "AF=58601506 - Layer 1 done\n",
      "children layer 1: [node --- lvl: 2, Num=1, Mean=0.0000, std=0.0000, fp=(7, 3, 0, False, 1) (3, 1)]\n",
      "AF 58601506 done\n",
      "AF=114878764 - Layer 1 done\n",
      "children layer 1: [node --- lvl: 2, Num=1, Mean=0.0000, std=0.0000, fp=(6, 3, 0, True, 1) (0, 4)]\n",
      "AF 114878764 done\n",
      "AF=60864613 - Layer 1 done\n",
      "children layer 1: [node --- lvl: 2, Num=1, Mean=0.0000, std=0.0000, fp=(6, 3, 0, True, 0) (0, 1)]\n",
      "AF 60864613 done\n",
      "AF=49432962 - Layer 1 done\n",
      "children layer 1: [node --- lvl: 2, Num=1, Mean=0.0000, std=0.0000, fp=(6, 3, 0, True, 0) (2, 4)]\n",
      "AF 49432962 done\n",
      "AF=49418079 - Layer 1 done\n",
      "children layer 1: [node --- lvl: 2, Num=1, Mean=0.0000, std=0.0000, fp=(6, 3, 0, True, 1) (3, 4)]\n",
      "AF 49418079 done\n",
      "AF=58504516 - Layer 1 done\n",
      "children layer 1: [node --- lvl: 2, Num=1, Mean=0.0000, std=0.0000, fp=(8, 1, 0, True, 0) (3, 4)]\n",
      "AF 58504516 done\n",
      "AF=154738000 - Layer 1 done\n",
      "children layer 1: [node --- lvl: 2, Num=1, Mean=0.0000, std=0.0000, fp=(8, 1, 0, True, 0) (1, 4)]\n",
      "AF 154738000 done\n",
      "AF=47692266 - Layer 1 done\n",
      "children layer 1: [node --- lvl: 2, Num=1, Mean=0.0000, std=0.0000, fp=(8, 2, 0, True, 0) (0, 4)]\n",
      "AF 47692266 done\n",
      "AF=60409308 - Layer 1 done\n",
      "children layer 1: [node --- lvl: 2, Num=1, Mean=0.0000, std=0.0000, fp=(6, 4, 0, False, 1) (3, 1)]\n",
      "AF 60409308 done\n",
      "AF=149379883 - Layer 1 done\n",
      "children layer 1: [node --- lvl: 2, Num=1, Mean=0.0000, std=0.0000, fp=(6, 4, 0, False, 1) (0, 1)]\n",
      "AF 149379883 done\n",
      "AF=58602366 - Layer 1 done\n",
      "children layer 1: [node --- lvl: 2, Num=1, Mean=0.0000, std=0.0000, fp=(8, 2, 0, False, 0) (0, 1)]\n",
      "AF 58602366 done\n",
      "AF=149379760 - Layer 1 done\n",
      "children layer 1: [node --- lvl: 2, Num=1, Mean=0.0000, std=0.0000, fp=(6, 4, 0, False, 1) (0, 1)]\n",
      "AF 149379760 done\n",
      "AF=58587360 - Layer 1 done\n",
      "children layer 1: [node --- lvl: 2, Num=1, Mean=0.0000, std=0.0000, fp=(8, 2, 0, False, 0) (0, 1)]\n",
      "AF 58587360 done\n",
      "AF=59331560 - Layer 1 done\n",
      "children layer 1: [node --- lvl: 2, Num=1, Mean=0.0000, std=0.0000, fp=(6, 4, 0, False, 2) (2, 1)]\n",
      "AF 59331560 done\n",
      "AF=154842312 - Layer 1 done\n",
      "children layer 1: [node --- lvl: 2, Num=1, Mean=0.0000, std=0.0000, fp=(6, 3, 0, True, 0) (3, 4)]\n",
      "AF 154842312 done\n",
      "AF=60424552 - Layer 1 done\n",
      "children layer 1: [node --- lvl: 2, Num=1, Mean=0.0000, std=0.0000, fp=(6, 3, 0, True, 0) (3, 4)]\n",
      "AF 60424552 done\n",
      "AF=61191322 - Layer 1 done\n",
      "children layer 1: [node --- lvl: 2, Num=1, Mean=0.0000, std=0.0000, fp=(7, 3, 0, True, 2) (3, 4)]\n",
      "AF 61191322 done\n",
      "AF=47617114 - Layer 1 done\n",
      "children layer 1: [node --- lvl: 2, Num=1, Mean=0.0000, std=0.0000, fp=(7, 3, 0, True, 2) (3, 4)]\n",
      "AF 47617114 done\n",
      "AF=47617236 - Layer 1 done\n",
      "children layer 1: [node --- lvl: 2, Num=1, Mean=0.0000, std=0.0000, fp=(7, 3, 0, True, 2) (0, 4)]\n",
      "AF 47617236 done\n",
      "AF=151209783 - Layer 1 done\n",
      "children layer 1: [node --- lvl: 2, Num=1, Mean=0.0000, std=0.0000, fp=(7, 3, 0, True, 0) (3, 4)]\n",
      "AF 151209783 done\n",
      "AF=100842299 - Layer 1 done\n",
      "children layer 1: [node --- lvl: 2, Num=1, Mean=0.0000, std=0.0000, fp=(7, 2, 0, True, 0) (1, 4)]\n",
      "AF 100842299 done\n",
      "AF=100845836 - Layer 1 done\n",
      "children layer 1: [node --- lvl: 2, Num=1, Mean=0.0000, std=0.0000, fp=(6, 4, 0, False, 2) (0, 1)]\n",
      "AF 100845836 done\n",
      "AF=100845837 - Layer 1 done\n",
      "children layer 1: [node --- lvl: 2, Num=1, Mean=0.0000, std=0.0000, fp=(6, 3, 0, True, 0) (0, 4)]\n",
      "AF 100845837 done\n",
      "AF=118852060 - Layer 1 done\n",
      "children layer 1: [node --- lvl: 2, Num=1, Mean=0.0000, std=0.0000, fp=(7, 2, 0, True, 0) (0, 4)]\n",
      "AF 118852060 done\n",
      "AF=118851939 - Layer 1 done\n",
      "children layer 1: [node --- lvl: 2, Num=1, Mean=0.0000, std=0.0000, fp=(7, 2, 0, True, 0) (0, 4)]\n",
      "AF 118851939 done\n",
      "AF=62234063 - Layer 1 done\n",
      "children layer 1: [node --- lvl: 2, Num=1, Mean=0.0000, std=0.0000, fp=(6, 3, 0, True, 0) (3, 1)]\n",
      "AF 62234063 done\n",
      "AF=60418208 - Layer 1 done\n",
      "children layer 1: [node --- lvl: 2, Num=1, Mean=0.0000, std=0.0000, fp=(8, 1, 0, True, 0) (3, 4)]\n",
      "AF 60418208 done\n",
      "AF=145658029 - Layer 1 done\n",
      "children layer 1: [node --- lvl: 2, Num=1, Mean=0.0000, std=0.0000, fp=(8, 1, 0, True, 0) (1, 4)]\n",
      "AF 145658029 done\n",
      "AF=151209755 - Layer 1 done\n",
      "children layer 1: [node --- lvl: 2, Num=1, Mean=0.0000, std=0.0000, fp=(16, 2, 0, True, 0) (3, 4)]\n",
      "AF 151209755 done\n",
      "AF=48852608 - Layer 1 done\n",
      "children layer 1: [node --- lvl: 2, Num=1, Mean=0.0000, std=0.0000, fp=(6, 3, 0, True, 0) (0, 4)]\n",
      "AF 48852608 done\n",
      "AF=50668334 - Layer 1 done\n",
      "children layer 1: [node --- lvl: 2, Num=1, Mean=0.0000, std=0.0000, fp=(6, 3, 0, True, 1) (2, 4)]\n",
      "AF 50668334 done\n",
      "AF=200133462 - Layer 1 done\n",
      "children layer 1: [node --- lvl: 2, Num=1, Mean=0.0000, std=0.0000, fp=(6, 4, 0, False, 2) (3, 1)]\n",
      "AF 200133462 done\n",
      "AF=49418078 - Layer 1 done\n",
      "children layer 1: [node --- lvl: 2, Num=1, Mean=0.0000, std=0.0000, fp=(6, 3, 0, True, 1) (0, 4)]\n",
      "AF 49418078 done\n",
      "AF=200148346 - Layer 1 done\n",
      "children layer 1: [node --- lvl: 2, Num=1, Mean=0.0000, std=0.0000, fp=(6, 4, 0, False, 2) (1, 1)]\n",
      "AF 200148346 done\n",
      "AF=60418215 - Layer 1 done\n",
      "children layer 1: [node --- lvl: 2, Num=1, Mean=0.0000, std=0.0000, fp=(6, 4, 0, False, 1) (3, 1)]\n",
      "AF 60418215 done\n",
      "AF=60418214 - Layer 1 done\n",
      "children layer 1: [node --- lvl: 2, Num=1, Mean=0.0000, std=0.0000, fp=(8, 2, 0, False, 1) (3, 1)]\n",
      "AF 60418214 done\n",
      "AF=151195731 - Layer 1 done\n",
      "children layer 1: [node --- lvl: 2, Num=1, Mean=0.0000, std=0.0000, fp=(6, 3, 0, True, 1) (2, 1)]\n",
      "AF 151195731 done\n",
      "AF=151194993 - Layer 1 done\n",
      "children layer 1: [node --- lvl: 2, Num=1, Mean=0.0000, std=0.0000, fp=(6, 4, 0, False, 2) (1, 1)]\n",
      "AF 151194993 done\n",
      "AF=58512325 - Layer 1 done\n",
      "children layer 1: [node --- lvl: 2, Num=1, Mean=0.0000, std=0.0000, fp=(8, 1, 0, True, 0) (3, 4)]\n",
      "AF 58512325 done\n",
      "AF=145673029 - Layer 1 done\n",
      "children layer 1: [node --- lvl: 2, Num=1, Mean=0.0000, std=0.0000, fp=(6, 4, 0, False, 1) (0, 1)]\n",
      "AF 145673029 done\n",
      "tree in build, 92 children\n",
      "child 0 in build, node --- lvl: 1, Num=1, fp=156553111)\n"
     ]
    }
   ],
   "source": [
    "tree_constructor.build_tree(num_processes=1)"
   ]
  },
  {
   "cell_type": "code",
   "execution_count": 8,
   "metadata": {},
   "outputs": [
    {
     "name": "stdout",
     "output_type": "stream",
     "text": [
      "node --- lvl: 1, Num=1, fp=120326337)\n",
      "[node --- lvl: 2, Num=1, Mean=-0.0325, std=0.0000, fp=(6, 4, 0, False, 3) (1, 1)]\n"
     ]
    },
    {
     "ename": "IndexError",
     "evalue": "list index out of range",
     "output_type": "error",
     "traceback": [
      "\u001b[0;31m---------------------------------------------------------------------------\u001b[0m",
      "\u001b[0;31mIndexError\u001b[0m                                Traceback (most recent call last)",
      "Cell \u001b[0;32mIn[8], line 3\u001b[0m\n\u001b[1;32m      1\u001b[0m \u001b[38;5;28mprint\u001b[39m(tree_constructor\u001b[38;5;241m.\u001b[39mroot\u001b[38;5;241m.\u001b[39mchildren[\u001b[38;5;241m26\u001b[39m])\n\u001b[1;32m      2\u001b[0m \u001b[38;5;28mprint\u001b[39m(tree_constructor\u001b[38;5;241m.\u001b[39mroot\u001b[38;5;241m.\u001b[39mchildren[\u001b[38;5;241m26\u001b[39m]\u001b[38;5;241m.\u001b[39mchildren)\n\u001b[0;32m----> 3\u001b[0m \u001b[38;5;28mprint\u001b[39m(tree_constructor\u001b[38;5;241m.\u001b[39mroot\u001b[38;5;241m.\u001b[39mchildren[\u001b[38;5;241m26\u001b[39m]\u001b[38;5;241m.\u001b[39mchildren[\u001b[38;5;241m1\u001b[39m]\u001b[38;5;241m.\u001b[39mchildren)\n",
      "\u001b[0;31mIndexError\u001b[0m: list index out of range"
     ]
    }
   ],
   "source": [
    "print(tree_constructor.root.children[26])\n",
    "print(tree_constructor.root.children[26].children)\n",
    "print(tree_constructor.root.children[26].children[1].children)"
   ]
  },
  {
   "cell_type": "code",
   "execution_count": null,
   "metadata": {},
   "outputs": [],
   "source": [
    "tree_constructor.convert_tree_to_node(tree_folder_path=\"./example_tree_out\")"
   ]
  },
  {
   "cell_type": "code",
   "execution_count": null,
   "metadata": {},
   "outputs": [],
   "source": [
    "example_tree = DASHTorsionTree(tree_folder_path=\"./example_tree_out\")"
   ]
  },
  {
   "cell_type": "code",
   "execution_count": null,
   "metadata": {},
   "outputs": [],
   "source": [
    "for branch in example_tree.tree_storage:\n",
    "    if len(example_tree.tree_storage[branch]) > 1:\n",
    "        print(f\"Branch {branch} has {len(example_tree.tree_storage[branch])} nodes\")"
   ]
  },
  {
   "cell_type": "code",
   "execution_count": null,
   "metadata": {},
   "outputs": [],
   "source": [
    "mol_idx_test = tree_constructor.test_df.mol_index.unique().tolist()"
   ]
  },
  {
   "cell_type": "code",
   "execution_count": null,
   "metadata": {},
   "outputs": [],
   "source": [
    "example_tree.tree_storage[6]"
   ]
  },
  {
   "cell_type": "code",
   "execution_count": null,
   "metadata": {},
   "outputs": [],
   "source": [
    "matched_node_path = example_tree.match_new_atom(atom=0, mol=mol)"
   ]
  },
  {
   "cell_type": "code",
   "execution_count": null,
   "metadata": {},
   "outputs": [],
   "source": [
    "matched_node_path[0]"
   ]
  },
  {
   "cell_type": "code",
   "execution_count": null,
   "metadata": {},
   "outputs": [],
   "source": [
    "example_tree.get_atom_properties(matched_node_path=matched_node_path)"
   ]
  },
  {
   "cell_type": "code",
   "execution_count": null,
   "metadata": {},
   "outputs": [],
   "source": [
    "example_tree_charges = []\n",
    "example_ref_charges = []\n",
    "for mol_idx in mol_idx_test:\n",
    "    try:\n",
    "        mol = Chem.SDMolSupplier(sdf_suply, removeHs=False)[mol_idx]\n",
    "        example_tree_charges.extend(example_tree.get_molecules_partial_charges(mol)[\"charges\"])\n",
    "        example_ref_charges.extend(tree_constructor.test_df[tree_constructor.test_df.mol_index == mol_idx].truth.values)  \n",
    "    except:\n",
    "        print(f\"Failed mol with index {mol_idx}\")"
   ]
  },
  {
   "cell_type": "code",
   "execution_count": null,
   "metadata": {},
   "outputs": [],
   "source": [
    "df = pd.DataFrame({\"tree\":example_tree_charges, \"ref\":example_ref_charges})"
   ]
  },
  {
   "cell_type": "code",
   "execution_count": null,
   "metadata": {},
   "outputs": [],
   "source": [
    "df"
   ]
  },
  {
   "cell_type": "code",
   "execution_count": null,
   "metadata": {},
   "outputs": [],
   "source": [
    "ax=df.plot.scatter(x=\"ref\", y=\"tree\", figsize=(6,6), xlim=(-1,1), ylim=(-1,1))\n",
    "ax.set_aspect('equal')\n",
    "ax.plot([-1,1],[-1,1], color=\"grey\", linestyle=\"--\")\n",
    "ax.set_xlabel(\"Reference charges [e]\")\n",
    "ax.set_ylabel(\"Tree charges [e]\")\n",
    "ax.set_title(f\"Example tree charge correlation\\n RMSE: {np.sqrt(np.mean((df.tree-df.ref)**2)):.3f} e\")"
   ]
  },
  {
   "attachments": {},
   "cell_type": "markdown",
   "metadata": {},
   "source": [
    "It can be seen, that even this very simple example tree can already assign partial charges with a decent accuracy. However, the small tree can not yet assign all molecules and with atoms with atom features not present in the training set the assigned charges will be NaN. In addition to the assigned charges we can also retrive the assignment path, the total attention values and the statistical errors."
   ]
  },
  {
   "attachments": {},
   "cell_type": "markdown",
   "metadata": {},
   "source": [
    "## Test an example molecule with the example tree"
   ]
  },
  {
   "cell_type": "code",
   "execution_count": null,
   "metadata": {},
   "outputs": [],
   "source": [
    "example_mol = Chem.SDMolSupplier(sdf_suply, removeHs=False)[1]"
   ]
  },
  {
   "cell_type": "code",
   "execution_count": null,
   "metadata": {},
   "outputs": [],
   "source": [
    "example_tree.match_new_atom(1, example_mol)"
   ]
  },
  {
   "cell_type": "code",
   "execution_count": null,
   "metadata": {},
   "outputs": [],
   "source": [
    "node_path = example_tree.match_new_atom(1, example_mol)\n",
    "branch_idx = node_path[0]\n",
    "print(f\"Branch index: {branch_idx}\")\n",
    "print(f\"Node path: {node_path}\")"
   ]
  },
  {
   "cell_type": "code",
   "execution_count": null,
   "metadata": {},
   "outputs": [],
   "source": [
    "charges_in_path = []\n",
    "counts_in_path = []\n",
    "attention_in_path = []\n",
    "stdDev_in_path = []\n",
    "df = example_tree.data_storage[branch_idx]\n",
    "for atom in node_path[1:]:\n",
    "    charges_in_path.append(df.iloc[atom][\"result\"])\n",
    "    counts_in_path.append(df.iloc[atom][\"size\"])\n",
    "    attention_in_path.append(df.iloc[atom][\"max_attention\"])\n",
    "    stdDev_in_path.append(df.iloc[atom][\"stdDeviation\"])"
   ]
  },
  {
   "attachments": {},
   "cell_type": "markdown",
   "metadata": {},
   "source": [
    "We can also observe, how the assigned partial charge slowly converges to the final value along the node path trough the tree. "
   ]
  },
  {
   "cell_type": "code",
   "execution_count": null,
   "metadata": {},
   "outputs": [],
   "source": [
    "ax = pd.Series(charges_in_path).fillna(0).plot.line(label=\"Charge [e]\")\n",
    "ax2 = pd.Series(counts_in_path).plot.line(secondary_y=True, ax=ax, color=\"red\", label=\"Counts in node\")\n",
    "ax.set_xlabel(\"Tree depth along path\")\n",
    "ax.set_ylabel(\"Charge [e]\")\n",
    "ax.set_title(\"Example path in tree\")\n",
    "ax.right_ax.set_ylabel(\"Counts in node\")\n",
    "ax.legend(handles=[ax.lines[0], ax2.lines[0]])"
   ]
  },
  {
   "attachments": {},
   "cell_type": "markdown",
   "metadata": {},
   "source": [
    "The above figure shows the number of counts decresing along the path through the tree, and going to 1, since our example dataset is so small, that we basically recover the full querry molecule. With a larger number of molecules in the dataset the averaging would be better, and we could use a certain attention value, collected along the path as stop marker for the matching to avoid overfitting."
   ]
  },
  {
   "cell_type": "code",
   "execution_count": null,
   "metadata": {},
   "outputs": [],
   "source": [
    "ax = pd.Series(attention_in_path).cumsum().fillna(0).plot.line(label=\"Attention\")\n",
    "ax.set_xlabel(\"Tree depth along path\")\n",
    "ax.set_ylabel(\"Attention\")\n",
    "ax.set_title(\"Cumulative attention along path in the example tree\")"
   ]
  },
  {
   "attachments": {},
   "cell_type": "markdown",
   "metadata": {},
   "source": [
    "The threshold for the total attention can be tuned as meta parameter of the matching process in the tree.  \n",
    "\n",
    "We can also plot the standard deviation in the nodes along the path, al;though it should be mentioned, that in a small example they are not very meaningfull."
   ]
  },
  {
   "cell_type": "code",
   "execution_count": null,
   "metadata": {},
   "outputs": [],
   "source": [
    "ax = pd.Series(stdDev_in_path).plot.line(label=\"StdDev [e]\")\n",
    "ax.set_xlabel(\"Tree depth along path\")\n",
    "ax.set_ylabel(\"StdDev [e]\")\n",
    "ax.set_title(\"StdDev along path in the example tree\")"
   ]
  },
  {
   "cell_type": "code",
   "execution_count": null,
   "metadata": {},
   "outputs": [],
   "source": [
    "example_mol"
   ]
  },
  {
   "cell_type": "code",
   "execution_count": null,
   "metadata": {},
   "outputs": [],
   "source": [
    "example_tree.explain_property(mol=example_mol, atom=1)"
   ]
  },
  {
   "attachments": {},
   "cell_type": "markdown",
   "metadata": {},
   "source": [
    "In this case we selected the C atom of a carboxylic acid group and it can be seen, that this functional group is recovered in the path of the tree. The highest attention is on the double bond to the oxygen atom (atom 1 in the fragment), followed by the OH group (atom 2), the C atom (atom 3) and then the aromatic ring. This roughly corresponds to the chemical knowldge of a carboxylic acid group, but it is quantified by the attention values."
   ]
  },
  {
   "attachments": {},
   "cell_type": "markdown",
   "metadata": {},
   "source": [
    "Clean up all the files created by this notebook"
   ]
  },
  {
   "cell_type": "code",
   "execution_count": null,
   "metadata": {},
   "outputs": [],
   "source": [
    "rmtree(out_folder)"
   ]
  },
  {
   "cell_type": "code",
   "execution_count": null,
   "metadata": {},
   "outputs": [],
   "source": []
  }
 ],
 "metadata": {
  "kernelspec": {
   "display_name": "serenityff-charge-test",
   "language": "python",
   "name": "python3"
  },
  "language_info": {
   "codemirror_mode": {
    "name": "ipython",
    "version": 3
   },
   "file_extension": ".py",
   "mimetype": "text/x-python",
   "name": "python",
   "nbconvert_exporter": "python",
   "pygments_lexer": "ipython3",
   "version": "3.11.6"
  },
  "orig_nbformat": 4,
  "vscode": {
   "interpreter": {
    "hash": "e1430d17d39513225a1533dba3aaa99958e850ce5d77042c078db48dcce22910"
   }
  }
 },
 "nbformat": 4,
 "nbformat_minor": 2
}
