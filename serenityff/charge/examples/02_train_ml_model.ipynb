{
 "cells": [
  {
   "attachments": {},
   "cell_type": "markdown",
   "metadata": {},
   "source": [
    "# Training a ML Model using the serenityff-charge package\n",
    "\n",
    "## Import necessary packages and set file paths:\n",
    "\n",
    "The [Trainer](../gnn/training/trainer.py) is a class that facilitates the training of an ML model and the [ChargeCorrectedNodeWiseAttentiveFP](../gnn/utils/model.py) is the model, that was trained in this work."
   ]
  },
  {
   "cell_type": "code",
   "execution_count": 144,
   "metadata": {},
   "outputs": [
    {
     "name": "stdout",
     "output_type": "stream",
     "text": [
      "The autoreload extension is already loaded. To reload it, use:\n",
      "  %reload_ext autoreload\n"
     ]
    }
   ],
   "source": [
    "# autoreload\n",
    "%load_ext autoreload\n",
    "%autoreload 2\n",
    "\n",
    "from shutil import rmtree\n",
    "import pandas as pd\n",
    "import torch\n",
    "from rdkit import Chem\n",
    "\n",
    "from serenityff.charge.gnn.training.trainer import Trainer, ChargeCorrectedNodeWiseAttentiveFP\n",
    "from serenityff.charge.gnn.utils.model import TorsionWiseAttentiveFP\n",
    "\n",
    "\n",
    "sdf_file = \"../data/example.sdf\"\n",
    "pt_file = \"../data/example_graphs.pt\"\n",
    "state_dict_path = \"../data/example_state_dict.pt\"\n",
    "model_path = \"../data/example_model.pt\""
   ]
  },
  {
   "attachments": {},
   "cell_type": "markdown",
   "metadata": {},
   "source": [
    "## Instantiate the trainer\n",
    "\n",
    "Here you can specify whether you want to train your model on a CUDA enabled gpu or on the cpu, simply by setting `device = \"cuda\" / \"cpu\"`.\n",
    "\n",
    "The loss function for the training is set to the `torch.nn.functional.mse_loss` by default. Provide any other callable for loss calculation with the kwarg `_loss_function_`."
   ]
  },
  {
   "cell_type": "code",
   "execution_count": 168,
   "metadata": {},
   "outputs": [],
   "source": [
    "import numpy as np\n",
    "def cross_entropy_loss(x,y,num_buckets=100):\n",
    "    y_bucket = torch.bucketize(y.unsqueeze(1), torch.tensor(np.linspace(-1,1,num_buckets,True)))\n",
    "    print(x.shape)\n",
    "    bin_tensor = torch.zeros(x.shape)\n",
    "    bin_tensor.scatter_(1, y_bucket, 1)\n",
    "    loss_fn = torch.nn.MSELoss()\n",
    "    loss = loss_fn(x, bin_tensor)\n",
    "    return loss"
   ]
  },
  {
   "cell_type": "code",
   "execution_count": 146,
   "metadata": {},
   "outputs": [
    {
     "data": {
      "text/plain": [
       "tensor([23, 25, 27, 29, 30, 33])"
      ]
     },
     "execution_count": 146,
     "metadata": {},
     "output_type": "execute_result"
    }
   ],
   "source": [
    "y = torch.tensor([0.1,0.2,0.3,0.4,0.5,0.6])\n",
    "\n",
    "torch.bucketize(y, torch.tensor(np.arange(-1,1,1/20)))"
   ]
  },
  {
   "cell_type": "code",
   "execution_count": 147,
   "metadata": {},
   "outputs": [
    {
     "data": {
      "text/plain": [
       "array([-1.00000000e+00, -9.00000000e-01, -8.00000000e-01, -7.00000000e-01,\n",
       "       -6.00000000e-01, -5.00000000e-01, -4.00000000e-01, -3.00000000e-01,\n",
       "       -2.00000000e-01, -1.00000000e-01, -2.22044605e-16,  1.00000000e-01,\n",
       "        2.00000000e-01,  3.00000000e-01,  4.00000000e-01,  5.00000000e-01,\n",
       "        6.00000000e-01,  7.00000000e-01,  8.00000000e-01,  9.00000000e-01])"
      ]
     },
     "execution_count": 147,
     "metadata": {},
     "output_type": "execute_result"
    }
   ],
   "source": [
    "np.arange(-1,1,2/20)"
   ]
  },
  {
   "cell_type": "code",
   "execution_count": null,
   "metadata": {},
   "outputs": [],
   "source": []
  },
  {
   "cell_type": "code",
   "execution_count": 148,
   "metadata": {},
   "outputs": [
    {
     "data": {
      "text/plain": [
       "array([-5.00000000e-01, -4.50000000e-01, -4.00000000e-01, -3.50000000e-01,\n",
       "       -3.00000000e-01, -2.50000000e-01, -2.00000000e-01, -1.50000000e-01,\n",
       "       -1.00000000e-01, -5.00000000e-02, -1.11022302e-16,  5.00000000e-02,\n",
       "        1.00000000e-01,  1.50000000e-01,  2.00000000e-01,  2.50000000e-01,\n",
       "        3.00000000e-01,  3.50000000e-01,  4.00000000e-01,  4.50000000e-01])"
      ]
     },
     "execution_count": 148,
     "metadata": {},
     "output_type": "execute_result"
    }
   ],
   "source": [
    "import numpy as np\n",
    "np.arange(-0.5,0.5,1/20)"
   ]
  },
  {
   "cell_type": "code",
   "execution_count": 149,
   "metadata": {},
   "outputs": [],
   "source": [
    "trainer = Trainer(device = \"cpu\",loss_function=cross_entropy_loss)"
   ]
  },
  {
   "attachments": {},
   "cell_type": "markdown",
   "metadata": {},
   "source": [
    "## Initialize model, optimizer and setting output path\n",
    "\n",
    "### Load existing model\n",
    "\n",
    "You can load an already existing `ChargeCorrectedNodeWiseAttentiveFP` by loading a saved model or a saved state_dict from a previously trained model. \n",
    "\n",
    "This of course only works if the model or the state dict originate or are a `ChargeCorrectedNodeWiseAttentiveFP`.\n",
    "\n"
   ]
  },
  {
   "cell_type": "code",
   "execution_count": 80,
   "metadata": {},
   "outputs": [],
   "source": [
    "#trainer.model = state_dict_path\n",
    "#trainer.model = model_path"
   ]
  },
  {
   "attachments": {},
   "cell_type": "markdown",
   "metadata": {},
   "source": [
    "## Train new model\n",
    "\n",
    "You can also train a new model.\n",
    "\n",
    "Also, for the trainer to work, you have to provide it an optimizer, and a string to where trained model and loss files should be saved."
   ]
  },
  {
   "cell_type": "code",
   "execution_count": 150,
   "metadata": {},
   "outputs": [],
   "source": [
    "trainer.model = TorsionWiseAttentiveFP(hidden_channels=200,out_channels=100)\n",
    "trainer.optimizer = torch.optim.Adam(trainer.model.parameters(), lr = 10**-4)\n",
    "trainer.save_prefix = \"./training/example\""
   ]
  },
  {
   "attachments": {},
   "cell_type": "markdown",
   "metadata": {},
   "source": [
    "### Generate molecular graph from .sdf files\n",
    "\n",
    "There are two possibilities to load/generate molecular graphs. Either, you load in previously generated graphs by using `Trainer.load_graphs_from_pt()` or you generate them from an .sdf file containing molecules and their charges, that are used for the training. See [prep_sdf_input.ipynb](prep_sdf_input.ipynb) for the preparation of said sdf files."
   ]
  },
  {
   "cell_type": "code",
   "execution_count": 151,
   "metadata": {},
   "outputs": [],
   "source": [
    "pt_file = \"/home/kpaul/new_training_set170723.pt\"\n",
    "trainer.load_graphs_from_pt(pt_file=pt_file)\n",
    "trainer.gen_torsion_grahs_from_sdf(sdf_file=sdf_file)\n",
    "trainer.prepare_training_data(train_ratio=0.8)"
   ]
  },
  {
   "cell_type": "code",
   "execution_count": 161,
   "metadata": {},
   "outputs": [
    {
     "data": {
      "text/plain": [
       "True"
      ]
     },
     "execution_count": 161,
     "metadata": {},
     "output_type": "execute_result"
    }
   ],
   "source": [
    "trainer.data[0].y.numel() ==0"
   ]
  },
  {
   "cell_type": "code",
   "execution_count": 162,
   "metadata": {},
   "outputs": [],
   "source": [
    "new_data = []\n",
    "count=0\n",
    "for data in trainer.data:\n",
    "    if data.y.numel() != 0:\n",
    "        new_data.append(data)\n",
    "    count+=1\n",
    "    if count == 1000:\n",
    "        break"
   ]
  },
  {
   "cell_type": "code",
   "execution_count": 164,
   "metadata": {},
   "outputs": [],
   "source": [
    "trainer.data = new_data\n",
    "trainer.prepare_training_data(train_ratio=0.8)"
   ]
  },
  {
   "cell_type": "code",
   "execution_count": 83,
   "metadata": {},
   "outputs": [],
   "source": [
    "from serenityff.charge.gnn.utils.rdkit_helper import get_list_of_torsion_indices_tuples, get_all_torsion_angles"
   ]
  },
  {
   "cell_type": "code",
   "execution_count": 84,
   "metadata": {},
   "outputs": [],
   "source": [
    "supl = Chem.SDMolSupplier(sdf_file)"
   ]
  },
  {
   "cell_type": "code",
   "execution_count": 85,
   "metadata": {},
   "outputs": [
    {
     "data": {
      "text/plain": [
       "[(1, 11, 10, 5),\n",
       " (11, 10, 5, 4),\n",
       " (10, 5, 4, 2),\n",
       " (5, 4, 2, 1),\n",
       " (4, 2, 1, 11),\n",
       " (2, 1, 11, 10),\n",
       " (6, 7, 8, 9),\n",
       " (7, 8, 9, 10),\n",
       " (8, 9, 10, 5),\n",
       " (9, 10, 5, 6),\n",
       " (10, 5, 6, 7),\n",
       " (5, 6, 7, 8)]"
      ]
     },
     "execution_count": 85,
     "metadata": {},
     "output_type": "execute_result"
    }
   ],
   "source": [
    "get_list_of_torsion_indices_tuples(supl[0])"
   ]
  },
  {
   "cell_type": "code",
   "execution_count": 86,
   "metadata": {},
   "outputs": [
    {
     "data": {
      "text/plain": [
       "tensor([[ 1, 11, 10,  5],\n",
       "        [11, 10,  5,  4],\n",
       "        [10,  5,  4,  2],\n",
       "        [ 5,  4,  2,  1],\n",
       "        [ 4,  2,  1, 11],\n",
       "        [ 2,  1, 11, 10],\n",
       "        [ 6,  7,  8,  9],\n",
       "        [ 7,  8,  9, 10],\n",
       "        [ 8,  9, 10,  5],\n",
       "        [ 9, 10,  5,  6],\n",
       "        [10,  5,  6,  7],\n",
       "        [ 5,  6,  7,  8]])"
      ]
     },
     "execution_count": 86,
     "metadata": {},
     "output_type": "execute_result"
    }
   ],
   "source": [
    "trainer._data[0].torch_indices"
   ]
  },
  {
   "attachments": {},
   "cell_type": "markdown",
   "metadata": {},
   "source": [
    "### Train a new model\n",
    "\n",
    "To train a model, use the function `train_model()`. Specify epochs and batch size (defaults to 64).\n",
    "\n",
    "This function saves you the train and eval losses in seperate files as well as the model's state dict after the training."
   ]
  },
  {
   "cell_type": "code",
   "execution_count": 169,
   "metadata": {},
   "outputs": [
    {
     "ename": "IndexError",
     "evalue": "Dimension out of range (expected to be in range of [-1, 0], but got 1)",
     "output_type": "error",
     "traceback": [
      "\u001b[0;31m---------------------------------------------------------------------------\u001b[0m",
      "\u001b[0;31mIndexError\u001b[0m                                Traceback (most recent call last)",
      "Cell \u001b[0;32mIn[169], line 4\u001b[0m\n\u001b[1;32m      2\u001b[0m trainer\u001b[39m.\u001b[39m_loss_function \u001b[39m=\u001b[39m cross_entropy_loss\n\u001b[1;32m      3\u001b[0m epochs \u001b[39m=\u001b[39m \u001b[39m1000\u001b[39m\n\u001b[0;32m----> 4\u001b[0m train_loss, eval_loss \u001b[39m=\u001b[39m trainer\u001b[39m.\u001b[39;49mtrain_model(epochs\u001b[39m=\u001b[39;49mepochs,batch_size\u001b[39m=\u001b[39;49m\u001b[39m1\u001b[39;49m,verbose\u001b[39m=\u001b[39;49m\u001b[39mTrue\u001b[39;49;00m)\n",
      "File \u001b[0;32m/localhome/kpaul/serenityff_torsion/serenityff/charge/gnn/training/trainer.py:448\u001b[0m, in \u001b[0;36mTrainer.train_model\u001b[0;34m(self, epochs, batch_size, verbose)\u001b[0m\n\u001b[1;32m    443\u001b[0m data\u001b[39m.\u001b[39mto(\u001b[39mself\u001b[39m\u001b[39m.\u001b[39mdevice)\n\u001b[1;32m    444\u001b[0m prediction \u001b[39m=\u001b[39m \u001b[39mself\u001b[39m\u001b[39m.\u001b[39mmodel(\n\u001b[1;32m    445\u001b[0m     data\u001b[39m.\u001b[39mx, data\u001b[39m.\u001b[39medge_index, data\u001b[39m.\u001b[39mbatch, data\u001b[39m.\u001b[39medge_attr, data\u001b[39m.\u001b[39mmolecule_charge, data\u001b[39m.\u001b[39mtorch_indices\n\u001b[1;32m    446\u001b[0m )\n\u001b[0;32m--> 448\u001b[0m loss \u001b[39m=\u001b[39m \u001b[39mself\u001b[39;49m\u001b[39m.\u001b[39;49mloss_function(torch\u001b[39m.\u001b[39;49msqueeze(prediction), data\u001b[39m.\u001b[39;49my)\n\u001b[1;32m    449\u001b[0m loss\u001b[39m.\u001b[39mbackward()\n\u001b[1;32m    450\u001b[0m \u001b[39mself\u001b[39m\u001b[39m.\u001b[39moptimizer\u001b[39m.\u001b[39mstep()\n",
      "Cell \u001b[0;32mIn[168], line 5\u001b[0m, in \u001b[0;36mcross_entropy_loss\u001b[0;34m(x, y, num_buckets)\u001b[0m\n\u001b[1;32m      3\u001b[0m y_bucket \u001b[39m=\u001b[39m torch\u001b[39m.\u001b[39mbucketize(y\u001b[39m.\u001b[39munsqueeze(\u001b[39m1\u001b[39m), torch\u001b[39m.\u001b[39mtensor(np\u001b[39m.\u001b[39mlinspace(\u001b[39m-\u001b[39m\u001b[39m1\u001b[39m,\u001b[39m1\u001b[39m,num_buckets,\u001b[39mTrue\u001b[39;00m)))\n\u001b[1;32m      4\u001b[0m bin_tensor \u001b[39m=\u001b[39m torch\u001b[39m.\u001b[39mzeros(x\u001b[39m.\u001b[39mshape)\n\u001b[0;32m----> 5\u001b[0m bin_tensor\u001b[39m.\u001b[39;49mscatter_(\u001b[39m1\u001b[39;49m, y_bucket, \u001b[39m1\u001b[39;49m)\n\u001b[1;32m      6\u001b[0m loss_fn \u001b[39m=\u001b[39m torch\u001b[39m.\u001b[39mnn\u001b[39m.\u001b[39mMSELoss()\n\u001b[1;32m      7\u001b[0m loss \u001b[39m=\u001b[39m loss_fn(x, bin_tensor)\n",
      "\u001b[0;31mIndexError\u001b[0m: Dimension out of range (expected to be in range of [-1, 0], but got 1)"
     ]
    }
   ],
   "source": [
    "# if higher results is closer to suspected results in the end (still quite fast)\n",
    "trainer._loss_function = cross_entropy_loss\n",
    "epochs = 1000\n",
    "train_loss, eval_loss = trainer.train_model(epochs=epochs,batch_size=1,verbose=True)"
   ]
  },
  {
   "attachments": {},
   "cell_type": "markdown",
   "metadata": {},
   "source": [
    "## Predict charges for test molecule\n",
    "\n",
    "To predict values for known or unknown molecules, use the `predict()` function. It takes either rdkit molecules or molecular graphs (or Sequences of them) created as shown above as input. "
   ]
  },
  {
   "cell_type": "code",
   "execution_count": 102,
   "metadata": {},
   "outputs": [],
   "source": [
    "from rdkit.Chem import AllChem"
   ]
  },
  {
   "cell_type": "code",
   "execution_count": 103,
   "metadata": {},
   "outputs": [
    {
     "data": {
      "image/png": "[encoded data removed]",
      "text/html": [
       "<table><tr><td colspan=\"2\" style=\"text-align: center;\"><image src=\"data:image/png;base64,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\"></td></tr>\n",
       "<tr><th style=\"text-align: right\">CHEMBL_ID</th><td style=\"text-align: left\">CHEMBL2331792</td></tr>\n",
       "<tr><th style=\"text-align: right\">CONF_ID</th><td style=\"text-align: left\">conf_01</td></tr>\n",
       "<tr><th style=\"text-align: right\">GFN2:TOTAL_ENERGY</th><td style=\"text-align: left\">-37.205552234552</td></tr>\n",
       "<tr><th style=\"text-align: right\">GFN2:ATOMIC_ENERGY</th><td style=\"text-align: left\">-31.81502636146199</td></tr>\n",
       "<tr><th style=\"text-align: right\">GFN2:FORMATION_ENERGY</th><td style=\"text-align: left\">-5.390525873090013</td></tr>\n",
       "<tr><th style=\"text-align: right\">GFN2:TOTAL_ENTHALPY</th><td style=\"text-align: left\">-36.997227553615</td></tr>\n",
       "<tr><th style=\"text-align: right\">GFN2:TOTAL_FREE_ENERGY</th><td style=\"text-align: left\">-37.04564684055</td></tr>\n",
       "<tr><th style=\"text-align: right\">GFN2:DIPOLE</th><td style=\"text-align: left\">1.688|-1.855|0.541|2.566</td></tr>\n",
       "<tr><th style=\"text-align: right\">GFN2:QUADRUPOLE</th><td style=\"text-align: left\">8.179|4.064|-7.02|2.878|-2.284|-1.159</td></tr>\n",
       "<tr><th style=\"text-align: right\">GFN2:ROT_CONSTANTS</th><td style=\"text-align: left\">0.06387829|0.02213894|0.01718927</td></tr>\n",
       "<tr><td colspan=\"2\" style=\"text-align: center\">Property list truncated.<br />Increase IPythonConsole.ipython_maxProperties (or set it to -1) to see more properties.</td></tr></table>"
      ],
      "text/plain": [
       "<rdkit.Chem.rdchem.Mol at 0x7fdbaf77aa40>"
      ]
     },
     "execution_count": 103,
     "metadata": {},
     "output_type": "execute_result"
    }
   ],
   "source": [
    "supl[2]"
   ]
  },
  {
   "cell_type": "code",
   "execution_count": 104,
   "metadata": {},
   "outputs": [],
   "source": [
    "import matplotlib.pyplot as plt"
   ]
  },
  {
   "cell_type": "code",
   "execution_count": 138,
   "metadata": {},
   "outputs": [
    {
     "data": {
      "text/plain": [
       "[(2, 1, 3, 4), -0.09047851814403446]"
      ]
     },
     "execution_count": 138,
     "metadata": {},
     "output_type": "execute_result"
    },
    {
     "data": {
      "image/png": "[encoded data removed]",
      "text/plain": [
       "<Figure size 640x480 with 1 Axes>"
      ]
     },
     "metadata": {},
     "output_type": "display_data"
    }
   ],
   "source": [
    "mol = supl[4]\n",
    "plt.plot(np.linspace(-0.5,0.5,100,True),trainer.predict(mol)[0][0])\n",
    "get_all_torsion_angles(mol)[0]"
   ]
  },
  {
   "cell_type": "code",
   "execution_count": 139,
   "metadata": {},
   "outputs": [
    {
     "data": {
      "text/plain": [
       "<rdkit.rdBase._vecti at 0x7fdbaea02110>"
      ]
     },
     "execution_count": 139,
     "metadata": {},
     "output_type": "execute_result"
    }
   ],
   "source": [
    "mol = Chem.AddHs(mol)\n",
    "AllChem.EmbedMultipleConfs(mol,numConfs=100,randomSeed=42)"
   ]
  },
  {
   "cell_type": "code",
   "execution_count": 142,
   "metadata": {},
   "outputs": [],
   "source": [
    "tors = []\n",
    "for i in range(1000):\n",
    "    mol = supl[4]\n",
    "    mol = Chem.AddHs(mol)\n",
    "    AllChem.EmbedMultipleConfs(mol,numConfs=1,randomSeed=i)\n",
    "    tors.append(get_all_torsion_angles(mol)[0][1])\n"
   ]
  },
  {
   "cell_type": "code",
   "execution_count": 143,
   "metadata": {},
   "outputs": [
    {
     "data": {
      "image/png": "[encoded data removed]",
      "text/plain": [
       "<Figure size 640x480 with 1 Axes>"
      ]
     },
     "metadata": {},
     "output_type": "display_data"
    }
   ],
   "source": [
    "_ = plt.hist(tors,bins=100)"
   ]
  },
  {
   "cell_type": "code",
   "execution_count": 114,
   "metadata": {},
   "outputs": [],
   "source": [
    "# show rdkit mol with atom indices\n",
    "from rdkit.Chem import Draw\n",
    "from rdkit.Chem.Draw import rdMolDraw2D\n",
    "from rdkit.Chem import rdDepictor\n",
    "from rdkit.Chem.Draw import IPythonConsole\n",
    "IPythonConsole.ipython_useSVG = True\n",
    "IPythonConsole.drawOptions.addAtomIndices = True"
   ]
  },
  {
   "cell_type": "code",
   "execution_count": 24,
   "metadata": {},
   "outputs": [
    {
     "data": {
      "text/plain": [
       "1.0000000167638063"
      ]
     },
     "execution_count": 24,
     "metadata": {},
     "output_type": "execute_result"
    }
   ],
   "source": [
    "sum(trainer.predict(mol)[0][0])"
   ]
  },
  {
   "cell_type": "code",
   "execution_count": 40,
   "metadata": {},
   "outputs": [
    {
     "data": {
      "text/plain": [
       "[[(1, 11, 10, 5), -0.00022308186234126624],\n",
       " [(11, 10, 5, 4), 0.0003764873181264282],\n",
       " [(10, 5, 4, 2), 0.00047450261599021247],\n",
       " [(5, 4, 2, 1), -0.0013871538273124346],\n",
       " [(4, 2, 1, 11), 0.001600226666564327],\n",
       " [(2, 1, 11, 10), -0.0008142379975154166],\n",
       " [(6, 7, 8, 9), 0.0005724147189792501],\n",
       " [(7, 8, 9, 10), -0.00029084973555797004],\n",
       " [(8, 9, 10, 5), -0.000321804560331599],\n",
       " [(9, 10, 5, 6), 0.0006783418738825274],\n",
       " [(10, 5, 6, 7), -0.0004082601148392697],\n",
       " [(5, 6, 7, 8), -0.00018421832794701383]]"
      ]
     },
     "execution_count": 40,
     "metadata": {},
     "output_type": "execute_result"
    }
   ],
   "source": [
    "get_all_torsion_angles(supl[0])"
   ]
  },
  {
   "cell_type": "code",
   "execution_count": 39,
   "metadata": {},
   "outputs": [],
   "source": [
    "tors = []\n",
    "for m in range(1000):\n",
    "    tors.append(get_all_torsion_angles(supl[0])[0][1])"
   ]
  },
  {
   "cell_type": "code",
   "execution_count": 21,
   "metadata": {},
   "outputs": [
    {
     "ename": "SyntaxError",
     "evalue": "invalid syntax (2383429017.py, line 1)",
     "output_type": "error",
     "traceback": [
      "\u001b[0;36m  Cell \u001b[0;32mIn[21], line 1\u001b[0;36m\u001b[0m\n\u001b[0;31m    21 bins\u001b[0m\n\u001b[0m       ^\u001b[0m\n\u001b[0;31mSyntaxError\u001b[0m\u001b[0;31m:\u001b[0m invalid syntax\n"
     ]
    }
   ],
   "source": [
    "21 bins"
   ]
  },
  {
   "cell_type": "code",
   "execution_count": 22,
   "metadata": {},
   "outputs": [
    {
     "data": {
      "image/png": "[encoded data removed]",
      "text/plain": [
       "<Figure size 640x480 with 1 Axes>"
      ]
     },
     "metadata": {},
     "output_type": "display_data"
    }
   ],
   "source": [
    "import matplotlib.pyplot as plt\n",
    "_ = plt.hist(tors, bins=100)"
   ]
  },
  {
   "cell_type": "code",
   "execution_count": 72,
   "metadata": {},
   "outputs": [
    {
     "data": {
      "image/png": "[encoded data removed]",
      "image/svg+xml": [
       "<?xml version='1.0' encoding='iso-8859-1'?>\n",
       "<svg version='1.1' baseProfile='full'\n",
       "              xmlns='http://www.w3.org/2000/svg'\n",
       "                      xmlns:rdkit='http://www.rdkit.org/xml'\n",
       "                      xmlns:xlink='http://www.w3.org/1999/xlink'\n",
       "                  xml:space='preserve'\n",
       "width='450px' height='150px' viewBox='0 0 450 150'>\n",
       "<!-- END OF HEADER -->\n",
       "<rect style='opacity:1.0;fill:#FFFFFF;stroke:none' width='450.0' height='150.0' x='0.0' y='0.0'> </rect>\n",
       "<path class='bond-0 atom-0 atom-1' d='M 329.9,133.6 L 293.1,116.2' style='fill:none;fill-rule:evenodd;stroke:#000000;stroke-width:2.0px;stroke-linecap:butt;stroke-linejoin:miter;stroke-opacity:1' />\n",
       "<path class='bond-1 atom-1 atom-2' d='M 293.1,116.2 L 285.0,77.8' style='fill:none;fill-rule:evenodd;stroke:#000000;stroke-width:2.0px;stroke-linecap:butt;stroke-linejoin:miter;stroke-opacity:1' />\n",
       "<path class='bond-2 atom-2 atom-3' d='M 285.0,77.8 L 271.0,70.2' style='fill:none;fill-rule:evenodd;stroke:#000000;stroke-width:2.0px;stroke-linecap:butt;stroke-linejoin:miter;stroke-opacity:1' />\n",
       "<path class='bond-2 atom-2 atom-3' d='M 271.0,70.2 L 257.1,62.7' style='fill:none;fill-rule:evenodd;stroke:#0000FF;stroke-width:2.0px;stroke-linecap:butt;stroke-linejoin:miter;stroke-opacity:1' />\n",
       "<path class='bond-3 atom-3 atom-4' d='M 252.1,52.0 L 253.7,40.7' style='fill:none;fill-rule:evenodd;stroke:#0000FF;stroke-width:2.0px;stroke-linecap:butt;stroke-linejoin:miter;stroke-opacity:1' />\n",
       "<path class='bond-3 atom-3 atom-4' d='M 253.7,40.7 L 255.2,29.4' style='fill:none;fill-rule:evenodd;stroke:#000000;stroke-width:2.0px;stroke-linecap:butt;stroke-linejoin:miter;stroke-opacity:1' />\n",
       "<path class='bond-4 atom-4 atom-5' d='M 255.2,29.4 L 266.7,24.2' style='fill:none;fill-rule:evenodd;stroke:#000000;stroke-width:2.0px;stroke-linecap:butt;stroke-linejoin:miter;stroke-opacity:1' />\n",
       "<path class='bond-4 atom-4 atom-5' d='M 266.7,24.2 L 278.3,18.9' style='fill:none;fill-rule:evenodd;stroke:#FF0000;stroke-width:2.0px;stroke-linecap:butt;stroke-linejoin:miter;stroke-opacity:1' />\n",
       "<path class='bond-4 atom-4 atom-5' d='M 261.0,33.7 L 269.4,29.9' style='fill:none;fill-rule:evenodd;stroke:#000000;stroke-width:2.0px;stroke-linecap:butt;stroke-linejoin:miter;stroke-opacity:1' />\n",
       "<path class='bond-4 atom-4 atom-5' d='M 269.4,29.9 L 280.9,24.7' style='fill:none;fill-rule:evenodd;stroke:#FF0000;stroke-width:2.0px;stroke-linecap:butt;stroke-linejoin:miter;stroke-opacity:1' />\n",
       "<path class='bond-5 atom-3 atom-6' d='M 245.1,61.9 L 229.5,68.2' style='fill:none;fill-rule:evenodd;stroke:#0000FF;stroke-width:2.0px;stroke-linecap:butt;stroke-linejoin:miter;stroke-opacity:1' />\n",
       "<path class='bond-5 atom-3 atom-6' d='M 229.5,68.2 L 213.9,74.5' style='fill:none;fill-rule:evenodd;stroke:#000000;stroke-width:2.0px;stroke-linecap:butt;stroke-linejoin:miter;stroke-opacity:1' />\n",
       "<path class='bond-6 atom-6 atom-7' d='M 213.9,74.5 L 188.8,44.4' style='fill:none;fill-rule:evenodd;stroke:#000000;stroke-width:2.0px;stroke-linecap:butt;stroke-linejoin:miter;stroke-opacity:1' />\n",
       "<path class='bond-7 atom-7 atom-8' d='M 188.8,44.4 L 155.6,31.0' style='fill:none;fill-rule:evenodd;stroke:#000000;stroke-width:2.0px;stroke-linecap:butt;stroke-linejoin:miter;stroke-opacity:1' />\n",
       "<path class='bond-8 atom-8 atom-9' d='M 155.6,31.0 L 129.3,64.3' style='fill:none;fill-rule:evenodd;stroke:#000000;stroke-width:2.0px;stroke-linecap:butt;stroke-linejoin:miter;stroke-opacity:1' />\n",
       "<path class='bond-9 atom-9 atom-10' d='M 129.3,64.3 L 151.9,100.9' style='fill:none;fill-rule:evenodd;stroke:#000000;stroke-width:2.0px;stroke-linecap:butt;stroke-linejoin:miter;stroke-opacity:1' />\n",
       "<path class='bond-10 atom-10 atom-11' d='M 151.9,100.9 L 193.0,91.9' style='fill:none;fill-rule:evenodd;stroke:#000000;stroke-width:2.0px;stroke-linecap:butt;stroke-linejoin:miter;stroke-opacity:1' />\n",
       "<path class='bond-11 atom-11 atom-6' d='M 193.0,91.9 L 213.9,74.5' style='fill:none;fill-rule:evenodd;stroke:#000000;stroke-width:2.0px;stroke-linecap:butt;stroke-linejoin:miter;stroke-opacity:1' />\n",
       "<path d='M 294.9,117.1 L 293.1,116.2 L 292.7,114.3' style='fill:none;stroke:#000000;stroke-width:2.0px;stroke-linecap:butt;stroke-linejoin:miter;stroke-opacity:1;' />\n",
       "<path d='M 285.4,79.7 L 285.0,77.8 L 284.3,77.4' style='fill:none;stroke:#000000;stroke-width:2.0px;stroke-linecap:butt;stroke-linejoin:miter;stroke-opacity:1;' />\n",
       "<path d='M 255.1,30.0 L 255.2,29.4 L 255.8,29.2' style='fill:none;stroke:#000000;stroke-width:2.0px;stroke-linecap:butt;stroke-linejoin:miter;stroke-opacity:1;' />\n",
       "<path d='M 190.1,45.9 L 188.8,44.4 L 187.1,43.7' style='fill:none;stroke:#000000;stroke-width:2.0px;stroke-linecap:butt;stroke-linejoin:miter;stroke-opacity:1;' />\n",
       "<path d='M 157.3,31.7 L 155.6,31.0 L 154.3,32.7' style='fill:none;stroke:#000000;stroke-width:2.0px;stroke-linecap:butt;stroke-linejoin:miter;stroke-opacity:1;' />\n",
       "<path d='M 130.6,62.6 L 129.3,64.3 L 130.4,66.1' style='fill:none;stroke:#000000;stroke-width:2.0px;stroke-linecap:butt;stroke-linejoin:miter;stroke-opacity:1;' />\n",
       "<path d='M 150.8,99.1 L 151.9,100.9 L 154.0,100.4' style='fill:none;stroke:#000000;stroke-width:2.0px;stroke-linecap:butt;stroke-linejoin:miter;stroke-opacity:1;' />\n",
       "<path d='M 190.9,92.4 L 193.0,91.9 L 194.0,91.1' style='fill:none;stroke:#000000;stroke-width:2.0px;stroke-linecap:butt;stroke-linejoin:miter;stroke-opacity:1;' />\n",
       "<path class='atom-3' d='M 248.4 53.4\n",
       "L 252.4 59.8\n",
       "Q 252.8 60.4, 253.4 61.6\n",
       "Q 254.1 62.7, 254.1 62.8\n",
       "L 254.1 53.4\n",
       "L 255.7 53.4\n",
       "L 255.7 65.5\n",
       "L 254.0 65.5\n",
       "L 249.8 58.5\n",
       "Q 249.3 57.7, 248.7 56.7\n",
       "Q 248.2 55.8, 248.1 55.5\n",
       "L 248.1 65.5\n",
       "L 246.5 65.5\n",
       "L 246.5 53.4\n",
       "L 248.4 53.4\n",
       "' fill='#0000FF'/>\n",
       "<path class='atom-5' d='M 281.0 18.7\n",
       "Q 281.0 15.8, 282.4 14.1\n",
       "Q 283.9 12.5, 286.5 12.5\n",
       "Q 289.2 12.5, 290.7 14.1\n",
       "Q 292.1 15.8, 292.1 18.7\n",
       "Q 292.1 21.6, 290.6 23.3\n",
       "Q 289.2 24.9, 286.5 24.9\n",
       "Q 283.9 24.9, 282.4 23.3\n",
       "Q 281.0 21.6, 281.0 18.7\n",
       "M 286.5 23.6\n",
       "Q 288.4 23.6, 289.4 22.3\n",
       "Q 290.4 21.1, 290.4 18.7\n",
       "Q 290.4 16.3, 289.4 15.1\n",
       "Q 288.4 13.9, 286.5 13.9\n",
       "Q 284.7 13.9, 283.7 15.1\n",
       "Q 282.7 16.3, 282.7 18.7\n",
       "Q 282.7 21.1, 283.7 22.3\n",
       "Q 284.7 23.6, 286.5 23.6\n",
       "' fill='#FF0000'/>\n",
       "<path class='note' d='M 326.9 143.2\n",
       "Q 325.8 143.2, 325.2 142.4\n",
       "Q 324.6 141.5, 324.6 140.1\n",
       "Q 324.6 138.6, 325.2 137.8\n",
       "Q 325.7 137.0, 326.9 137.0\n",
       "Q 328.0 137.0, 328.5 137.8\n",
       "Q 329.1 138.6, 329.1 140.1\n",
       "Q 329.1 141.5, 328.5 142.4\n",
       "Q 328.0 143.2, 326.9 143.2\n",
       "M 326.9 142.5\n",
       "Q 327.5 142.5, 327.9 141.9\n",
       "Q 328.2 141.3, 328.2 140.1\n",
       "Q 328.2 138.9, 327.9 138.3\n",
       "Q 327.5 137.7, 326.9 137.7\n",
       "Q 326.2 137.7, 325.9 138.3\n",
       "Q 325.5 138.9, 325.5 140.1\n",
       "Q 325.5 141.3, 325.9 141.9\n",
       "Q 326.2 142.5, 326.9 142.5\n",
       "' fill='#000000'/>\n",
       "<path class='note' d='M 286.0 123.0\n",
       "L 287.3 123.0\n",
       "L 287.3 118.5\n",
       "L 285.9 118.9\n",
       "L 285.7 118.4\n",
       "L 287.5 117.6\n",
       "L 288.2 117.7\n",
       "L 288.2 123.0\n",
       "L 289.3 123.0\n",
       "L 289.3 123.7\n",
       "L 286.0 123.7\n",
       "L 286.0 123.0\n",
       "' fill='#000000'/>\n",
       "<path class='note' d='M 288.7 71.7\n",
       "Q 288.9 71.1, 289.4 70.8\n",
       "Q 289.9 70.5, 290.7 70.5\n",
       "Q 291.6 70.5, 292.1 71.0\n",
       "Q 292.6 71.5, 292.6 72.4\n",
       "Q 292.6 73.3, 292.0 74.1\n",
       "Q 291.3 74.9, 289.9 75.9\n",
       "L 292.7 75.9\n",
       "L 292.7 76.6\n",
       "L 288.6 76.6\n",
       "L 288.6 76.0\n",
       "Q 289.8 75.2, 290.4 74.6\n",
       "Q 291.1 74.0, 291.4 73.5\n",
       "Q 291.8 73.0, 291.8 72.4\n",
       "Q 291.8 71.8, 291.5 71.5\n",
       "Q 291.2 71.2, 290.7 71.2\n",
       "Q 290.2 71.2, 289.9 71.4\n",
       "Q 289.5 71.6, 289.3 72.0\n",
       "L 288.7 71.7\n",
       "' fill='#000000'/>\n",
       "<path class='note' d='M 264.7 52.9\n",
       "Q 265.3 53.0, 265.6 53.4\n",
       "Q 265.9 53.8, 265.9 54.4\n",
       "Q 265.9 54.9, 265.6 55.3\n",
       "Q 265.3 55.7, 264.9 55.9\n",
       "Q 264.4 56.1, 263.8 56.1\n",
       "Q 263.1 56.1, 262.6 55.9\n",
       "Q 262.2 55.7, 261.8 55.2\n",
       "L 262.3 54.7\n",
       "Q 262.6 55.1, 263.0 55.3\n",
       "Q 263.3 55.5, 263.8 55.5\n",
       "Q 264.3 55.5, 264.7 55.2\n",
       "Q 265.0 54.9, 265.0 54.4\n",
       "Q 265.0 53.8, 264.6 53.5\n",
       "Q 264.3 53.2, 263.6 53.2\n",
       "L 263.1 53.2\n",
       "L 263.1 52.6\n",
       "L 263.5 52.6\n",
       "Q 264.2 52.6, 264.5 52.3\n",
       "Q 264.9 52.0, 264.9 51.5\n",
       "Q 264.9 51.1, 264.6 50.9\n",
       "Q 264.3 50.6, 263.8 50.6\n",
       "Q 263.3 50.6, 263.0 50.8\n",
       "Q 262.7 51.0, 262.4 51.4\n",
       "L 261.8 51.1\n",
       "Q 262.0 50.6, 262.6 50.3\n",
       "Q 263.1 49.9, 263.8 49.9\n",
       "Q 264.7 49.9, 265.2 50.3\n",
       "Q 265.7 50.8, 265.7 51.5\n",
       "Q 265.7 52.0, 265.5 52.3\n",
       "Q 265.2 52.7, 264.7 52.9\n",
       "' fill='#000000'/>\n",
       "<path class='note' d='M 251.1 26.1\n",
       "L 251.8 26.1\n",
       "L 251.8 26.8\n",
       "L 251.1 26.8\n",
       "L 251.1 28.2\n",
       "L 250.3 28.2\n",
       "L 250.3 26.8\n",
       "L 247.1 26.8\n",
       "L 247.1 26.3\n",
       "L 249.8 22.2\n",
       "L 251.1 22.2\n",
       "L 251.1 26.1\n",
       "M 248.1 26.1\n",
       "L 250.3 26.1\n",
       "L 250.3 22.7\n",
       "L 248.1 26.1\n",
       "' fill='#000000'/>\n",
       "<path class='note' d='M 298.4 9.1\n",
       "Q 298.9 9.1, 299.3 9.3\n",
       "Q 299.8 9.5, 300.0 10.0\n",
       "Q 300.3 10.4, 300.3 11.0\n",
       "Q 300.3 11.6, 299.9 12.0\n",
       "Q 299.7 12.5, 299.2 12.7\n",
       "Q 298.7 12.9, 298.1 12.9\n",
       "Q 297.5 12.9, 297.0 12.7\n",
       "Q 296.5 12.5, 296.2 12.1\n",
       "L 296.7 11.6\n",
       "Q 297.0 11.9, 297.3 12.1\n",
       "Q 297.7 12.3, 298.1 12.3\n",
       "Q 298.7 12.3, 299.0 11.9\n",
       "Q 299.4 11.6, 299.4 11.0\n",
       "Q 299.4 10.3, 299.0 10.0\n",
       "Q 298.7 9.7, 298.1 9.7\n",
       "Q 297.5 9.7, 296.9 10.0\n",
       "L 296.5 9.7\n",
       "L 296.8 6.8\n",
       "L 299.9 6.8\n",
       "L 299.8 7.5\n",
       "L 297.5 7.5\n",
       "L 297.3 9.3\n",
       "Q 297.8 9.1, 298.4 9.1\n",
       "' fill='#000000'/>\n",
       "<path class='note' d='M 215.9 66.8\n",
       "Q 216.4 66.8, 216.9 67.1\n",
       "Q 217.3 67.3, 217.5 67.7\n",
       "Q 217.7 68.1, 217.7 68.7\n",
       "Q 217.7 69.3, 217.5 69.7\n",
       "Q 217.2 70.2, 216.8 70.4\n",
       "Q 216.3 70.7, 215.7 70.7\n",
       "Q 214.6 70.7, 214.1 70.0\n",
       "Q 213.5 69.2, 213.5 67.8\n",
       "Q 213.5 66.2, 214.2 65.3\n",
       "Q 214.9 64.5, 216.2 64.5\n",
       "Q 216.6 64.5, 216.9 64.6\n",
       "Q 217.2 64.7, 217.5 64.9\n",
       "L 217.2 65.4\n",
       "Q 216.7 65.2, 216.2 65.2\n",
       "Q 215.3 65.2, 214.9 65.7\n",
       "Q 214.5 66.3, 214.4 67.4\n",
       "Q 214.7 67.1, 215.1 67.0\n",
       "Q 215.5 66.8, 215.9 66.8\n",
       "M 215.7 70.0\n",
       "Q 216.0 70.0, 216.3 69.8\n",
       "Q 216.6 69.7, 216.7 69.4\n",
       "Q 216.9 69.1, 216.9 68.7\n",
       "Q 216.9 68.1, 216.6 67.8\n",
       "Q 216.3 67.5, 215.8 67.5\n",
       "Q 215.4 67.5, 215.0 67.7\n",
       "Q 214.7 67.8, 214.4 68.1\n",
       "Q 214.4 69.1, 214.8 69.5\n",
       "Q 215.1 70.0, 215.7 70.0\n",
       "' fill='#000000'/>\n",
       "<path class='note' d='M 194.2 36.3\n",
       "L 191.0 36.3\n",
       "L 191.0 35.6\n",
       "L 195.0 35.6\n",
       "L 195.0 36.2\n",
       "L 192.6 41.7\n",
       "L 191.7 41.7\n",
       "L 194.2 36.3\n",
       "' fill='#000000'/>\n",
       "<path class='note' d='M 154.7 24.0\n",
       "Q 155.3 24.2, 155.6 24.6\n",
       "Q 155.9 24.9, 155.9 25.5\n",
       "Q 155.9 26.0, 155.6 26.4\n",
       "Q 155.4 26.8, 154.9 27.1\n",
       "Q 154.4 27.3, 153.8 27.3\n",
       "Q 152.8 27.3, 152.2 26.8\n",
       "Q 151.6 26.3, 151.6 25.5\n",
       "Q 151.6 25.0, 151.9 24.7\n",
       "Q 152.1 24.3, 152.7 24.0\n",
       "Q 152.3 23.8, 152.1 23.4\n",
       "Q 151.8 23.1, 151.8 22.6\n",
       "Q 151.8 21.9, 152.4 21.5\n",
       "Q 152.9 21.1, 153.8 21.1\n",
       "Q 154.6 21.1, 155.2 21.5\n",
       "Q 155.7 21.9, 155.7 22.6\n",
       "Q 155.7 23.0, 155.4 23.4\n",
       "Q 155.2 23.7, 154.7 24.0\n",
       "M 153.8 21.7\n",
       "Q 153.3 21.7, 153.0 21.9\n",
       "Q 152.7 22.2, 152.7 22.6\n",
       "Q 152.7 22.9, 152.9 23.1\n",
       "Q 153.1 23.3, 153.3 23.5\n",
       "Q 153.6 23.6, 154.1 23.8\n",
       "Q 154.5 23.5, 154.7 23.2\n",
       "Q 154.8 23.0, 154.8 22.6\n",
       "Q 154.8 22.2, 154.5 21.9\n",
       "Q 154.3 21.7, 153.8 21.7\n",
       "M 153.8 26.6\n",
       "Q 154.4 26.6, 154.7 26.3\n",
       "Q 155.0 26.0, 155.0 25.5\n",
       "Q 155.0 25.2, 154.9 25.0\n",
       "Q 154.7 24.8, 154.4 24.7\n",
       "Q 154.2 24.5, 153.7 24.4\n",
       "L 153.3 24.3\n",
       "Q 152.9 24.5, 152.7 24.8\n",
       "Q 152.5 25.1, 152.5 25.5\n",
       "Q 152.5 26.0, 152.8 26.3\n",
       "Q 153.2 26.6, 153.8 26.6\n",
       "' fill='#000000'/>\n",
       "<path class='note' d='M 122.1 60.8\n",
       "Q 123.2 60.8, 123.7 61.5\n",
       "Q 124.3 62.3, 124.3 63.7\n",
       "Q 124.3 65.3, 123.6 66.2\n",
       "Q 123.0 67.0, 121.7 67.0\n",
       "Q 121.3 67.0, 121.0 66.9\n",
       "Q 120.6 66.8, 120.3 66.6\n",
       "L 120.7 66.1\n",
       "Q 121.1 66.3, 121.7 66.3\n",
       "Q 122.5 66.3, 122.9 65.8\n",
       "Q 123.4 65.2, 123.4 64.1\n",
       "Q 123.1 64.3, 122.7 64.5\n",
       "Q 122.3 64.6, 121.9 64.6\n",
       "Q 121.4 64.6, 121.0 64.4\n",
       "Q 120.6 64.2, 120.3 63.8\n",
       "Q 120.1 63.3, 120.1 62.8\n",
       "Q 120.1 62.2, 120.4 61.8\n",
       "Q 120.6 61.3, 121.1 61.1\n",
       "Q 121.5 60.8, 122.1 60.8\n",
       "M 120.9 62.8\n",
       "Q 120.9 63.3, 121.2 63.7\n",
       "Q 121.5 64.0, 122.1 64.0\n",
       "Q 122.4 64.0, 122.8 63.8\n",
       "Q 123.2 63.7, 123.4 63.4\n",
       "Q 123.4 62.4, 123.1 62.0\n",
       "Q 122.8 61.5, 122.1 61.5\n",
       "Q 121.8 61.5, 121.5 61.7\n",
       "Q 121.3 61.8, 121.1 62.1\n",
       "Q 120.9 62.4, 120.9 62.8\n",
       "' fill='#000000'/>\n",
       "<path class='note' d='M 145.0 109.8\n",
       "L 146.4 109.8\n",
       "L 146.4 105.3\n",
       "L 144.9 105.8\n",
       "L 144.7 105.3\n",
       "L 146.6 104.4\n",
       "L 147.2 104.5\n",
       "L 147.2 109.8\n",
       "L 148.4 109.8\n",
       "L 148.4 110.5\n",
       "L 145.0 110.5\n",
       "L 145.0 109.8\n",
       "' fill='#000000'/>\n",
       "<path class='note' d='M 151.3 110.6\n",
       "Q 150.2 110.6, 149.7 109.8\n",
       "Q 149.1 108.9, 149.1 107.5\n",
       "Q 149.1 106.0, 149.7 105.2\n",
       "Q 150.2 104.4, 151.3 104.4\n",
       "Q 152.5 104.4, 153.0 105.2\n",
       "Q 153.6 106.0, 153.6 107.5\n",
       "Q 153.6 108.9, 153.0 109.8\n",
       "Q 152.5 110.6, 151.3 110.6\n",
       "M 151.3 109.9\n",
       "Q 152.0 109.9, 152.4 109.3\n",
       "Q 152.7 108.7, 152.7 107.5\n",
       "Q 152.7 106.3, 152.4 105.7\n",
       "Q 152.0 105.1, 151.3 105.1\n",
       "Q 150.7 105.1, 150.3 105.7\n",
       "Q 150.0 106.3, 150.0 107.5\n",
       "Q 150.0 108.7, 150.3 109.3\n",
       "Q 150.7 109.9, 151.3 109.9\n",
       "' fill='#000000'/>\n",
       "<path class='note' d='M 192.4 100.7\n",
       "L 193.7 100.7\n",
       "L 193.7 96.2\n",
       "L 192.3 96.6\n",
       "L 192.1 96.1\n",
       "L 193.9 95.3\n",
       "L 194.5 95.4\n",
       "L 194.5 100.7\n",
       "L 195.7 100.7\n",
       "L 195.7 101.4\n",
       "L 192.4 101.4\n",
       "L 192.4 100.7\n",
       "' fill='#000000'/>\n",
       "<path class='note' d='M 196.8 100.7\n",
       "L 198.1 100.7\n",
       "L 198.1 96.2\n",
       "L 196.7 96.6\n",
       "L 196.5 96.1\n",
       "L 198.3 95.3\n",
       "L 198.9 95.4\n",
       "L 198.9 100.7\n",
       "L 200.1 100.7\n",
       "L 200.1 101.4\n",
       "L 196.8 101.4\n",
       "L 196.8 100.7\n",
       "' fill='#000000'/>\n",
       "</svg>\n"
      ],
      "text/html": [
       "<table><tr><td colspan=\"2\" style=\"text-align: center;\"><?xml version='1.0' encoding='iso-8859-1'?>\n",
       "<svg version='1.1' baseProfile='full'\n",
       "              xmlns='http://www.w3.org/2000/svg'\n",
       "                      xmlns:rdkit='http://www.rdkit.org/xml'\n",
       "                      xmlns:xlink='http://www.w3.org/1999/xlink'\n",
       "                  xml:space='preserve'\n",
       "width='450px' height='150px' viewBox='0 0 450 150'>\n",
       "<!-- END OF HEADER -->\n",
       "<rect style='opacity:1.0;fill:#FFFFFF;stroke:none' width='450.0' height='150.0' x='0.0' y='0.0'> </rect>\n",
       "<path class='bond-0 atom-0 atom-1' d='M 329.9,133.6 L 293.1,116.2' style='fill:none;fill-rule:evenodd;stroke:#000000;stroke-width:2.0px;stroke-linecap:butt;stroke-linejoin:miter;stroke-opacity:1' />\n",
       "<path class='bond-1 atom-1 atom-2' d='M 293.1,116.2 L 285.0,77.8' style='fill:none;fill-rule:evenodd;stroke:#000000;stroke-width:2.0px;stroke-linecap:butt;stroke-linejoin:miter;stroke-opacity:1' />\n",
       "<path class='bond-2 atom-2 atom-3' d='M 285.0,77.8 L 271.0,70.2' style='fill:none;fill-rule:evenodd;stroke:#000000;stroke-width:2.0px;stroke-linecap:butt;stroke-linejoin:miter;stroke-opacity:1' />\n",
       "<path class='bond-2 atom-2 atom-3' d='M 271.0,70.2 L 257.1,62.7' style='fill:none;fill-rule:evenodd;stroke:#0000FF;stroke-width:2.0px;stroke-linecap:butt;stroke-linejoin:miter;stroke-opacity:1' />\n",
       "<path class='bond-3 atom-3 atom-4' d='M 252.1,52.0 L 253.7,40.7' style='fill:none;fill-rule:evenodd;stroke:#0000FF;stroke-width:2.0px;stroke-linecap:butt;stroke-linejoin:miter;stroke-opacity:1' />\n",
       "<path class='bond-3 atom-3 atom-4' d='M 253.7,40.7 L 255.2,29.4' style='fill:none;fill-rule:evenodd;stroke:#000000;stroke-width:2.0px;stroke-linecap:butt;stroke-linejoin:miter;stroke-opacity:1' />\n",
       "<path class='bond-4 atom-4 atom-5' d='M 255.2,29.4 L 266.7,24.2' style='fill:none;fill-rule:evenodd;stroke:#000000;stroke-width:2.0px;stroke-linecap:butt;stroke-linejoin:miter;stroke-opacity:1' />\n",
       "<path class='bond-4 atom-4 atom-5' d='M 266.7,24.2 L 278.3,18.9' style='fill:none;fill-rule:evenodd;stroke:#FF0000;stroke-width:2.0px;stroke-linecap:butt;stroke-linejoin:miter;stroke-opacity:1' />\n",
       "<path class='bond-4 atom-4 atom-5' d='M 261.0,33.7 L 269.4,29.9' style='fill:none;fill-rule:evenodd;stroke:#000000;stroke-width:2.0px;stroke-linecap:butt;stroke-linejoin:miter;stroke-opacity:1' />\n",
       "<path class='bond-4 atom-4 atom-5' d='M 269.4,29.9 L 280.9,24.7' style='fill:none;fill-rule:evenodd;stroke:#FF0000;stroke-width:2.0px;stroke-linecap:butt;stroke-linejoin:miter;stroke-opacity:1' />\n",
       "<path class='bond-5 atom-3 atom-6' d='M 245.1,61.9 L 229.5,68.2' style='fill:none;fill-rule:evenodd;stroke:#0000FF;stroke-width:2.0px;stroke-linecap:butt;stroke-linejoin:miter;stroke-opacity:1' />\n",
       "<path class='bond-5 atom-3 atom-6' d='M 229.5,68.2 L 213.9,74.5' style='fill:none;fill-rule:evenodd;stroke:#000000;stroke-width:2.0px;stroke-linecap:butt;stroke-linejoin:miter;stroke-opacity:1' />\n",
       "<path class='bond-6 atom-6 atom-7' d='M 213.9,74.5 L 188.8,44.4' style='fill:none;fill-rule:evenodd;stroke:#000000;stroke-width:2.0px;stroke-linecap:butt;stroke-linejoin:miter;stroke-opacity:1' />\n",
       "<path class='bond-7 atom-7 atom-8' d='M 188.8,44.4 L 155.6,31.0' style='fill:none;fill-rule:evenodd;stroke:#000000;stroke-width:2.0px;stroke-linecap:butt;stroke-linejoin:miter;stroke-opacity:1' />\n",
       "<path class='bond-8 atom-8 atom-9' d='M 155.6,31.0 L 129.3,64.3' style='fill:none;fill-rule:evenodd;stroke:#000000;stroke-width:2.0px;stroke-linecap:butt;stroke-linejoin:miter;stroke-opacity:1' />\n",
       "<path class='bond-9 atom-9 atom-10' d='M 129.3,64.3 L 151.9,100.9' style='fill:none;fill-rule:evenodd;stroke:#000000;stroke-width:2.0px;stroke-linecap:butt;stroke-linejoin:miter;stroke-opacity:1' />\n",
       "<path class='bond-10 atom-10 atom-11' d='M 151.9,100.9 L 193.0,91.9' style='fill:none;fill-rule:evenodd;stroke:#000000;stroke-width:2.0px;stroke-linecap:butt;stroke-linejoin:miter;stroke-opacity:1' />\n",
       "<path class='bond-11 atom-11 atom-6' d='M 193.0,91.9 L 213.9,74.5' style='fill:none;fill-rule:evenodd;stroke:#000000;stroke-width:2.0px;stroke-linecap:butt;stroke-linejoin:miter;stroke-opacity:1' />\n",
       "<path d='M 294.9,117.1 L 293.1,116.2 L 292.7,114.3' style='fill:none;stroke:#000000;stroke-width:2.0px;stroke-linecap:butt;stroke-linejoin:miter;stroke-opacity:1;' />\n",
       "<path d='M 285.4,79.7 L 285.0,77.8 L 284.3,77.4' style='fill:none;stroke:#000000;stroke-width:2.0px;stroke-linecap:butt;stroke-linejoin:miter;stroke-opacity:1;' />\n",
       "<path d='M 255.1,30.0 L 255.2,29.4 L 255.8,29.2' style='fill:none;stroke:#000000;stroke-width:2.0px;stroke-linecap:butt;stroke-linejoin:miter;stroke-opacity:1;' />\n",
       "<path d='M 190.1,45.9 L 188.8,44.4 L 187.1,43.7' style='fill:none;stroke:#000000;stroke-width:2.0px;stroke-linecap:butt;stroke-linejoin:miter;stroke-opacity:1;' />\n",
       "<path d='M 157.3,31.7 L 155.6,31.0 L 154.3,32.7' style='fill:none;stroke:#000000;stroke-width:2.0px;stroke-linecap:butt;stroke-linejoin:miter;stroke-opacity:1;' />\n",
       "<path d='M 130.6,62.6 L 129.3,64.3 L 130.4,66.1' style='fill:none;stroke:#000000;stroke-width:2.0px;stroke-linecap:butt;stroke-linejoin:miter;stroke-opacity:1;' />\n",
       "<path d='M 150.8,99.1 L 151.9,100.9 L 154.0,100.4' style='fill:none;stroke:#000000;stroke-width:2.0px;stroke-linecap:butt;stroke-linejoin:miter;stroke-opacity:1;' />\n",
       "<path d='M 190.9,92.4 L 193.0,91.9 L 194.0,91.1' style='fill:none;stroke:#000000;stroke-width:2.0px;stroke-linecap:butt;stroke-linejoin:miter;stroke-opacity:1;' />\n",
       "<path class='atom-3' d='M 248.4 53.4\n",
       "L 252.4 59.8\n",
       "Q 252.8 60.4, 253.4 61.6\n",
       "Q 254.1 62.7, 254.1 62.8\n",
       "L 254.1 53.4\n",
       "L 255.7 53.4\n",
       "L 255.7 65.5\n",
       "L 254.0 65.5\n",
       "L 249.8 58.5\n",
       "Q 249.3 57.7, 248.7 56.7\n",
       "Q 248.2 55.8, 248.1 55.5\n",
       "L 248.1 65.5\n",
       "L 246.5 65.5\n",
       "L 246.5 53.4\n",
       "L 248.4 53.4\n",
       "' fill='#0000FF'/>\n",
       "<path class='atom-5' d='M 281.0 18.7\n",
       "Q 281.0 15.8, 282.4 14.1\n",
       "Q 283.9 12.5, 286.5 12.5\n",
       "Q 289.2 12.5, 290.7 14.1\n",
       "Q 292.1 15.8, 292.1 18.7\n",
       "Q 292.1 21.6, 290.6 23.3\n",
       "Q 289.2 24.9, 286.5 24.9\n",
       "Q 283.9 24.9, 282.4 23.3\n",
       "Q 281.0 21.6, 281.0 18.7\n",
       "M 286.5 23.6\n",
       "Q 288.4 23.6, 289.4 22.3\n",
       "Q 290.4 21.1, 290.4 18.7\n",
       "Q 290.4 16.3, 289.4 15.1\n",
       "Q 288.4 13.9, 286.5 13.9\n",
       "Q 284.7 13.9, 283.7 15.1\n",
       "Q 282.7 16.3, 282.7 18.7\n",
       "Q 282.7 21.1, 283.7 22.3\n",
       "Q 284.7 23.6, 286.5 23.6\n",
       "' fill='#FF0000'/>\n",
       "<path class='note' d='M 326.9 143.2\n",
       "Q 325.8 143.2, 325.2 142.4\n",
       "Q 324.6 141.5, 324.6 140.1\n",
       "Q 324.6 138.6, 325.2 137.8\n",
       "Q 325.7 137.0, 326.9 137.0\n",
       "Q 328.0 137.0, 328.5 137.8\n",
       "Q 329.1 138.6, 329.1 140.1\n",
       "Q 329.1 141.5, 328.5 142.4\n",
       "Q 328.0 143.2, 326.9 143.2\n",
       "M 326.9 142.5\n",
       "Q 327.5 142.5, 327.9 141.9\n",
       "Q 328.2 141.3, 328.2 140.1\n",
       "Q 328.2 138.9, 327.9 138.3\n",
       "Q 327.5 137.7, 326.9 137.7\n",
       "Q 326.2 137.7, 325.9 138.3\n",
       "Q 325.5 138.9, 325.5 140.1\n",
       "Q 325.5 141.3, 325.9 141.9\n",
       "Q 326.2 142.5, 326.9 142.5\n",
       "' fill='#000000'/>\n",
       "<path class='note' d='M 286.0 123.0\n",
       "L 287.3 123.0\n",
       "L 287.3 118.5\n",
       "L 285.9 118.9\n",
       "L 285.7 118.4\n",
       "L 287.5 117.6\n",
       "L 288.2 117.7\n",
       "L 288.2 123.0\n",
       "L 289.3 123.0\n",
       "L 289.3 123.7\n",
       "L 286.0 123.7\n",
       "L 286.0 123.0\n",
       "' fill='#000000'/>\n",
       "<path class='note' d='M 288.7 71.7\n",
       "Q 288.9 71.1, 289.4 70.8\n",
       "Q 289.9 70.5, 290.7 70.5\n",
       "Q 291.6 70.5, 292.1 71.0\n",
       "Q 292.6 71.5, 292.6 72.4\n",
       "Q 292.6 73.3, 292.0 74.1\n",
       "Q 291.3 74.9, 289.9 75.9\n",
       "L 292.7 75.9\n",
       "L 292.7 76.6\n",
       "L 288.6 76.6\n",
       "L 288.6 76.0\n",
       "Q 289.8 75.2, 290.4 74.6\n",
       "Q 291.1 74.0, 291.4 73.5\n",
       "Q 291.8 73.0, 291.8 72.4\n",
       "Q 291.8 71.8, 291.5 71.5\n",
       "Q 291.2 71.2, 290.7 71.2\n",
       "Q 290.2 71.2, 289.9 71.4\n",
       "Q 289.5 71.6, 289.3 72.0\n",
       "L 288.7 71.7\n",
       "' fill='#000000'/>\n",
       "<path class='note' d='M 264.7 52.9\n",
       "Q 265.3 53.0, 265.6 53.4\n",
       "Q 265.9 53.8, 265.9 54.4\n",
       "Q 265.9 54.9, 265.6 55.3\n",
       "Q 265.3 55.7, 264.9 55.9\n",
       "Q 264.4 56.1, 263.8 56.1\n",
       "Q 263.1 56.1, 262.6 55.9\n",
       "Q 262.2 55.7, 261.8 55.2\n",
       "L 262.3 54.7\n",
       "Q 262.6 55.1, 263.0 55.3\n",
       "Q 263.3 55.5, 263.8 55.5\n",
       "Q 264.3 55.5, 264.7 55.2\n",
       "Q 265.0 54.9, 265.0 54.4\n",
       "Q 265.0 53.8, 264.6 53.5\n",
       "Q 264.3 53.2, 263.6 53.2\n",
       "L 263.1 53.2\n",
       "L 263.1 52.6\n",
       "L 263.5 52.6\n",
       "Q 264.2 52.6, 264.5 52.3\n",
       "Q 264.9 52.0, 264.9 51.5\n",
       "Q 264.9 51.1, 264.6 50.9\n",
       "Q 264.3 50.6, 263.8 50.6\n",
       "Q 263.3 50.6, 263.0 50.8\n",
       "Q 262.7 51.0, 262.4 51.4\n",
       "L 261.8 51.1\n",
       "Q 262.0 50.6, 262.6 50.3\n",
       "Q 263.1 49.9, 263.8 49.9\n",
       "Q 264.7 49.9, 265.2 50.3\n",
       "Q 265.7 50.8, 265.7 51.5\n",
       "Q 265.7 52.0, 265.5 52.3\n",
       "Q 265.2 52.7, 264.7 52.9\n",
       "' fill='#000000'/>\n",
       "<path class='note' d='M 251.1 26.1\n",
       "L 251.8 26.1\n",
       "L 251.8 26.8\n",
       "L 251.1 26.8\n",
       "L 251.1 28.2\n",
       "L 250.3 28.2\n",
       "L 250.3 26.8\n",
       "L 247.1 26.8\n",
       "L 247.1 26.3\n",
       "L 249.8 22.2\n",
       "L 251.1 22.2\n",
       "L 251.1 26.1\n",
       "M 248.1 26.1\n",
       "L 250.3 26.1\n",
       "L 250.3 22.7\n",
       "L 248.1 26.1\n",
       "' fill='#000000'/>\n",
       "<path class='note' d='M 298.4 9.1\n",
       "Q 298.9 9.1, 299.3 9.3\n",
       "Q 299.8 9.5, 300.0 10.0\n",
       "Q 300.3 10.4, 300.3 11.0\n",
       "Q 300.3 11.6, 299.9 12.0\n",
       "Q 299.7 12.5, 299.2 12.7\n",
       "Q 298.7 12.9, 298.1 12.9\n",
       "Q 297.5 12.9, 297.0 12.7\n",
       "Q 296.5 12.5, 296.2 12.1\n",
       "L 296.7 11.6\n",
       "Q 297.0 11.9, 297.3 12.1\n",
       "Q 297.7 12.3, 298.1 12.3\n",
       "Q 298.7 12.3, 299.0 11.9\n",
       "Q 299.4 11.6, 299.4 11.0\n",
       "Q 299.4 10.3, 299.0 10.0\n",
       "Q 298.7 9.7, 298.1 9.7\n",
       "Q 297.5 9.7, 296.9 10.0\n",
       "L 296.5 9.7\n",
       "L 296.8 6.8\n",
       "L 299.9 6.8\n",
       "L 299.8 7.5\n",
       "L 297.5 7.5\n",
       "L 297.3 9.3\n",
       "Q 297.8 9.1, 298.4 9.1\n",
       "' fill='#000000'/>\n",
       "<path class='note' d='M 215.9 66.8\n",
       "Q 216.4 66.8, 216.9 67.1\n",
       "Q 217.3 67.3, 217.5 67.7\n",
       "Q 217.7 68.1, 217.7 68.7\n",
       "Q 217.7 69.3, 217.5 69.7\n",
       "Q 217.2 70.2, 216.8 70.4\n",
       "Q 216.3 70.7, 215.7 70.7\n",
       "Q 214.6 70.7, 214.1 70.0\n",
       "Q 213.5 69.2, 213.5 67.8\n",
       "Q 213.5 66.2, 214.2 65.3\n",
       "Q 214.9 64.5, 216.2 64.5\n",
       "Q 216.6 64.5, 216.9 64.6\n",
       "Q 217.2 64.7, 217.5 64.9\n",
       "L 217.2 65.4\n",
       "Q 216.7 65.2, 216.2 65.2\n",
       "Q 215.3 65.2, 214.9 65.7\n",
       "Q 214.5 66.3, 214.4 67.4\n",
       "Q 214.7 67.1, 215.1 67.0\n",
       "Q 215.5 66.8, 215.9 66.8\n",
       "M 215.7 70.0\n",
       "Q 216.0 70.0, 216.3 69.8\n",
       "Q 216.6 69.7, 216.7 69.4\n",
       "Q 216.9 69.1, 216.9 68.7\n",
       "Q 216.9 68.1, 216.6 67.8\n",
       "Q 216.3 67.5, 215.8 67.5\n",
       "Q 215.4 67.5, 215.0 67.7\n",
       "Q 214.7 67.8, 214.4 68.1\n",
       "Q 214.4 69.1, 214.8 69.5\n",
       "Q 215.1 70.0, 215.7 70.0\n",
       "' fill='#000000'/>\n",
       "<path class='note' d='M 194.2 36.3\n",
       "L 191.0 36.3\n",
       "L 191.0 35.6\n",
       "L 195.0 35.6\n",
       "L 195.0 36.2\n",
       "L 192.6 41.7\n",
       "L 191.7 41.7\n",
       "L 194.2 36.3\n",
       "' fill='#000000'/>\n",
       "<path class='note' d='M 154.7 24.0\n",
       "Q 155.3 24.2, 155.6 24.6\n",
       "Q 155.9 24.9, 155.9 25.5\n",
       "Q 155.9 26.0, 155.6 26.4\n",
       "Q 155.4 26.8, 154.9 27.1\n",
       "Q 154.4 27.3, 153.8 27.3\n",
       "Q 152.8 27.3, 152.2 26.8\n",
       "Q 151.6 26.3, 151.6 25.5\n",
       "Q 151.6 25.0, 151.9 24.7\n",
       "Q 152.1 24.3, 152.7 24.0\n",
       "Q 152.3 23.8, 152.1 23.4\n",
       "Q 151.8 23.1, 151.8 22.6\n",
       "Q 151.8 21.9, 152.4 21.5\n",
       "Q 152.9 21.1, 153.8 21.1\n",
       "Q 154.6 21.1, 155.2 21.5\n",
       "Q 155.7 21.9, 155.7 22.6\n",
       "Q 155.7 23.0, 155.4 23.4\n",
       "Q 155.2 23.7, 154.7 24.0\n",
       "M 153.8 21.7\n",
       "Q 153.3 21.7, 153.0 21.9\n",
       "Q 152.7 22.2, 152.7 22.6\n",
       "Q 152.7 22.9, 152.9 23.1\n",
       "Q 153.1 23.3, 153.3 23.5\n",
       "Q 153.6 23.6, 154.1 23.8\n",
       "Q 154.5 23.5, 154.7 23.2\n",
       "Q 154.8 23.0, 154.8 22.6\n",
       "Q 154.8 22.2, 154.5 21.9\n",
       "Q 154.3 21.7, 153.8 21.7\n",
       "M 153.8 26.6\n",
       "Q 154.4 26.6, 154.7 26.3\n",
       "Q 155.0 26.0, 155.0 25.5\n",
       "Q 155.0 25.2, 154.9 25.0\n",
       "Q 154.7 24.8, 154.4 24.7\n",
       "Q 154.2 24.5, 153.7 24.4\n",
       "L 153.3 24.3\n",
       "Q 152.9 24.5, 152.7 24.8\n",
       "Q 152.5 25.1, 152.5 25.5\n",
       "Q 152.5 26.0, 152.8 26.3\n",
       "Q 153.2 26.6, 153.8 26.6\n",
       "' fill='#000000'/>\n",
       "<path class='note' d='M 122.1 60.8\n",
       "Q 123.2 60.8, 123.7 61.5\n",
       "Q 124.3 62.3, 124.3 63.7\n",
       "Q 124.3 65.3, 123.6 66.2\n",
       "Q 123.0 67.0, 121.7 67.0\n",
       "Q 121.3 67.0, 121.0 66.9\n",
       "Q 120.6 66.8, 120.3 66.6\n",
       "L 120.7 66.1\n",
       "Q 121.1 66.3, 121.7 66.3\n",
       "Q 122.5 66.3, 122.9 65.8\n",
       "Q 123.4 65.2, 123.4 64.1\n",
       "Q 123.1 64.3, 122.7 64.5\n",
       "Q 122.3 64.6, 121.9 64.6\n",
       "Q 121.4 64.6, 121.0 64.4\n",
       "Q 120.6 64.2, 120.3 63.8\n",
       "Q 120.1 63.3, 120.1 62.8\n",
       "Q 120.1 62.2, 120.4 61.8\n",
       "Q 120.6 61.3, 121.1 61.1\n",
       "Q 121.5 60.8, 122.1 60.8\n",
       "M 120.9 62.8\n",
       "Q 120.9 63.3, 121.2 63.7\n",
       "Q 121.5 64.0, 122.1 64.0\n",
       "Q 122.4 64.0, 122.8 63.8\n",
       "Q 123.2 63.7, 123.4 63.4\n",
       "Q 123.4 62.4, 123.1 62.0\n",
       "Q 122.8 61.5, 122.1 61.5\n",
       "Q 121.8 61.5, 121.5 61.7\n",
       "Q 121.3 61.8, 121.1 62.1\n",
       "Q 120.9 62.4, 120.9 62.8\n",
       "' fill='#000000'/>\n",
       "<path class='note' d='M 145.0 109.8\n",
       "L 146.4 109.8\n",
       "L 146.4 105.3\n",
       "L 144.9 105.8\n",
       "L 144.7 105.3\n",
       "L 146.6 104.4\n",
       "L 147.2 104.5\n",
       "L 147.2 109.8\n",
       "L 148.4 109.8\n",
       "L 148.4 110.5\n",
       "L 145.0 110.5\n",
       "L 145.0 109.8\n",
       "' fill='#000000'/>\n",
       "<path class='note' d='M 151.3 110.6\n",
       "Q 150.2 110.6, 149.7 109.8\n",
       "Q 149.1 108.9, 149.1 107.5\n",
       "Q 149.1 106.0, 149.7 105.2\n",
       "Q 150.2 104.4, 151.3 104.4\n",
       "Q 152.5 104.4, 153.0 105.2\n",
       "Q 153.6 106.0, 153.6 107.5\n",
       "Q 153.6 108.9, 153.0 109.8\n",
       "Q 152.5 110.6, 151.3 110.6\n",
       "M 151.3 109.9\n",
       "Q 152.0 109.9, 152.4 109.3\n",
       "Q 152.7 108.7, 152.7 107.5\n",
       "Q 152.7 106.3, 152.4 105.7\n",
       "Q 152.0 105.1, 151.3 105.1\n",
       "Q 150.7 105.1, 150.3 105.7\n",
       "Q 150.0 106.3, 150.0 107.5\n",
       "Q 150.0 108.7, 150.3 109.3\n",
       "Q 150.7 109.9, 151.3 109.9\n",
       "' fill='#000000'/>\n",
       "<path class='note' d='M 192.4 100.7\n",
       "L 193.7 100.7\n",
       "L 193.7 96.2\n",
       "L 192.3 96.6\n",
       "L 192.1 96.1\n",
       "L 193.9 95.3\n",
       "L 194.5 95.4\n",
       "L 194.5 100.7\n",
       "L 195.7 100.7\n",
       "L 195.7 101.4\n",
       "L 192.4 101.4\n",
       "L 192.4 100.7\n",
       "' fill='#000000'/>\n",
       "<path class='note' d='M 196.8 100.7\n",
       "L 198.1 100.7\n",
       "L 198.1 96.2\n",
       "L 196.7 96.6\n",
       "L 196.5 96.1\n",
       "L 198.3 95.3\n",
       "L 198.9 95.4\n",
       "L 198.9 100.7\n",
       "L 200.1 100.7\n",
       "L 200.1 101.4\n",
       "L 196.8 101.4\n",
       "L 196.8 100.7\n",
       "' fill='#000000'/>\n",
       "</svg>\n",
       "</td></tr>\n",
       "<tr><th style=\"text-align: right\">CHEMBL_ID</th><td style=\"text-align: left\">CHEMBL295209</td></tr>\n",
       "<tr><th style=\"text-align: right\">CONF_ID</th><td style=\"text-align: left\">conf_02</td></tr>\n",
       "<tr><th style=\"text-align: right\">GFN2:TOTAL_ENERGY</th><td style=\"text-align: left\">-38.125705786001</td></tr>\n",
       "<tr><th style=\"text-align: right\">GFN2:ATOMIC_ENERGY</th><td style=\"text-align: left\">-31.78256734008899</td></tr>\n",
       "<tr><th style=\"text-align: right\">GFN2:FORMATION_ENERGY</th><td style=\"text-align: left\">-6.343138445912011</td></tr>\n",
       "<tr><th style=\"text-align: right\">GFN2:TOTAL_ENTHALPY</th><td style=\"text-align: left\">-37.833893091196</td></tr>\n",
       "<tr><th style=\"text-align: right\">GFN2:TOTAL_FREE_ENERGY</th><td style=\"text-align: left\">-37.887425306029</td></tr>\n",
       "<tr><th style=\"text-align: right\">GFN2:DIPOLE</th><td style=\"text-align: left\">-2.981|-2.986|-2.092|4.710</td></tr>\n",
       "<tr><th style=\"text-align: right\">GFN2:QUADRUPOLE</th><td style=\"text-align: left\">-1.073|-10.975|-2.869|-5.851|-4.713|3.942</td></tr>\n",
       "<tr><th style=\"text-align: right\">GFN2:ROT_CONSTANTS</th><td style=\"text-align: left\">0.04945968|0.01793012|0.01501081</td></tr>\n",
       "<tr><td colspan=\"2\" style=\"text-align: center\">Property list truncated.<br />Increase IPythonConsole.ipython_maxProperties (or set it to -1) to see more properties.</td></tr></table>"
      ],
      "text/plain": [
       "<rdkit.Chem.rdchem.Mol at 0x7f54f3f63220>"
      ]
     },
     "execution_count": 72,
     "metadata": {},
     "output_type": "execute_result"
    }
   ],
   "source": [
    "# show rdkit mol with atom indices\n",
    "from rdkit.Chem import Draw\n",
    "from rdkit.Chem.Draw import rdMolDraw2D\n",
    "from rdkit.Chem import rdDepictor\n",
    "from rdkit.Chem.Draw import IPythonConsole\n",
    "IPythonConsole.ipython_useSVG = True\n",
    "IPythonConsole.drawOptions.addAtomIndices = True\n",
    "supl[8]"
   ]
  },
  {
   "attachments": {},
   "cell_type": "markdown",
   "metadata": {},
   "source": [
    "Remove all the generated files by this cool example notebook."
   ]
  },
  {
   "cell_type": "code",
   "execution_count": 10,
   "metadata": {},
   "outputs": [],
   "source": [
    "rmtree(\"./training/\")"
   ]
  },
  {
   "cell_type": "code",
   "execution_count": null,
   "metadata": {},
   "outputs": [],
   "source": []
  }
 ],
 "metadata": {
  "kernelspec": {
   "display_name": "sff2",
   "language": "python",
   "name": "python3"
  },
  "language_info": {
   "codemirror_mode": {
    "name": "ipython",
    "version": 3
   },
   "file_extension": ".py",
   "mimetype": "text/x-python",
   "name": "python",
   "nbconvert_exporter": "python",
   "pygments_lexer": "ipython3",
   "version": "3.10.8"
  },
  "orig_nbformat": 4,
  "vscode": {
   "interpreter": {
    "hash": "e1430d17d39513225a1533dba3aaa99958e850ce5d77042c078db48dcce22910"
   }
  }
 },
 "nbformat": 4,
 "nbformat_minor": 2
}
