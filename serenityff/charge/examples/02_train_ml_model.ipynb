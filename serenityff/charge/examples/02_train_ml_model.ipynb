{
 "cells": [
  {
   "cell_type": "markdown",
   "metadata": {},
   "source": [
    "# Training a ML Model using the serenityff-charge package\n",
    "\n",
    "## Import necessary packages and set file paths:\n",
    "\n",
    "The [Trainer](../gnn/training/trainer.py) is a class that facilitates the training of an ML model and the [ChargeCorrectedNodeWiseAttentiveFP](../gnn/utils/model.py) is the model, that was trained in this work."
   ]
  },
  {
   "cell_type": "code",
   "execution_count": 2,
   "metadata": {},
   "outputs": [],
   "source": [
    "from shutil import rmtree\n",
    "import pandas as pd\n",
    "import torch\n",
    "from rdkit import Chem\n",
    "\n",
    "from serenityff.charge.gnn.training.trainer import Trainer, ChargeCorrectedNodeWiseAttentiveFP\n",
    "\n",
    "\n",
    "sdf_file = \"../data/example.sdf\"\n",
    "pt_file = \"../data/example_graphs.pt\"\n",
    "state_dict_path = \"../data/example_state_dict.pt\"\n",
    "model_path = \"../data/example_model.pt\""
   ]
  },
  {
   "attachments": {},
   "cell_type": "markdown",
   "metadata": {},
   "source": [
    "## Instantiate the trainer\n",
    "\n",
    "Here you can specify whether you want to train your model on a CUDA enabled gpu or on the cpu, simply by setting `device = \"cuda\" / \"cpu\"`.\n",
    "\n",
    "The loss function for the training is set to the `torch.nn.functional.mse_loss` by default. Provide any other callable for loss calculation with the kwarg `_loss_function_`."
   ]
  },
  {
   "cell_type": "code",
   "execution_count": 3,
   "metadata": {},
   "outputs": [],
   "source": [
    "trainer = Trainer(device = \"cpu\")"
   ]
  },
  {
   "attachments": {},
   "cell_type": "markdown",
   "metadata": {},
   "source": [
    "## Initialize model, optimizer and setting output path\n",
    "\n",
    "### Load existing model\n",
    "\n",
    "You can load an already existing `ChargeCorrectedNodeWiseAttentiveFP` by loading a saved model or a saved state_dict from a previously trained model. \n",
    "\n",
    "This of course only works if the model or the state dict originate or are a `ChargeCorrectedNodeWiseAttentiveFP`.\n",
    "\n"
   ]
  },
  {
   "cell_type": "code",
   "execution_count": 4,
   "metadata": {},
   "outputs": [],
   "source": [
    "#trainer.model = state_dict_path\n",
    "#trainer.model = model_path"
   ]
  },
  {
   "attachments": {},
   "cell_type": "markdown",
   "metadata": {},
   "source": [
    "## Train new model\n",
    "\n",
    "You can also train a new model.\n",
    "\n",
    "Also, for the trainer to work, you have to provide it an optimizer, and a string to where trained model and loss files should be saved."
   ]
  },
  {
   "cell_type": "code",
   "execution_count": 5,
   "metadata": {},
   "outputs": [],
   "source": [
    "trainer.model = ChargeCorrectedNodeWiseAttentiveFP()\n",
    "trainer.optimizer = torch.optim.Adam(trainer.model.parameters(), lr = 10**-5)\n",
    "trainer.save_prefix = \"./training/example\""
   ]
  },
  {
   "attachments": {},
   "cell_type": "markdown",
   "metadata": {},
   "source": [
    "### Generate molecular graph from .sdf files\n",
    "\n",
    "There are two possibilities to load/generate molecular graphs. Either, you load in previously generated graphs by using `Trainer.load_graphs_from_pt()` or you generate them from an .sdf file containing molecules and their charges, that are used for the training. See [prep_sdf_input.ipynb](prep_sdf_input.ipynb) for the preparation of said sdf files."
   ]
  },
  {
   "cell_type": "code",
   "execution_count": 6,
   "metadata": {},
   "outputs": [],
   "source": [
    "trainer.load_graphs_from_pt(pt_file=pt_file)\n",
    "trainer.gen_graphs_from_sdf(sdf_file=sdf_file)\n",
    "trainer.prepare_training_data(train_ratio=0.8)"
   ]
  },
  {
   "attachments": {},
   "cell_type": "markdown",
   "metadata": {},
   "source": [
    "### Train a new model\n",
    "\n",
    "To train a model, use the function `train_model()`. Specify epochs and batch size (defaults to 64).\n",
    "\n",
    "This function saves you the train and eval losses in seperate files as well as the model's state dict after the training."
   ]
  },
  {
   "cell_type": "code",
   "execution_count": 7,
   "metadata": {},
   "outputs": [],
   "source": [
    "epochs = 30\n",
    "train_loss, eval_loss = trainer.train_model(epochs=epochs)"
   ]
  },
  {
   "attachments": {},
   "cell_type": "markdown",
   "metadata": {},
   "source": [
    "## Predict charges for test molecule\n",
    "\n",
    "To predict values for known or unknown molecules, use the `predict()` function. It takes either rdkit molecules or molecular graphs (or Sequences of them) created as shown above as input. "
   ]
  },
  {
   "cell_type": "code",
   "execution_count": 9,
   "metadata": {},
   "outputs": [
    {
     "data": {
      "text/plain": [
       "[[[-0.0001327507197856903],\n",
       "  [-0.0001327507197856903],\n",
       "  [-0.0001327507197856903],\n",
       "  [-0.0001327507197856903],\n",
       "  [-0.0001327507197856903],\n",
       "  [-0.0001327507197856903],\n",
       "  [0.00013274699449539185],\n",
       "  [0.00013274699449539185],\n",
       "  [0.00013274699449539185],\n",
       "  [0.00013274699449539185],\n",
       "  [0.00013274699449539185],\n",
       "  [0.00013274699449539185]]]"
      ]
     },
     "execution_count": 9,
     "metadata": {},
     "output_type": "execute_result"
    }
   ],
   "source": [
    "mol = Chem.MolFromSmiles(\"c1ccccc1\")\n",
    "mol = Chem.AddHs(mol)\n",
    "trainer.predict(mol)"
   ]
  },
  {
   "cell_type": "markdown",
   "metadata": {},
   "source": [
    "Remove all the generated files by this cool example notebook."
   ]
  },
  {
   "cell_type": "code",
   "execution_count": 10,
   "metadata": {},
   "outputs": [],
   "source": [
    "rmtree(\"./training/\")"
   ]
  },
  {
   "cell_type": "code",
   "execution_count": null,
   "metadata": {},
   "outputs": [],
   "source": []
  }
 ],
 "metadata": {
  "kernelspec": {
   "display_name": "sff2",
   "language": "python",
   "name": "python3"
  },
  "language_info": {
   "codemirror_mode": {
    "name": "ipython",
    "version": 3
   },
   "file_extension": ".py",
   "mimetype": "text/x-python",
   "name": "python",
   "nbconvert_exporter": "python",
   "pygments_lexer": "ipython3",
   "version": "3.9.13"
  },
  "orig_nbformat": 4,
  "vscode": {
   "interpreter": {
    "hash": "a889b9c08bc532a4ed5d16ce94cbaebc1de0a0ee3e90749a27158edbea6ec6e9"
   }
  }
 },
 "nbformat": 4,
 "nbformat_minor": 2
}
