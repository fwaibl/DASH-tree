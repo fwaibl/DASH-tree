{
 "cells": [
  {
   "cell_type": "code",
   "execution_count": 1,
   "metadata": {},
   "outputs": [],
   "source": [
    "from rdkit import Chem\n",
    "from serenityff.charge.tree.dash_tree import DASHTree"
   ]
  },
  {
   "cell_type": "code",
   "execution_count": 2,
   "metadata": {},
   "outputs": [],
   "source": [
    "tree = DASHTree(preload=False)"
   ]
  },
  {
   "cell_type": "code",
   "execution_count": 3,
   "metadata": {},
   "outputs": [],
   "source": [
    "mol = Chem.MolFromSmiles(\"c1ccccc1\")\n",
    "mol = Chem.AddHs(mol)"
   ]
  },
  {
   "cell_type": "code",
   "execution_count": 4,
   "metadata": {},
   "outputs": [
    {
     "data": {
      "text/plain": [
       "{'charges': [-0.14482538717053928,\n",
       "  -0.14482538717053928,\n",
       "  -0.14482538717053928,\n",
       "  -0.14482538717053928,\n",
       "  -0.14482538717053928,\n",
       "  -0.14482538717053928,\n",
       "  0.14482538717053928,\n",
       "  0.14482538717053928,\n",
       "  0.14482538717053928,\n",
       "  0.14482538717053928,\n",
       "  0.14482538717053928,\n",
       "  0.14482538717053928],\n",
       " 'std': [0.03472900390625,\n",
       "  0.03472900390625,\n",
       "  0.03472900390625,\n",
       "  0.03472900390625,\n",
       "  0.03472900390625,\n",
       "  0.03472900390625,\n",
       "  0.00926971435546875,\n",
       "  0.00926971435546875,\n",
       "  0.00926971435546875,\n",
       "  0.00926971435546875,\n",
       "  0.00926971435546875,\n",
       "  0.00926971435546875],\n",
       " 'match_depth': [6, 6, 6, 6, 6, 6, 7, 7, 7, 7, 7, 7]}"
      ]
     },
     "execution_count": 4,
     "metadata": {},
     "output_type": "execute_result"
    }
   ],
   "source": [
    "tree.get_molecules_partial_charges(mol)"
   ]
  },
  {
   "cell_type": "code",
   "execution_count": null,
   "metadata": {},
   "outputs": [],
   "source": []
  }
 ],
 "metadata": {
  "kernelspec": {
   "display_name": "sff_19",
   "language": "python",
   "name": "python3"
  },
  "language_info": {
   "codemirror_mode": {
    "name": "ipython",
    "version": 3
   },
   "file_extension": ".py",
   "mimetype": "text/x-python",
   "name": "python",
   "nbconvert_exporter": "python",
   "pygments_lexer": "ipython3",
   "version": "3.10.11"
  },
  "orig_nbformat": 4
 },
 "nbformat": 4,
 "nbformat_minor": 2
}
