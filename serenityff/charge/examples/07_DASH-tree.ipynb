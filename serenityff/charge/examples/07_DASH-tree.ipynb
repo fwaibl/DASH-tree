{
 "cells": [
  {
   "cell_type": "code",
   "execution_count": 1,
   "metadata": {},
   "outputs": [],
   "source": [
    "from rdkit import Chem\n",
    "from tqdm import tqdm\n",
    "from serenityff.charge.tree.dash_tree import DASHTree\n",
    "%load_ext line_profiler"
   ]
  },
  {
   "cell_type": "code",
   "execution_count": 2,
   "metadata": {},
   "outputs": [
    {
     "name": "stdout",
     "output_type": "stream",
     "text": [
      "Loading DASH tree data\n"
     ]
    }
   ],
   "source": [
    "tree = DASHTree(num_processes=1)\n",
    "# n=1 19.5\n",
    "# n=2 30.6\n",
    "# n=3 31.6"
   ]
  },
  {
   "cell_type": "code",
   "execution_count": 3,
   "metadata": {},
   "outputs": [],
   "source": [
    "mol_sup = Chem.SDMolSupplier(\"../data/example.sdf\", removeHs=False)"
   ]
  },
  {
   "cell_type": "code",
   "execution_count": 4,
   "metadata": {},
   "outputs": [
    {
     "data": {
      "text/plain": [
       "[34,\n",
       " 0,\n",
       " 167331,\n",
       " 167332,\n",
       " 167333,\n",
       " 169504,\n",
       " 170309,\n",
       " 170536,\n",
       " 170727,\n",
       " 170731,\n",
       " 170732,\n",
       " 170734]"
      ]
     },
     "execution_count": 4,
     "metadata": {},
     "output_type": "execute_result"
    }
   ],
   "source": [
    "tree.match_new_atom(0, mol_sup[0])"
   ]
  },
  {
   "cell_type": "code",
   "execution_count": 5,
   "metadata": {},
   "outputs": [
    {
     "data": {
      "text/plain": [
       "[-0.5931196730441903,\n",
       " 0.7851668913312818,\n",
       " -0.6431413414085979,\n",
       " -0.015186619325404951,\n",
       " -0.17372044416049043,\n",
       " -0.08634567360691903,\n",
       " -0.13202160869163443,\n",
       " 0.14872200355130397,\n",
       " -0.5883753153625102,\n",
       " 0.1707070137686761,\n",
       " -0.42315670330341354,\n",
       " 0.5095730476572767,\n",
       " 0.19047164368866124,\n",
       " 0.16725630351830967,\n",
       " 0.18996089087651563,\n",
       " 0.49320958451113567]"
      ]
     },
     "execution_count": 5,
     "metadata": {},
     "output_type": "execute_result"
    }
   ],
   "source": [
    "tree.get_molecules_partial_charges(mol_sup[4])[\"charges\"]"
   ]
  },
  {
   "cell_type": "code",
   "execution_count": 6,
   "metadata": {},
   "outputs": [
    {
     "name": "stderr",
     "output_type": "stream",
     "text": [
      "100%|██████████| 20/20 [00:01<00:00, 17.26it/s]\n"
     ]
    }
   ],
   "source": [
    "for mol in tqdm(mol_sup, total=len(mol_sup)):\n",
    "    tree.get_molecules_partial_charges(mol)"
   ]
  },
  {
   "cell_type": "code",
   "execution_count": 15,
   "metadata": {},
   "outputs": [
    {
     "name": "stdout",
     "output_type": "stream",
     "text": [
      "336 ms ± 9.67 ms per loop (mean ± std. dev. of 7 runs, 1 loop each)\n"
     ]
    }
   ],
   "source": [
    "%timeit [tree.get_molecules_partial_charges(mol) for mol in mol_sup]"
   ]
  },
  {
   "cell_type": "code",
   "execution_count": 8,
   "metadata": {},
   "outputs": [],
   "source": [
    "# timing baseline (04.09.2023)                                    891 ms ± 67.2 \n",
    "# timing with AtomFeature changed to tuples                       874 ms ± 210 ms\n",
    "# timing with precalculated atom features                         515 ms ± 184 ms\n",
    "# timing with stored neighbor list                                "
   ]
  },
  {
   "cell_type": "code",
   "execution_count": 9,
   "metadata": {},
   "outputs": [
    {
     "name": "stdout",
     "output_type": "stream",
     "text": [
      "Average number of atoms per molecule: 21.55 (min: 7, max: 31)\n"
     ]
    }
   ],
   "source": [
    "num_atoms_per_mol = [mol.GetNumAtoms() for mol in mol_sup]\n",
    "print(f\"Average number of atoms per molecule: {sum(num_atoms_per_mol)/len(num_atoms_per_mol)} (min: {min(num_atoms_per_mol)}, max: {max(num_atoms_per_mol)})\")"
   ]
  },
  {
   "cell_type": "code",
   "execution_count": 10,
   "metadata": {},
   "outputs": [
    {
     "data": {
      "text/html": [
       "<div>\n",
       "<style scoped>\n",
       "    .dataframe tbody tr th:only-of-type {\n",
       "        vertical-align: middle;\n",
       "    }\n",
       "\n",
       "    .dataframe tbody tr th {\n",
       "        vertical-align: top;\n",
       "    }\n",
       "\n",
       "    .dataframe thead th {\n",
       "        text-align: right;\n",
       "    }\n",
       "</style>\n",
       "<table border=\"1\" class=\"dataframe\">\n",
       "  <thead>\n",
       "    <tr style=\"text-align: right;\">\n",
       "      <th></th>\n",
       "      <th>level</th>\n",
       "      <th>atom</th>\n",
       "      <th>con</th>\n",
       "      <th>conType</th>\n",
       "      <th>result</th>\n",
       "      <th>stdDeviation</th>\n",
       "      <th>attention</th>\n",
       "      <th>count</th>\n",
       "    </tr>\n",
       "  </thead>\n",
       "  <tbody>\n",
       "    <tr>\n",
       "      <th>0</th>\n",
       "      <td>1</td>\n",
       "      <td>1</td>\n",
       "      <td>-1</td>\n",
       "      <td>-1</td>\n",
       "      <td>0.625488</td>\n",
       "      <td>0.012901</td>\n",
       "      <td>0.596191</td>\n",
       "      <td>10</td>\n",
       "    </tr>\n",
       "    <tr>\n",
       "      <th>1</th>\n",
       "      <td>2</td>\n",
       "      <td>70</td>\n",
       "      <td>0</td>\n",
       "      <td>4</td>\n",
       "      <td>0.625488</td>\n",
       "      <td>0.012901</td>\n",
       "      <td>0.379883</td>\n",
       "      <td>10</td>\n",
       "    </tr>\n",
       "    <tr>\n",
       "      <th>2</th>\n",
       "      <td>3</td>\n",
       "      <td>65</td>\n",
       "      <td>0</td>\n",
       "      <td>4</td>\n",
       "      <td>0.625488</td>\n",
       "      <td>0.012901</td>\n",
       "      <td>0.170898</td>\n",
       "      <td>10</td>\n",
       "    </tr>\n",
       "    <tr>\n",
       "      <th>3</th>\n",
       "      <td>4</td>\n",
       "      <td>70</td>\n",
       "      <td>1</td>\n",
       "      <td>4</td>\n",
       "      <td>0.625488</td>\n",
       "      <td>0.012901</td>\n",
       "      <td>0.003141</td>\n",
       "      <td>10</td>\n",
       "    </tr>\n",
       "    <tr>\n",
       "      <th>4</th>\n",
       "      <td>5</td>\n",
       "      <td>55</td>\n",
       "      <td>2</td>\n",
       "      <td>4</td>\n",
       "      <td>0.625488</td>\n",
       "      <td>0.012901</td>\n",
       "      <td>0.002874</td>\n",
       "      <td>10</td>\n",
       "    </tr>\n",
       "    <tr>\n",
       "      <th>5</th>\n",
       "      <td>6</td>\n",
       "      <td>33</td>\n",
       "      <td>1</td>\n",
       "      <td>1</td>\n",
       "      <td>0.625488</td>\n",
       "      <td>0.012901</td>\n",
       "      <td>0.002420</td>\n",
       "      <td>10</td>\n",
       "    </tr>\n",
       "    <tr>\n",
       "      <th>6</th>\n",
       "      <td>7</td>\n",
       "      <td>1</td>\n",
       "      <td>2</td>\n",
       "      <td>4</td>\n",
       "      <td>0.625488</td>\n",
       "      <td>0.012901</td>\n",
       "      <td>0.002121</td>\n",
       "      <td>10</td>\n",
       "    </tr>\n",
       "    <tr>\n",
       "      <th>7</th>\n",
       "      <td>8</td>\n",
       "      <td>34</td>\n",
       "      <td>5</td>\n",
       "      <td>1</td>\n",
       "      <td>0.625488</td>\n",
       "      <td>0.012901</td>\n",
       "      <td>0.002106</td>\n",
       "      <td>10</td>\n",
       "    </tr>\n",
       "    <tr>\n",
       "      <th>8</th>\n",
       "      <td>9</td>\n",
       "      <td>33</td>\n",
       "      <td>3</td>\n",
       "      <td>1</td>\n",
       "      <td>0.625488</td>\n",
       "      <td>0.012901</td>\n",
       "      <td>0.002008</td>\n",
       "      <td>10</td>\n",
       "    </tr>\n",
       "    <tr>\n",
       "      <th>9</th>\n",
       "      <td>10</td>\n",
       "      <td>34</td>\n",
       "      <td>8</td>\n",
       "      <td>1</td>\n",
       "      <td>0.625488</td>\n",
       "      <td>0.012901</td>\n",
       "      <td>0.001986</td>\n",
       "      <td>10</td>\n",
       "    </tr>\n",
       "    <tr>\n",
       "      <th>10</th>\n",
       "      <td>11</td>\n",
       "      <td>31</td>\n",
       "      <td>6</td>\n",
       "      <td>1</td>\n",
       "      <td>0.625488</td>\n",
       "      <td>0.012901</td>\n",
       "      <td>0.001915</td>\n",
       "      <td>10</td>\n",
       "    </tr>\n",
       "    <tr>\n",
       "      <th>11</th>\n",
       "      <td>12</td>\n",
       "      <td>34</td>\n",
       "      <td>10</td>\n",
       "      <td>1</td>\n",
       "      <td>0.625488</td>\n",
       "      <td>0.012901</td>\n",
       "      <td>0.002031</td>\n",
       "      <td>10</td>\n",
       "    </tr>\n",
       "    <tr>\n",
       "      <th>12</th>\n",
       "      <td>13</td>\n",
       "      <td>34</td>\n",
       "      <td>10</td>\n",
       "      <td>1</td>\n",
       "      <td>0.625488</td>\n",
       "      <td>0.012901</td>\n",
       "      <td>0.001987</td>\n",
       "      <td>10</td>\n",
       "    </tr>\n",
       "    <tr>\n",
       "      <th>13</th>\n",
       "      <td>14</td>\n",
       "      <td>34</td>\n",
       "      <td>10</td>\n",
       "      <td>1</td>\n",
       "      <td>0.625488</td>\n",
       "      <td>0.012901</td>\n",
       "      <td>0.001982</td>\n",
       "      <td>10</td>\n",
       "    </tr>\n",
       "    <tr>\n",
       "      <th>14</th>\n",
       "      <td>15</td>\n",
       "      <td>27</td>\n",
       "      <td>4</td>\n",
       "      <td>4</td>\n",
       "      <td>0.627441</td>\n",
       "      <td>0.016068</td>\n",
       "      <td>0.001898</td>\n",
       "      <td>6</td>\n",
       "    </tr>\n",
       "    <tr>\n",
       "      <th>15</th>\n",
       "      <td>15</td>\n",
       "      <td>26</td>\n",
       "      <td>4</td>\n",
       "      <td>4</td>\n",
       "      <td>0.622559</td>\n",
       "      <td>0.003689</td>\n",
       "      <td>0.001894</td>\n",
       "      <td>4</td>\n",
       "    </tr>\n",
       "  </tbody>\n",
       "</table>\n",
       "</div>"
      ],
      "text/plain": [
       "    level  atom  con  conType    result  stdDeviation  attention  count\n",
       "0       1     1   -1       -1  0.625488      0.012901   0.596191     10\n",
       "1       2    70    0        4  0.625488      0.012901   0.379883     10\n",
       "2       3    65    0        4  0.625488      0.012901   0.170898     10\n",
       "3       4    70    1        4  0.625488      0.012901   0.003141     10\n",
       "4       5    55    2        4  0.625488      0.012901   0.002874     10\n",
       "5       6    33    1        1  0.625488      0.012901   0.002420     10\n",
       "6       7     1    2        4  0.625488      0.012901   0.002121     10\n",
       "7       8    34    5        1  0.625488      0.012901   0.002106     10\n",
       "8       9    33    3        1  0.625488      0.012901   0.002008     10\n",
       "9      10    34    8        1  0.625488      0.012901   0.001986     10\n",
       "10     11    31    6        1  0.625488      0.012901   0.001915     10\n",
       "11     12    34   10        1  0.625488      0.012901   0.002031     10\n",
       "12     13    34   10        1  0.625488      0.012901   0.001987     10\n",
       "13     14    34   10        1  0.625488      0.012901   0.001982     10\n",
       "14     15    27    4        4  0.627441      0.016068   0.001898      6\n",
       "15     15    26    4        4  0.622559      0.003689   0.001894      4"
      ]
     },
     "execution_count": 10,
     "metadata": {},
     "output_type": "execute_result"
    }
   ],
   "source": [
    "tree.data_storage[1]"
   ]
  },
  {
   "cell_type": "code",
   "execution_count": 11,
   "metadata": {},
   "outputs": [
    {
     "data": {
      "text/plain": [
       "[(0, 1, -1, -1, 0.5960462093353271, [0, 1]),\n",
       " (1, 70, 0, 4, 0.379802405834198, [2]),\n",
       " (2, 65, 0, 4, 0.17085446417331696, [3]),\n",
       " (3, 70, 1, 4, 0.003141123801469803, [4]),\n",
       " (4, 55, 2, 4, 0.002873738994821906, [5]),\n",
       " (5, 33, 1, 1, 0.002419679891318083, [6]),\n",
       " (6, 1, 2, 4, 0.00212140497751534, [7]),\n",
       " (7, 34, 5, 1, 0.0021055617835372686, [8]),\n",
       " (8, 33, 3, 1, 0.002008170122280717, [9]),\n",
       " (9, 34, 8, 1, 0.0019848933443427086, [10]),\n",
       " (10, 31, 6, 1, 0.0019148633582517505, [11]),\n",
       " (11, 34, 10, 1, 0.002032126300036907, [12]),\n",
       " (12, 34, 10, 1, 0.00198705168440938, [13]),\n",
       " (13, 34, 10, 1, 0.0019818239379674196, [14, 15]),\n",
       " (14, 27, 4, 4, 0.0018974484410136938, []),\n",
       " (15, 26, 4, 4, 0.0018944578478112817, [])]"
      ]
     },
     "execution_count": 11,
     "metadata": {},
     "output_type": "execute_result"
    }
   ],
   "source": [
    "tree.tree_storage[1]"
   ]
  },
  {
   "cell_type": "code",
   "execution_count": 12,
   "metadata": {},
   "outputs": [],
   "source": [
    "test_mol = mol_sup[4]"
   ]
  },
  {
   "cell_type": "code",
   "execution_count": 13,
   "metadata": {},
   "outputs": [
    {
     "name": "stdout",
     "output_type": "stream",
     "text": [
      "3\n",
      "5\n",
      "12\n"
     ]
    }
   ],
   "source": [
    "for n in test_mol.GetAtomWithIdx(4).GetNeighbors():\n",
    "    print(n.GetIdx())"
   ]
  },
  {
   "cell_type": "code",
   "execution_count": 14,
   "metadata": {},
   "outputs": [
    {
     "ename": "Exception",
     "evalue": "Stop here",
     "output_type": "error",
     "traceback": [
      "\u001b[0;31m---------------------------------------------------------------------------\u001b[0m",
      "\u001b[0;31mException\u001b[0m                                 Traceback (most recent call last)",
      "Cell \u001b[0;32mIn[14], line 1\u001b[0m\n\u001b[0;32m----> 1\u001b[0m \u001b[39mraise\u001b[39;00m \u001b[39mException\u001b[39;00m(\u001b[39m\"\u001b[39m\u001b[39mStop here\u001b[39m\u001b[39m\"\u001b[39m)\n",
      "\u001b[0;31mException\u001b[0m: Stop here"
     ]
    }
   ],
   "source": [
    "raise Exception(\"Stop here\")"
   ]
  },
  {
   "cell_type": "code",
   "execution_count": null,
   "metadata": {},
   "outputs": [],
   "source": [
    "%load_ext line_profiler\n",
    "%lprun -f tree.get_molecules_partial_charges tree.get_molecules_partial_charges(mol)"
   ]
  },
  {
   "cell_type": "code",
   "execution_count": null,
   "metadata": {},
   "outputs": [],
   "source": [
    "%lprun -f tree.match_new_atom tree.match_new_atom(0, mol)"
   ]
  },
  {
   "cell_type": "code",
   "execution_count": null,
   "metadata": {},
   "outputs": [],
   "source": []
  }
 ],
 "metadata": {
  "kernelspec": {
   "display_name": "sff_19",
   "language": "python",
   "name": "python3"
  },
  "language_info": {
   "codemirror_mode": {
    "name": "ipython",
    "version": 3
   },
   "file_extension": ".py",
   "mimetype": "text/x-python",
   "name": "python",
   "nbconvert_exporter": "python",
   "pygments_lexer": "ipython3",
   "version": "3.10.11"
  },
  "orig_nbformat": 4
 },
 "nbformat": 4,
 "nbformat_minor": 2
}
