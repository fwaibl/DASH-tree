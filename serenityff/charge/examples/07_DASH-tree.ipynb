{
 "cells": [
  {
   "cell_type": "code",
   "execution_count": 1,
   "metadata": {},
   "outputs": [],
   "source": [
    "from rdkit import Chem\n",
    "from tqdm import tqdm\n",
    "from serenityff.charge.tree.dash_tree import DASHTree\n",
    "from serenityff.charge.tree.atom_features import AtomFeatures, get_connection_info_bond_type\n",
    "%load_ext line_profiler"
   ]
  },
  {
   "cell_type": "code",
   "execution_count": 2,
   "metadata": {},
   "outputs": [
    {
     "name": "stdout",
     "output_type": "stream",
     "text": [
      "Loading DASH tree data\n"
     ]
    }
   ],
   "source": [
    "tree = DASHTree(num_processes=1)\n",
    "# n=1 19.5\n",
    "# n=2 30.6\n",
    "# n=3 31.6"
   ]
  },
  {
   "cell_type": "code",
   "execution_count": 3,
   "metadata": {},
   "outputs": [],
   "source": [
    "mol_sup = Chem.SDMolSupplier(\"../data/example.sdf\", removeHs=False)"
   ]
  },
  {
   "cell_type": "code",
   "execution_count": 4,
   "metadata": {},
   "outputs": [
    {
     "data": {
      "text/plain": [
       "False"
      ]
     },
     "execution_count": 4,
     "metadata": {},
     "output_type": "execute_result"
    }
   ],
   "source": [
    "(1,2,3) == (1,2,4)"
   ]
  },
  {
   "cell_type": "code",
   "execution_count": 5,
   "metadata": {},
   "outputs": [
    {
     "data": {
      "text/plain": [
       "[34, 0, 167331, 167332, 167333, 169504]"
      ]
     },
     "execution_count": 5,
     "metadata": {},
     "output_type": "execute_result"
    }
   ],
   "source": [
    "tree.match_new_atom(0, mol_sup[0])"
   ]
  },
  {
   "cell_type": "code",
   "execution_count": 6,
   "metadata": {},
   "outputs": [
    {
     "data": {
      "text/plain": [
       "[-0.743588904134849,\n",
       " 1.1309775445707058,\n",
       " -0.6724881843055797,\n",
       " 0.2940594235400035,\n",
       " -0.23680232625932834,\n",
       " -0.16523398145988805,\n",
       " -0.23680232625932834,\n",
       " 0.33431095702447067,\n",
       " -0.6338138301045644,\n",
       " -0.004846247250981643,\n",
       " -0.48499433858143876,\n",
       " 0.4956579075462079,\n",
       " 0.1489313589438346,\n",
       " 0.1489313589438346,\n",
       " 0.1489313589438346,\n",
       " 0.47677022884306663]"
      ]
     },
     "execution_count": 6,
     "metadata": {},
     "output_type": "execute_result"
    }
   ],
   "source": [
    "tree.get_molecules_partial_charges(mol_sup[4])[\"charges\"]"
   ]
  },
  {
   "cell_type": "code",
   "execution_count": 7,
   "metadata": {},
   "outputs": [
    {
     "data": {
      "text/plain": [
       "(1, 1, 0, False, 0)"
      ]
     },
     "execution_count": 7,
     "metadata": {},
     "output_type": "execute_result"
    }
   ],
   "source": [
    "AtomFeatures.afKey_2_afTuple[37]"
   ]
  },
  {
   "cell_type": "code",
   "execution_count": 8,
   "metadata": {},
   "outputs": [
    {
     "name": "stderr",
     "output_type": "stream",
     "text": [
      "100%|██████████| 20/20 [00:00<00:00, 39.16it/s]\n"
     ]
    }
   ],
   "source": [
    "for mol in tqdm(mol_sup, total=len(mol_sup)):\n",
    "    tree.get_molecules_partial_charges(mol)"
   ]
  },
  {
   "cell_type": "code",
   "execution_count": 9,
   "metadata": {},
   "outputs": [
    {
     "name": "stdout",
     "output_type": "stream",
     "text": [
      "371 ms ± 44.8 ms per loop (mean ± std. dev. of 7 runs, 1 loop each)\n"
     ]
    }
   ],
   "source": [
    "%timeit [tree.get_molecules_partial_charges(mol) for mol in mol_sup]"
   ]
  },
  {
   "cell_type": "code",
   "execution_count": 10,
   "metadata": {},
   "outputs": [],
   "source": [
    "# timing baseline (04.09.2023)                                    991 ms ± 67.2 \n",
    "# timing with AtomFeature changed to tuples                       874 ms ± 210 ms\n",
    "# timing with precalculated atom features                         515 ms ± 184 ms\n",
    "# timing with stored neighbor list                                359 ms ± 55.3 ms"
   ]
  },
  {
   "cell_type": "code",
   "execution_count": 11,
   "metadata": {},
   "outputs": [
    {
     "data": {
      "text/plain": [
       "{'charges': [-0.743588904134849,\n",
       "  1.1309775445707058,\n",
       "  -0.6724881843055797,\n",
       "  0.2940594235400035,\n",
       "  -0.23680232625932834,\n",
       "  -0.16523398145988805,\n",
       "  -0.23680232625932834,\n",
       "  0.33431095702447067,\n",
       "  -0.6338138301045644,\n",
       "  -0.004846247250981643,\n",
       "  -0.48499433858143876,\n",
       "  0.4956579075462079,\n",
       "  0.1489313589438346,\n",
       "  0.1489313589438346,\n",
       "  0.1489313589438346,\n",
       "  0.47677022884306663],\n",
       " 'std': [0.01751708984375,\n",
       "  0.0034885406494140625,\n",
       "  0.0262298583984375,\n",
       "  0.09539794921875,\n",
       "  0.083984375,\n",
       "  0.043304443359375,\n",
       "  0.083984375,\n",
       "  0.046722412109375,\n",
       "  0.10308837890625,\n",
       "  0.0889892578125,\n",
       "  0.022064208984375,\n",
       "  0.0082550048828125,\n",
       "  0.01739501953125,\n",
       "  0.01739501953125,\n",
       "  0.01739501953125,\n",
       "  0.0116729736328125],\n",
       " 'match_depth': [4, 4, 7, 4, 3, 3, 3, 4, 2, 4, 2, 8, 4, 4, 4, 3]}"
      ]
     },
     "execution_count": 11,
     "metadata": {},
     "output_type": "execute_result"
    }
   ],
   "source": [
    "tree.get_molecules_partial_charges(mol_sup[4])"
   ]
  },
  {
   "cell_type": "code",
   "execution_count": 12,
   "metadata": {},
   "outputs": [
    {
     "name": "stdout",
     "output_type": "stream",
     "text": [
      "Average number of atoms per molecule: 21.55 (min: 7, max: 31)\n"
     ]
    }
   ],
   "source": [
    "num_atoms_per_mol = [mol.GetNumAtoms() for mol in mol_sup]\n",
    "print(f\"Average number of atoms per molecule: {sum(num_atoms_per_mol)/len(num_atoms_per_mol)} (min: {min(num_atoms_per_mol)}, max: {max(num_atoms_per_mol)})\")"
   ]
  },
  {
   "cell_type": "code",
   "execution_count": 13,
   "metadata": {},
   "outputs": [
    {
     "data": {
      "text/html": [
       "<div>\n",
       "<style scoped>\n",
       "    .dataframe tbody tr th:only-of-type {\n",
       "        vertical-align: middle;\n",
       "    }\n",
       "\n",
       "    .dataframe tbody tr th {\n",
       "        vertical-align: top;\n",
       "    }\n",
       "\n",
       "    .dataframe thead th {\n",
       "        text-align: right;\n",
       "    }\n",
       "</style>\n",
       "<table border=\"1\" class=\"dataframe\">\n",
       "  <thead>\n",
       "    <tr style=\"text-align: right;\">\n",
       "      <th></th>\n",
       "      <th>level</th>\n",
       "      <th>atom</th>\n",
       "      <th>con</th>\n",
       "      <th>conType</th>\n",
       "      <th>result</th>\n",
       "      <th>stdDeviation</th>\n",
       "      <th>attention</th>\n",
       "      <th>count</th>\n",
       "    </tr>\n",
       "  </thead>\n",
       "  <tbody>\n",
       "    <tr>\n",
       "      <th>0</th>\n",
       "      <td>1</td>\n",
       "      <td>1</td>\n",
       "      <td>-1</td>\n",
       "      <td>-1</td>\n",
       "      <td>0.625488</td>\n",
       "      <td>0.012901</td>\n",
       "      <td>0.596191</td>\n",
       "      <td>10</td>\n",
       "    </tr>\n",
       "    <tr>\n",
       "      <th>1</th>\n",
       "      <td>2</td>\n",
       "      <td>70</td>\n",
       "      <td>0</td>\n",
       "      <td>4</td>\n",
       "      <td>0.625488</td>\n",
       "      <td>0.012901</td>\n",
       "      <td>0.379883</td>\n",
       "      <td>10</td>\n",
       "    </tr>\n",
       "    <tr>\n",
       "      <th>2</th>\n",
       "      <td>3</td>\n",
       "      <td>65</td>\n",
       "      <td>0</td>\n",
       "      <td>4</td>\n",
       "      <td>0.625488</td>\n",
       "      <td>0.012901</td>\n",
       "      <td>0.170898</td>\n",
       "      <td>10</td>\n",
       "    </tr>\n",
       "    <tr>\n",
       "      <th>3</th>\n",
       "      <td>4</td>\n",
       "      <td>70</td>\n",
       "      <td>1</td>\n",
       "      <td>4</td>\n",
       "      <td>0.625488</td>\n",
       "      <td>0.012901</td>\n",
       "      <td>0.003141</td>\n",
       "      <td>10</td>\n",
       "    </tr>\n",
       "    <tr>\n",
       "      <th>4</th>\n",
       "      <td>5</td>\n",
       "      <td>55</td>\n",
       "      <td>2</td>\n",
       "      <td>4</td>\n",
       "      <td>0.625488</td>\n",
       "      <td>0.012901</td>\n",
       "      <td>0.002874</td>\n",
       "      <td>10</td>\n",
       "    </tr>\n",
       "    <tr>\n",
       "      <th>5</th>\n",
       "      <td>6</td>\n",
       "      <td>33</td>\n",
       "      <td>1</td>\n",
       "      <td>1</td>\n",
       "      <td>0.625488</td>\n",
       "      <td>0.012901</td>\n",
       "      <td>0.002420</td>\n",
       "      <td>10</td>\n",
       "    </tr>\n",
       "    <tr>\n",
       "      <th>6</th>\n",
       "      <td>7</td>\n",
       "      <td>1</td>\n",
       "      <td>2</td>\n",
       "      <td>4</td>\n",
       "      <td>0.625488</td>\n",
       "      <td>0.012901</td>\n",
       "      <td>0.002121</td>\n",
       "      <td>10</td>\n",
       "    </tr>\n",
       "    <tr>\n",
       "      <th>7</th>\n",
       "      <td>8</td>\n",
       "      <td>34</td>\n",
       "      <td>5</td>\n",
       "      <td>1</td>\n",
       "      <td>0.625488</td>\n",
       "      <td>0.012901</td>\n",
       "      <td>0.002106</td>\n",
       "      <td>10</td>\n",
       "    </tr>\n",
       "    <tr>\n",
       "      <th>8</th>\n",
       "      <td>9</td>\n",
       "      <td>33</td>\n",
       "      <td>3</td>\n",
       "      <td>1</td>\n",
       "      <td>0.625488</td>\n",
       "      <td>0.012901</td>\n",
       "      <td>0.002008</td>\n",
       "      <td>10</td>\n",
       "    </tr>\n",
       "    <tr>\n",
       "      <th>9</th>\n",
       "      <td>10</td>\n",
       "      <td>34</td>\n",
       "      <td>8</td>\n",
       "      <td>1</td>\n",
       "      <td>0.625488</td>\n",
       "      <td>0.012901</td>\n",
       "      <td>0.001986</td>\n",
       "      <td>10</td>\n",
       "    </tr>\n",
       "    <tr>\n",
       "      <th>10</th>\n",
       "      <td>11</td>\n",
       "      <td>31</td>\n",
       "      <td>6</td>\n",
       "      <td>1</td>\n",
       "      <td>0.625488</td>\n",
       "      <td>0.012901</td>\n",
       "      <td>0.001915</td>\n",
       "      <td>10</td>\n",
       "    </tr>\n",
       "    <tr>\n",
       "      <th>11</th>\n",
       "      <td>12</td>\n",
       "      <td>34</td>\n",
       "      <td>10</td>\n",
       "      <td>1</td>\n",
       "      <td>0.625488</td>\n",
       "      <td>0.012901</td>\n",
       "      <td>0.002031</td>\n",
       "      <td>10</td>\n",
       "    </tr>\n",
       "    <tr>\n",
       "      <th>12</th>\n",
       "      <td>13</td>\n",
       "      <td>34</td>\n",
       "      <td>10</td>\n",
       "      <td>1</td>\n",
       "      <td>0.625488</td>\n",
       "      <td>0.012901</td>\n",
       "      <td>0.001987</td>\n",
       "      <td>10</td>\n",
       "    </tr>\n",
       "    <tr>\n",
       "      <th>13</th>\n",
       "      <td>14</td>\n",
       "      <td>34</td>\n",
       "      <td>10</td>\n",
       "      <td>1</td>\n",
       "      <td>0.625488</td>\n",
       "      <td>0.012901</td>\n",
       "      <td>0.001982</td>\n",
       "      <td>10</td>\n",
       "    </tr>\n",
       "    <tr>\n",
       "      <th>14</th>\n",
       "      <td>15</td>\n",
       "      <td>27</td>\n",
       "      <td>4</td>\n",
       "      <td>4</td>\n",
       "      <td>0.627441</td>\n",
       "      <td>0.016068</td>\n",
       "      <td>0.001898</td>\n",
       "      <td>6</td>\n",
       "    </tr>\n",
       "    <tr>\n",
       "      <th>15</th>\n",
       "      <td>15</td>\n",
       "      <td>26</td>\n",
       "      <td>4</td>\n",
       "      <td>4</td>\n",
       "      <td>0.622559</td>\n",
       "      <td>0.003689</td>\n",
       "      <td>0.001894</td>\n",
       "      <td>4</td>\n",
       "    </tr>\n",
       "  </tbody>\n",
       "</table>\n",
       "</div>"
      ],
      "text/plain": [
       "    level  atom  con  conType    result  stdDeviation  attention  count\n",
       "0       1     1   -1       -1  0.625488      0.012901   0.596191     10\n",
       "1       2    70    0        4  0.625488      0.012901   0.379883     10\n",
       "2       3    65    0        4  0.625488      0.012901   0.170898     10\n",
       "3       4    70    1        4  0.625488      0.012901   0.003141     10\n",
       "4       5    55    2        4  0.625488      0.012901   0.002874     10\n",
       "5       6    33    1        1  0.625488      0.012901   0.002420     10\n",
       "6       7     1    2        4  0.625488      0.012901   0.002121     10\n",
       "7       8    34    5        1  0.625488      0.012901   0.002106     10\n",
       "8       9    33    3        1  0.625488      0.012901   0.002008     10\n",
       "9      10    34    8        1  0.625488      0.012901   0.001986     10\n",
       "10     11    31    6        1  0.625488      0.012901   0.001915     10\n",
       "11     12    34   10        1  0.625488      0.012901   0.002031     10\n",
       "12     13    34   10        1  0.625488      0.012901   0.001987     10\n",
       "13     14    34   10        1  0.625488      0.012901   0.001982     10\n",
       "14     15    27    4        4  0.627441      0.016068   0.001898      6\n",
       "15     15    26    4        4  0.622559      0.003689   0.001894      4"
      ]
     },
     "execution_count": 13,
     "metadata": {},
     "output_type": "execute_result"
    }
   ],
   "source": [
    "tree.data_storage[1]"
   ]
  },
  {
   "cell_type": "code",
   "execution_count": 14,
   "metadata": {},
   "outputs": [
    {
     "data": {
      "text/plain": [
       "[(0, 1, -1, -1, 0.5960462093353271, [0, 1]),\n",
       " (1, 70, 0, 4, 0.379802405834198, [2]),\n",
       " (2, 65, 0, 4, 0.17085446417331696, [3]),\n",
       " (3, 70, 1, 4, 0.003141123801469803, [4]),\n",
       " (4, 55, 2, 4, 0.002873738994821906, [5]),\n",
       " (5, 33, 1, 1, 0.002419679891318083, [6]),\n",
       " (6, 1, 2, 4, 0.00212140497751534, [7]),\n",
       " (7, 34, 5, 1, 0.0021055617835372686, [8]),\n",
       " (8, 33, 3, 1, 0.002008170122280717, [9]),\n",
       " (9, 34, 8, 1, 0.0019848933443427086, [10]),\n",
       " (10, 31, 6, 1, 0.0019148633582517505, [11]),\n",
       " (11, 34, 10, 1, 0.002032126300036907, [12]),\n",
       " (12, 34, 10, 1, 0.00198705168440938, [13]),\n",
       " (13, 34, 10, 1, 0.0019818239379674196, [14, 15]),\n",
       " (14, 27, 4, 4, 0.0018974484410136938, []),\n",
       " (15, 26, 4, 4, 0.0018944578478112817, [])]"
      ]
     },
     "execution_count": 14,
     "metadata": {},
     "output_type": "execute_result"
    }
   ],
   "source": [
    "tree.tree_storage[1]"
   ]
  },
  {
   "cell_type": "code",
   "execution_count": 15,
   "metadata": {},
   "outputs": [],
   "source": [
    "test_mol = mol_sup[4]"
   ]
  },
  {
   "cell_type": "code",
   "execution_count": 16,
   "metadata": {},
   "outputs": [
    {
     "name": "stdout",
     "output_type": "stream",
     "text": [
      "3\n",
      "5\n",
      "12\n"
     ]
    }
   ],
   "source": [
    "for n in test_mol.GetAtomWithIdx(4).GetNeighbors():\n",
    "    print(n.GetIdx())"
   ]
  },
  {
   "cell_type": "code",
   "execution_count": 17,
   "metadata": {},
   "outputs": [
    {
     "name": "stdout",
     "output_type": "stream",
     "text": [
      "The line_profiler extension is already loaded. To reload it, use:\n",
      "  %reload_ext line_profiler\n"
     ]
    },
    {
     "name": "stdout",
     "output_type": "stream",
     "text": [
      "Timer unit: 1e-09 s\n",
      "\n",
      "Total time: 0.0584819 s\n",
      "File: /home/mlehner/serenityff-charge/serenityff/charge/tree/dash_tree.py\n",
      "Function: get_molecules_partial_charges at line 285\n",
      "\n",
      "Line #      Hits         Time  Per Hit   % Time  Line Contents\n",
      "==============================================================\n",
      "   285                                               def get_molecules_partial_charges(\n",
      "   286                                                   self,\n",
      "   287                                                   mol: Molecule,\n",
      "   288                                                   norm_method: str = \"std_weighted\",\n",
      "   289                                                   max_depth: int = 16,\n",
      "   290                                                   attention_threshold: float = 10,\n",
      "   291                                                   attention_incremet_threshold: float = 0,\n",
      "   292                                                   verbose: bool = False,\n",
      "   293                                                   default_std_value: float = 0.1,\n",
      "   294                                                   chg_key: str = \"result\",\n",
      "   295                                                   chg_std_key: str = \"stdDeviation\",\n",
      "   296                                               ):\n",
      "   297                                                   \"\"\"\n",
      "   298                                                   Get the partial charges of all atoms in a molecule by matching them to DASH tree subgraphs and\n",
      "   299                                                   normalizing the charges of the matched atoms\n",
      "   300                                           \n",
      "   301                                                   Parameters\n",
      "   302                                                   ----------\n",
      "   303                                                   mol : Molecule\n",
      "   304                                                       RDKit molecule object for which the partial charges should be calculated\n",
      "   305                                                   norm_method : str\n",
      "   306                                                       Method to normalize the partial charges, one of 'none', 'symmetric', 'std_weighted'\n",
      "   307                                                   max_depth : int\n",
      "   308                                                       Maximum depth of the tree to traverse\n",
      "   309                                                   attention_threshold : float\n",
      "   310                                                       Maximum cumulative attention value to traverse the tree\n",
      "   311                                                   attention_incremet_threshold : float\n",
      "   312                                                       Minimum attention increment to stop the traversal\n",
      "   313                                                   verbose : bool\n",
      "   314                                                       If True, print status messages\n",
      "   315                                                   default_std_value : float\n",
      "   316                                                       Default value to use for the standard deviation if it is 0\n",
      "   317                                                   chg_key : str\n",
      "   318                                                       Key of the partial charge in the DASH tree data\n",
      "   319                                                   chg_std_key : str\n",
      "   320                                                       Key of the partial charge standard deviation in the DASH tree data\n",
      "   321                                           \n",
      "   322                                                   Returns\n",
      "   323                                                   -------\n",
      "   324                                                   dict\n",
      "   325                                                       Dictionary containing the partial charges, standard deviations and match depths of all atoms\n",
      "   326                                                   \"\"\"\n",
      "   327         1       2235.0   2235.0      0.0          return_list = []\n",
      "   328         1        488.0    488.0      0.0          tree_raw_charges = []\n",
      "   329         1        386.0    386.0      0.0          tree_charge_std = []\n",
      "   330         1        276.0    276.0      0.0          tree_match_depth = []\n",
      "   331        27     721760.0  26731.9      1.2          for atom in mol.GetAtoms():\n",
      "   332        27      83580.0   3095.6      0.1              atom_idx = atom.GetIdx()\n",
      "   333        27       5367.0    198.8      0.0              try:\n",
      "   334        27   44167490.0 1635833.0     75.5                  node_path = self.match_new_atom(\n",
      "   335        27       3710.0    137.4      0.0                      atom_idx,\n",
      "   336        27       4445.0    164.6      0.0                      mol,\n",
      "   337        27       3629.0    134.4      0.0                      max_depth=max_depth,\n",
      "   338        27       3098.0    114.7      0.0                      attention_threshold=attention_threshold,\n",
      "   339        27       3085.0    114.3      0.0                      attention_increment_threshold=attention_incremet_threshold,\n",
      "   340                                                           )\n",
      "   341        27   11514139.0 426449.6     19.7                  node_properties = self.get_atom_properties(node_path)\n",
      "   342        27    1418453.0  52535.3      2.4                  tree_raw_charges.append(float(node_properties[chg_key]))\n",
      "   343        27     241735.0   8953.1      0.4                  tmp_tree_std = float(node_properties[chg_std_key])\n",
      "   344        27      30935.0   1145.7      0.1                  tree_charge_std.append(tmp_tree_std if tmp_tree_std > 0 else default_std_value)\n",
      "   345        27      82148.0   3042.5      0.1                  tree_match_depth.append(len(node_path) - 1)\n",
      "   346                                                       except Exception as e:\n",
      "   347                                                           raise e\n",
      "   348                                                           print(e)\n",
      "   349                                                           tree_raw_charges.append(np.NaN)\n",
      "   350                                                           tree_charge_std.append(np.NaN)\n",
      "   351                                                           tree_match_depth.append(-1)\n",
      "   352                                           \n",
      "   353         1        389.0    389.0      0.0          if verbose:\n",
      "   354                                                       print(f\"Tree raw charges: {tree_raw_charges}\")\n",
      "   355         1        841.0    841.0      0.0          if norm_method == \"none\":\n",
      "   356                                                       return_list = tree_raw_charges\n",
      "   357         1        829.0    829.0      0.0          elif norm_method == \"symmetric\":\n",
      "   358                                                       tot_charge_tree = sum(tree_raw_charges)\n",
      "   359                                                       tot_charge_mol = sum([x.GetFormalCharge() for x in mol.GetAtoms()])\n",
      "   360                                                       return_list = [x + (tot_charge_mol - tot_charge_tree) / len(tree_raw_charges) for x in tree_raw_charges]\n",
      "   361         1        380.0    380.0      0.0          elif norm_method == \"std_weighted\":\n",
      "   362         1       4878.0   4878.0      0.0              tot_charge_tree = sum(tree_raw_charges)\n",
      "   363         1     162187.0 162187.0      0.3              tot_charge_mol = sum([x.GetFormalCharge() for x in mol.GetAtoms()])\n",
      "   364         1       2365.0   2365.0      0.0              tot_std_tree = sum(tree_charge_std)\n",
      "   365         1      18930.0  18930.0      0.0              return_list = [\n",
      "   366                                                           x + (tot_charge_mol - tot_charge_tree) * (y / tot_std_tree)\n",
      "   367         1       2211.0   2211.0      0.0                  for x, y in zip(tree_raw_charges, tree_charge_std)\n",
      "   368                                                       ]\n",
      "   369                                                   else:\n",
      "   370                                                       raise ValueError(\"norm_method must be one of 'none', 'symmetric', 'std_weighted'\")\n",
      "   371         1        225.0    225.0      0.0          if verbose:\n",
      "   372                                                       print(f\"Tree normalized charges: {return_list}\")\n",
      "   373         1       1747.0   1747.0      0.0          return {\"charges\": return_list, \"std\": tree_charge_std, \"match_depth\": tree_match_depth}"
     ]
    }
   ],
   "source": [
    "%load_ext line_profiler\n",
    "%lprun -f tree.get_molecules_partial_charges tree.get_molecules_partial_charges(mol)"
   ]
  },
  {
   "cell_type": "code",
   "execution_count": 18,
   "metadata": {},
   "outputs": [
    {
     "name": "stdout",
     "output_type": "stream",
     "text": [
      "Timer unit: 1e-09 s\n",
      "\n",
      "Total time: 0.00106091 s\n",
      "File: /home/mlehner/serenityff-charge/serenityff/charge/tree/dash_tree.py\n",
      "Function: match_new_atom at line 185\n",
      "\n",
      "Line #      Hits         Time  Per Hit   % Time  Line Contents\n",
      "==============================================================\n",
      "   185                                               def match_new_atom(\n",
      "   186                                                   self,\n",
      "   187                                                   atom: int,\n",
      "   188                                                   mol: Molecule,\n",
      "   189                                                   max_depth: int = 16,\n",
      "   190                                                   attention_threshold: float = 10,\n",
      "   191                                                   attention_increment_threshold: float = 0,\n",
      "   192                                               ):\n",
      "   193                                                   \"\"\"\n",
      "   194                                                   Match a atom in a molecule to a DASH tree subgraph. The matching is done by starting at the atom and\n",
      "   195                                                   traversing the tree until the max_depth is reached or the attention_threshold is exceeded.\n",
      "   196                                                   If the attention_increment_threshold is exceeded, the matching is stopped and the current path is returned.\n",
      "   197                                           \n",
      "   198                                                   Parameters\n",
      "   199                                                   ----------\n",
      "   200                                                   atom : int\n",
      "   201                                                       Atom index in the molecule of the atom to match\n",
      "   202                                                   mol : Molecule\n",
      "   203                                                       RDKit molecule object in which the atom is located\n",
      "   204                                                   max_depth : int\n",
      "   205                                                       Maximum depth of the tree to traverse\n",
      "   206                                                   attention_threshold : float\n",
      "   207                                                       Maximum cumulative attention value to traverse the tree\n",
      "   208                                                   attention_increment_threshold : float\n",
      "   209                                                       Minimum attention increment to stop the traversal\n",
      "   210                                                   \"\"\"\n",
      "   211         1     851730.0 851730.0     80.3          neighbor_dict = self._init_neighbor_dict(mol)\n",
      "   212         1      12244.0  12244.0      1.2          init_atom_feature = AtomFeatures.atom_features_from_molecule_w_connection_info(mol, atom)\n",
      "   213         1        337.0    337.0      0.0          branch_idx = init_atom_feature[0]  # branch_idx is the key of the AtomFeature without connection info\n",
      "   214         1        462.0    462.0      0.0          matched_node_path = [branch_idx, 0]\n",
      "   215         1        702.0    702.0      0.1          if branch_idx not in self.tree_storage:\n",
      "   216                                                       self.load_tree_and_data(\n",
      "   217                                                           os.path.join(self.tree_folder_path, f\"{branch_idx}.gz\"),\n",
      "   218                                                           os.path.join(self.tree_folder_path, f\"{branch_idx}.h5\"),\n",
      "   219                                                       )\n",
      "   220         1        194.0    194.0      0.0          cummulative_attention = 0\n",
      "   221                                                   # Special case for H -> only connect to heavy atom and ignore H\n",
      "   222         1       1789.0   1789.0      0.2          if mol.GetAtomWithIdx(atom).GetAtomicNum() == 1:\n",
      "   223                                                       h_connected_heavy_atom = mol.GetAtomWithIdx(atom).GetNeighbors()[0].GetIdx()\n",
      "   224                                                       init_atom_feature = AtomFeatures.atom_features_from_molecule_w_connection_info(mol, h_connected_heavy_atom)\n",
      "   225                                                       child, _ = self._pick_subgraph_expansion_node(0, branch_idx, [init_atom_feature], [h_connected_heavy_atom])\n",
      "   226                                                       matched_node_path.append(child)\n",
      "   227                                                       atom_indices_in_subgraph = [h_connected_heavy_atom]  # skip Hs as they are only treated implicitly\n",
      "   228                                                       max_depth -= 1  # reduce max_depth by 1 as we already added one node\n",
      "   229                                                   else:\n",
      "   230         1        315.0    315.0      0.0              atom_indices_in_subgraph = [atom]\n",
      "   231         1        192.0    192.0      0.0          if max_depth <= 1:\n",
      "   232                                                       return matched_node_path\n",
      "   233                                                   else:\n",
      "   234         1      10098.0  10098.0      1.0              possible_new_atom_features, possible_new_atom_idxs = self._new_neighbors(\n",
      "   235         1         96.0     96.0      0.0                  neighbor_dict, atom_indices_in_subgraph\n",
      "   236                                                       )\n",
      "   237         8       2650.0    331.2      0.2              for _ in range(1, max_depth):\n",
      "   238         8     137660.0  17207.5     13.0                  child, atom = self._pick_subgraph_expansion_node(\n",
      "   239         8       1604.0    200.5      0.2                      matched_node_path[-1], branch_idx, possible_new_atom_features, possible_new_atom_idxs\n",
      "   240                                                           )\n",
      "   241         7       1289.0    184.1      0.1                  if child is None:\n",
      "   242         1        225.0    225.0      0.0                      return matched_node_path\n",
      "   243         7       2186.0    312.3      0.2                  matched_node_path.append(child)\n",
      "   244         7       1266.0    180.9      0.1                  atom_indices_in_subgraph.append(atom)\n",
      "   245         7       2876.0    410.9      0.3                  node_attention = self.tree_storage[branch_idx][child][4]\n",
      "   246         7       2060.0    294.3      0.2                  cummulative_attention += node_attention\n",
      "   247         7      23076.0   3296.6      2.2                  possible_new_atom_features_toAdd, possible_new_atom_idxs_toAdd = self._new_neighbors_atomic(\n",
      "   248         7        904.0    129.1      0.1                      neighbor_dict, atom_indices_in_subgraph, atom\n",
      "   249                                                           )\n",
      "   250         7       1956.0    279.4      0.2                  possible_new_atom_features.extend(possible_new_atom_features_toAdd)\n",
      "   251         7       1337.0    191.0      0.1                  possible_new_atom_idxs.extend(possible_new_atom_idxs_toAdd)\n",
      "   252         7       1933.0    276.1      0.2                  if cummulative_attention > attention_threshold:\n",
      "   253                                                               return matched_node_path\n",
      "   254         7       1728.0    246.9      0.2                  if node_attention < attention_increment_threshold:\n",
      "   255                                                               return matched_node_path\n",
      "   256                                                       return matched_node_path"
     ]
    }
   ],
   "source": [
    "%lprun -f tree.match_new_atom tree.match_new_atom(0, mol)"
   ]
  },
  {
   "cell_type": "code",
   "execution_count": 19,
   "metadata": {},
   "outputs": [
    {
     "name": "stdout",
     "output_type": "stream",
     "text": [
      "Timer unit: 1e-09 s\n",
      "\n",
      "Total time: 0.00218729 s\n",
      "File: /home/mlehner/serenityff-charge/serenityff/charge/tree/dash_tree.py\n",
      "Function: _init_neighbor_dict at line 149\n",
      "\n",
      "Line #      Hits         Time  Per Hit   % Time  Line Contents\n",
      "==============================================================\n",
      "   149                                               def _init_neighbor_dict(self, mol: Molecule):\n",
      "   150         1       1785.0   1785.0      0.1          neighbor_dict = {}\n",
      "   151        27     134814.0   4993.1      6.2          for atom_idx, atom in enumerate(mol.GetAtoms()):\n",
      "   152        27      98640.0   3653.3      4.5              neighbor_dict[atom_idx] = []\n",
      "   153        52     102900.0   1978.8      4.7              for neighbor in atom.GetNeighbors():\n",
      "   154        52    1664918.0  32017.7     76.1                  af_with_connection_info = AtomFeatures.atom_features_from_molecule_w_connection_info(\n",
      "   155        52      71034.0   1366.0      3.2                      mol, neighbor.GetIdx(), (0, atom_idx)\n",
      "   156                                                           )\n",
      "   157        52     112991.0   2172.9      5.2                  neighbor_dict[atom_idx].append((neighbor.GetIdx(), af_with_connection_info))\n",
      "   158         1        211.0    211.0      0.0          return neighbor_dict"
     ]
    }
   ],
   "source": [
    "%lprun -f tree._init_neighbor_dict tree._init_neighbor_dict(mol)"
   ]
  },
  {
   "cell_type": "code",
   "execution_count": 20,
   "metadata": {},
   "outputs": [
    {
     "name": "stdout",
     "output_type": "stream",
     "text": [
      "Timer unit: 1e-09 s\n",
      "\n",
      "Total time: 6.0301e-05 s\n",
      "File: /home/mlehner/serenityff-charge/serenityff/charge/tree/atom_features.py\n",
      "Function: atom_features_from_molecule_w_connection_info at line 217\n",
      "\n",
      "Line #      Hits         Time  Per Hit   % Time  Line Contents\n",
      "==============================================================\n",
      "   217                                               @staticmethod\n",
      "   218                                               def atom_features_from_molecule_w_connection_info(\n",
      "   219                                                   molecule: Molecule, index: int, connected_to: Tuple[Any] = (-1, -1)\n",
      "   220                                               ) -> int:\n",
      "   221         1        151.0    151.0      0.3          connected_bond_type = (\n",
      "   222         1      31638.0  31638.0     52.5              -1 if connected_to[1] == -1 else get_connection_info_bond_type(molecule, int(index), int(connected_to[1]))\n",
      "   223                                                   )\n",
      "   224         1      28173.0  28173.0     46.7          key = AtomFeatures.atom_features_from_molecule(molecule, index)\n",
      "   225         1        339.0    339.0      0.6          return (key, connected_to[0], connected_bond_type)"
     ]
    }
   ],
   "source": [
    "%lprun -f AtomFeatures.atom_features_from_molecule_w_connection_info AtomFeatures.atom_features_from_molecule_w_connection_info(mol, 1, (0, 0))"
   ]
  },
  {
   "cell_type": "code",
   "execution_count": 21,
   "metadata": {},
   "outputs": [
    {
     "name": "stdout",
     "output_type": "stream",
     "text": [
      "Timer unit: 1e-09 s\n",
      "\n",
      "Total time: 3.3462e-05 s\n",
      "File: /home/mlehner/serenityff-charge/serenityff/charge/tree/atom_features.py\n",
      "Function: get_connection_info_bond_type at line 15\n",
      "\n",
      "Line #      Hits         Time  Per Hit   % Time  Line Contents\n",
      "==============================================================\n",
      "    15                                           def get_connection_info_bond_type(molecule: Molecule, index: int, connected_to: int) -> int:\n",
      "    16         1      23536.0  23536.0     70.3      bond = molecule.GetBondBetweenAtoms(int(index), int(connected_to))\n",
      "    17         1        409.0    409.0      1.2      if bond is None:\n",
      "    18                                                   return -1\n",
      "    19         1       3020.0   3020.0      9.0      elif bond.GetIsConjugated():\n",
      "    20                                                   return 4\n",
      "    21                                               else:\n",
      "    22         1       6497.0   6497.0     19.4          return int(bond.GetBondType())"
     ]
    }
   ],
   "source": [
    "%lprun -f get_connection_info_bond_type get_connection_info_bond_type(mol, 1, 0)\n"
   ]
  },
  {
   "cell_type": "code",
   "execution_count": 22,
   "metadata": {},
   "outputs": [
    {
     "data": {
      "image/png": "[encoded data removed]",
      "text/html": [
       "<table><tr><td colspan=\"2\" style=\"text-align: center;\"><image src=\"data:image/png;base64,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\"></td></tr>\n",
       "<tr><th style=\"text-align: right\">CHEMBL_ID</th><td style=\"text-align: left\">CHEMBL3617543</td></tr>\n",
       "<tr><th style=\"text-align: right\">CONF_ID</th><td style=\"text-align: left\">conf_02</td></tr>\n",
       "<tr><th style=\"text-align: right\">GFN2:TOTAL_ENERGY</th><td style=\"text-align: left\">-33.717933782865</td></tr>\n",
       "<tr><th style=\"text-align: right\">GFN2:ATOMIC_ENERGY</th><td style=\"text-align: left\">-29.782293930679</td></tr>\n",
       "<tr><th style=\"text-align: right\">GFN2:FORMATION_ENERGY</th><td style=\"text-align: left\">-3.9356398521860037</td></tr>\n",
       "<tr><th style=\"text-align: right\">GFN2:TOTAL_ENTHALPY</th><td style=\"text-align: left\">-33.603640335687</td></tr>\n",
       "<tr><th style=\"text-align: right\">GFN2:TOTAL_FREE_ENERGY</th><td style=\"text-align: left\">-33.650001975444</td></tr>\n",
       "<tr><th style=\"text-align: right\">GFN2:DIPOLE</th><td style=\"text-align: left\">3.777|-4.420|-0.262|5.820</td></tr>\n",
       "<tr><th style=\"text-align: right\">GFN2:QUADRUPOLE</th><td style=\"text-align: left\">-0.37|4.515|-2.158|3.418|2.971|2.528</td></tr>\n",
       "<tr><th style=\"text-align: right\">GFN2:ROT_CONSTANTS</th><td style=\"text-align: left\">0.06050939|0.02472955|0.01795962</td></tr>\n",
       "<tr><td colspan=\"2\" style=\"text-align: center\">Property list truncated.<br />Increase IPythonConsole.ipython_maxProperties (or set it to -1) to see more properties.</td></tr></table>"
      ],
      "text/plain": [
       "<rdkit.Chem.rdchem.Mol at 0x7f5ec2589e40>"
      ]
     },
     "execution_count": 22,
     "metadata": {},
     "output_type": "execute_result"
    }
   ],
   "source": [
    "test_mol"
   ]
  },
  {
   "cell_type": "code",
   "execution_count": 23,
   "metadata": {},
   "outputs": [
    {
     "data": {
      "text/plain": [
       "array([[0. , 2. , 0. , 0. , 0. , 0. , 0. , 0. , 0. , 0. , 0. , 0. , 0. ,\n",
       "        0. , 0. , 0. ],\n",
       "       [2. , 0. , 1. , 1. , 0. , 0. , 0. , 0. , 0. , 0. , 0. , 0. , 0. ,\n",
       "        0. , 0. , 0. ],\n",
       "       [0. , 1. , 0. , 0. , 0. , 0. , 0. , 0. , 0. , 0. , 0. , 1. , 0. ,\n",
       "        0. , 0. , 0. ],\n",
       "       [0. , 1. , 0. , 0. , 1.5, 0. , 0. , 0. , 0. , 1.5, 0. , 0. , 0. ,\n",
       "        0. , 0. , 0. ],\n",
       "       [0. , 0. , 0. , 1.5, 0. , 1.5, 0. , 0. , 0. , 0. , 0. , 0. , 1. ,\n",
       "        0. , 0. , 0. ],\n",
       "       [0. , 0. , 0. , 0. , 1.5, 0. , 1.5, 0. , 0. , 0. , 0. , 0. , 0. ,\n",
       "        1. , 0. , 0. ],\n",
       "       [0. , 0. , 0. , 0. , 0. , 1.5, 0. , 1.5, 0. , 0. , 0. , 0. , 0. ,\n",
       "        0. , 1. , 0. ],\n",
       "       [0. , 0. , 0. , 0. , 0. , 0. , 1.5, 0. , 2. , 1.5, 0. , 0. , 0. ,\n",
       "        0. , 0. , 0. ],\n",
       "       [0. , 0. , 0. , 0. , 0. , 0. , 0. , 2. , 0. , 0. , 0. , 0. , 0. ,\n",
       "        0. , 0. , 0. ],\n",
       "       [0. , 0. , 0. , 1.5, 0. , 0. , 0. , 1.5, 0. , 0. , 1. , 0. , 0. ,\n",
       "        0. , 0. , 0. ],\n",
       "       [0. , 0. , 0. , 0. , 0. , 0. , 0. , 0. , 0. , 1. , 0. , 0. , 0. ,\n",
       "        0. , 0. , 1. ],\n",
       "       [0. , 0. , 1. , 0. , 0. , 0. , 0. , 0. , 0. , 0. , 0. , 0. , 0. ,\n",
       "        0. , 0. , 0. ],\n",
       "       [0. , 0. , 0. , 0. , 1. , 0. , 0. , 0. , 0. , 0. , 0. , 0. , 0. ,\n",
       "        0. , 0. , 0. ],\n",
       "       [0. , 0. , 0. , 0. , 0. , 1. , 0. , 0. , 0. , 0. , 0. , 0. , 0. ,\n",
       "        0. , 0. , 0. ],\n",
       "       [0. , 0. , 0. , 0. , 0. , 0. , 1. , 0. , 0. , 0. , 0. , 0. , 0. ,\n",
       "        0. , 0. , 0. ],\n",
       "       [0. , 0. , 0. , 0. , 0. , 0. , 0. , 0. , 0. , 0. , 1. , 0. , 0. ,\n",
       "        0. , 0. , 0. ]])"
      ]
     },
     "execution_count": 23,
     "metadata": {},
     "output_type": "execute_result"
    }
   ],
   "source": [
    "Chem.rdmolops.GetAdjacencyMatrix(test_mol, useBO=True)"
   ]
  }
 ],
 "metadata": {
  "kernelspec": {
   "display_name": "sff_19",
   "language": "python",
   "name": "python3"
  },
  "language_info": {
   "codemirror_mode": {
    "name": "ipython",
    "version": 3
   },
   "file_extension": ".py",
   "mimetype": "text/x-python",
   "name": "python",
   "nbconvert_exporter": "python",
   "pygments_lexer": "ipython3",
   "version": "3.10.11"
  },
  "orig_nbformat": 4
 },
 "nbformat": 4,
 "nbformat_minor": 2
}
