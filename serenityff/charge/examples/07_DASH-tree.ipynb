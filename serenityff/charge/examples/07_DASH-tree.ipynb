{
 "cells": [
  {
   "cell_type": "code",
   "execution_count": 1,
   "metadata": {},
   "outputs": [],
   "source": [
    "from rdkit import Chem\n",
    "from serenityff.charge.tree.dash_tree import DASHTree"
   ]
  },
  {
   "cell_type": "code",
   "execution_count": 2,
   "metadata": {},
   "outputs": [
    {
     "name": "stdout",
     "output_type": "stream",
     "text": [
      "Loading DASH tree data\n"
     ]
    }
   ],
   "source": [
    "tree = DASHTree(num_processes=1)\n",
    "# n=1 19.5\n",
    "# n=2 30.6\n",
    "# n=3 31.6"
   ]
  },
  {
   "cell_type": "code",
   "execution_count": 3,
   "metadata": {},
   "outputs": [],
   "source": [
    "mol = Chem.MolFromSmiles(\"c1ccccc1\")\n",
    "mol = Chem.AddHs(mol)"
   ]
  },
  {
   "cell_type": "code",
   "execution_count": 4,
   "metadata": {},
   "outputs": [
    {
     "data": {
      "text/plain": [
       "{'charges': [-0.14482538717053928,\n",
       "  -0.14482538717053928,\n",
       "  -0.14482538717053928,\n",
       "  -0.14482538717053928,\n",
       "  -0.14482538717053928,\n",
       "  -0.14482538717053928,\n",
       "  0.14482538717053928,\n",
       "  0.14482538717053928,\n",
       "  0.14482538717053928,\n",
       "  0.14482538717053928,\n",
       "  0.14482538717053928,\n",
       "  0.14482538717053928],\n",
       " 'std': [0.03472900390625,\n",
       "  0.03472900390625,\n",
       "  0.03472900390625,\n",
       "  0.03472900390625,\n",
       "  0.03472900390625,\n",
       "  0.03472900390625,\n",
       "  0.00926971435546875,\n",
       "  0.00926971435546875,\n",
       "  0.00926971435546875,\n",
       "  0.00926971435546875,\n",
       "  0.00926971435546875,\n",
       "  0.00926971435546875],\n",
       " 'match_depth': [6, 6, 6, 6, 6, 6, 7, 7, 7, 7, 7, 7]}"
      ]
     },
     "execution_count": 4,
     "metadata": {},
     "output_type": "execute_result"
    }
   ],
   "source": [
    "tree.get_molecules_partial_charges(mol)"
   ]
  },
  {
   "cell_type": "code",
   "execution_count": 5,
   "metadata": {},
   "outputs": [
    {
     "name": "stdout",
     "output_type": "stream",
     "text": [
      "Timer unit: 1e-09 s\n",
      "\n",
      "Total time: 0.0213469 s\n",
      "File: /home/mlehner/serenityff-charge/serenityff/charge/tree/dash_tree.py\n",
      "Function: get_molecules_partial_charges at line 209\n",
      "\n",
      "Line #      Hits         Time  Per Hit   % Time  Line Contents\n",
      "==============================================================\n",
      "   209                                               def get_molecules_partial_charges(\n",
      "   210                                                   self,\n",
      "   211                                                   mol: Molecule,\n",
      "   212                                                   norm_method: str = \"std_weighted\",\n",
      "   213                                                   max_depth: int = 16,\n",
      "   214                                                   attention_threshold: float = 10,\n",
      "   215                                                   attention_incremet_threshold: float = 0,\n",
      "   216                                                   verbose: bool = False,\n",
      "   217                                                   default_std_value: float = 0.1,\n",
      "   218                                                   chg_key: str = \"result\",\n",
      "   219                                                   chg_std_key: str = \"stdDeviation\",\n",
      "   220                                               ):\n",
      "   221                                                   \"\"\"\n",
      "   222                                                   Get the partial charges of all atoms in a molecule by matching them to DASH tree subgraphs and\n",
      "   223                                                   normalizing the charges of the matched atoms\n",
      "   224                                           \n",
      "   225                                                   Parameters\n",
      "   226                                                   ----------\n",
      "   227                                                   mol : Molecule\n",
      "   228                                                       RDKit molecule object for which the partial charges should be calculated\n",
      "   229                                                   norm_method : str\n",
      "   230                                                       Method to normalize the partial charges, one of 'none', 'symmetric', 'std_weighted'\n",
      "   231                                                   max_depth : int\n",
      "   232                                                       Maximum depth of the tree to traverse\n",
      "   233                                                   attention_threshold : float\n",
      "   234                                                       Maximum cumulative attention value to traverse the tree\n",
      "   235                                                   attention_incremet_threshold : float\n",
      "   236                                                       Minimum attention increment to stop the traversal\n",
      "   237                                                   verbose : bool\n",
      "   238                                                       If True, print status messages\n",
      "   239                                                   default_std_value : float\n",
      "   240                                                       Default value to use for the standard deviation if it is 0\n",
      "   241                                                   chg_key : str\n",
      "   242                                                       Key of the partial charge in the DASH tree data\n",
      "   243                                                   chg_std_key : str\n",
      "   244                                                       Key of the partial charge standard deviation in the DASH tree data\n",
      "   245                                           \n",
      "   246                                                   Returns\n",
      "   247                                                   -------\n",
      "   248                                                   dict\n",
      "   249                                                       Dictionary containing the partial charges, standard deviations and match depths of all atoms\n",
      "   250                                                   \"\"\"\n",
      "   251         1        930.0    930.0      0.0          return_list = []\n",
      "   252         1        326.0    326.0      0.0          tree_raw_charges = []\n",
      "   253         1        190.0    190.0      0.0          tree_charge_std = []\n",
      "   254         1        141.0    141.0      0.0          tree_match_depth = []\n",
      "   255        12     317306.0  26442.2      1.5          for atom in mol.GetAtoms():\n",
      "   256        12      33520.0   2793.3      0.2              atom_idx = atom.GetIdx()\n",
      "   257        12       2491.0    207.6      0.0              try:\n",
      "   258        12   14627068.0 1218922.3     68.5                  node_path = self.match_new_atom(\n",
      "   259        12       2233.0    186.1      0.0                      atom_idx,\n",
      "   260        12       2102.0    175.2      0.0                      mol,\n",
      "   261        12       1497.0    124.8      0.0                      max_depth=max_depth,\n",
      "   262        12       2097.0    174.8      0.0                      attention_threshold=attention_threshold,\n",
      "   263        12       1533.0    127.8      0.0                      attention_incremet_threshold=attention_incremet_threshold,\n",
      "   264                                                           )\n",
      "   265        12    5497521.0 458126.8     25.8                  node_properties = self.get_atom_properties(node_path)\n",
      "   266        12     551870.0  45989.2      2.6                  tree_raw_charges.append(float(node_properties[chg_key]))\n",
      "   267        12     141839.0  11819.9      0.7                  tmp_tree_std = float(node_properties[chg_std_key])\n",
      "   268        12      22678.0   1889.8      0.1                  tree_charge_std.append(tmp_tree_std if tmp_tree_std > 0 else default_std_value)\n",
      "   269        12      20778.0   1731.5      0.1                  tree_match_depth.append(len(node_path) - 1)\n",
      "   270                                                       except Exception as e:\n",
      "   271                                                           print(e)\n",
      "   272                                                           tree_raw_charges.append(np.NaN)\n",
      "   273                                                           tree_charge_std.append(np.NaN)\n",
      "   274                                                           tree_match_depth.append(-1)\n",
      "   275                                           \n",
      "   276         1        454.0    454.0      0.0          if verbose:\n",
      "   277                                                       print(\"Tree raw charges: {}\".format(tree_raw_charges))\n",
      "   278         1        957.0    957.0      0.0          if norm_method == \"none\":\n",
      "   279                                                       return_list = tree_raw_charges\n",
      "   280         1        514.0    514.0      0.0          elif norm_method == \"symmetric\":\n",
      "   281                                                       tot_charge_tree = sum(tree_raw_charges)\n",
      "   282                                                       tot_charge_mol = sum([x.GetFormalCharge() for x in mol.GetAtoms()])\n",
      "   283                                                       return_list = [x + (tot_charge_mol - tot_charge_tree) / len(tree_raw_charges) for x in tree_raw_charges]\n",
      "   284         1        314.0    314.0      0.0          elif norm_method == \"std_weighted\":\n",
      "   285         1      19323.0  19323.0      0.1              tot_charge_tree = sum(tree_raw_charges)\n",
      "   286         1      85318.0  85318.0      0.4              tot_charge_mol = sum([x.GetFormalCharge() for x in mol.GetAtoms()])\n",
      "   287         1       1505.0   1505.0      0.0              tot_std_tree = sum(tree_charge_std)\n",
      "   288         1       9697.0   9697.0      0.0              return_list = [\n",
      "   289                                                           x + (tot_charge_mol - tot_charge_tree) * (y / tot_std_tree)\n",
      "   290         1        900.0    900.0      0.0                  for x, y in zip(tree_raw_charges, tree_charge_std)\n",
      "   291                                                       ]\n",
      "   292                                                   else:\n",
      "   293                                                       raise ValueError(\"norm_method must be one of 'none', 'symmetric', 'std_weighted'\")\n",
      "   294         1        175.0    175.0      0.0          if verbose:\n",
      "   295                                                       print(\"Tree normalized charges: {}\".format(return_list))\n",
      "   296         1       1645.0   1645.0      0.0          return {\"charges\": return_list, \"std\": tree_charge_std, \"match_depth\": tree_match_depth}"
     ]
    }
   ],
   "source": [
    "%load_ext line_profiler\n",
    "%lprun -f tree.get_molecules_partial_charges tree.get_molecules_partial_charges(mol)"
   ]
  },
  {
   "cell_type": "code",
   "execution_count": 6,
   "metadata": {},
   "outputs": [
    {
     "name": "stdout",
     "output_type": "stream",
     "text": [
      "Timer unit: 1e-09 s\n",
      "\n",
      "Total time: 0.00209893 s\n",
      "File: /home/mlehner/serenityff-charge/serenityff/charge/tree/dash_tree.py\n",
      "Function: match_new_atom at line 120\n",
      "\n",
      "Line #      Hits         Time  Per Hit   % Time  Line Contents\n",
      "==============================================================\n",
      "   120                                               def match_new_atom(\n",
      "   121                                                   self,\n",
      "   122                                                   atom: int,\n",
      "   123                                                   mol: Molecule,\n",
      "   124                                                   max_depth: int = 16,\n",
      "   125                                                   attention_threshold: float = 10,\n",
      "   126                                                   attention_incremet_threshold: float = 0,\n",
      "   127                                               ):\n",
      "   128                                                   \"\"\"\n",
      "   129                                                   Match a atom in a molecule to a DASH tree subgraph. The matching is done by starting at the atom and\n",
      "   130                                                   traversing the tree until the max_depth is reached or the attention_threshold is exceeded.\n",
      "   131                                                   If the attention_incremet_threshold is exceeded, the matching is stopped and the current path is returned.\n",
      "   132                                           \n",
      "   133                                                   Parameters\n",
      "   134                                                   ----------\n",
      "   135                                                   atom : int\n",
      "   136                                                       Atom index in the molecule of the atom to match\n",
      "   137                                                   mol : Molecule\n",
      "   138                                                       RDKit molecule object in which the atom is located\n",
      "   139                                                   max_depth : int\n",
      "   140                                                       Maximum depth of the tree to traverse\n",
      "   141                                                   attention_threshold : float\n",
      "   142                                                       Maximum cumulative attention value to traverse the tree\n",
      "   143                                                   attention_incremet_threshold : float\n",
      "   144                                                       Minimum attention increment to stop the traversal\n",
      "   145                                                   \"\"\"\n",
      "   146         1     224848.0 224848.0     10.7          init_atom_feature = AtomFeatures.atom_features_from_molecule_w_connection_info(mol, atom)\n",
      "   147         1        465.0    465.0      0.0          branch_idx = init_atom_feature[0]  # branch_idx is the key of the AtomFeature without connection info\n",
      "   148         1        298.0    298.0      0.0          matched_node_path = [branch_idx, 0]\n",
      "   149         1       2573.0   2573.0      0.1          if self.tree_storage[branch_idx] is None:\n",
      "   150                                                       try:\n",
      "   151                                                           self.load_tree_and_data(\n",
      "   152                                                               os.path.join(self.tree_folder_path, f\"{branch_idx}.gz\"),\n",
      "   153                                                               os.path.join(self.tree_folder_path, f\"{branch_idx}.h5\"),\n",
      "   154                                                           )\n",
      "   155                                                       except Exception as e:\n",
      "   156                                                           print(f\"Error loading tree {branch_idx}: {e}\")\n",
      "   157         1        160.0    160.0      0.0          cummulative_attention = 0\n",
      "   158                                                   # Special case for H -> only connect to heavy atom and ignore H\n",
      "   159         1       5084.0   5084.0      0.2          if mol.GetAtomWithIdx(atom).GetSymbol() == \"H\":\n",
      "   160                                                       h_connected_heavy_atom = mol.GetAtomWithIdx(atom).GetNeighbors()[0].GetIdx()\n",
      "   161                                                       init_atom_feature = AtomFeatures.atom_features_from_molecule_w_connection_info(mol, h_connected_heavy_atom)\n",
      "   162                                                       child, _ = self._pick_subgraph_expansion_node(0, branch_idx, [init_atom_feature], [h_connected_heavy_atom])\n",
      "   163                                                       matched_node_path.append(child)\n",
      "   164                                                       atom_indices_in_subgraph = [h_connected_heavy_atom]  # skip Hs as they are only treated implicitly\n",
      "   165                                                       max_depth -= 1  # reduce max_depth by 1 as we already added one node\n",
      "   166                                                   else:\n",
      "   167         1        349.0    349.0      0.0              atom_indices_in_subgraph = [atom]\n",
      "   168         1        438.0    438.0      0.0          if max_depth <= 1:\n",
      "   169                                                       return matched_node_path\n",
      "   170                                                   else:\n",
      "   171         6       3465.0    577.5      0.2              for _ in range(1, max_depth):\n",
      "   172         6    1582706.0 263784.3     75.4                  possible_new_atom_features, possible_new_atom_idxs = get_possible_atom_features(\n",
      "   173         6        995.0    165.8      0.0                      mol, atom_indices_in_subgraph\n",
      "   174                                                           )\n",
      "   175         6     230498.0  38416.3     11.0                  child, atom = self._pick_subgraph_expansion_node(\n",
      "   176         6       3006.0    501.0      0.1                      matched_node_path[-1], branch_idx, possible_new_atom_features, possible_new_atom_idxs\n",
      "   177                                                           )\n",
      "   178         5       2072.0    414.4      0.1                  if child is None:\n",
      "   179         1        215.0    215.0      0.0                      return matched_node_path\n",
      "   180         5       3144.0    628.8      0.1                  matched_node_path.append(child)\n",
      "   181         5       2077.0    415.4      0.1                  atom_indices_in_subgraph.append(atom)\n",
      "   182         5      27062.0   5412.4      1.3                  node_attention = self.tree_storage[branch_idx][child][4]\n",
      "   183         5       3674.0    734.8      0.2                  cummulative_attention += node_attention\n",
      "   184         5       3770.0    754.0      0.2                  if cummulative_attention > attention_threshold:\n",
      "   185                                                               return matched_node_path\n",
      "   186         5       2032.0    406.4      0.1                  if node_attention < attention_incremet_threshold:\n",
      "   187                                                               return matched_node_path\n",
      "   188                                                       return matched_node_path"
     ]
    }
   ],
   "source": [
    "%lprun -f tree.match_new_atom tree.match_new_atom(0, mol)"
   ]
  },
  {
   "cell_type": "code",
   "execution_count": null,
   "metadata": {},
   "outputs": [],
   "source": []
  }
 ],
 "metadata": {
  "kernelspec": {
   "display_name": "sff_19",
   "language": "python",
   "name": "python3"
  },
  "language_info": {
   "codemirror_mode": {
    "name": "ipython",
    "version": 3
   },
   "file_extension": ".py",
   "mimetype": "text/x-python",
   "name": "python",
   "nbconvert_exporter": "python",
   "pygments_lexer": "ipython3",
   "version": "3.10.11"
  },
  "orig_nbformat": 4
 },
 "nbformat": 4,
 "nbformat_minor": 2
}
