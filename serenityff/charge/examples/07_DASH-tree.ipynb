{
 "cells": [
  {
   "cell_type": "code",
   "execution_count": 21,
   "metadata": {},
   "outputs": [
    {
     "name": "stdout",
     "output_type": "stream",
     "text": [
      "The line_profiler extension is already loaded. To reload it, use:\n",
      "  %reload_ext line_profiler\n"
     ]
    }
   ],
   "source": [
    "from rdkit import Chem\n",
    "from tqdm import tqdm\n",
    "from serenityff.charge.tree.dash_tree import DASHTree\n",
    "from serenityff.charge.tree.atom_features import AtomFeatures, get_connection_info_bond_type\n",
    "%load_ext line_profiler"
   ]
  },
  {
   "cell_type": "code",
   "execution_count": 2,
   "metadata": {},
   "outputs": [
    {
     "name": "stdout",
     "output_type": "stream",
     "text": [
      "Loading DASH tree data\n"
     ]
    }
   ],
   "source": [
    "tree = DASHTree(num_processes=1)\n",
    "# n=1 19.5\n",
    "# n=2 30.6\n",
    "# n=3 31.6"
   ]
  },
  {
   "cell_type": "code",
   "execution_count": 3,
   "metadata": {},
   "outputs": [],
   "source": [
    "mol_sup = Chem.SDMolSupplier(\"../data/example.sdf\", removeHs=False)"
   ]
  },
  {
   "cell_type": "code",
   "execution_count": 4,
   "metadata": {},
   "outputs": [
    {
     "data": {
      "text/plain": [
       "[34, 0, 167331, 167332, 167333, 169504]"
      ]
     },
     "execution_count": 4,
     "metadata": {},
     "output_type": "execute_result"
    }
   ],
   "source": [
    "tree.match_new_atom(0, mol_sup[0])"
   ]
  },
  {
   "cell_type": "code",
   "execution_count": 5,
   "metadata": {},
   "outputs": [
    {
     "data": {
      "text/plain": [
       "[-0.743588904134849,\n",
       " 1.1309775445707058,\n",
       " -0.6724881843055797,\n",
       " 0.2940594235400035,\n",
       " -0.23680232625932834,\n",
       " -0.16523398145988805,\n",
       " -0.23680232625932834,\n",
       " 0.33431095702447067,\n",
       " -0.6338138301045644,\n",
       " -0.004846247250981643,\n",
       " -0.48499433858143876,\n",
       " 0.4956579075462079,\n",
       " 0.1489313589438346,\n",
       " 0.1489313589438346,\n",
       " 0.1489313589438346,\n",
       " 0.47677022884306663]"
      ]
     },
     "execution_count": 5,
     "metadata": {},
     "output_type": "execute_result"
    }
   ],
   "source": [
    "tree.get_molecules_partial_charges(mol_sup[4])[\"charges\"]"
   ]
  },
  {
   "cell_type": "code",
   "execution_count": 6,
   "metadata": {},
   "outputs": [
    {
     "name": "stderr",
     "output_type": "stream",
     "text": [
      " 60%|██████    | 12/20 [00:00<00:00, 30.51it/s]"
     ]
    },
    {
     "name": "stderr",
     "output_type": "stream",
     "text": [
      "100%|██████████| 20/20 [00:00<00:00, 26.11it/s]\n"
     ]
    }
   ],
   "source": [
    "for mol in tqdm(mol_sup, total=len(mol_sup)):\n",
    "    tree.get_molecules_partial_charges(mol)"
   ]
  },
  {
   "cell_type": "code",
   "execution_count": 7,
   "metadata": {},
   "outputs": [
    {
     "name": "stdout",
     "output_type": "stream",
     "text": [
      "374 ms ± 103 ms per loop (mean ± std. dev. of 7 runs, 1 loop each)\n"
     ]
    }
   ],
   "source": [
    "%timeit [tree.get_molecules_partial_charges(mol) for mol in mol_sup]"
   ]
  },
  {
   "cell_type": "code",
   "execution_count": 8,
   "metadata": {},
   "outputs": [],
   "source": [
    "# timing baseline (04.09.2023)                                    991 ms ± 67.2 \n",
    "# timing with AtomFeature changed to tuples                       874 ms ± 210 ms\n",
    "# timing with precalculated atom features                         515 ms ± 184 ms\n",
    "# timing with stored neighbor list                                359 ms ± 55.3 ms"
   ]
  },
  {
   "cell_type": "code",
   "execution_count": 9,
   "metadata": {},
   "outputs": [
    {
     "data": {
      "text/plain": [
       "{'charges': [-0.743588904134849,\n",
       "  1.1309775445707058,\n",
       "  -0.6724881843055797,\n",
       "  0.2940594235400035,\n",
       "  -0.23680232625932834,\n",
       "  -0.16523398145988805,\n",
       "  -0.23680232625932834,\n",
       "  0.33431095702447067,\n",
       "  -0.6338138301045644,\n",
       "  -0.004846247250981643,\n",
       "  -0.48499433858143876,\n",
       "  0.4956579075462079,\n",
       "  0.1489313589438346,\n",
       "  0.1489313589438346,\n",
       "  0.1489313589438346,\n",
       "  0.47677022884306663],\n",
       " 'std': [0.01751708984375,\n",
       "  0.0034885406494140625,\n",
       "  0.0262298583984375,\n",
       "  0.09539794921875,\n",
       "  0.083984375,\n",
       "  0.043304443359375,\n",
       "  0.083984375,\n",
       "  0.046722412109375,\n",
       "  0.10308837890625,\n",
       "  0.0889892578125,\n",
       "  0.022064208984375,\n",
       "  0.0082550048828125,\n",
       "  0.01739501953125,\n",
       "  0.01739501953125,\n",
       "  0.01739501953125,\n",
       "  0.0116729736328125],\n",
       " 'match_depth': [4, 4, 7, 4, 3, 3, 3, 4, 2, 4, 2, 8, 4, 4, 4, 3]}"
      ]
     },
     "execution_count": 9,
     "metadata": {},
     "output_type": "execute_result"
    }
   ],
   "source": [
    "tree.get_molecules_partial_charges(mol_sup[4])"
   ]
  },
  {
   "cell_type": "code",
   "execution_count": 10,
   "metadata": {},
   "outputs": [
    {
     "name": "stdout",
     "output_type": "stream",
     "text": [
      "Average number of atoms per molecule: 21.55 (min: 7, max: 31)\n"
     ]
    }
   ],
   "source": [
    "num_atoms_per_mol = [mol.GetNumAtoms() for mol in mol_sup]\n",
    "print(f\"Average number of atoms per molecule: {sum(num_atoms_per_mol)/len(num_atoms_per_mol)} (min: {min(num_atoms_per_mol)}, max: {max(num_atoms_per_mol)})\")"
   ]
  },
  {
   "cell_type": "code",
   "execution_count": 11,
   "metadata": {},
   "outputs": [
    {
     "data": {
      "text/html": [
       "<div>\n",
       "<style scoped>\n",
       "    .dataframe tbody tr th:only-of-type {\n",
       "        vertical-align: middle;\n",
       "    }\n",
       "\n",
       "    .dataframe tbody tr th {\n",
       "        vertical-align: top;\n",
       "    }\n",
       "\n",
       "    .dataframe thead th {\n",
       "        text-align: right;\n",
       "    }\n",
       "</style>\n",
       "<table border=\"1\" class=\"dataframe\">\n",
       "  <thead>\n",
       "    <tr style=\"text-align: right;\">\n",
       "      <th></th>\n",
       "      <th>level</th>\n",
       "      <th>atom</th>\n",
       "      <th>con</th>\n",
       "      <th>conType</th>\n",
       "      <th>result</th>\n",
       "      <th>stdDeviation</th>\n",
       "      <th>attention</th>\n",
       "      <th>count</th>\n",
       "    </tr>\n",
       "  </thead>\n",
       "  <tbody>\n",
       "    <tr>\n",
       "      <th>0</th>\n",
       "      <td>1</td>\n",
       "      <td>1</td>\n",
       "      <td>-1</td>\n",
       "      <td>-1</td>\n",
       "      <td>0.625488</td>\n",
       "      <td>0.012901</td>\n",
       "      <td>0.596191</td>\n",
       "      <td>10</td>\n",
       "    </tr>\n",
       "    <tr>\n",
       "      <th>1</th>\n",
       "      <td>2</td>\n",
       "      <td>70</td>\n",
       "      <td>0</td>\n",
       "      <td>4</td>\n",
       "      <td>0.625488</td>\n",
       "      <td>0.012901</td>\n",
       "      <td>0.379883</td>\n",
       "      <td>10</td>\n",
       "    </tr>\n",
       "    <tr>\n",
       "      <th>2</th>\n",
       "      <td>3</td>\n",
       "      <td>65</td>\n",
       "      <td>0</td>\n",
       "      <td>4</td>\n",
       "      <td>0.625488</td>\n",
       "      <td>0.012901</td>\n",
       "      <td>0.170898</td>\n",
       "      <td>10</td>\n",
       "    </tr>\n",
       "    <tr>\n",
       "      <th>3</th>\n",
       "      <td>4</td>\n",
       "      <td>70</td>\n",
       "      <td>1</td>\n",
       "      <td>4</td>\n",
       "      <td>0.625488</td>\n",
       "      <td>0.012901</td>\n",
       "      <td>0.003141</td>\n",
       "      <td>10</td>\n",
       "    </tr>\n",
       "    <tr>\n",
       "      <th>4</th>\n",
       "      <td>5</td>\n",
       "      <td>55</td>\n",
       "      <td>2</td>\n",
       "      <td>4</td>\n",
       "      <td>0.625488</td>\n",
       "      <td>0.012901</td>\n",
       "      <td>0.002874</td>\n",
       "      <td>10</td>\n",
       "    </tr>\n",
       "    <tr>\n",
       "      <th>5</th>\n",
       "      <td>6</td>\n",
       "      <td>33</td>\n",
       "      <td>1</td>\n",
       "      <td>1</td>\n",
       "      <td>0.625488</td>\n",
       "      <td>0.012901</td>\n",
       "      <td>0.002420</td>\n",
       "      <td>10</td>\n",
       "    </tr>\n",
       "    <tr>\n",
       "      <th>6</th>\n",
       "      <td>7</td>\n",
       "      <td>1</td>\n",
       "      <td>2</td>\n",
       "      <td>4</td>\n",
       "      <td>0.625488</td>\n",
       "      <td>0.012901</td>\n",
       "      <td>0.002121</td>\n",
       "      <td>10</td>\n",
       "    </tr>\n",
       "    <tr>\n",
       "      <th>7</th>\n",
       "      <td>8</td>\n",
       "      <td>34</td>\n",
       "      <td>5</td>\n",
       "      <td>1</td>\n",
       "      <td>0.625488</td>\n",
       "      <td>0.012901</td>\n",
       "      <td>0.002106</td>\n",
       "      <td>10</td>\n",
       "    </tr>\n",
       "    <tr>\n",
       "      <th>8</th>\n",
       "      <td>9</td>\n",
       "      <td>33</td>\n",
       "      <td>3</td>\n",
       "      <td>1</td>\n",
       "      <td>0.625488</td>\n",
       "      <td>0.012901</td>\n",
       "      <td>0.002008</td>\n",
       "      <td>10</td>\n",
       "    </tr>\n",
       "    <tr>\n",
       "      <th>9</th>\n",
       "      <td>10</td>\n",
       "      <td>34</td>\n",
       "      <td>8</td>\n",
       "      <td>1</td>\n",
       "      <td>0.625488</td>\n",
       "      <td>0.012901</td>\n",
       "      <td>0.001986</td>\n",
       "      <td>10</td>\n",
       "    </tr>\n",
       "    <tr>\n",
       "      <th>10</th>\n",
       "      <td>11</td>\n",
       "      <td>31</td>\n",
       "      <td>6</td>\n",
       "      <td>1</td>\n",
       "      <td>0.625488</td>\n",
       "      <td>0.012901</td>\n",
       "      <td>0.001915</td>\n",
       "      <td>10</td>\n",
       "    </tr>\n",
       "    <tr>\n",
       "      <th>11</th>\n",
       "      <td>12</td>\n",
       "      <td>34</td>\n",
       "      <td>10</td>\n",
       "      <td>1</td>\n",
       "      <td>0.625488</td>\n",
       "      <td>0.012901</td>\n",
       "      <td>0.002031</td>\n",
       "      <td>10</td>\n",
       "    </tr>\n",
       "    <tr>\n",
       "      <th>12</th>\n",
       "      <td>13</td>\n",
       "      <td>34</td>\n",
       "      <td>10</td>\n",
       "      <td>1</td>\n",
       "      <td>0.625488</td>\n",
       "      <td>0.012901</td>\n",
       "      <td>0.001987</td>\n",
       "      <td>10</td>\n",
       "    </tr>\n",
       "    <tr>\n",
       "      <th>13</th>\n",
       "      <td>14</td>\n",
       "      <td>34</td>\n",
       "      <td>10</td>\n",
       "      <td>1</td>\n",
       "      <td>0.625488</td>\n",
       "      <td>0.012901</td>\n",
       "      <td>0.001982</td>\n",
       "      <td>10</td>\n",
       "    </tr>\n",
       "    <tr>\n",
       "      <th>14</th>\n",
       "      <td>15</td>\n",
       "      <td>27</td>\n",
       "      <td>4</td>\n",
       "      <td>4</td>\n",
       "      <td>0.627441</td>\n",
       "      <td>0.016068</td>\n",
       "      <td>0.001898</td>\n",
       "      <td>6</td>\n",
       "    </tr>\n",
       "    <tr>\n",
       "      <th>15</th>\n",
       "      <td>15</td>\n",
       "      <td>26</td>\n",
       "      <td>4</td>\n",
       "      <td>4</td>\n",
       "      <td>0.622559</td>\n",
       "      <td>0.003689</td>\n",
       "      <td>0.001894</td>\n",
       "      <td>4</td>\n",
       "    </tr>\n",
       "  </tbody>\n",
       "</table>\n",
       "</div>"
      ],
      "text/plain": [
       "    level  atom  con  conType    result  stdDeviation  attention  count\n",
       "0       1     1   -1       -1  0.625488      0.012901   0.596191     10\n",
       "1       2    70    0        4  0.625488      0.012901   0.379883     10\n",
       "2       3    65    0        4  0.625488      0.012901   0.170898     10\n",
       "3       4    70    1        4  0.625488      0.012901   0.003141     10\n",
       "4       5    55    2        4  0.625488      0.012901   0.002874     10\n",
       "5       6    33    1        1  0.625488      0.012901   0.002420     10\n",
       "6       7     1    2        4  0.625488      0.012901   0.002121     10\n",
       "7       8    34    5        1  0.625488      0.012901   0.002106     10\n",
       "8       9    33    3        1  0.625488      0.012901   0.002008     10\n",
       "9      10    34    8        1  0.625488      0.012901   0.001986     10\n",
       "10     11    31    6        1  0.625488      0.012901   0.001915     10\n",
       "11     12    34   10        1  0.625488      0.012901   0.002031     10\n",
       "12     13    34   10        1  0.625488      0.012901   0.001987     10\n",
       "13     14    34   10        1  0.625488      0.012901   0.001982     10\n",
       "14     15    27    4        4  0.627441      0.016068   0.001898      6\n",
       "15     15    26    4        4  0.622559      0.003689   0.001894      4"
      ]
     },
     "execution_count": 11,
     "metadata": {},
     "output_type": "execute_result"
    }
   ],
   "source": [
    "tree.data_storage[1]"
   ]
  },
  {
   "cell_type": "code",
   "execution_count": 12,
   "metadata": {},
   "outputs": [
    {
     "data": {
      "text/plain": [
       "[(0, 1, -1, -1, 0.5960462093353271, [0, 1]),\n",
       " (1, 70, 0, 4, 0.379802405834198, [2]),\n",
       " (2, 65, 0, 4, 0.17085446417331696, [3]),\n",
       " (3, 70, 1, 4, 0.003141123801469803, [4]),\n",
       " (4, 55, 2, 4, 0.002873738994821906, [5]),\n",
       " (5, 33, 1, 1, 0.002419679891318083, [6]),\n",
       " (6, 1, 2, 4, 0.00212140497751534, [7]),\n",
       " (7, 34, 5, 1, 0.0021055617835372686, [8]),\n",
       " (8, 33, 3, 1, 0.002008170122280717, [9]),\n",
       " (9, 34, 8, 1, 0.0019848933443427086, [10]),\n",
       " (10, 31, 6, 1, 0.0019148633582517505, [11]),\n",
       " (11, 34, 10, 1, 0.002032126300036907, [12]),\n",
       " (12, 34, 10, 1, 0.00198705168440938, [13]),\n",
       " (13, 34, 10, 1, 0.0019818239379674196, [14, 15]),\n",
       " (14, 27, 4, 4, 0.0018974484410136938, []),\n",
       " (15, 26, 4, 4, 0.0018944578478112817, [])]"
      ]
     },
     "execution_count": 12,
     "metadata": {},
     "output_type": "execute_result"
    }
   ],
   "source": [
    "tree.tree_storage[1]"
   ]
  },
  {
   "cell_type": "code",
   "execution_count": 13,
   "metadata": {},
   "outputs": [],
   "source": [
    "test_mol = mol_sup[4]"
   ]
  },
  {
   "cell_type": "code",
   "execution_count": 14,
   "metadata": {},
   "outputs": [
    {
     "name": "stdout",
     "output_type": "stream",
     "text": [
      "3\n",
      "5\n",
      "12\n"
     ]
    }
   ],
   "source": [
    "for n in test_mol.GetAtomWithIdx(4).GetNeighbors():\n",
    "    print(n.GetIdx())"
   ]
  },
  {
   "cell_type": "code",
   "execution_count": 15,
   "metadata": {},
   "outputs": [
    {
     "name": "stdout",
     "output_type": "stream",
     "text": [
      "The line_profiler extension is already loaded. To reload it, use:\n",
      "  %reload_ext line_profiler\n"
     ]
    },
    {
     "name": "stdout",
     "output_type": "stream",
     "text": [
      "Timer unit: 1e-09 s\n",
      "\n",
      "Total time: 0.049371 s\n",
      "File: /home/mlehner/serenityff-charge/serenityff/charge/tree/dash_tree.py\n",
      "Function: get_molecules_partial_charges at line 248\n",
      "\n",
      "Line #      Hits         Time  Per Hit   % Time  Line Contents\n",
      "==============================================================\n",
      "   248                                               def get_molecules_partial_charges(\n",
      "   249                                                   self,\n",
      "   250                                                   mol: Molecule,\n",
      "   251                                                   norm_method: str = \"std_weighted\",\n",
      "   252                                                   max_depth: int = 16,\n",
      "   253                                                   attention_threshold: float = 10,\n",
      "   254                                                   attention_incremet_threshold: float = 0,\n",
      "   255                                                   verbose: bool = False,\n",
      "   256                                                   default_std_value: float = 0.1,\n",
      "   257                                                   chg_key: str = \"result\",\n",
      "   258                                                   chg_std_key: str = \"stdDeviation\",\n",
      "   259                                               ):\n",
      "   260                                                   \"\"\"\n",
      "   261                                                   Get the partial charges of all atoms in a molecule by matching them to DASH tree subgraphs and\n",
      "   262                                                   normalizing the charges of the matched atoms\n",
      "   263                                           \n",
      "   264                                                   Parameters\n",
      "   265                                                   ----------\n",
      "   266                                                   mol : Molecule\n",
      "   267                                                       RDKit molecule object for which the partial charges should be calculated\n",
      "   268                                                   norm_method : str\n",
      "   269                                                       Method to normalize the partial charges, one of 'none', 'symmetric', 'std_weighted'\n",
      "   270                                                   max_depth : int\n",
      "   271                                                       Maximum depth of the tree to traverse\n",
      "   272                                                   attention_threshold : float\n",
      "   273                                                       Maximum cumulative attention value to traverse the tree\n",
      "   274                                                   attention_incremet_threshold : float\n",
      "   275                                                       Minimum attention increment to stop the traversal\n",
      "   276                                                   verbose : bool\n",
      "   277                                                       If True, print status messages\n",
      "   278                                                   default_std_value : float\n",
      "   279                                                       Default value to use for the standard deviation if it is 0\n",
      "   280                                                   chg_key : str\n",
      "   281                                                       Key of the partial charge in the DASH tree data\n",
      "   282                                                   chg_std_key : str\n",
      "   283                                                       Key of the partial charge standard deviation in the DASH tree data\n",
      "   284                                           \n",
      "   285                                                   Returns\n",
      "   286                                                   -------\n",
      "   287                                                   dict\n",
      "   288                                                       Dictionary containing the partial charges, standard deviations and match depths of all atoms\n",
      "   289                                                   \"\"\"\n",
      "   290         1        938.0    938.0      0.0          return_list = []\n",
      "   291         1        185.0    185.0      0.0          tree_raw_charges = []\n",
      "   292         1        107.0    107.0      0.0          tree_charge_std = []\n",
      "   293         1         89.0     89.0      0.0          tree_match_depth = []\n",
      "   294        27     402655.0  14913.1      0.8          for atom in mol.GetAtoms():\n",
      "   295        27      59555.0   2205.7      0.1              atom_idx = atom.GetIdx()\n",
      "   296        27       4123.0    152.7      0.0              try:\n",
      "   297        27   37071847.0 1373031.4     75.1                  node_path = self.match_new_atom(\n",
      "   298        27       3774.0    139.8      0.0                      atom_idx,\n",
      "   299        27       3790.0    140.4      0.0                      mol,\n",
      "   300        27       3577.0    132.5      0.0                      max_depth=max_depth,\n",
      "   301        27       3501.0    129.7      0.0                      attention_threshold=attention_threshold,\n",
      "   302        27       3151.0    116.7      0.0                      attention_incremet_threshold=attention_incremet_threshold,\n",
      "   303                                                           )\n",
      "   304        27   10280665.0 380765.4     20.8                  node_properties = self.get_atom_properties(node_path)\n",
      "   305        27     968459.0  35868.9      2.0                  tree_raw_charges.append(float(node_properties[chg_key]))\n",
      "   306        27     362349.0  13420.3      0.7                  tmp_tree_std = float(node_properties[chg_std_key])\n",
      "   307        27      28983.0   1073.4      0.1                  tree_charge_std.append(tmp_tree_std if tmp_tree_std > 0 else default_std_value)\n",
      "   308        27      29054.0   1076.1      0.1                  tree_match_depth.append(len(node_path) - 1)\n",
      "   309                                                       except Exception as e:\n",
      "   310                                                           print(e)\n",
      "   311                                                           tree_raw_charges.append(np.NaN)\n",
      "   312                                                           tree_charge_std.append(np.NaN)\n",
      "   313                                                           tree_match_depth.append(-1)\n",
      "   314                                           \n",
      "   315         1        246.0    246.0      0.0          if verbose:\n",
      "   316                                                       print(\"Tree raw charges: {}\".format(tree_raw_charges))\n",
      "   317         1        581.0    581.0      0.0          if norm_method == \"none\":\n",
      "   318                                                       return_list = tree_raw_charges\n",
      "   319         1        551.0    551.0      0.0          elif norm_method == \"symmetric\":\n",
      "   320                                                       tot_charge_tree = sum(tree_raw_charges)\n",
      "   321                                                       tot_charge_mol = sum([x.GetFormalCharge() for x in mol.GetAtoms()])\n",
      "   322                                                       return_list = [x + (tot_charge_mol - tot_charge_tree) / len(tree_raw_charges) for x in tree_raw_charges]\n",
      "   323         1        274.0    274.0      0.0          elif norm_method == \"std_weighted\":\n",
      "   324         1       2710.0   2710.0      0.0              tot_charge_tree = sum(tree_raw_charges)\n",
      "   325         1     104795.0 104795.0      0.2              tot_charge_mol = sum([x.GetFormalCharge() for x in mol.GetAtoms()])\n",
      "   326         1       1698.0   1698.0      0.0              tot_std_tree = sum(tree_charge_std)\n",
      "   327         1      30362.0  30362.0      0.1              return_list = [\n",
      "   328                                                           x + (tot_charge_mol - tot_charge_tree) * (y / tot_std_tree)\n",
      "   329         1       1301.0   1301.0      0.0                  for x, y in zip(tree_raw_charges, tree_charge_std)\n",
      "   330                                                       ]\n",
      "   331                                                   else:\n",
      "   332                                                       raise ValueError(\"norm_method must be one of 'none', 'symmetric', 'std_weighted'\")\n",
      "   333         1        359.0    359.0      0.0          if verbose:\n",
      "   334                                                       print(\"Tree normalized charges: {}\".format(return_list))\n",
      "   335         1       1306.0   1306.0      0.0          return {\"charges\": return_list, \"std\": tree_charge_std, \"match_depth\": tree_match_depth}"
     ]
    }
   ],
   "source": [
    "%load_ext line_profiler\n",
    "%lprun -f tree.get_molecules_partial_charges tree.get_molecules_partial_charges(mol)"
   ]
  },
  {
   "cell_type": "code",
   "execution_count": 16,
   "metadata": {},
   "outputs": [
    {
     "name": "stdout",
     "output_type": "stream",
     "text": [
      "Timer unit: 1e-09 s\n",
      "\n",
      "Total time: 0.00109272 s\n",
      "File: /home/mlehner/serenityff-charge/serenityff/charge/tree/dash_tree.py\n",
      "Function: match_new_atom at line 155\n",
      "\n",
      "Line #      Hits         Time  Per Hit   % Time  Line Contents\n",
      "==============================================================\n",
      "   155                                               def match_new_atom(\n",
      "   156                                                   self,\n",
      "   157                                                   atom: int,\n",
      "   158                                                   mol: Molecule,\n",
      "   159                                                   max_depth: int = 16,\n",
      "   160                                                   attention_threshold: float = 10,\n",
      "   161                                                   attention_incremet_threshold: float = 0,\n",
      "   162                                               ):\n",
      "   163                                                   \"\"\"\n",
      "   164                                                   Match a atom in a molecule to a DASH tree subgraph. The matching is done by starting at the atom and\n",
      "   165                                                   traversing the tree until the max_depth is reached or the attention_threshold is exceeded.\n",
      "   166                                                   If the attention_incremet_threshold is exceeded, the matching is stopped and the current path is returned.\n",
      "   167                                           \n",
      "   168                                                   Parameters\n",
      "   169                                                   ----------\n",
      "   170                                                   atom : int\n",
      "   171                                                       Atom index in the molecule of the atom to match\n",
      "   172                                                   mol : Molecule\n",
      "   173                                                       RDKit molecule object in which the atom is located\n",
      "   174                                                   max_depth : int\n",
      "   175                                                       Maximum depth of the tree to traverse\n",
      "   176                                                   attention_threshold : float\n",
      "   177                                                       Maximum cumulative attention value to traverse the tree\n",
      "   178                                                   attention_incremet_threshold : float\n",
      "   179                                                       Minimum attention increment to stop the traversal\n",
      "   180                                                   \"\"\"\n",
      "   181         1     851111.0 851111.0     77.9          neighbor_dict = self._init_neighbor_dict(mol)\n",
      "   182         1      20589.0  20589.0      1.9          init_atom_feature = AtomFeatures.atom_features_from_molecule_w_connection_info(mol, atom)\n",
      "   183         1        319.0    319.0      0.0          branch_idx = init_atom_feature[0]  # branch_idx is the key of the AtomFeature without connection info\n",
      "   184         1        644.0    644.0      0.1          matched_node_path = [branch_idx, 0]\n",
      "   185         1       1618.0   1618.0      0.1          if self.tree_storage[branch_idx] is None:\n",
      "   186                                                       try:\n",
      "   187                                                           self.load_tree_and_data(\n",
      "   188                                                               os.path.join(self.tree_folder_path, f\"{branch_idx}.gz\"),\n",
      "   189                                                               os.path.join(self.tree_folder_path, f\"{branch_idx}.h5\"),\n",
      "   190                                                           )\n",
      "   191                                                       except Exception as e:\n",
      "   192                                                           print(f\"Error loading tree {branch_idx}: {e}\")\n",
      "   193         1        111.0    111.0      0.0          cummulative_attention = 0\n",
      "   194                                                   # Special case for H -> only connect to heavy atom and ignore H\n",
      "   195         1       4378.0   4378.0      0.4          if mol.GetAtomWithIdx(atom).GetSymbol() == \"H\":\n",
      "   196                                                       h_connected_heavy_atom = mol.GetAtomWithIdx(atom).GetNeighbors()[0].GetIdx()\n",
      "   197                                                       init_atom_feature = AtomFeatures.atom_features_from_molecule_w_connection_info(mol, h_connected_heavy_atom)\n",
      "   198                                                       child, _ = self._pick_subgraph_expansion_node(0, branch_idx, [init_atom_feature], [h_connected_heavy_atom])\n",
      "   199                                                       matched_node_path.append(child)\n",
      "   200                                                       atom_indices_in_subgraph = [h_connected_heavy_atom]  # skip Hs as they are only treated implicitly\n",
      "   201                                                       max_depth -= 1  # reduce max_depth by 1 as we already added one node\n",
      "   202                                                   else:\n",
      "   203         1        245.0    245.0      0.0              atom_indices_in_subgraph = [atom]\n",
      "   204         1        299.0    299.0      0.0          if max_depth <= 1:\n",
      "   205                                                       return matched_node_path\n",
      "   206                                                   else:\n",
      "   207         1      10966.0  10966.0      1.0              possible_new_atom_features, possible_new_atom_idxs = self._new_neighbors(\n",
      "   208         1         98.0     98.0      0.0                      neighbor_dict, atom_indices_in_subgraph\n",
      "   209                                                           )\n",
      "   210         8       2884.0    360.5      0.3              for _ in range(1, max_depth):\n",
      "   211         8     157756.0  19719.5     14.4                  child, atom = self._pick_subgraph_expansion_node(\n",
      "   212         8       1651.0    206.4      0.2                      matched_node_path[-1], branch_idx, possible_new_atom_features, possible_new_atom_idxs\n",
      "   213                                                           )\n",
      "   214         7       1106.0    158.0      0.1                  if child is None:\n",
      "   215         1        153.0    153.0      0.0                      return matched_node_path\n",
      "   216         7       2265.0    323.6      0.2                  matched_node_path.append(child)\n",
      "   217         7       1487.0    212.4      0.1                  atom_indices_in_subgraph.append(atom)\n",
      "   218         7       2327.0    332.4      0.2                  node_attention = self.tree_storage[branch_idx][child][4]\n",
      "   219         7       2097.0    299.6      0.2                  cummulative_attention += node_attention\n",
      "   220         7      22564.0   3223.4      2.1                  possible_new_atom_features_toAdd, possible_new_atom_idxs_toAdd = self._new_neighbors_atomic(neighbor_dict, atom_indices_in_subgraph, atom)\n",
      "   221         7       2117.0    302.4      0.2                  possible_new_atom_features.extend(possible_new_atom_features_toAdd)\n",
      "   222         7       1730.0    247.1      0.2                  possible_new_atom_idxs.extend(possible_new_atom_idxs_toAdd)\n",
      "   223         7       2523.0    360.4      0.2                  if cummulative_attention > attention_threshold:\n",
      "   224                                                               return matched_node_path\n",
      "   225         7       1680.0    240.0      0.2                  if node_attention < attention_incremet_threshold:\n",
      "   226                                                               return matched_node_path\n",
      "   227                                                       return matched_node_path"
     ]
    }
   ],
   "source": [
    "%lprun -f tree.match_new_atom tree.match_new_atom(0, mol)"
   ]
  },
  {
   "cell_type": "code",
   "execution_count": 17,
   "metadata": {},
   "outputs": [
    {
     "name": "stdout",
     "output_type": "stream",
     "text": [
      "Timer unit: 1e-09 s\n",
      "\n",
      "Total time: 0.00326334 s\n",
      "File: /home/mlehner/serenityff-charge/serenityff/charge/tree/dash_tree.py\n",
      "Function: _init_neighbor_dict at line 119\n",
      "\n",
      "Line #      Hits         Time  Per Hit   % Time  Line Contents\n",
      "==============================================================\n",
      "   119                                               def _init_neighbor_dict(self, mol: Molecule):\n",
      "   120         1        960.0    960.0      0.0          neighbor_dict = {}\n",
      "   121        27     160888.0   5958.8      4.9          for atom_idx, atom in enumerate(mol.GetAtoms()):\n",
      "   122        27      38958.0   1442.9      1.2              neighbor_dict[atom_idx] = []\n",
      "   123        52     107340.0   2064.2      3.3              for neighbor in atom.GetNeighbors():\n",
      "   124        52    1653932.0  31806.4     50.7                  af_with_connection_info = AtomFeatures.atom_features_from_molecule_w_connection_info(\n",
      "   125        52    1183422.0  22758.1     36.3                      mol, neighbor.GetIdx(), (0, atom_idx)\n",
      "   126                                                           )\n",
      "   127        52     117456.0   2258.8      3.6                  neighbor_dict[atom_idx].append((neighbor.GetIdx(), af_with_connection_info))\n",
      "   128         1        383.0    383.0      0.0          return neighbor_dict"
     ]
    }
   ],
   "source": [
    "%lprun -f tree._init_neighbor_dict tree._init_neighbor_dict(mol)"
   ]
  },
  {
   "cell_type": "code",
   "execution_count": 19,
   "metadata": {},
   "outputs": [
    {
     "name": "stdout",
     "output_type": "stream",
     "text": [
      "Timer unit: 1e-09 s\n",
      "\n",
      "Total time: 7.6661e-05 s\n",
      "File: /home/mlehner/serenityff-charge/serenityff/charge/tree/atom_features.py\n",
      "Function: atom_features_from_molecule_w_connection_info at line 217\n",
      "\n",
      "Line #      Hits         Time  Per Hit   % Time  Line Contents\n",
      "==============================================================\n",
      "   217                                               @staticmethod\n",
      "   218                                               def atom_features_from_molecule_w_connection_info(\n",
      "   219                                                   molecule: Molecule, index: int, connected_to: Tuple[Any] = (-1, -1)\n",
      "   220                                               ) -> int:\n",
      "   221         1        178.0    178.0      0.2          connected_bond_type = (\n",
      "   222         1      44666.0  44666.0     58.3              -1 if connected_to[1] == -1 else get_connection_info_bond_type(molecule, int(index), int(connected_to[1]))\n",
      "   223                                                   )\n",
      "   224         1      31292.0  31292.0     40.8          key = AtomFeatures.atom_features_from_molecule(molecule, index)\n",
      "   225         1        525.0    525.0      0.7          return [key, connected_to[0], connected_bond_type]"
     ]
    }
   ],
   "source": [
    "%lprun -f AtomFeatures.atom_features_from_molecule_w_connection_info AtomFeatures.atom_features_from_molecule_w_connection_info(mol, 1, (0, 0))"
   ]
  },
  {
   "cell_type": "code",
   "execution_count": 23,
   "metadata": {},
   "outputs": [
    {
     "name": "stdout",
     "output_type": "stream",
     "text": [
      "Timer unit: 1e-09 s\n",
      "\n",
      "Total time: 4.021e-05 s\n",
      "File: /home/mlehner/serenityff-charge/serenityff/charge/tree/atom_features.py\n",
      "Function: get_connection_info_bond_type at line 15\n",
      "\n",
      "Line #      Hits         Time  Per Hit   % Time  Line Contents\n",
      "==============================================================\n",
      "    15                                           def get_connection_info_bond_type(molecule: Molecule, index: int, connected_to: int) -> int:\n",
      "    16         1      27801.0  27801.0     69.1      bond = molecule.GetBondBetweenAtoms(int(index), int(connected_to))\n",
      "    17         1        325.0    325.0      0.8      if bond is None:\n",
      "    18                                                   return -1\n",
      "    19         1       3979.0   3979.0      9.9      elif bond.GetIsConjugated():\n",
      "    20                                                   return 4\n",
      "    21                                               else:\n",
      "    22         1       8105.0   8105.0     20.2          return int(bond.GetBondType())"
     ]
    }
   ],
   "source": [
    "%lprun -f get_connection_info_bond_type get_connection_info_bond_type(mol, 1, 0)\n"
   ]
  },
  {
   "cell_type": "code",
   "execution_count": null,
   "metadata": {},
   "outputs": [],
   "source": []
  }
 ],
 "metadata": {
  "kernelspec": {
   "display_name": "sff_19",
   "language": "python",
   "name": "python3"
  },
  "language_info": {
   "codemirror_mode": {
    "name": "ipython",
    "version": 3
   },
   "file_extension": ".py",
   "mimetype": "text/x-python",
   "name": "python",
   "nbconvert_exporter": "python",
   "pygments_lexer": "ipython3",
   "version": "3.10.11"
  },
  "orig_nbformat": 4
 },
 "nbformat": 4,
 "nbformat_minor": 2
}
