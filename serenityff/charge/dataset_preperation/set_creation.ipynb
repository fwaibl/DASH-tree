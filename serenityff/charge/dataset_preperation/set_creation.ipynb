{
 "cells": [
  {
   "cell_type": "code",
   "execution_count": null,
   "metadata": {},
   "outputs": [],
   "source": [
    "%load_ext autoreload\n",
    "%autoreload 2"
   ]
  },
  {
   "attachments": {},
   "cell_type": "markdown",
   "metadata": {},
   "source": [
    "# MolMorganDataset to cover chemical space of qmugs, patrick and CHEMBL with least possible molecules\n",
    "\n",
    "## Import necessary packages and data sets\n",
    "| Name | Content |\n",
    "| --- | --- |\n",
    "| corrected |Data set from patrick with some faulty molecules removed |\n",
    "| leadlike | Drug-like molecules from CHEMBL below 350 mw |\n",
    "| solvents | Set of small organic solvents|\n",
    "| qmugs500 | All molecules from qmugs set below 500 mw (H's taken into account for weight) with only one conformere per molecule|\n",
    "| noH500 | All molecules from qmugs set below 500 mw (H's NOT taken into account for weight) with only one conformere per molecule|\n"
   ]
  },
  {
   "cell_type": "code",
   "execution_count": null,
   "metadata": {},
   "outputs": [],
   "source": [
    "from serenityff.charge.dataset_preperation.MolMorganDataset import MolMorganDataset\n",
    "import pandas as pd\n",
    "\n",
    "from rdkit import Chem\n",
    "\n",
    "corrected = MolMorganDataset('path/to/corrected.sdf')\n",
    "leadlike = MolMorganDataset('path/to/leadlike.sdf')\n",
    "solvents = MolMorganDataset('path/to/solvents.sdf')\n",
    "qmugs500 = MolMorganDataset('path/to/qmugs500.sdf')\n",
    "noH500 = MolMorganDataset('path/to/noH500.sdf')"
   ]
  },
  {
   "attachments": {},
   "cell_type": "markdown",
   "metadata": {},
   "source": [
    "# Reduce initial set to remove redundant molecules\n",
    "Start point is the MolMorganDataset of molecules from qmugs, that are below a molecular weight of 500 u (H's are included in the weight). The data set only contains one conformere of each molecule.\n",
    "With the reduce function the molecules needed to have all present morgan fingerprints at least 5 times (default) are reduced to a minimum with a greedy approach."
   ]
  },
  {
   "cell_type": "code",
   "execution_count": null,
   "metadata": {},
   "outputs": [],
   "source": [
    "qreduced500 = qmugs500.reduce(NewSetName = 'qreduced500', cutoff = 5)"
   ]
  },
  {
   "cell_type": "markdown",
   "metadata": {},
   "source": [
    "# Add solvent molecules that we definetly want in the set\n",
    "In a second step we add the solvent molecules where we know in advance that we want them in our final data set."
   ]
  },
  {
   "cell_type": "code",
   "execution_count": null,
   "metadata": {},
   "outputs": [],
   "source": [
    "q500solvents = qreduced500.add(otherset=solvents, NewSetName='q500solvents')"
   ]
  },
  {
   "attachments": {},
   "cell_type": "markdown",
   "metadata": {},
   "source": [
    "# Add molecules from corrected patrick set\n",
    "Extend MolMorganDataset with molecules from corrected and leadlike sets. Add minimal amount of molecules needed to cover fingerprints from all datasets at least 5 times. The same greedy approach is used"
   ]
  },
  {
   "cell_type": "code",
   "execution_count": null,
   "metadata": {},
   "outputs": [],
   "source": [
    "qcorrected = q500solvents.reduce(NewSetName='qcorrected', otherset=corrected)\n",
    "qleadlike = qcorrected.reduce(NewSetName='leadlike', otherset=leadlike)"
   ]
  },
  {
   "cell_type": "markdown",
   "metadata": {},
   "source": [
    "# Reduce set to remove redundancies that occurred\n",
    "Repeat procedure from first step and add solvents again to make sure none are missing in the final set"
   ]
  },
  {
   "cell_type": "code",
   "execution_count": null,
   "metadata": {},
   "outputs": [],
   "source": [
    "qleadreduced = qleadlike.reduce(NewSetName='qleadreduced')\n",
    "final = qleadreduced.add(NewSetName='final', otherset=solvents)\n"
   ]
  },
  {
   "cell_type": "markdown",
   "metadata": {},
   "source": [
    "# Compare final set with initial ones\n",
    "Make sure none of the fingerprints are missing"
   ]
  },
  {
   "cell_type": "code",
   "execution_count": null,
   "metadata": {},
   "outputs": [],
   "source": [
    "final = MolMorganDataset('path/to/final.sdf')\n",
    "final.weight_distribution()"
   ]
  },
  {
   "cell_type": "code",
   "execution_count": null,
   "metadata": {},
   "outputs": [],
   "source": [
    "final.compare(qmugs500)"
   ]
  },
  {
   "cell_type": "markdown",
   "metadata": {},
   "source": [
    "# Write smiles codes into csv file"
   ]
  },
  {
   "cell_type": "code",
   "execution_count": null,
   "metadata": {},
   "outputs": [],
   "source": [
    "smiles_tot = []\n",
    "smiles_qmugs = []\n",
    "ID_qmugs = []\n",
    "ID_leadlike = []\n",
    "smiles_corrected = []\n",
    "smiles_solvents = []\n",
    "smiles_leadlike = []\n",
    "ID_tot = []\n",
    "set_ID = []\n",
    "wrongs = []\n",
    "wrongchembls = ['CHEMBL3590587',\n",
    " 'CHEMBL3590586',\n",
    " 'CHEMBL3590584',\n",
    " 'CHEMBL3590585',\n",
    " 'CHEMBL3617051',\n",
    " 'CHEMBL3752539'] #got these manually\n",
    "\n",
    "for mol in final._mols:\n",
    "    if Chem.MolToSmiles(mol) not in smiles_tot:\n",
    "        smiles_tot.append(Chem.MolToSmiles(mol))\n",
    "    else: \n",
    "        print('redundant molecule')\n",
    "\n",
    "for mol in qmugs500._mols:\n",
    "    if Chem.MolToSmiles(mol) not in smiles_qmugs:\n",
    "        smiles_qmugs.append(Chem.MolToSmiles(mol))\n",
    "        ID_qmugs.append(mol.GetProp('CHEMBL_ID'))\n",
    "\n",
    "for mol in corrected._mols:\n",
    "    if Chem.MolToSmiles(mol) not in smiles_corrected:\n",
    "        smiles_corrected.append(Chem.MolToSmiles(mol))\n",
    "\n",
    "for mol in solvents._mols:\n",
    "    if Chem.MolToSmiles(mol) not in smiles_solvents:\n",
    "        smiles_solvents.append(Chem.MolToSmiles(mol))\n",
    "\n",
    "for mol in leadlike._mols:\n",
    "    if Chem.MolToSmiles(mol) not in smiles_leadlike:\n",
    "        smiles_leadlike.append(Chem.MolToSmiles(mol))\n",
    "        if mol.HasProp('chembl_id'):\n",
    "            ID_leadlike.append(mol.GetProp('chembl_id'))\n",
    "        else:\n",
    "            ID_leadlike.append(0)\n",
    "\n",
    "for sm in smiles_tot:\n",
    "    if sm in smiles_qmugs:\n",
    "        set_ID.append(0)\n",
    "        ID_tot.append(ID_qmugs[smiles_qmugs.index(sm)])\n",
    "    elif sm in smiles_solvents:\n",
    "        set_ID.append(1)\n",
    "        ID_tot.append(0)\n",
    "    elif sm in smiles_corrected:\n",
    "        set_ID.append(2)\n",
    "        ID_tot.append(0)\n",
    "    elif sm in smiles_leadlike:\n",
    "        set_ID.append(3)\n",
    "        ID_tot.append(ID_leadlike[smiles_leadlike.index(sm)])\n",
    "    else:\n",
    "        print(smiles_tot.index(sm), ' is missing in others')\n",
    "        set_ID.append(10)\n",
    "        ID_tot.append('missing')\n",
    "        wrongs.append(smiles_tot.index(sm))\n",
    "        \n",
    "for i, ind in enumerate(wrongs):\n",
    "    if set_ID[ind] == 10:\n",
    "        set_ID[ind] = 3\n",
    "    else:\n",
    "        print*('mistake', ind)\n",
    "    if ID_tot[ind] == 'missing':\n",
    "        ID_tot[ind]= wrongchembls[i]\n",
    "    else:\n",
    "        print('mistake2', ind)\n",
    "\n",
    "print(final._num_mol) #make sure that all list are same length and no molecules are missed\n",
    "print(len(smiles_tot))\n",
    "print(len(set_ID))\n",
    "print(len(ID_tot))\n"
   ]
  },
  {
   "cell_type": "code",
   "execution_count": null,
   "metadata": {},
   "outputs": [],
   "source": [
    "printdata = {'Smiles': smiles_tot, \"Set_ID\": set_ID, \"CHEMBL_ID\": ID_tot}\n",
    "pls = pd.DataFrame(printdata)\n",
    "print(len(smiles_tot),len(set_ID), len(ID_tot))"
   ]
  },
  {
   "cell_type": "code",
   "execution_count": null,
   "metadata": {},
   "outputs": [],
   "source": [
    "pls.to_csv('final_smiles.csv', index = True)"
   ]
  },
  {
   "cell_type": "code",
   "execution_count": null,
   "metadata": {},
   "outputs": [],
   "source": [
    "wrongs = [182035, 182207, 182208, 182209, 183744, 207865]\n",
    "wrongsmiles = []\n",
    "for ind in wrongs:\n",
    "    wrongsmiles.append(smiles_tot[ind])"
   ]
  },
  {
   "cell_type": "code",
   "execution_count": null,
   "metadata": {},
   "outputs": [],
   "source": [
    "for ind in wrongs:\n",
    "    set_ID.insert(ind, 3)\n",
    "    ID_tot.insert(ind, )\n",
    "    "
   ]
  },
  {
   "cell_type": "code",
   "execution_count": null,
   "metadata": {},
   "outputs": [],
   "source": [
    "qleadlikewrongs = []\n",
    "chemblidwrongs = []\n",
    "for i, mol in enumerate(qleadlike._mols):\n",
    "    if Chem.MolToSmiles(mol) in wrongsmiles:\n",
    "        qleadlikewrongs.append(i)\n",
    "        chemblidwrongs.append(qleadlike._mols[i].GetProp('chembl_id'))"
   ]
  },
  {
   "cell_type": "code",
   "execution_count": null,
   "metadata": {},
   "outputs": [],
   "source": [
    "Chem.MolToSmiles(leadlike._mols[leadlikewrongs[0]])\n",
    "leadlike._mols[leadlikewrongs[0]]\n",
    "leadlike._mols[leadlikewrongs[5]].GetProp('chembl_id')"
   ]
  },
  {
   "cell_type": "code",
   "execution_count": null,
   "metadata": {},
   "outputs": [],
   "source": [
    "from rdkit.Chem.Draw import IPythonConsole\n",
    "IPythonConsole.molSize = 450,400\n",
    "IPythonConsole.drawOptions.addAtomIndices = True\n",
    "m = Chem.Mol(leadlike._mols[leadlikewrongs[0]])\n",
    "m.RemoveAllConformers()\n",
    "m"
   ]
  },
  {
   "cell_type": "code",
   "execution_count": null,
   "metadata": {},
   "outputs": [],
   "source": [
    "leadlike._mols[leadlikewrongs[0]].Debug()"
   ]
  },
  {
   "cell_type": "code",
   "execution_count": null,
   "metadata": {},
   "outputs": [],
   "source": [
    "leadlikewrongs = []\n",
    "for i, mol in enumerate(leadlike._mols):\n",
    "    try:\n",
    "        if mol.GetProp('chembl_id') in chemblidwrongs:\n",
    "            leadlikewrongs.append(i)\n",
    "    except:\n",
    "        continue"
   ]
  }
 ],
 "metadata": {
  "kernelspec": {
   "display_name": "Python 3.10.6 ('my-rdkit-env')",
   "language": "python",
   "name": "python3"
  },
  "language_info": {
   "codemirror_mode": {
    "name": "ipython",
    "version": 3
   },
   "file_extension": ".py",
   "mimetype": "text/x-python",
   "name": "python",
   "nbconvert_exporter": "python",
   "pygments_lexer": "ipython3",
   "version": "3.10.6 | packaged by conda-forge | (main, Aug 22 2022, 20:36:39) [GCC 10.4.0]"
  },
  "orig_nbformat": 4,
  "vscode": {
   "interpreter": {
    "hash": "a657b706dcf7a76343aa7013dbc16cebc8dfad3ba39b36e1f271739d6e580d25"
   }
  }
 },
 "nbformat": 4,
 "nbformat_minor": 2
}
