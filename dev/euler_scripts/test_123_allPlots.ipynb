{
 "cells": [
  {
   "cell_type": "code",
   "execution_count": null,
   "metadata": {},
   "outputs": [],
   "source": [
    "from rdkit import Chem\n",
    "from rdkit.Chem.Draw import SimilarityMaps\n",
    "from rdkit.Chem import AllChem\n",
    "from rdkit.Chem import Draw\n",
    "from rdkit.Chem.Draw import IPythonConsole\n",
    "IPythonConsole.ipython_useSVG=True\n",
    "IPythonConsole.drawOptions.addAtomIndices=True\n",
    "from rdkit.Chem.rdDepictor import Compute2DCoords\n",
    "from rdkit.Chem.Draw.IPythonConsole import drawMol3D\n",
    "import py3Dmol\n",
    "from tqdm import tqdm\n",
    "import numpy as np\n",
    "import pandas as pd\n",
    "import time\n",
    "import pickle\n",
    "import matplotlib.pyplot as plt\n",
    "from matplotlib.colors import LogNorm\n",
    "from mpl_toolkits.axes_grid1 import make_axes_locatable\n",
    "from matplotlib.patches import Rectangle, Circle, ConnectionPatch\n",
    "import datashader as ds\n",
    "from datashader.mpl_ext import dsshow\n",
    "from serenityff.charge.tree.tree import tree\n",
    "from serenityff.charge.tree.atom_features import AtomFeatures\n",
    "from openff.toolkit.topology import Molecule, Topology\n",
    "from openff.toolkit.typing.engines.smirnoff import ForceField\n",
    "from openff.toolkit.utils.toolkits import RDKitToolkitWrapper, AmberToolsToolkitWrapper"
   ]
  },
  {
   "cell_type": "code",
   "execution_count": null,
   "metadata": {},
   "outputs": [],
   "source": [
    "plt.rcParams.update({'font.size': 16}) "
   ]
  },
  {
   "cell_type": "code",
   "execution_count": null,
   "metadata": {},
   "outputs": [],
   "source": [
    "tree_folder=\"/localhome/mlehner/dash_data/tree/\"\n",
    "folder_train = \"/localhome/mlehner/dash_data/test147_train/\"\n",
    "folder_explain = \"/localhome/mlehner/dash_data/test154_explain/\"\n",
    "folder_4charges = \"/localhome/mlehner/dash_data/test168_4charges/\"\n",
    "folder_attThresh=\"/localhome/mlehner/dash_data/test171_attThresh/\"\n",
    "folder_depth=\"/localhome/mlehner/dash_data/test172_depth/\"\n",
    "folder_aa = \"/localhome/mlehner/dash_data/test144_aa/outs/\"\n",
    "\n",
    "sdf_test_file_path = f\"{folder_4charges}/test.sdf\"\n",
    "sdf_aa_file_path = f\"{folder_aa}/../all_aa.sdf\""
   ]
  },
  {
   "cell_type": "code",
   "execution_count": null,
   "metadata": {},
   "outputs": [],
   "source": [
    "mol_sup_comb = Chem.SDMolSupplier(f\"{folder_train}combined_multi.sdf\", removeHs=False)"
   ]
  },
  {
   "cell_type": "code",
   "execution_count": null,
   "metadata": {},
   "outputs": [],
   "source": [
    "def rmse(x, y):\n",
    "    return np.sqrt(np.mean((x - y) ** 2))\n",
    "def r2_correlation(x, y):\n",
    "    return np.corrcoef(x, y)[0, 1] ** 2\n",
    "def ratio_over_0_05(x, y):\n",
    "    return np.sum(np.abs(x - y) > 0.05) / len(x)\n",
    "def percentile(x, y, p=90):\n",
    "    return np.nanpercentile(np.abs(x - y), p)"
   ]
  },
  {
   "cell_type": "code",
   "execution_count": null,
   "metadata": {},
   "outputs": [],
   "source": []
  },
  {
   "attachments": {},
   "cell_type": "markdown",
   "metadata": {},
   "source": [
    "## Attention Threshold"
   ]
  },
  {
   "cell_type": "code",
   "execution_count": null,
   "metadata": {},
   "outputs": [],
   "source": [
    "df_dict_attThresh = {}\n",
    "for df_idx in range(1,100):\n",
    "    try:\n",
    "        df = pd.read_csv(f\"{folder_attThresh}/df_{df_idx}.csv\")\n",
    "        df_dict_attThresh[df_idx] = df\n",
    "    except:\n",
    "        pass"
   ]
  },
  {
   "cell_type": "code",
   "execution_count": null,
   "metadata": {},
   "outputs": [],
   "source": [
    "attention_thresholds_to_test = np.linspace(0.1, 6, 100)"
   ]
  },
  {
   "cell_type": "code",
   "execution_count": null,
   "metadata": {},
   "outputs": [],
   "source": [
    "df_att_vs_rmse_temp = {}\n",
    "df_att_vs_r2_temp = {}\n",
    "df_att_vs_ratio_temp = {}\n",
    "df_att_vs_90p_temp = {}\n",
    "for df_idx in df_dict_attThresh.keys():\n",
    "    df = df_dict_attThresh[df_idx]\n",
    "    df_att_vs_rmse_temp[df_idx] = rmse(df[\"mbis_charge\"], df[\"tree_charge\"])\n",
    "    df_att_vs_r2_temp[df_idx] = r2_correlation(df[\"mbis_charge\"], df[\"tree_charge\"])\n",
    "    df_att_vs_ratio_temp[df_idx] = ratio_over_0_05(df[\"mbis_charge\"], df[\"tree_charge\"])\n",
    "    df_att_vs_90p_temp[df_idx] = percentile(df[\"mbis_charge\"], df[\"tree_charge\"], p=90)\n",
    "df_att_vs_rmse = pd.DataFrame.from_dict(df_att_vs_rmse_temp, orient=\"index\", columns=[\"rmse\"])\n",
    "df_att_vs_r2 = pd.DataFrame.from_dict(df_att_vs_r2_temp, orient=\"index\", columns=[\"r2\"])\n",
    "df_att_vs_ratio = pd.DataFrame.from_dict(df_att_vs_ratio_temp, orient=\"index\", columns=[\"ratio\"])\n",
    "df_att_vs_90p = pd.DataFrame.from_dict(df_att_vs_90p_temp, orient=\"index\", columns=[\"90p\"])\n",
    "df_att_vs_rmse.index = attention_thresholds_to_test[df_att_vs_rmse.index]\n",
    "df_att_vs_r2.index = attention_thresholds_to_test[df_att_vs_r2.index]\n",
    "df_att_vs_ratio.index = attention_thresholds_to_test[df_att_vs_ratio.index]\n",
    "df_att_vs_90p.index = attention_thresholds_to_test[df_att_vs_90p.index]"
   ]
  },
  {
   "cell_type": "code",
   "execution_count": null,
   "metadata": {},
   "outputs": [],
   "source": [
    "df_att_vs_rmse.plot(figsize=(3,3))"
   ]
  },
  {
   "cell_type": "code",
   "execution_count": null,
   "metadata": {},
   "outputs": [],
   "source": [
    "rmse_list_attthresh = [x[0] for x in df_att_vs_rmse.values.tolist()]\n",
    "attention_thresholds_to_test = df_att_vs_rmse.index.tolist()"
   ]
  },
  {
   "cell_type": "code",
   "execution_count": null,
   "metadata": {},
   "outputs": [],
   "source": [
    "font = {'family' : 'DejaVu Sans',\n",
    "        'weight' : 'normal',\n",
    "        'size'   : 16}\n",
    "plt.rc('font', **font)\n",
    "xy_range = [[-1.6,2.2],[-1.6,2.2]]\n",
    "vmax = 1000\n",
    "vmin = 0.6\n",
    "#points picked for correlation plots\n",
    "picked_p1 = 1\n",
    "picked_p2 = 20\n",
    "picked_p3 = 60\n",
    "\n",
    "df_p1 = df_dict_attThresh[picked_p1]\n",
    "df_p2 = df_dict_attThresh[picked_p2]\n",
    "df_p3 = df_dict_attThresh[picked_p3]\n",
    "\n",
    "fig = plt.figure(figsize=(12,12))#, constrained_layout=True)\n",
    "axs = fig.subplot_mosaic([[\"Left\", \"TopRight\"],[\"Left\", \"BottomRight\"],[\"Left\", \"BottomRight2\"]], gridspec_kw={\"width_ratios\":[1, 1]})\n",
    "axs[\"Left\"].plot(attention_thresholds_to_test, rmse_list_attthresh, label=\"RMSE\", color=\"C2\")\n",
    "axs[\"Left\"].set_xlabel(\"Attention threshold\")\n",
    "axs[\"Left\"].set_ylabel(\"RMSE\")\n",
    "axs[\"Left\"].legend(loc=\"upper left\")\n",
    "\n",
    "# 1. correlation plot at picked point 1\n",
    "h1 = axs[\"TopRight\"].hist2d(df_p1[\"mbis_charge\"], df_p1[\"tree_charge\"], bins=200, range=xy_range, cmap=\"Greens\", norm=LogNorm(vmin=vmin, vmax=vmax))\n",
    "axs[\"TopRight\"].set_xlabel(\"MBIS charge [e]\")\n",
    "axs[\"TopRight\"].set_ylabel(\"Tree charge [e]\")\n",
    "axs[\"TopRight\"].plot(xy_range[0], xy_range[1], color=\"grey\", linestyle=\"--\")\n",
    "axs[\"TopRight\"].set_aspect(\"equal\")\n",
    "axs[\"TopRight\"].set_title(f\"Attention threshold = {attention_thresholds_to_test[picked_p1]:.2f}\")\n",
    "\n",
    "# 2. correlation plot at picked point 2\n",
    "h2 = axs[\"BottomRight\"].hist2d(df_p2[\"mbis_charge\"], df_p2[\"tree_charge\"], bins=200, range=xy_range, cmap=\"Greens\", norm=LogNorm(vmin=vmin, vmax=vmax))\n",
    "axs[\"BottomRight\"].set_xlabel(\"MBIS charge [e]\")\n",
    "axs[\"BottomRight\"].set_ylabel(\"Tree charge [e]\")\n",
    "axs[\"BottomRight\"].plot(xy_range[0], xy_range[1], color=\"grey\", linestyle=\"--\")\n",
    "axs[\"BottomRight\"].set_aspect(\"equal\")\n",
    "axs[\"BottomRight\"].set_title(f\"Attention threshold = {attention_thresholds_to_test[picked_p2]:.2f}\")\n",
    "\n",
    "# 3. correlation plot at picked point 3\n",
    "h3 = axs[\"BottomRight2\"].hist2d(df_p3[\"mbis_charge\"], df_p3[\"tree_charge\"], bins=200, range=xy_range, cmap=\"Greens\", norm=LogNorm(vmin=vmin, vmax=vmax))\n",
    "axs[\"BottomRight2\"].set_xlabel(\"MBIS charge [e]\")\n",
    "axs[\"BottomRight2\"].set_ylabel(\"Tree charge [e]\")\n",
    "axs[\"BottomRight2\"].plot(xy_range[0], xy_range[1], color=\"grey\", linestyle=\"--\")\n",
    "axs[\"BottomRight2\"].set_aspect(\"equal\")\n",
    "axs[\"BottomRight2\"].set_title(f\"Attention threshold = {attention_thresholds_to_test[picked_p3]:.2f}\")\n",
    "\n",
    "# color bars\n",
    "cbar = fig.colorbar(h1[3], ax=axs[\"TopRight\"], label=\"Counts (log scale) [a.u.]\")\n",
    "cbar = fig.colorbar(h2[3], ax=axs[\"BottomRight\"], label=\"Counts (log scale) [a.u.]\")\n",
    "cbar = fig.colorbar(h3[3], ax=axs[\"BottomRight2\"], label=\"Counts (log scale) [a.u.]\")\n",
    "#fig.suptitle(\"Comparison of different attention thresholds\\n Dataset: 20 amino acids\", fontsize=20, fontweight=\"bold\")\n",
    "\n",
    "#mark points in main plot\n",
    "axs[\"Left\"].scatter(attention_thresholds_to_test[picked_p1], rmse_list_attthresh[picked_p1], color=\"C1\", marker=\"o\", s=100)\n",
    "axs[\"Left\"].scatter(attention_thresholds_to_test[picked_p2], rmse_list_attthresh[picked_p2], color=\"C1\", marker=\"o\", s=100)\n",
    "axs[\"Left\"].scatter(attention_thresholds_to_test[picked_p3], rmse_list_attthresh[picked_p3], color=\"C1\", marker=\"o\", s=100)\n",
    "\n",
    "#draw fine grey lines from the mark to the corresponding plot\n",
    "con = ConnectionPatch(xyA=(attention_thresholds_to_test[picked_p1], rmse_list_attthresh[picked_p1]), xyB=(xy_range[1][0], xy_range[1][0]), coordsA=\"data\", coordsB=\"data\", axesA=axs[\"Left\"], axesB=axs[\"TopRight\"], color=\"grey\", linestyle=\"--\", linewidth=1)\n",
    "axs[\"Left\"].add_artist(con)\n",
    "con = ConnectionPatch(xyA=(attention_thresholds_to_test[picked_p1], rmse_list_attthresh[picked_p1]), xyB=(xy_range[1][0], xy_range[1][1]), coordsA=\"data\", coordsB=\"data\", axesA=axs[\"Left\"], axesB=axs[\"TopRight\"], color=\"grey\", linestyle=\"--\", linewidth=1)\n",
    "axs[\"Left\"].add_artist(con)\n",
    "con = ConnectionPatch(xyA=(attention_thresholds_to_test[picked_p2], rmse_list_attthresh[picked_p2]), xyB=(xy_range[1][0], xy_range[1][0]), coordsA=\"data\", coordsB=\"data\", axesA=axs[\"Left\"], axesB=axs[\"BottomRight\"], color=\"grey\", linestyle=\"--\", linewidth=1)\n",
    "axs[\"Left\"].add_artist(con)\n",
    "con = ConnectionPatch(xyA=(attention_thresholds_to_test[picked_p2], rmse_list_attthresh[picked_p2]), xyB=(xy_range[1][0], xy_range[1][1]), coordsA=\"data\", coordsB=\"data\", axesA=axs[\"Left\"], axesB=axs[\"BottomRight\"], color=\"grey\", linestyle=\"--\", linewidth=1)\n",
    "axs[\"Left\"].add_artist(con)\n",
    "con = ConnectionPatch(xyA=(attention_thresholds_to_test[picked_p3], rmse_list_attthresh[picked_p3]), xyB=(xy_range[1][0], xy_range[1][0]), coordsA=\"data\", coordsB=\"data\", axesA=axs[\"Left\"], axesB=axs[\"BottomRight2\"], color=\"grey\", linestyle=\"--\", linewidth=1)\n",
    "axs[\"Left\"].add_artist(con)\n",
    "con = ConnectionPatch(xyA=(attention_thresholds_to_test[picked_p3], rmse_list_attthresh[picked_p3]), xyB=(xy_range[1][0], xy_range[1][1]), coordsA=\"data\", coordsB=\"data\", axesA=axs[\"Left\"], axesB=axs[\"BottomRight2\"], color=\"grey\", linestyle=\"--\", linewidth=1)\n",
    "axs[\"Left\"].add_artist(con)\n",
    "\n",
    "#zoom in on values in main plot x(0.9, 1.1) y(0.04, 0.05)\n",
    "#axins = axs[\"Left\"].inset_axes([0.64, 0.5, 0.35, 0.18])\n",
    "#axins.plot(attention_thresholds_to_test, rmse_list_attthresh, color=\"C2\")\n",
    "#axins.set_xlim(0.95, 1.2)\n",
    "#axins.set_ylim(0.047, 0.048)\n",
    "#axs[\"Left\"].indicate_inset_zoom(axins)\n",
    "\n",
    "\n",
    "# final adjustments\n",
    "fig.tight_layout(pad=2)\n",
    "plt.savefig(\"test_123_attthreshRMSE+Corr.pdf\")\n",
    "plt.show()"
   ]
  },
  {
   "cell_type": "code",
   "execution_count": null,
   "metadata": {},
   "outputs": [],
   "source": [
    "font = {'family' : 'DejaVu Sans',\n",
    "        'weight' : 'normal',\n",
    "        'size'   : 16}\n",
    "plt.rc('font', **font)\n",
    "xy_range = [[-1.6,2.2],[-1.6,2.2]]\n",
    "vmax = 1000\n",
    "vmin = 0.6\n",
    "#points picked for correlation plots\n",
    "picked_p1 = 9\n",
    "picked_p2 = 65\n",
    "\n",
    "df_p1 = df_dict_attThresh[picked_p1]\n",
    "df_p2 = df_dict_attThresh[picked_p2]\n",
    "\n",
    "fig = plt.figure(figsize=(9,9))#, constrained_layout=True)\n",
    "axs = fig.subplot_mosaic([[\"Left\", \"TopRight\"],[\"Left\", \"BottomRight\"]], width_ratios=[1,1])#, gridspec_kw={\"width_ratios\":[1, 1.6]})\n",
    "axs[\"Left\"].plot(attention_thresholds_to_test, rmse_list_attthresh, label=\"RMSE\", color=\"C2\")\n",
    "axs[\"Left\"].set_xlabel(\"Attention threshold\")\n",
    "axs[\"Left\"].set_ylabel(\"RMSE [e]\")\n",
    "axs[\"Left\"].legend(loc=\"upper left\")\n",
    "\n",
    "# 1. correlation plot at picked point 1\n",
    "h1 = axs[\"TopRight\"].hist2d(df_p1[\"mbis_charge\"], df_p1[\"tree_charge\"], bins=200, range=xy_range, cmap=\"Greens\", norm=LogNorm(vmin=vmin, vmax=vmax))\n",
    "axs[\"TopRight\"].set_xlabel(\"MBIS charge [e]\")\n",
    "axs[\"TopRight\"].set_ylabel(\"Tree charge [e]\")\n",
    "axs[\"TopRight\"].plot(xy_range[0], xy_range[1], color=\"grey\", linestyle=\"--\")\n",
    "axs[\"TopRight\"].set_aspect(\"equal\")\n",
    "axs[\"TopRight\"].set_title(f\"Attention threshold = {attention_thresholds_to_test[picked_p1]:.2f}\")\n",
    "\n",
    "# 2. correlation plot at picked point 2\n",
    "h2 = axs[\"BottomRight\"].hist2d(df_p2[\"mbis_charge\"], df_p2[\"tree_charge\"], bins=200, range=xy_range, cmap=\"Greens\", norm=LogNorm(vmin=vmin, vmax=vmax))\n",
    "axs[\"BottomRight\"].set_xlabel(\"MBIS charge [e]\")\n",
    "axs[\"BottomRight\"].set_ylabel(\"Tree charge [e]\")\n",
    "axs[\"BottomRight\"].plot(xy_range[0], xy_range[1], color=\"grey\", linestyle=\"--\")\n",
    "axs[\"BottomRight\"].set_aspect(\"equal\")\n",
    "axs[\"BottomRight\"].set_title(f\"Attention threshold = {attention_thresholds_to_test[picked_p2]:.2f}\")\n",
    "\n",
    "# color bars\n",
    "cbar1 = fig.colorbar(h1[3], ax=axs[\"TopRight\"], label=\"Counts (log scale) [a.u.]\", shrink=0.7)\n",
    "cbar2 = fig.colorbar(h2[3], ax=axs[\"BottomRight\"], label=\"Counts (log scale) [a.u.]\", shrink=0.7)\n",
    "\n",
    "#mark points in main plot\n",
    "axs[\"Left\"].scatter(attention_thresholds_to_test[picked_p1], rmse_list_attthresh[picked_p1], color=\"C1\", marker=\"o\", s=100)\n",
    "axs[\"Left\"].scatter(attention_thresholds_to_test[picked_p2], rmse_list_attthresh[picked_p2], color=\"C1\", marker=\"o\", s=100)\n",
    "\n",
    "#draw fine grey lines from the mark to the corresponding plot\n",
    "con = ConnectionPatch(xyA=(attention_thresholds_to_test[picked_p1], rmse_list_attthresh[picked_p1]), xyB=(xy_range[1][0], xy_range[1][0]), coordsA=\"data\", coordsB=\"data\", axesA=axs[\"Left\"], axesB=axs[\"TopRight\"], color=\"grey\", linestyle=\"--\", linewidth=1)\n",
    "axs[\"Left\"].add_artist(con)\n",
    "con = ConnectionPatch(xyA=(attention_thresholds_to_test[picked_p1], rmse_list_attthresh[picked_p1]), xyB=(xy_range[1][0], xy_range[1][1]), coordsA=\"data\", coordsB=\"data\", axesA=axs[\"Left\"], axesB=axs[\"TopRight\"], color=\"grey\", linestyle=\"--\", linewidth=1)\n",
    "axs[\"Left\"].add_artist(con)\n",
    "con = ConnectionPatch(xyA=(attention_thresholds_to_test[picked_p2], rmse_list_attthresh[picked_p2]), xyB=(xy_range[1][0], xy_range[1][0]), coordsA=\"data\", coordsB=\"data\", axesA=axs[\"Left\"], axesB=axs[\"BottomRight\"], color=\"grey\", linestyle=\"--\", linewidth=1)\n",
    "axs[\"Left\"].add_artist(con)\n",
    "con = ConnectionPatch(xyA=(attention_thresholds_to_test[picked_p2], rmse_list_attthresh[picked_p2]), xyB=(xy_range[1][0], xy_range[1][1]), coordsA=\"data\", coordsB=\"data\", axesA=axs[\"Left\"], axesB=axs[\"BottomRight\"], color=\"grey\", linestyle=\"--\", linewidth=1)\n",
    "axs[\"Left\"].add_artist(con)\n",
    "\n",
    "# final adjustments\n",
    "#fig.tight_layout(pad=0.1)\n",
    "plt.subplots_adjust(wspace=0.3, hspace=0.1)\n",
    "plt.savefig(\"test_123_attthreshRMSE+Corr2.pdf\")\n",
    "plt.show()"
   ]
  },
  {
   "cell_type": "code",
   "execution_count": null,
   "metadata": {},
   "outputs": [],
   "source": [
    "# min attention\n",
    "df_att_vs_rmse[df_att_vs_rmse[\"rmse\"] == df_att_vs_rmse[\"rmse\"].min()]"
   ]
  },
  {
   "cell_type": "code",
   "execution_count": null,
   "metadata": {},
   "outputs": [],
   "source": [
    "df_dict_attThresh[78].head(2)"
   ]
  },
  {
   "cell_type": "code",
   "execution_count": null,
   "metadata": {},
   "outputs": [],
   "source": [
    "df_test = df_dict_attThresh[78]\n",
    "tree_norm_list = []\n",
    "for mol_idx in df_test[\"mol_index\"].unique():\n",
    "    df_test_temp = df_test[df_test[\"mol_index\"] == mol_idx]\n",
    "    charges_raw = df_test_temp[\"tree_raw\"]\n",
    "    charge_sum = charges_raw.sum()\n",
    "    num_atoms = len(charges_raw)\n",
    "    charges_norm = charges_raw - (charge_sum/num_atoms)\n",
    "    tree_norm_list.extend(charges_norm.values.tolist())\n",
    "df_test[\"tree_norm\"] = tree_norm_list"
   ]
  },
  {
   "cell_type": "code",
   "execution_count": null,
   "metadata": {},
   "outputs": [],
   "source": [
    "df_test = df_dict_attThresh[78]\n",
    "rmse_raw = rmse(df_test[\"tree_raw\"], df_test[\"mbis_charge\"])\n",
    "r2_raw = r2_correlation(df_test[\"tree_raw\"], df_test[\"mbis_charge\"])\n",
    "percentile_raw = percentile(df_test[\"tree_raw\"], df_test[\"mbis_charge\"])\n",
    "ratio_over_0_05_raw = ratio_over_0_05(df_test[\"tree_raw\"], df_test[\"mbis_charge\"])\n",
    "rmse_norm = rmse(df_test[\"tree_norm\"], df_test[\"mbis_charge\"])\n",
    "r2_norm = r2_correlation(df_test[\"tree_norm\"], df_test[\"mbis_charge\"])\n",
    "percentile_norm = percentile(df_test[\"tree_norm\"], df_test[\"mbis_charge\"])\n",
    "ratio_over_0_05_norm = ratio_over_0_05(df_test[\"tree_norm\"], df_test[\"mbis_charge\"])\n",
    "rmse_std = rmse(df_test[\"tree_charge\"], df_test[\"mbis_charge\"])\n",
    "r2_std = r2_correlation(df_test[\"tree_charge\"], df_test[\"mbis_charge\"])\n",
    "percentile_std = percentile(df_test[\"tree_charge\"], df_test[\"mbis_charge\"])\n",
    "ratio_over_0_05_std = ratio_over_0_05(df_test[\"tree_charge\"], df_test[\"mbis_charge\"])\n",
    "\n",
    "df_norms = pd.DataFrame([[rmse_raw, r2_raw, percentile_raw, ratio_over_0_05_raw], [rmse_norm, r2_norm, percentile_norm, ratio_over_0_05_norm], [rmse_std, r2_std, percentile_std, ratio_over_0_05_std]], columns=[\"RMSE\", \"R2\", \"Percentile\", \"Ratio over 0.05\"], index=[\"raw\", \"normalized\", \"std. weighted\"])"
   ]
  },
  {
   "cell_type": "code",
   "execution_count": null,
   "metadata": {},
   "outputs": [],
   "source": [
    "df_norms"
   ]
  },
  {
   "cell_type": "code",
   "execution_count": null,
   "metadata": {},
   "outputs": [],
   "source": [
    "fig, ax = plt.subplots(figsize=(6,6))\n",
    "df_norms[\"RMSE\"].plot.bar(ax=ax, color=\"lime\", position=1, width=0.4)\n",
    "ax.set_ylabel(\"RMSE [e]\")\n",
    "ax.set_ylim([0.028,0.0293])\n",
    "twin_ax = ax.twinx()\n",
    "df_norms[\"R2\"].plot.bar(ax=twin_ax, color=\"darkgreen\", position=0, width=0.4)\n",
    "twin_ax.set_ylabel(\"R2\")\n",
    "twin_ax.set_ylim([0.99,0.994])\n",
    "ax.set_xlim([-0.5,2.5])\n",
    "fig.legend(loc=\"upper center\", ncol=2, bbox_to_anchor=(0.5, 0.85))\n",
    "plt.savefig(\"test_123_norms.pdf\", bbox_inches=\"tight\")\n",
    "plt.show()"
   ]
  },
  {
   "cell_type": "code",
   "execution_count": null,
   "metadata": {},
   "outputs": [],
   "source": [
    "#plot rmse per element\n",
    "fig, ax = plt.subplots(figsize=(12,6), ncols=2, nrows=1, width_ratios=[1.7,1])\n",
    "df_test.groupby(\"element\").apply(lambda x: rmse(x[\"tree_charge\"], x[\"mbis_charge\"])).sort_values(ascending=False).plot.bar(ax=ax[1], color=\"lime\", position=1, width=0.4)\n",
    "df_test.groupby(\"element\").apply(lambda x: rmse(x[\"tree_raw\"], x[\"mbis_charge\"])).sort_values(ascending=False).plot.bar(ax=ax[1], color=\"darkgreen\", position=0, width=0.4)\n",
    "ax[1].set_ylabel(\"RMSE [e]\")\n",
    "ax[1].set_xlabel(\"Element\")\n",
    "ax[1].set_xlim([-0.5, 10.5])\n",
    "ax[1].legend([\"norm\", \"raw\"])\n",
    "# 2d histogram tree_charge vs mbis_charge\n",
    "ax[0].hist2d(df_test[\"mbis_charge\"], df_test[\"tree_charge\"], bins=100, cmap=\"Greens\", norm=LogNorm(0.6, 1000))\n",
    "ax[0].set_ylabel(\"Tree charge [e]\")\n",
    "ax[0].set_xlabel(\"MBIS charge [e]\")\n",
    "ax[0].set_xlim([-2, 2.5])\n",
    "ax[0].set_ylim([-2, 2.5])\n",
    "ax[0].plot([-2, 2.5], [-2, 2.5], color=\"black\", linestyle=\"--\")\n",
    "ax[0].set_aspect(\"equal\")\n",
    "cbar = fig.colorbar(plt.cm.ScalarMappable(norm=LogNorm(0.6, 1000), cmap=\"Greens\"), ax=ax[0], shrink=0.75)\n",
    "cbar.set_label(\"Counts [a.u.]\")\n",
    "fig.set_tight_layout(True)\n",
    "plt.savefig(\"test_123_rmsePerElement.pdf\", bbox_inches=\"tight\")\n",
    "plt.show()"
   ]
  },
  {
   "cell_type": "code",
   "execution_count": null,
   "metadata": {},
   "outputs": [],
   "source": [
    "num_unique_mols = len(df_test[\"mol_index\"].unique())\n",
    "print(f\"Number of unique molecules: {num_unique_mols}\")\n"
   ]
  },
  {
   "cell_type": "code",
   "execution_count": null,
   "metadata": {},
   "outputs": [],
   "source": [
    "del df_dict_attThresh"
   ]
  },
  {
   "attachments": {},
   "cell_type": "markdown",
   "metadata": {},
   "source": [
    "## Depth test"
   ]
  },
  {
   "cell_type": "code",
   "execution_count": null,
   "metadata": {},
   "outputs": [],
   "source": [
    "attention_thresholds_to_test = list(range(1, 18))\n",
    "df_dict_depth = {}\n",
    "for df_idx in range(1,18):\n",
    "    try:\n",
    "        df = pd.read_csv(f\"{folder_depth}/df_{df_idx}.csv\")\n",
    "        df_dict_depth[df_idx] = df\n",
    "    except:\n",
    "        pass"
   ]
  },
  {
   "cell_type": "code",
   "execution_count": null,
   "metadata": {},
   "outputs": [],
   "source": [
    "df_att_vs_rmse_temp = {}\n",
    "df_att_vs_r2_temp = {}\n",
    "df_att_vs_ratio_temp = {}\n",
    "df_att_vs_90p_temp = {}\n",
    "for df_idx in df_dict_depth.keys():\n",
    "    df = df_dict_depth[df_idx]\n",
    "    df_att_vs_rmse_temp[df_idx] = rmse(df[\"mbis_charge\"], df[\"tree_charge\"])\n",
    "    df_att_vs_r2_temp[df_idx] = r2_correlation(df[\"mbis_charge\"], df[\"tree_charge\"])\n",
    "    df_att_vs_ratio_temp[df_idx] = ratio_over_0_05(df[\"mbis_charge\"], df[\"tree_charge\"])\n",
    "    df_att_vs_90p_temp[df_idx] = percentile(df[\"mbis_charge\"], df[\"tree_charge\"], p=90)\n",
    "df_depth_vs_rmse = pd.DataFrame.from_dict(df_att_vs_rmse_temp, orient=\"index\", columns=[\"rmse\"])\n",
    "df_depth_vs_r2 = pd.DataFrame.from_dict(df_att_vs_r2_temp, orient=\"index\", columns=[\"r2\"])\n",
    "df_depth_vs_ratio = pd.DataFrame.from_dict(df_att_vs_ratio_temp, orient=\"index\", columns=[\"ratio\"])\n",
    "df_depth_vs_90p = pd.DataFrame.from_dict(df_att_vs_90p_temp, orient=\"index\", columns=[\"90p\"])"
   ]
  },
  {
   "cell_type": "code",
   "execution_count": null,
   "metadata": {},
   "outputs": [],
   "source": [
    "rmse_list_depth = [x[0] for x in df_depth_vs_rmse.values.tolist()]\n",
    "depth_to_test = df_depth_vs_rmse.index.tolist()"
   ]
  },
  {
   "cell_type": "code",
   "execution_count": null,
   "metadata": {},
   "outputs": [],
   "source": [
    "font = {'family' : 'DejaVu Sans',\n",
    "        'weight' : 'normal',\n",
    "        'size'   : 16}\n",
    "plt.rc('font', **font)\n",
    "xy_range = [[-1.6,2.2],[-1.6,2.2]]\n",
    "vmax = 1000\n",
    "vmin = 0.1\n",
    "#points picked for correlation plots\n",
    "picked_p1 = 1\n",
    "picked_p2 = 11\n",
    "\n",
    "df_p1 = df_dict_depth[picked_p1]\n",
    "df_p2 = df_dict_depth[picked_p2]\n",
    "\n",
    "fig = plt.figure(figsize=(9,9))#, constrained_layout=True)\n",
    "axs = fig.subplot_mosaic([[\"Left\", \"TopRight\"],[\"Left\", \"BottomRight\"]], width_ratios=[1,1])#, gridspec_kw={\"width_ratios\":[1, 1.6]})\n",
    "axs[\"Left\"].plot(depth_to_test, rmse_list_depth, label=\"RMSE\", color=\"C2\")\n",
    "axs[\"Left\"].set_xlabel(\"Tree depth\")\n",
    "axs[\"Left\"].set_ylabel(\"RMSE [e]\")\n",
    "#axs[\"Left\"].legend(loc=\"upper left\")\n",
    "\n",
    "# 1. correlation plot at picked point 1\n",
    "h1 = axs[\"TopRight\"].hist2d(df_p1[\"mbis_charge\"], df_p1[\"tree_charge\"], bins=200, range=xy_range, cmap=\"Greens\", norm=LogNorm(vmin=vmin, vmax=vmax))\n",
    "axs[\"TopRight\"].set_xlabel(\"MBIS charge [e]\")\n",
    "axs[\"TopRight\"].set_ylabel(\"Tree charge [e]\")\n",
    "axs[\"TopRight\"].plot(xy_range[0], xy_range[1], color=\"grey\", linestyle=\"--\")\n",
    "axs[\"TopRight\"].set_aspect(\"equal\")\n",
    "axs[\"TopRight\"].set_title(f\"Tree depth = {depth_to_test[picked_p1]:.2f}\")\n",
    "\n",
    "# 2. correlation plot at picked point 2\n",
    "h2 = axs[\"BottomRight\"].hist2d(df_p2[\"mbis_charge\"], df_p2[\"tree_charge\"], bins=200, range=xy_range, cmap=\"Greens\", norm=LogNorm(vmin=vmin, vmax=vmax))\n",
    "axs[\"BottomRight\"].set_xlabel(\"MBIS charge [e]\")\n",
    "axs[\"BottomRight\"].set_ylabel(\"Tree charge [e]\")\n",
    "axs[\"BottomRight\"].plot(xy_range[0], xy_range[1], color=\"grey\", linestyle=\"--\")\n",
    "axs[\"BottomRight\"].set_aspect(\"equal\")\n",
    "axs[\"BottomRight\"].set_title(f\"Tree depth = {depth_to_test[picked_p2]:.2f}\")\n",
    "\n",
    "# color bars\n",
    "cbar1 = fig.colorbar(h1[3], ax=axs[\"TopRight\"], label=\"Counts (log scale) [a.u.]\", shrink=0.7)\n",
    "cbar2 = fig.colorbar(h2[3], ax=axs[\"BottomRight\"], label=\"Counts (log scale) [a.u.]\", shrink=0.7)\n",
    "\n",
    "#zoom in on values in main plot x(0.9, 1.1) y(0.04, 0.05)\n",
    "axins = axs[\"Left\"].inset_axes([0.5, 0.7, 0.45, 0.28])\n",
    "axins.plot(depth_to_test, rmse_list_depth, color=\"C2\")\n",
    "axins.set_xlim(10, 17)\n",
    "axins.set_ylim(0.028, 0.029)\n",
    "axs[\"Left\"].indicate_inset_zoom(axins)\n",
    "\n",
    "#mark points in main plot\n",
    "axs[\"Left\"].scatter(depth_to_test[picked_p1], rmse_list_depth[picked_p1], color=\"C1\", marker=\"o\", s=100)\n",
    "axs[\"Left\"].scatter(depth_to_test[picked_p2], rmse_list_depth[picked_p2], color=\"C1\", marker=\"o\", s=100)\n",
    "\n",
    "#draw fine grey lines from the mark to the corresponding plot\n",
    "con = ConnectionPatch(xyA=(depth_to_test[picked_p1], rmse_list_depth[picked_p1]), xyB=(xy_range[1][0], xy_range[1][0]), coordsA=\"data\", coordsB=\"data\", axesA=axs[\"Left\"], axesB=axs[\"TopRight\"], color=\"grey\", linestyle=\"--\", linewidth=1)\n",
    "axs[\"Left\"].add_artist(con)\n",
    "con = ConnectionPatch(xyA=(depth_to_test[picked_p1], rmse_list_depth[picked_p1]), xyB=(xy_range[1][0], xy_range[1][1]), coordsA=\"data\", coordsB=\"data\", axesA=axs[\"Left\"], axesB=axs[\"TopRight\"], color=\"grey\", linestyle=\"--\", linewidth=1)\n",
    "axs[\"Left\"].add_artist(con)\n",
    "con = ConnectionPatch(xyA=(depth_to_test[picked_p2], rmse_list_depth[picked_p2]), xyB=(xy_range[1][0], xy_range[1][0]), coordsA=\"data\", coordsB=\"data\", axesA=axs[\"Left\"], axesB=axs[\"BottomRight\"], color=\"grey\", linestyle=\"--\", linewidth=1)\n",
    "axs[\"Left\"].add_artist(con)\n",
    "con = ConnectionPatch(xyA=(depth_to_test[picked_p2], rmse_list_depth[picked_p2]), xyB=(xy_range[1][0], xy_range[1][1]), coordsA=\"data\", coordsB=\"data\", axesA=axs[\"Left\"], axesB=axs[\"BottomRight\"], color=\"grey\", linestyle=\"--\", linewidth=1)\n",
    "axs[\"Left\"].add_artist(con)\n",
    "\n",
    "# final adjustments\n",
    "#fig.tight_layout(pad=0.1)\n",
    "plt.subplots_adjust(wspace=0.3, hspace=0.1)\n",
    "plt.savefig(\"test_123_depthRMSE+Corr2.pdf\")\n",
    "plt.show()"
   ]
  },
  {
   "cell_type": "code",
   "execution_count": null,
   "metadata": {},
   "outputs": [],
   "source": [
    "time_per_depth = {}\n",
    "for i in range(1, 18):\n",
    "    try:\n",
    "        filei = open(f\"{folder_depth}/slurm-16595052_{i}.out\", \"r\")\n",
    "        lines = filei.readlines()\n",
    "        time_per_depth[i] = float(lines[2].split(\"=\")[-1])\n",
    "    except:\n",
    "        print(f\"File {i} not found\")"
   ]
  },
  {
   "cell_type": "code",
   "execution_count": null,
   "metadata": {},
   "outputs": [],
   "source": [
    "fig, ax = plt.subplots(figsize=(6,6))\n",
    "ax.plot(depth_to_test, rmse_list_depth, label=\"RMSE\", color=\"limegreen\")\n",
    "# twin ax for time\n",
    "ax2 = ax.twinx()\n",
    "ax2.plot(depth_to_test, list(time_per_depth.values()), label=\"Time\", color=\"darkgreen\")\n",
    "\n",
    "ax.set_xlabel(\"Tree depth\")\n",
    "ax.set_ylabel(\"RMSE [e]\")\n",
    "ax2.set_ylabel(\"Time [s]\")\n",
    "\n",
    "fig.legend(loc=\"upper center\", ncol=2, bbox_to_anchor=(0.5, 0.85))\n",
    "plt.savefig(\"test_123_depthVsTime.pdf\", bbox_inches='tight')"
   ]
  },
  {
   "cell_type": "code",
   "execution_count": null,
   "metadata": {},
   "outputs": [],
   "source": [
    "del df_dict_depth"
   ]
  },
  {
   "attachments": {},
   "cell_type": "markdown",
   "metadata": {},
   "source": [
    "## 4 charges"
   ]
  },
  {
   "cell_type": "code",
   "execution_count": null,
   "metadata": {},
   "outputs": [],
   "source": [
    "df_4charges = pd.read_csv(f\"{folder_4charges}/df_charges.csv\")"
   ]
  },
  {
   "cell_type": "code",
   "execution_count": null,
   "metadata": {},
   "outputs": [],
   "source": [
    "print(f\"RMSE Tree to MBIS: \\t{np.sqrt(np.mean((df_4charges['tree']-df_4charges['mbis'])**2)):0.3f}\")\n",
    "print(f\"RMSE am1Bcc to MBIS: \\t{np.sqrt(np.mean((df_4charges['am1Bcc']-df_4charges['mbis'])**2)):0.3f}\")\n",
    "print(f\"RMSE gasteiger to MBIS: {np.sqrt(np.mean((df_4charges['gasteiger']-df_4charges['mbis'])**2)):0.3f}\")\n",
    "print(f\"RMSE mmff to MBIS: \\t{np.sqrt(np.mean((df_4charges['mmff']-df_4charges['mbis'])**2)):0.3f}\")"
   ]
  },
  {
   "cell_type": "code",
   "execution_count": null,
   "metadata": {},
   "outputs": [],
   "source": [
    "df_4charges[\"am1Bcc\"] = df_4charges[\"am1Bcc\"].apply(lambda x: np.NAN if x == 0. else x)\n",
    "df_4charges.dropna(inplace=True)"
   ]
  },
  {
   "cell_type": "code",
   "execution_count": null,
   "metadata": {},
   "outputs": [],
   "source": [
    "rmse_list = []\n",
    "r2_list = []\n",
    "for col in [\"am1Bcc\", \"tree\", \"mmff\", \"gasteiger\"]:\n",
    "    rmse_list.append(np.sqrt(df_4charges[\"mbis\"].sub(df_4charges[col]).pow(2).mean()))\n",
    "    r2_list.append(np.corrcoef(df_4charges[\"mbis\"], df_4charges[col])[0,1]**2)\n",
    "print(rmse_list)\n",
    "print(r2_list)"
   ]
  },
  {
   "cell_type": "code",
   "execution_count": null,
   "metadata": {},
   "outputs": [],
   "source": [
    "font = {'family' : 'DejaVu Sans',\n",
    "        'weight' : 'normal',\n",
    "        'size'   : 14}\n",
    "plt.rc('font', **font)\n",
    "xy_range = [[-1.5,2.3],[-1.5,2.3]]\n",
    "fig, axs = plt.subplots(2, 2, figsize=(10,10), sharex=True, sharey=True)\n",
    "vmin=0.15\n",
    "vmax=10000\n",
    "# plot 2d histograms\n",
    "h1 = axs[0,0].hist2d(df_4charges[\"mbis\"], df_4charges[\"am1Bcc\"], bins=100, range=xy_range, cmap=\"Greens\", norm=LogNorm(vmin=vmin, vmax=vmax))\n",
    "axs[0,0].set_xlabel(\"\")\n",
    "axs[0,0].xaxis.set_label_position('top')\n",
    "axs[0,0].xaxis.tick_top()\n",
    "axs[0,0].set_ylabel(\"charge [e]\")\n",
    "h2 = axs[0,1].hist2d(df_4charges[\"mbis\"], df_4charges[\"tree\"], bins=100, range=xy_range, cmap=\"Greens\", norm=LogNorm(vmin=vmin, vmax=vmax))\n",
    "axs[0,1].set_xlabel(\"\")\n",
    "axs[0,1].xaxis.set_label_position('top')\n",
    "axs[0,1].xaxis.tick_top()\n",
    "axs[0,1].set_ylabel(\"\")\n",
    "axs[0,1].yaxis.set_label_position('right')\n",
    "axs[0,1].yaxis.tick_right()\n",
    "h3 = axs[1,0].hist2d(df_4charges[\"mbis\"], df_4charges[\"mmff\"], bins=100, range=xy_range, cmap=\"Greens\", norm=LogNorm(vmin=vmin, vmax=vmax))\n",
    "axs[1,0].set_xlabel(\"MBIS charge [e]\")\n",
    "axs[1,0].set_ylabel(\"charge [e]\")\n",
    "h4 = axs[1,1].hist2d(df_4charges[\"mbis\"], df_4charges[\"gasteiger\"], bins=100, range=xy_range, cmap=\"Greens\", norm=LogNorm(vmin=vmin, vmax=vmax))\n",
    "axs[1,1].set_xlabel(\"MBIS charge [e]\")\n",
    "axs[1,1].set_ylabel(\"\")\n",
    "axs[1,1].yaxis.set_label_position('right')\n",
    "axs[1,1].yaxis.tick_right()\n",
    "\n",
    "# draw diagonal lines and add axis labels\n",
    "for ax in axs.flat:\n",
    "    ax.plot(xy_range[0], xy_range[1], color=\"grey\", linestyle=\"--\")\n",
    "plt.subplots_adjust(wspace=0, hspace=0)\n",
    "\n",
    "# add colorbar\n",
    "cbar_ax = fig.add_axes([0.95, 0.15, 0.05, 0.7])\n",
    "cbar = fig.colorbar(h1[3], cax=cbar_ax, label=\"Counts (log scale) [a.u.]\")\n",
    "\n",
    "# write name as text in plot\n",
    "#for name, ax in zip([\"a) AM1-BCC\",\"b) DASH\",\"c) MMFF\",\"d) Gasteiger\"], axs.flat):\n",
    "#    ax.text(-1.15, 1.8, name, fontsize=16, fontweight=\"bold\")\n",
    "##\n",
    "for name, ax, rmse_i, r2_i in zip([\"A) AM1-BCC\",\"B) DASH\",\"C) MMFF\",\"D) Gasteiger\"], axs.flat, rmse_list, r2_list):\n",
    "    ax.text(-1.15, 1.8, f\"{name}\", fontsize=16, fontweight=\"bold\")\n",
    "    ax.text(-0.9, 1.4, f\"RMSE: {rmse_i:.2f}\\u2009e\\nR2: {r2_i:.2f}\", fontsize=12)\n",
    "#fig.suptitle(\"Comparison of different charge models to the MBIS reference\", fontsize=20, fontweight=\"bold\")\n",
    "plt.savefig(\"test_123_4charges2.pdf\", bbox_inches='tight')\n",
    "plt.show()"
   ]
  },
  {
   "cell_type": "code",
   "execution_count": null,
   "metadata": {},
   "outputs": [],
   "source": [
    "del df_4charges"
   ]
  },
  {
   "attachments": {},
   "cell_type": "markdown",
   "metadata": {},
   "source": [
    "## Import Tree"
   ]
  },
  {
   "cell_type": "code",
   "execution_count": null,
   "metadata": {},
   "outputs": [],
   "source": [
    "test_tree_pruned = tree()\n",
    "test_tree_pruned.from_folder_pickle(tree_folder)"
   ]
  },
  {
   "attachments": {},
   "cell_type": "markdown",
   "metadata": {},
   "source": [
    "## Atom Features and Attention"
   ]
  },
  {
   "cell_type": "code",
   "execution_count": null,
   "metadata": {},
   "outputs": [],
   "source": [
    "af_list_in_branches = []\n",
    "for branch in test_tree_pruned.root.children:\n",
    "    af_list_in_branches.append([AtomFeatures.lookup_int(x[0]) for x in branch.atoms])"
   ]
  },
  {
   "cell_type": "code",
   "execution_count": null,
   "metadata": {},
   "outputs": [],
   "source": [
    "def shorten_AF(af):\n",
    "    elem, nBonds, charge, isConj, nHs = af.split(\" \")\n",
    "    is_ConjNew = \"T\" if isConj == \"True\" else \"F\"\n",
    "    charge_new = \" \"+charge if eval(charge) >= 0 else charge\n",
    "    return f\"{elem} {nBonds} {charge_new} {is_ConjNew} {nHs}\""
   ]
  },
  {
   "cell_type": "code",
   "execution_count": null,
   "metadata": {},
   "outputs": [],
   "source": [
    "max_attention_lvl_0_list = []\n",
    "for i, child in enumerate(test_tree_pruned.root.children):\n",
    "    max_attention_lvl_0_list.append([i, child.attention, child.count])\n",
    "df_max_attention_lvl_0_list = pd.DataFrame(max_attention_lvl_0_list, columns=[\"branch_idx\", \"attention\", \"count\"])\n",
    "df_max_attention_lvl_0_list.dropna(inplace=True)\n",
    "df_max_attention_lvl_0_list.sort_values(\"attention\", ascending=False, inplace=True)\n",
    "df_max_attention_lvl_0_list[\"af\"] = df_max_attention_lvl_0_list.branch_idx.apply(lambda x: AtomFeatures.lookup_int(test_tree_pruned.root.children[x].atoms[0][0]))\n",
    "df_max_attention_lvl_0_list[\"af_short\"] = df_max_attention_lvl_0_list.af.apply(shorten_AF)\n",
    "df_max_attention_lvl_0_list.sort_values(\"attention\", ascending=False, inplace=True)\n",
    "df_max_attention_lvl_0_list.reset_index(inplace=True, drop=True)\n",
    "df_max_attention_lvl_0_list[\"af_idx\"] = df_max_attention_lvl_0_list.af.apply(lambda x: str(AtomFeatures.lookup_str(x)))"
   ]
  },
  {
   "cell_type": "code",
   "execution_count": null,
   "metadata": {},
   "outputs": [],
   "source": [
    "df_max_attention_lvl_0_list.head()"
   ]
  },
  {
   "cell_type": "code",
   "execution_count": null,
   "metadata": {},
   "outputs": [],
   "source": [
    "plt.rcParams.update({'font.size': 11})\n",
    "fig, ax = plt.subplots(figsize=(15,5))\n",
    "# use af, af_short or af_idx\n",
    "df_max_attention_lvl_0_list.plot.line(x=\"af_idx\", y=\"attention\", ax=ax, color=\"lime\", linewidth=3)\n",
    "df_max_attention_lvl_0_list.plot.bar(x=\"af_idx\", y=\"count\", ax=ax, secondary_y=True, log=True, color=\"darkgreen\")\n",
    "ax.set_xlabel(\"atom feature\", fontsize=16)\n",
    "ax.set_ylabel(\"attention per atom feature in layer 0\", fontsize=16)\n",
    "ax.right_ax.set_ylabel(\"count per atom feature in layer 0\", fontsize=16)\n",
    "fig.savefig(\"test_123_AttentionPerFeature.pdf\", bbox_inches=\"tight\")\n",
    "fig.show()\n",
    "plt.rcParams.update({'font.size': 16})"
   ]
  },
  {
   "cell_type": "code",
   "execution_count": null,
   "metadata": {},
   "outputs": [],
   "source": [
    "h_idx = (np.where(np.array(af_list_in_branches) == \"H 1 0 False 0\"))[0][0]\n",
    "f_idx = (np.where(np.array(af_list_in_branches) == \"F 1 0 False 0\"))[0][0]\n",
    "cl_idx = (np.where(np.array(af_list_in_branches) == \"Cl 1 0 False 0\"))[0][0]\n",
    "br_idx = (np.where(np.array(af_list_in_branches) == \"Br 1 0 False 0\"))[0][0]\n",
    "i_idx = (np.where(np.array(af_list_in_branches) == \"I 1 0 False 0\"))[0][0]\n",
    "#halogen_indices = [48,34,13,89]\n",
    "halogen_indices = [f_idx, cl_idx, br_idx, i_idx]\n",
    "print(halogen_indices)"
   ]
  },
  {
   "cell_type": "code",
   "execution_count": null,
   "metadata": {},
   "outputs": [],
   "source": [
    "collected_attention_per_node = []\n",
    "def collect_attention(node):\n",
    "    collected_attention_per_node.append([node.level, node.attention])\n",
    "    for child in node.children:\n",
    "        collect_attention(child)"
   ]
  },
  {
   "cell_type": "code",
   "execution_count": null,
   "metadata": {},
   "outputs": [],
   "source": [
    "collected_attention_per_node_for_branches_halogens = {}\n",
    "for branch_idx in halogen_indices:\n",
    "    collected_attention_per_node = []\n",
    "    collect_attention(test_tree_pruned.root.children[branch_idx])\n",
    "    df_tmp = pd.DataFrame(collected_attention_per_node, columns=[\"level\", \"attention\"])\n",
    "    df_tmp_mean = df_tmp.groupby(\"level\").mean()\n",
    "    df_tmp_mean[\"std\"] = df_tmp.groupby(\"level\").std()\n",
    "    df_tmp_mean.loc[-1] = [0.0, 0.0]\n",
    "    df_tmp_mean.index = df_tmp_mean.index + 1\n",
    "    df_tmp_mean.sort_index(inplace=True)\n",
    "    df_tmp_mean.fillna(0, inplace=True)\n",
    "    collected_attention_per_node_for_branches_halogens[branch_idx] = df_tmp_mean"
   ]
  },
  {
   "cell_type": "code",
   "execution_count": null,
   "metadata": {},
   "outputs": [],
   "source": [
    "fig, ax = plt.subplots(figsize=(5,5))\n",
    "for branch_idx in halogen_indices:\n",
    "    collected_attention_per_node_for_branches_halogens[branch_idx][\"attention\"].cumsum().plot.line(ax=ax, label=AtomFeatures.lookup_int(test_tree_pruned.root.children[branch_idx].atoms[0][0]), linewidth=3)\n",
    "ax.set_xlabel(\"tree depth\")\n",
    "ax.set_ylabel(\"cumulative attention\")\n",
    "ax.set_ylim(0.4,1.7)\n",
    "ax.set_xlim(0,12)\n",
    "ax.legend()\n",
    "fig.savefig(\"test_123_cumulativeAttentionPerLevelForHalogenBranches_noFill.pdf\", bbox_inches=\"tight\")\n",
    "fig.show()"
   ]
  },
  {
   "attachments": {},
   "cell_type": "markdown",
   "metadata": {},
   "source": [
    "## charge distribution with depth"
   ]
  },
  {
   "cell_type": "code",
   "execution_count": null,
   "metadata": {},
   "outputs": [],
   "source": [
    "value_level_af_list = []\n",
    "\n",
    "def get_value_level_af(tree_node):\n",
    "    try:\n",
    "        value = tree_node.result\n",
    "        level = tree_node.level\n",
    "        af = tree_node.atoms\n",
    "        value_level_af_list.append([value, level, af])\n",
    "    except:\n",
    "        pass\n",
    "    for child in tree_node.children:\n",
    "        get_value_level_af(child)\n",
    "\n",
    "get_value_level_af(test_tree_pruned.root)"
   ]
  },
  {
   "cell_type": "code",
   "execution_count": null,
   "metadata": {},
   "outputs": [],
   "source": [
    "# split list by level\n",
    "value_level_af_list_by_level = [[]]\n",
    "for entry in value_level_af_list:\n",
    "    if len(value_level_af_list_by_level) < entry[1]:\n",
    "        value_level_af_list_by_level.append([])\n",
    "    value_level_af_list_by_level[entry[1]-1].append(entry)"
   ]
  },
  {
   "cell_type": "code",
   "execution_count": null,
   "metadata": {},
   "outputs": [],
   "source": [
    "fig, ax = plt.subplots(ncols=2, nrows=2, figsize=(10,10))\n",
    "xy_range = [-1.5, 2]\n",
    "ax[0,0].hist([x[0] for x in value_level_af_list_by_level[0]], bins=2000, label=\"level 0\", range=xy_range, log=True, color=\"darkgreen\")\n",
    "ax[0,0].set_xlim(xy_range)\n",
    "ax[0,0].set_ylim(0.7,2.6)\n",
    "ax[0,0].set_yticks([1e0,2e0])\n",
    "ax[0,0].set_yticklabels([\"1\",\"2\"])\n",
    "ax[0,0].set_xlabel(\"charge [e]\")\n",
    "ax[0,0].set_ylabel(\"count\")\n",
    "ax[0,0].text(.1,.9,\"A\", fontsize=20, ha='left', va='top', transform=ax[0,0].transAxes)\n",
    "ax[0,1].hist([x[0] for x in value_level_af_list_by_level[1]], bins=2000, label=\"level 1\", range=xy_range, log=True, color=\"darkgreen\")\n",
    "ax[0,1].set_xlim(xy_range)\n",
    "ax[0,1].set_ylim(0.7, 6)\n",
    "ax[0,1].set_yticks([1e0, 2e0, 3e0, 4e0, 5e0, 6e0])\n",
    "ax[0,1].set_yticklabels([\"1\",\"2\",\"3\",\"4\",\"5\",\"6\"])\n",
    "ax[0,1].set_xlabel(\"charge [e]\")\n",
    "ax[0,1].set_ylabel(\"count\")\n",
    "ax[0,1].text(.1,.9,\"B\", fontsize=20, ha='left', va='top', transform=ax[0,1].transAxes)\n",
    "ax[1,0].hist([x[0] for x in value_level_af_list_by_level[5]], bins=2000, label=\"level 5\", range=xy_range, log=True, color=\"darkgreen\")\n",
    "ax[1,0].set_xlim(xy_range)\n",
    "ax[1,0].set_xlabel(\"charge [e]\")\n",
    "ax[1,0].set_ylabel(\"count\")\n",
    "ax[1,0].text(.1,.9,\"C\", fontsize=20, ha='left', va='top', transform=ax[1,0].transAxes)\n",
    "ax[1,1].hist([x[0] for x in value_level_af_list_by_level[10]], bins=2000, label=\"level 10\", range=xy_range, log=True, color=\"darkgreen\")\n",
    "ax[1,1].set_xlim(xy_range)\n",
    "ax[1,1].set_xlabel(\"charge [e]\")\n",
    "ax[1,1].set_ylabel(\"count\")\n",
    "ax[1,1].text(.1,.9,\"D\", fontsize=20, ha='left', va='top', transform=ax[1,1].transAxes)\n",
    "fig.tight_layout()\n",
    "fig.savefig(\"test_123_ChgDistrDepth.pdf\", bbox_inches=\"tight\")"
   ]
  },
  {
   "attachments": {},
   "cell_type": "markdown",
   "metadata": {},
   "source": [
    "## CNF Diff"
   ]
  },
  {
   "cell_type": "code",
   "execution_count": null,
   "metadata": {},
   "outputs": [],
   "source": [
    "df_cnf = pd.read_csv(f\"{folder_explain}df_conf_diff.csv\")"
   ]
  },
  {
   "cell_type": "code",
   "execution_count": null,
   "metadata": {},
   "outputs": [],
   "source": [
    "rmse_gnnVSmbis = np.sqrt(np.mean((df_cnf[\"gnn\"] - df_cnf[\"mbis_charges\"])**2))\n",
    "r2_gnnVSmbis = np.corrcoef(df_cnf[\"gnn\"], df_cnf[\"mbis_charges\"])[0,1]**2\n",
    "mae_gnnVSmbis = np.mean(np.abs(df_cnf[\"gnn\"] - df_cnf[\"mbis_charges\"]))\n",
    "print(f\"RMSE GNN vs MBIS: {rmse_gnnVSmbis:.5f}\")\n",
    "print(f\"R2 GNN vs MBIS: {r2_gnnVSmbis:.5f}\")\n",
    "print(f\"MAE GNN vs MBIS: {mae_gnnVSmbis:.5f}\")"
   ]
  },
  {
   "cell_type": "code",
   "execution_count": null,
   "metadata": {},
   "outputs": [],
   "source": [
    "df_cnf[\"d_cnf\"] = np.abs(df_cnf[\"delta_cnf\"])\n",
    "df_cnf[\"d_gnn\"] = np.abs(df_cnf[\"mbis_charges\"] - df_cnf[\"gnn\"])"
   ]
  },
  {
   "cell_type": "code",
   "execution_count": null,
   "metadata": {},
   "outputs": [],
   "source": [
    "df_cnf.head(2)"
   ]
  },
  {
   "cell_type": "code",
   "execution_count": null,
   "metadata": {},
   "outputs": [],
   "source": [
    "#GNN to MBIS and MBIS to CNF as line plot of histogram\n",
    "fig, ax = plt.subplots(figsize=(5,5))\n",
    "df_cnf[\"d_gnn\"].plot.hist(bins=100, ax=ax, color=\"C2\", logy=True, range=[0, 0.4], histtype=\"step\")#, density=True)\n",
    "df_cnf[\"d_cnf\"].plot.hist(bins=100, ax=ax, color=\"C0\", logy=True, range=[0, 0.4], histtype=\"step\")#, density=True)#alpha=0.6\n",
    "ax.set_xlabel(\"Absolute difference [e]\")\n",
    "ax.set_ylabel(\"Count\")\n",
    "ax.set_xlim(0, 0.4)\n",
    "ax.legend([\"GNN to MBIS reference\", \"MBIS to CNF median\"])\n",
    "fig.tight_layout()\n",
    "fig.savefig(\"test_123_abs_diff_cnfs_line.pdf\", bbox_inches=\"tight\")\n",
    "fig.show()"
   ]
  },
  {
   "cell_type": "code",
   "execution_count": null,
   "metadata": {},
   "outputs": [],
   "source": [
    "df_cnf.sort_values(\"d_cnf\", ascending=False, inplace=True)"
   ]
  },
  {
   "cell_type": "code",
   "execution_count": null,
   "metadata": {},
   "outputs": [],
   "source": [
    "max_outlier = df_cnf.iloc[9899]\n",
    "mol_idx_max_outlier = int(max_outlier[\"mol_idx\"])\n",
    "atom_idx_max_outlier = int(max_outlier[\"atom_idx\"])"
   ]
  },
  {
   "cell_type": "code",
   "execution_count": null,
   "metadata": {},
   "outputs": [],
   "source": [
    "mol_with_cnf_idx_max_outlier = int(max_outlier[\"mol_with_cnf_idx\"])"
   ]
  },
  {
   "cell_type": "code",
   "execution_count": null,
   "metadata": {},
   "outputs": [],
   "source": [
    "cnf_mol_idx1, cnf_mol_idx2, cnf_mol_idx3 = [int(x) for x in df_cnf[df_cnf[\"mol_with_cnf_idx\"] == mol_with_cnf_idx_max_outlier].mol_idx.unique()]"
   ]
  },
  {
   "cell_type": "code",
   "execution_count": null,
   "metadata": {},
   "outputs": [],
   "source": [
    "df_line_cnf1 = df_cnf[(df_cnf[\"mol_idx\"] == cnf_mol_idx1) & (df_cnf[\"atom_idx\"] == atom_idx_max_outlier)]\n",
    "df_line_cnf2 = df_cnf[(df_cnf[\"mol_idx\"] == cnf_mol_idx2) & (df_cnf[\"atom_idx\"] == atom_idx_max_outlier)]\n",
    "df_line_cnf3 = df_cnf[(df_cnf[\"mol_idx\"] == cnf_mol_idx3) & (df_cnf[\"atom_idx\"] == atom_idx_max_outlier)]"
   ]
  },
  {
   "cell_type": "code",
   "execution_count": null,
   "metadata": {},
   "outputs": [],
   "source": [
    "outlier_mol_conf1 = mol_sup_comb[cnf_mol_idx1]\n",
    "outlier_mol_conf2 = mol_sup_comb[cnf_mol_idx2]\n",
    "outlier_mol_conf3 = mol_sup_comb[cnf_mol_idx3]"
   ]
  },
  {
   "cell_type": "code",
   "execution_count": null,
   "metadata": {},
   "outputs": [],
   "source": [
    "df_line_cnf1"
   ]
  },
  {
   "cell_type": "code",
   "execution_count": null,
   "metadata": {},
   "outputs": [],
   "source": [
    "df_line_cnf2"
   ]
  },
  {
   "cell_type": "code",
   "execution_count": null,
   "metadata": {},
   "outputs": [],
   "source": [
    "df_line_cnf3"
   ]
  },
  {
   "cell_type": "code",
   "execution_count": null,
   "metadata": {},
   "outputs": [],
   "source": [
    "def draw_mol_with_highlights(mol, hit_ats, style=None):\n",
    "    \"\"\"Draw molecule in 3D with highlighted atoms. \n",
    "    Parameters\n",
    "    ----------\n",
    "    mol : RDKit molecule\n",
    "    hit_ats : tuple of tuples\n",
    "        atoms to highlight, from RDKit's GetSubstructMatches\n",
    "    style : dict, optional\n",
    "        drawing style, see https://3dmol.csb.pitt.edu/doc/$3Dmol.GLViewer.html for some examples\n",
    "    Returns\n",
    "    -------\n",
    "    py3Dmol viewer\n",
    "    \"\"\"\n",
    "    v = py3Dmol.view()\n",
    "    if style is None: \n",
    "        style = {'stick':{'colorscheme':'grayCarbon', \"linewidth\": 0.1}}\n",
    "    v.addModel(Chem.MolToMolBlock(mol), \"mol\") \n",
    "    v.setStyle({'model':0},style)\n",
    "    #hit_ats = [x for tup in hit_ats for x in tup]\n",
    "    for atom in hit_ats:\n",
    "        p = mol.GetConformer().GetAtomPosition(atom)\n",
    "        v.addSphere({\"center\":{\"x\":p.x,\"y\":p.y,\"z\":p.z},\"radius\":0.9,\"color\":'green', \"alpha\": 0.8})\n",
    "    v.zoomTo()\n",
    "    return v"
   ]
  },
  {
   "cell_type": "code",
   "execution_count": null,
   "metadata": {},
   "outputs": [],
   "source": [
    "draw_mol_with_highlights(outlier_mol_conf1, [atom_idx_max_outlier])"
   ]
  },
  {
   "cell_type": "code",
   "execution_count": null,
   "metadata": {},
   "outputs": [],
   "source": [
    "draw_mol_with_highlights(outlier_mol_conf2, [atom_idx_max_outlier])"
   ]
  },
  {
   "cell_type": "code",
   "execution_count": null,
   "metadata": {},
   "outputs": [],
   "source": [
    "draw_mol_with_highlights(outlier_mol_conf3, [atom_idx_max_outlier])"
   ]
  },
  {
   "attachments": {},
   "cell_type": "markdown",
   "metadata": {},
   "source": [
    "## Amino Acids"
   ]
  },
  {
   "cell_type": "code",
   "execution_count": null,
   "metadata": {},
   "outputs": [],
   "source": [
    "mol_sup_aa = Chem.SDMolSupplier(sdf_aa_file_path, removeHs=False)\n",
    "print(len(mol_sup_aa))"
   ]
  },
  {
   "cell_type": "code",
   "execution_count": null,
   "metadata": {},
   "outputs": [],
   "source": [
    "ff = ForceField(\"openff_unconstrained-2.0.0.offxml\")"
   ]
  },
  {
   "cell_type": "code",
   "execution_count": null,
   "metadata": {},
   "outputs": [],
   "source": [
    "# calculate am1Bcc charges and time it\n",
    "start_time = time.time()\n",
    "matching_time_off = 0\n",
    "am1Bcc_charges = []\n",
    "for mol in tqdm(mol_sup_aa):\n",
    "    molecule = Molecule.from_rdkit(mol, allow_undefined_stereo=True)\n",
    "    charges_tmp = ff.get_partial_charges(molecule)\n",
    "    charges = [round(float(item), 5) for item in charges_tmp.value_in_unit(charges_tmp.unit).tolist()]\n",
    "    am1Bcc_charges.append(charges)\n",
    "matching_time_off = time.time() - start_time"
   ]
  },
  {
   "cell_type": "code",
   "execution_count": null,
   "metadata": {},
   "outputs": [],
   "source": [
    "# calculate gasteiger charges and time it\n",
    "start_time = time.time()\n",
    "matching_time_gasteiger = 0\n",
    "gasteiger_charges = []\n",
    "for mol in tqdm(mol_sup_aa):\n",
    "    AllChem.ComputeGasteigerCharges(mol)\n",
    "    gasteiger_charges.append([round(float(x.GetProp(\"_GasteigerCharge\")), 5) for x in mol.GetAtoms()])\n",
    "matching_time_gasteiger = time.time() - start_time"
   ]
  },
  {
   "cell_type": "code",
   "execution_count": null,
   "metadata": {},
   "outputs": [],
   "source": [
    "# calculate rdkit MMFF charges and time it\n",
    "start_time = time.time()\n",
    "matching_time_mmff = 0\n",
    "mmff_charges = []\n",
    "for mol in tqdm(mol_sup_aa):\n",
    "    try:\n",
    "        mm = AllChem.MMFFGetMoleculeProperties(mol)\n",
    "        mmff_charges.append([round(float(mm.GetMMFFPartialCharge(x)),5) for x in range(mol.GetNumAtoms())])\n",
    "    except:\n",
    "        mmff_charges.append([0 for x in range(mol.GetNumAtoms())])\n",
    "matching_time_mmff = time.time() - start_time"
   ]
  },
  {
   "cell_type": "code",
   "execution_count": null,
   "metadata": {},
   "outputs": [],
   "source": [
    "# calculate tree charges and time it\n",
    "start_time = time.time()\n",
    "matching_time_tree = 0\n",
    "tree_charges = []\n",
    "for mol in tqdm(mol_sup_aa):\n",
    "    try:\n",
    "        charges = test_tree_pruned.match_molecule_atoms(mol, attention_threshold=5.5)[0]\n",
    "        tree_charges.append(charges)\n",
    "    except:\n",
    "        tree_charges.append([0 for x in range(mol.GetNumAtoms())])\n",
    "matching_time_tree = time.time() - start_time"
   ]
  },
  {
   "cell_type": "code",
   "execution_count": null,
   "metadata": {},
   "outputs": [],
   "source": [
    "print(f\"matching_time_off: {matching_time_off}\")\n",
    "print(f\"matching_time_gasteiger: {matching_time_gasteiger}\")\n",
    "print(f\"matching_time_mmff: {matching_time_mmff}\")\n",
    "print(f\"matching_time_tree: {matching_time_tree}\")"
   ]
  },
  {
   "cell_type": "code",
   "execution_count": null,
   "metadata": {},
   "outputs": [],
   "source": [
    "# get MBIS reference charges and atom elements from sdf\n",
    "mbis_charges = []\n",
    "xtb_charges = []\n",
    "formal_charges = []\n",
    "elements = []\n",
    "mol_idx = []\n",
    "atom_idx = []\n",
    "i = 0\n",
    "for mol in tqdm(mol_sup_aa):\n",
    "    mbis_charge = [float(x) for x in mol.GetProp(\"MBIS_CHARGES\").split(\"|\")]\n",
    "    mbis_charges.append(mbis_charge)\n",
    "    xtb_charge = [float(x) for x in mol.GetProp(\"XTB_MulikenCharge\").split(\"|\")]\n",
    "    xtb_charges.append(xtb_charge)\n",
    "    formal_charges.append([x.GetFormalCharge() for x in mol.GetAtoms()])\n",
    "    elements.append([x.GetSymbol() for x in mol.GetAtoms()])\n",
    "    mol_idx.append([i for x in range(mol.GetNumAtoms())])\n",
    "    atom_idx.append([x for x in range(mol.GetNumAtoms())])\n",
    "    i += 1"
   ]
  },
  {
   "cell_type": "code",
   "execution_count": null,
   "metadata": {},
   "outputs": [],
   "source": [
    "resp_charges = pickle.load(open(f\"{folder_aa}../resp_charges_dict.pickle\", \"rb\"))"
   ]
  },
  {
   "cell_type": "code",
   "execution_count": null,
   "metadata": {},
   "outputs": [],
   "source": [
    "df_aa = pd.DataFrame({\n",
    "    \"mol_idx\": [item for sublist in mol_idx for item in sublist],\n",
    "    \"atom_idx\": [item for sublist in atom_idx for item in sublist],\n",
    "    \"element\": [item for sublist in elements for item in sublist],\n",
    "    \"mbis_charge\": [item for sublist in mbis_charges for item in sublist],\n",
    "    \"xtb_charge\": [item for sublist in xtb_charges for item in sublist],\n",
    "    \"am1Bcc_charge\": [item for sublist in am1Bcc_charges for item in sublist],\n",
    "    \"gasteiger_charge\": [item for sublist in gasteiger_charges for item in sublist],\n",
    "    \"mmff_charge\": [item for sublist in mmff_charges for item in sublist],\n",
    "    \"tree_charge\": [item for sublist in tree_charges for item in sublist],\n",
    "    \"formal_charge\": [item for sublist in formal_charges for item in sublist],\n",
    "})\n",
    "df_aa[\"resp_charge\"] = df_aa.apply(lambda x: resp_charges[x[\"mol_idx\"]][0][x[\"atom_idx\"]], axis=1)\n",
    "df_aa.dropna(inplace=True)"
   ]
  },
  {
   "cell_type": "code",
   "execution_count": null,
   "metadata": {},
   "outputs": [],
   "source": [
    "df_aa.head(2)"
   ]
  },
  {
   "cell_type": "code",
   "execution_count": null,
   "metadata": {},
   "outputs": [],
   "source": [
    "print(np.abs(df_aa[\"mbis_charge\"] - df_aa[\"resp_charge\"]).mean())\n",
    "print(np.abs(df_aa[\"mbis_charge\"] - df_aa[\"tree_charge\"]).mean())"
   ]
  },
  {
   "cell_type": "code",
   "execution_count": null,
   "metadata": {},
   "outputs": [],
   "source": [
    "print(np.sqrt(np.mean((df_aa[\"mbis_charge\"] - df_aa[\"tree_charge\"])**2)))"
   ]
  },
  {
   "cell_type": "code",
   "execution_count": null,
   "metadata": {},
   "outputs": [],
   "source": [
    "rmse_list_aa = []\n",
    "r2_list_aa = []\n",
    "mae_list = []\n",
    "col_names = [\"am1Bcc_charge\", \"tree_charge\", \"mmff_charge\", \"gasteiger_charge\", \"xtb_charge\", \"resp_charge\"]\n",
    "# Titles: \"A) AM1-BCC\",\"B) DASH\",\"C) MMFF\",\"D) Gasteiger\", \"E) XTB\", \"F) RESP\"\n",
    "for col in col_names:\n",
    "    rmse_list.append(np.sqrt(np.mean((df_aa[\"mbis_charge\"] - df_aa[col])**2)))      \n",
    "    r2_list.append(np.corrcoef(df_aa[\"mbis_charge\"], df_aa[col])[0,1]**2)\n",
    "    mae_list.append(np.abs(df_aa[\"mbis_charge\"] - df_aa[col]).mean())"
   ]
  },
  {
   "cell_type": "code",
   "execution_count": null,
   "metadata": {},
   "outputs": [],
   "source": [
    "font = {'family' : 'DejaVu Sans',\n",
    "        'weight' : 'normal',\n",
    "        'size'   : 12}\n",
    "plt.rc('font', **font)\n",
    "xy_range = [[-1.2,1.2],[-1.2,1.2]]\n",
    "fig, axs = plt.subplots(3, 2, figsize=(10,15), sharex=True, sharey=True)\n",
    "h1 = axs[0,0].hist2d(df_aa[\"mbis_charge\"], df_aa[\"am1Bcc_charge\"], bins=100, range=xy_range, cmap=\"Greens\", norm=LogNorm(vmin=0.1, vmax=10))\n",
    "axs[0,0].set_xlabel(\"\")#MBIS charge [e]]\")\n",
    "axs[0,0].xaxis.set_label_position('top')\n",
    "axs[0,0].xaxis.tick_top()\n",
    "axs[0,0].set_ylabel(\"charge [e]\")#AM1-BCC charge [e]\")\n",
    "h2 = axs[0,1].hist2d(df_aa[\"mbis_charge\"], df_aa[\"tree_charge\"], bins=100, range=xy_range, cmap=\"Greens\", norm=LogNorm(vmin=0.1, vmax=10))\n",
    "axs[0,1].set_xlabel(\"\")#MBIS charge [e]\")\n",
    "axs[0,1].xaxis.set_label_position('top')\n",
    "axs[0,1].xaxis.tick_top()\n",
    "axs[0,1].set_ylabel(\"\")#Dash charge [e]\")\n",
    "axs[0,1].yaxis.set_label_position('right')\n",
    "axs[0,1].yaxis.tick_right()\n",
    "h3 = axs[1,0].hist2d(df_aa[\"mbis_charge\"], df_aa[\"mmff_charge\"], bins=100, range=xy_range, cmap=\"Greens\", norm=LogNorm(vmin=0.1, vmax=10))\n",
    "axs[1,0].set_xlabel(\"\")#MBIS charge [e]\")\n",
    "axs[1,0].set_ylabel(\"charge [e]\")#MMFF charge [e]\")\n",
    "h4 = axs[1,1].hist2d(df_aa[\"mbis_charge\"], df_aa[\"gasteiger_charge\"], bins=100, range=xy_range, cmap=\"Greens\", norm=LogNorm(vmin=0.1, vmax=10))\n",
    "axs[1,1].set_xlabel(\"\")#MBIS charge [e]\")\n",
    "axs[1,1].set_ylabel(\"\")#Gasteiger charge [e]\")\n",
    "axs[1,1].yaxis.set_label_position('right')\n",
    "axs[1,1].yaxis.tick_right()\n",
    "h5 = axs[2,0].hist2d(df_aa[\"mbis_charge\"], df_aa[\"xtb_charge\"], bins=100, range=xy_range, cmap=\"Greens\", norm=LogNorm(vmin=0.1, vmax=10))\n",
    "axs[2,0].set_xlabel(\"MBIS charge [e]\")\n",
    "axs[2,0].set_ylabel(\"charge [e]\")#XTB charge [e]\")\n",
    "h6 = axs[2,1].hist2d(df_aa[\"mbis_charge\"], df_aa[\"resp_charge\"], bins=100, range=xy_range, cmap=\"Greens\", norm=LogNorm(vmin=0.1, vmax=10))\n",
    "axs[2,1].set_xlabel(\"MBIS charge [e]\")\n",
    "axs[2,1].set_ylabel(\"\")#RESP charge [e]\")\n",
    "axs[2,1].yaxis.set_label_position('right')\n",
    "axs[2,1].yaxis.tick_right()\n",
    "\n",
    "# draw diagonal lines and add axis labels\n",
    "for ax in axs.flat:\n",
    "    ax.plot(xy_range[0], xy_range[1], color=\"grey\", linestyle=\"--\")\n",
    "plt.subplots_adjust(wspace=0, hspace=0)\n",
    "# add colorbar\n",
    "cbar_ax = fig.add_axes([0.95, 0.15, 0.05, 0.7])\n",
    "cbar = fig.colorbar(h1[3], cax=cbar_ax, label=\"Counts (log scale) [a.u.]\")\n",
    "# write name as text in plot\n",
    "for name, ax, rmse_i, mae_i in zip([\"A) AM1-BCC\",\"B) DASH\",\"C) MMFF\",\"D) Gasteiger\", \"E) XTB\", \"F) RESP\"], axs.flat, rmse_list, mae_list):\n",
    "    ax.text(-1.15, 1, f\"{name}\", fontsize=16, fontweight=\"bold\")\n",
    "    ax.text(-0.9, 0.7, f\"RMSE: {rmse_i:.2f}\\u2009e\\nMAE: {mae_i:.2f}\\u2009e\", fontsize=12)\n",
    "#fig.suptitle(\"Comparison of different charge models to the MBIS reference\\n Dataset: 20 amino acids\", fontsize=20, fontweight=\"bold\")\n",
    "plt.savefig(\"test_123_aa_charges.pdf\", bbox_inches=\"tight\")\n",
    "plt.show()"
   ]
  },
  {
   "cell_type": "code",
   "execution_count": null,
   "metadata": {},
   "outputs": [],
   "source": [
    "matching_time_gnn = 1.021888\n",
    "matching_time_mbis = 8490\n",
    "matching_time_resp = 3*3600 + 2*60 + 56"
   ]
  },
  {
   "cell_type": "code",
   "execution_count": null,
   "metadata": {},
   "outputs": [],
   "source": [
    "df_time = pd.DataFrame({\"method\": [\"AM1-BCC\", \"Gasteiger\", \"MMFF\", \"DASH\", \"RESP\", \"GNN\", \"MBIS\"], \"time [s]\": [matching_time_off, matching_time_gasteiger, matching_time_mmff, matching_time_tree, matching_time_resp, matching_time_gnn, matching_time_mbis]})\n",
    "df_time.sort_values(by=\"time [s]\", inplace=True)"
   ]
  },
  {
   "cell_type": "code",
   "execution_count": null,
   "metadata": {},
   "outputs": [],
   "source": [
    "fig, ax = plt.subplots(figsize=(4, 4))\n",
    "df_time.plot.bar(x=\"method\", y=\"time [s]\", logy=True, figsize=(5, 5), legend=False, color=\"C2\", ax=ax)\n",
    "ax.set_ylabel(\"time [s]\")\n",
    "fig.savefig(\"test_123_aa_time.pdf\", bbox_inches=\"tight\")\n"
   ]
  },
  {
   "attachments": {},
   "cell_type": "markdown",
   "metadata": {},
   "source": [
    "## Symmetry"
   ]
  },
  {
   "cell_type": "code",
   "execution_count": null,
   "metadata": {},
   "outputs": [],
   "source": [
    "def symmetrizeTerminalAtoms(mol,atomPattern='O,N;D1'):\n",
    "    qry = Chem.MolFromSmarts(f'[{atomPattern};$([{atomPattern}]-[*]=[{atomPattern}]),$([{atomPattern}]=[*]-[{atomPattern}])]~[*]')\n",
    "    qb = Chem.BondFromSmarts('-,=')\n",
    "    res = Chem.RWMol(mol)\n",
    "    matches = mol.GetSubstructMatches(qry)\n",
    "    for idx1,idx2 in matches:\n",
    "        bnd = res.GetBondBetweenAtoms(idx1,idx2)\n",
    "        res.ReplaceBond(bnd.GetIdx(),qb)\n",
    "        # adjust charges:\n",
    "        at = res.GetAtomWithIdx(idx1)\n",
    "        at.SetFormalCharge(0)\n",
    "    return res"
   ]
  },
  {
   "cell_type": "code",
   "execution_count": null,
   "metadata": {},
   "outputs": [],
   "source": [
    "def compare_charges_on_symmetric_atoms(mol, mol_idx):\n",
    "    df_entry_list = []\n",
    "    sm = symmetrizeTerminalAtoms(mol)\n",
    "    symCanonRanks = list(Chem.CanonicalRankAtoms(sm,breakTies=False))\n",
    "    tree_charges = test_tree_pruned.match_molecule_atoms(mol)[0]\n",
    "    symCanonRanksSet = set(symCanonRanks)\n",
    "    for rank in symCanonRanksSet:\n",
    "        atom_idx_with_rank = np.where(np.array(symCanonRanks) == rank)[0]\n",
    "        if len(atom_idx_with_rank) > 1:\n",
    "            std_sym_charges = np.std([tree_charges[atom_idx] for atom_idx in atom_idx_with_rank])\n",
    "            max_diff_sym_charges = np.max([tree_charges[atom_idx] for atom_idx in atom_idx_with_rank]) - np.min([tree_charges[atom_idx] for atom_idx in atom_idx_with_rank])\n",
    "            element = mol.GetAtomWithIdx(int(atom_idx_with_rank[0])).GetSymbol()\n",
    "            af = AtomFeatures.atom_features_from_molecule(mol, int(atom_idx_with_rank[0]))\n",
    "            df_entry_list.append({\"mol_idx\":mol_idx, \"atom_idx\":atom_idx_with_rank, \"std_sym_charges\":std_sym_charges, \"element\":element, \"af\":af, \"max_diff_sym_charges\":max_diff_sym_charges})\n",
    "    return df_entry_list  "
   ]
  },
  {
   "cell_type": "code",
   "execution_count": null,
   "metadata": {},
   "outputs": [],
   "source": [
    "#df_entries = []\n",
    "#for mol_idx, mol in tqdm(enumerate(mol_sup_comb), total=len(mol_sup_comb)):\n",
    "#    df_entries.extend(compare_charges_on_symmetric_atoms(mol, mol_idx))\n",
    "#df_sym = pd.DataFrame(df_entries)\n",
    "#df_sym.to_csv(f\"{folder_4charges}test_113_symmetric_atom_charges.csv\", index=False)\n",
    "df_sym = pd.read_csv(f\"{folder_4charges}test_113_symmetric_atom_charges.csv\")"
   ]
  },
  {
   "cell_type": "code",
   "execution_count": null,
   "metadata": {},
   "outputs": [],
   "source": [
    "fig, ax = plt.subplots(figsize=(6,6))\n",
    "df_sym[\"max_diff_sym_charges\"].hist(bins=100, log=True, ax=ax, color=\"C2\")\n",
    "ax.set_xlabel(\"Absolute difference of symmetric atoms [e]\")\n",
    "ax.set_ylabel(\"Count\")\n",
    "ax.set_xlim(0,0.3)\n",
    "fig.savefig(\"test_123_symmetric_atom_charges_max_diff.pdf\", bbox_inches=\"tight\")"
   ]
  },
  {
   "cell_type": "code",
   "execution_count": null,
   "metadata": {},
   "outputs": [],
   "source": [
    "df_sym.head(2)"
   ]
  },
  {
   "cell_type": "code",
   "execution_count": null,
   "metadata": {},
   "outputs": [],
   "source": [
    "df_sym.iloc[0].atom_idx.strip(\"[]\").split(\" \")"
   ]
  },
  {
   "cell_type": "code",
   "execution_count": null,
   "metadata": {},
   "outputs": [],
   "source": [
    "df_sym.sort_values(by=\"max_diff_sym_charges\", ascending=False, inplace=True)"
   ]
  },
  {
   "cell_type": "code",
   "execution_count": null,
   "metadata": {},
   "outputs": [],
   "source": [
    "mol_list = []\n",
    "highlight_list = []\n",
    "legend_list = []\n",
    "for line in df_sym.head(51).itertuples():\n",
    "    try:\n",
    "        mol = mol_sup_comb[int(line.mol_idx)]\n",
    "        mbis_charges = [float(x) for x in mol.GetProp(\"MBIScharge\").split(\"|\")]\n",
    "        AllChem.Compute2DCoords(mol)\n",
    "        atom_idx_pars = [int(x) for x in line.atom_idx.strip(\"[]\").split(\" \")]\n",
    "        highlighted_charges = [mbis_charges[atom_idx] for atom_idx in atom_idx_pars]\n",
    "        legend = f\"af: {line.af}, std: {line.std_sym_charges:.3f}\\n MBIS: \"\n",
    "        for i, chg in enumerate(highlighted_charges):\n",
    "            legend += f\" {chg:.3f}\"\n",
    "        legend_list.append(legend)\n",
    "        mol_list.append(mol)\n",
    "        highlight_list.append(atom_idx_pars)\n",
    "    except:\n",
    "        pass"
   ]
  },
  {
   "cell_type": "code",
   "execution_count": null,
   "metadata": {},
   "outputs": [],
   "source": [
    "len(mol_list)"
   ]
  },
  {
   "cell_type": "code",
   "execution_count": null,
   "metadata": {},
   "outputs": [],
   "source": [
    "print(legend_list[0])\n",
    "print(highlight_list[0])\n",
    "mol_list[0]"
   ]
  },
  {
   "cell_type": "code",
   "execution_count": null,
   "metadata": {},
   "outputs": [],
   "source": [
    "Chem.Draw.MolsToGridImage(mol_list)"
   ]
  },
  {
   "cell_type": "code",
   "execution_count": null,
   "metadata": {},
   "outputs": [],
   "source": [
    "plotGrid = Chem.Draw.MolsToGridImage(mol_list, highlightAtomLists=highlight_list, legends=legend_list, molsPerRow=3, subImgSize=(300,300), useSVG=True)\n",
    "with open(\"test_123_symmetric_atom_charges_max_MolGrid.svg\", \"w\") as f:\n",
    "    f.write(plotGrid.data)\n",
    "plotGrid\n",
    "#plt.savefig(\"test_123_symmetric_atom_charges_max_MolGrid.pdf\", bbox_inches=\"tight\")\n",
    "#plt.show()"
   ]
  },
  {
   "cell_type": "code",
   "execution_count": null,
   "metadata": {},
   "outputs": [],
   "source": [
    "from IPython.display import display, Javascript\n",
    "display(Javascript('IPython.notebook.save_checkpoint();'))"
   ]
  },
  {
   "cell_type": "code",
   "execution_count": null,
   "metadata": {},
   "outputs": [],
   "source": []
  }
 ],
 "metadata": {
  "kernelspec": {
   "display_name": "Python 3.9.13 ('serenityff-charge-test')",
   "language": "python",
   "name": "python3"
  },
  "language_info": {
   "codemirror_mode": {
    "name": "ipython",
    "version": 3
   },
   "file_extension": ".py",
   "mimetype": "text/x-python",
   "name": "python",
   "nbconvert_exporter": "python",
   "pygments_lexer": "ipython3",
   "version": "3.10.9"
  },
  "orig_nbformat": 4,
  "vscode": {
   "interpreter": {
    "hash": "d01f8240a16224ecf1691df01439556071b10b574bf92c0a8d9e73dd9abb4a28"
   }
  }
 },
 "nbformat": 4,
 "nbformat_minor": 2
}
