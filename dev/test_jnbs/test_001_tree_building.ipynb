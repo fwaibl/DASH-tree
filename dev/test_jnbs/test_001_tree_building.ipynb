{
 "cells": [
  {
   "cell_type": "code",
   "execution_count": 1,
   "metadata": {},
   "outputs": [
    {
     "name": "stderr",
     "output_type": "stream",
     "text": [
      "/home/mlehner/.conda/envs/serenityff-charge-test/lib/python3.9/site-packages/tqdm/auto.py:22: TqdmWarning: IProgress not found. Please update jupyter and ipywidgets. See https://ipywidgets.readthedocs.io/en/stable/user_install.html\n",
      "  from .autonotebook import tqdm as notebook_tqdm\n"
     ]
    }
   ],
   "source": [
    "from importlib import reload\n",
    "\n",
    "import os\n",
    "from rdkit import Chem\n",
    "from copy import deepcopy\n",
    "import numpy as np\n",
    "import pandas as pd\n",
    "import time\n",
    "import matplotlib.pyplot as plt\n",
    "\n",
    "from serenityff.charge.tree.tree import tree\n",
    "from serenityff.charge.tree.node import node\n",
    "from serenityff.charge.tree_develop.tree_constructor import Tree_constructor\n",
    "from serenityff.charge.tree.tree_utils import create_new_node_from_develop_node"
   ]
  },
  {
   "cell_type": "code",
   "execution_count": 2,
   "metadata": {},
   "outputs": [],
   "source": [
    "#data_file=\"/localhome/mlehner/sff_data/tot_all.csv\"\n",
    "data_file=\"/localhome/mlehner/sff_data/sff_training_all_niels.csv\"\n",
    "sdf_suply=\"/localhome/mlehner/sff_data/combined.sdf\"\n",
    "nrows=10000000\n",
    "#nrows=1000\n",
    "data_split = 0.01\n",
    "out_folder = \"/home/mlehner/serenityff-charge/dev/test_jnbs/test_004_out\""
   ]
  },
  {
   "cell_type": "code",
   "execution_count": 3,
   "metadata": {},
   "outputs": [
    {
     "name": "stdout",
     "output_type": "stream",
     "text": [
      "2022-09-02 15:42:02.912328\tInitializing Tree_constructor\n",
      "2022-09-02 15:42:02.912417\tMols imported, starting df import\n"
     ]
    }
   ],
   "source": [
    "tree_constructor = Tree_constructor(df_path=data_file, sdf_suplier=sdf_suply, nrows=nrows, num_layers_to_build=5, data_split=data_split, verbose=True)#, read_engine=\"pyarrow\")"
   ]
  },
  {
   "cell_type": "code",
   "execution_count": null,
   "metadata": {},
   "outputs": [],
   "source": [
    "tree_constructor.create_tree_level_0()"
   ]
  },
  {
   "cell_type": "code",
   "execution_count": null,
   "metadata": {},
   "outputs": [],
   "source": [
    "tree_constructor.build_tree()"
   ]
  },
  {
   "cell_type": "code",
   "execution_count": null,
   "metadata": {},
   "outputs": [],
   "source": [
    "tree_constructor.root.children[0]"
   ]
  },
  {
   "cell_type": "code",
   "execution_count": null,
   "metadata": {},
   "outputs": [],
   "source": [
    "tree_constructor.convert_tree_to_node(delDevelop=True)"
   ]
  },
  {
   "cell_type": "code",
   "execution_count": null,
   "metadata": {},
   "outputs": [],
   "source": [
    "tree_constructor.new_root.children[0]"
   ]
  },
  {
   "cell_type": "code",
   "execution_count": null,
   "metadata": {},
   "outputs": [],
   "source": [
    "tree_constructor.new_root"
   ]
  },
  {
   "cell_type": "code",
   "execution_count": null,
   "metadata": {},
   "outputs": [],
   "source": [
    "tree_constructor.new_root.fix_nan_stdDeviation()"
   ]
  },
  {
   "cell_type": "code",
   "execution_count": null,
   "metadata": {},
   "outputs": [],
   "source": [
    "for num, child in enumerate(tree_constructor.new_root.children):\n",
    "    child.to_file(f\"{out_folder}/tree/tree_{num}.csv\")"
   ]
  },
  {
   "cell_type": "code",
   "execution_count": null,
   "metadata": {},
   "outputs": [],
   "source": [
    "#tree_constructor.write_tree_to_file(out_folder+\"/tree.csv\")"
   ]
  },
  {
   "cell_type": "code",
   "execution_count": null,
   "metadata": {},
   "outputs": [],
   "source": [
    "tree_constructor.test_df.to_csv(out_folder+\"/test_df.csv\")"
   ]
  },
  {
   "cell_type": "code",
   "execution_count": null,
   "metadata": {},
   "outputs": [],
   "source": [
    "new_tree = tree()\n",
    "#new_tree.from_folder(out_folder+\"/tree\", verbose=True)\n",
    "new_tree.root = tree_constructor.new_root"
   ]
  },
  {
   "cell_type": "code",
   "execution_count": null,
   "metadata": {},
   "outputs": [],
   "source": [
    "new_tree.root.children[1].children[0]"
   ]
  },
  {
   "cell_type": "code",
   "execution_count": null,
   "metadata": {},
   "outputs": [],
   "source": [
    "for child in new_tree.root.children:\n",
    "    child.prune()"
   ]
  },
  {
   "cell_type": "code",
   "execution_count": null,
   "metadata": {},
   "outputs": [],
   "source": [
    "def try_to_merge_similar_branches(current_node, min_deviation=0.001, children_overlap_acceptance=0.6):\n",
    "        \"\"\"\n",
    "        Try to merge similar branches.\n",
    "\n",
    "        Parameters\n",
    "        ----------\n",
    "        min_deviation : float, optional\n",
    "            threhold for similarity, by default 0.001\n",
    "        children_overlap_acceptance : float, optional\n",
    "            threshold for overlap similarity, by default 0.6\n",
    "        \"\"\"\n",
    "        for idx, child in enumerate(current_node.children):\n",
    "            for other_child in current_node.children[idx + 1 :]:\n",
    "                if child.node_is_similar(other_child, min_deviation=min_deviation):\n",
    "                    control_bool = True\n",
    "                    child_match = 0\n",
    "                    for node_i in child.children:\n",
    "                        if node_i in other_child.children:\n",
    "                            child_match += 1\n",
    "                            if not node_i.node_is_similar(\n",
    "                                other_child.children[other_child.children.index(node_i)],\n",
    "                                min_deviation=min_deviation,\n",
    "                            ):\n",
    "                                control_bool = False\n",
    "                                break\n",
    "                    if (\n",
    "                        control_bool\n",
    "                        and len(child.children) > 0\n",
    "                        and ((child_match / len(child.children)) >= children_overlap_acceptance)\n",
    "                    ):\n",
    "                        child.add_node(other_child)\n",
    "                        current_node.children.remove(other_child)\n",
    "            try_to_merge_similar_branches(child, min_deviation=min_deviation)\n"
   ]
  },
  {
   "cell_type": "code",
   "execution_count": null,
   "metadata": {},
   "outputs": [],
   "source": [
    "try_to_merge_similar_branches(new_tree.root)"
   ]
  },
  {
   "cell_type": "code",
   "execution_count": null,
   "metadata": {},
   "outputs": [],
   "source": [
    "new_tree.root.fix_nan_stdDeviation()"
   ]
  },
  {
   "cell_type": "code",
   "execution_count": null,
   "metadata": {},
   "outputs": [],
   "source": [
    "#tree_constructor.new_root.to_file(out_folder+\"/tree2.csv\")"
   ]
  },
  {
   "cell_type": "code",
   "execution_count": null,
   "metadata": {},
   "outputs": [],
   "source": [
    "for num, child in enumerate(new_tree.root.children):\n",
    "    child.to_file(f\"{out_folder}/tree_pruned/tree_{num}.csv\")"
   ]
  },
  {
   "cell_type": "code",
   "execution_count": null,
   "metadata": {},
   "outputs": [],
   "source": [
    "new_tree.root.children"
   ]
  },
  {
   "cell_type": "code",
   "execution_count": null,
   "metadata": {},
   "outputs": [],
   "source": [
    "test_tree = tree()"
   ]
  },
  {
   "cell_type": "code",
   "execution_count": null,
   "metadata": {},
   "outputs": [],
   "source": [
    "test_tree.root = new_tree.root"
   ]
  },
  {
   "cell_type": "code",
   "execution_count": null,
   "metadata": {},
   "outputs": [],
   "source": [
    "data_external = \"/localhome/mlehner/sff_data/external_test_set_0707.sdf\"\n",
    "data_solv = \"/localhome/mlehner/sff_data/test_set_solf.sdf\""
   ]
  },
  {
   "cell_type": "code",
   "execution_count": null,
   "metadata": {},
   "outputs": [],
   "source": [
    "test_tree.root.children[0]"
   ]
  },
  {
   "cell_type": "code",
   "execution_count": null,
   "metadata": {},
   "outputs": [],
   "source": [
    "df_solv = test_tree.match_dataset(mol_sup=Chem.SDMolSupplier(data_solv, removeHs=False))"
   ]
  },
  {
   "cell_type": "code",
   "execution_count": null,
   "metadata": {},
   "outputs": [],
   "source": [
    "df_solv.head(2)"
   ]
  },
  {
   "cell_type": "code",
   "execution_count": null,
   "metadata": {},
   "outputs": [],
   "source": [
    "def calculate_RMSE_tree_vs_truth(df, arg1, arg2):\n",
    "    return ((df[arg1]-df[arg2])**2).mean()**0.5\n",
    "\n",
    "def calculate_r2_tree_vs_truth(df, arg1, arg2):\n",
    "    return df[[arg1, arg2]].corr()[arg1][arg2]**2"
   ]
  },
  {
   "cell_type": "code",
   "execution_count": null,
   "metadata": {},
   "outputs": [],
   "source": [
    "calculate_RMSE_tree_vs_truth(df_solv, \"truth\", \"tree_norm2\")"
   ]
  },
  {
   "cell_type": "code",
   "execution_count": null,
   "metadata": {},
   "outputs": [],
   "source": [
    "df_ext = test_tree.match_dataset(mol_sup=Chem.SDMolSupplier(data_external, removeHs=False))"
   ]
  },
  {
   "cell_type": "code",
   "execution_count": null,
   "metadata": {},
   "outputs": [],
   "source": [
    "calculate_RMSE_tree_vs_truth(df_ext, \"truth\", \"tree_norm2\")"
   ]
  },
  {
   "cell_type": "code",
   "execution_count": null,
   "metadata": {},
   "outputs": [],
   "source": [
    "test_df = pd.read_csv(out_folder+\"/test_df.csv\")"
   ]
  },
  {
   "cell_type": "code",
   "execution_count": null,
   "metadata": {},
   "outputs": [],
   "source": [
    "df_test = test_tree.match_dataset_with_indices(mol_sup=Chem.SDMolSupplier(sdf_suply, removeHs=False), indices=test_df.mol_index.unique().tolist())"
   ]
  },
  {
   "cell_type": "code",
   "execution_count": null,
   "metadata": {},
   "outputs": [],
   "source": [
    "#calculate_RMSE_tree_vs_truth(df_test, \"truth\", \"tree_norm2\")"
   ]
  },
  {
   "cell_type": "markdown",
   "metadata": {},
   "source": [
    "## prune tune"
   ]
  },
  {
   "cell_type": "code",
   "execution_count": null,
   "metadata": {},
   "outputs": [],
   "source": [
    "test_tree = tree()\n",
    "test_tree.from_folder(out_folder+\"/tree\")"
   ]
  },
  {
   "cell_type": "code",
   "execution_count": null,
   "metadata": {},
   "outputs": [],
   "source": [
    "test_tree.root.children"
   ]
  },
  {
   "cell_type": "code",
   "execution_count": null,
   "metadata": {},
   "outputs": [],
   "source": [
    "np.log10(0.02)"
   ]
  },
  {
   "cell_type": "code",
   "execution_count": null,
   "metadata": {},
   "outputs": [],
   "source": [
    "thresholds = np.logspace(-4, -1.7, num=32)"
   ]
  },
  {
   "cell_type": "code",
   "execution_count": null,
   "metadata": {},
   "outputs": [],
   "source": [
    "tree_depth=[]\n",
    "\n",
    "tree_rmse=[]\n",
    "tree_r2=[]\n",
    "\n",
    "tree_rmse_solv=[]\n",
    "tree_r2_solv=[]\n",
    "\n",
    "tree_rmse_ext=[]\n",
    "tree_r2_ext=[]\n",
    "\n",
    "tree_time=[]\n",
    "\n",
    "\n",
    "for i, threshold in enumerate(thresholds):\n",
    "    print(i)\n",
    "    for child in test_tree.root.children:\n",
    "        child.prune(threshold=threshold)\n",
    "    test_tree.update_tree_length()\n",
    "    tree_depth.append(sum(test_tree.tree_lengths.values()))\n",
    "\n",
    "    # main test\n",
    "    start_time = time.process_time()\n",
    "    df_test = test_tree.match_dataset_with_indices(mol_sup=Chem.SDMolSupplier(sdf_suply, removeHs=False), indices=test_df.mol_index.unique().tolist())\n",
    "    tree_time.append(time.process_time() - start_time)\n",
    "    tree_rmse.append(calculate_RMSE_tree_vs_truth(df_test, \"tree_norm2\", \"truth\"))\n",
    "    tree_r2.append(calculate_r2_tree_vs_truth(df_test, \"tree_norm2\", \"truth\"))\n",
    "\n",
    "    # solv test\n",
    "    df_solv = test_tree.match_dataset(mol_sup=Chem.SDMolSupplier(data_solv, removeHs=False))\n",
    "    tree_rmse_solv.append(calculate_RMSE_tree_vs_truth(df_solv, \"tree_norm2\", \"truth\"))\n",
    "    tree_r2_solv.append(calculate_r2_tree_vs_truth(df_solv, \"tree_norm2\", \"truth\"))\n",
    "\n",
    "    # ext test\n",
    "    df_ext = test_tree.match_dataset(mol_sup=Chem.SDMolSupplier(data_external, removeHs=False))\n",
    "    tree_rmse_ext.append(calculate_RMSE_tree_vs_truth(df_ext, \"tree_norm2\", \"truth\"))\n",
    "    tree_r2_ext.append(calculate_r2_tree_vs_truth(df_ext, \"tree_norm2\", \"truth\"))\n"
   ]
  },
  {
   "cell_type": "code",
   "execution_count": null,
   "metadata": {},
   "outputs": [],
   "source": [
    "df_pruning = pd.DataFrame({\"threshold\": thresholds, \"tree_depth\": tree_depth, \"tree_rmse\": tree_rmse, \"tree_r2\": tree_r2, \"tree_rmse_solv\": tree_rmse_solv, \"tree_r2_solv\": tree_r2_solv, \"tree_rmse_ext\": tree_rmse_ext, \"tree_r2_ext\": tree_r2_ext, \"tree_time\": tree_time})"
   ]
  },
  {
   "cell_type": "code",
   "execution_count": null,
   "metadata": {},
   "outputs": [],
   "source": [
    "df_pruning.head(2)"
   ]
  },
  {
   "cell_type": "code",
   "execution_count": null,
   "metadata": {},
   "outputs": [],
   "source": [
    "df_pruning.plot.line(x=\"threshold\", y=[\"tree_rmse\", \"tree_rmse_solv\", \"tree_rmse_ext\"])"
   ]
  },
  {
   "cell_type": "code",
   "execution_count": null,
   "metadata": {},
   "outputs": [],
   "source": [
    "plt.figure()\n",
    "ax = df_pruning.plot.line(x=\"threshold\", y=[\"tree_rmse\", \"tree_rmse_solv\", \"tree_rmse_ext\", \"tree_depth\"], secondary_y=[\"tree_depth\"])\n",
    "ax.set_xlim([0.001, 0.04])\n",
    "ax.set_ylabel(\"RMSE\")\n",
    "ax.right_ax.set_ylabel(\"Tree Size\")"
   ]
  },
  {
   "cell_type": "code",
   "execution_count": null,
   "metadata": {},
   "outputs": [],
   "source": [
    "df_pruning.plot.line(x=\"threshold\", y=[\"tree_r2\", \"tree_r2_solv\", \"tree_r2_ext\"])"
   ]
  },
  {
   "cell_type": "code",
   "execution_count": null,
   "metadata": {},
   "outputs": [],
   "source": [
    "ax = df_pruning.plot.line(x=\"threshold\", y=\"tree_time\")\n",
    "ax.set_yscale(\"log\")"
   ]
  },
  {
   "cell_type": "code",
   "execution_count": null,
   "metadata": {},
   "outputs": [],
   "source": [
    "df_pruning[\"score\"] = df_pruning[\"tree_time\"] * df_pruning[\"tree_rmse\"] * df_pruning[\"tree_r2\"]"
   ]
  },
  {
   "cell_type": "code",
   "execution_count": null,
   "metadata": {},
   "outputs": [],
   "source": [
    "df_pruning.sort_values(by=\"score\", ascending=True).head(10)"
   ]
  },
  {
   "cell_type": "code",
   "execution_count": null,
   "metadata": {},
   "outputs": [],
   "source": []
  },
  {
   "cell_type": "code",
   "execution_count": null,
   "metadata": {},
   "outputs": [],
   "source": []
  }
 ],
 "metadata": {
  "kernelspec": {
   "display_name": "Python 3.9.13 ('serenityff-charge-test')",
   "language": "python",
   "name": "python3"
  },
  "language_info": {
   "codemirror_mode": {
    "name": "ipython",
    "version": 3
   },
   "file_extension": ".py",
   "mimetype": "text/x-python",
   "name": "python",
   "nbconvert_exporter": "python",
   "pygments_lexer": "ipython3",
   "version": "3.9.13"
  },
  "orig_nbformat": 4,
  "vscode": {
   "interpreter": {
    "hash": "d01f8240a16224ecf1691df01439556071b10b574bf92c0a8d9e73dd9abb4a28"
   }
  }
 },
 "nbformat": 4,
 "nbformat_minor": 2
}
