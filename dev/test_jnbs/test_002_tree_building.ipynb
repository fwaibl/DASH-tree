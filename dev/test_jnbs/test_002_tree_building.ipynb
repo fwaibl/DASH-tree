{
 "cells": [
  {
   "cell_type": "code",
   "execution_count": 1,
   "metadata": {},
   "outputs": [
    {
     "name": "stderr",
     "output_type": "stream",
     "text": [
      "/home/mlehner/.conda/envs/serenityff-charge-test/lib/python3.9/site-packages/tqdm/auto.py:22: TqdmWarning: IProgress not found. Please update jupyter and ipywidgets. See https://ipywidgets.readthedocs.io/en/stable/user_install.html\n",
      "  from .autonotebook import tqdm as notebook_tqdm\n"
     ]
    }
   ],
   "source": [
    "from importlib import reload\n",
    "\n",
    "import os\n",
    "from rdkit import Chem\n",
    "from copy import deepcopy\n",
    "import numpy as np\n",
    "import pandas as pd\n",
    "import time\n",
    "\n",
    "from serenityff.charge.tree_develop.develop_node import develop_node\n",
    "from serenityff.charge.tree.tree import tree\n",
    "from serenityff.charge.tree.node import node\n",
    "from serenityff.charge.tree_develop.tree_constructor import Tree_constructor\n",
    "from serenityff.charge.tree.tree_utils import create_new_node_from_develop_node"
   ]
  },
  {
   "cell_type": "code",
   "execution_count": 2,
   "metadata": {},
   "outputs": [],
   "source": [
    "data_file=\"/localhome/mlehner/sff_data/sff_training_all_niels.csv\"\n",
    "sdf_suply=\"/localhome/mlehner/sff_data/combined.sdf\"\n",
    "data_external = \"/localhome/mlehner/sff_data/external_test_set_0707.sdf\"\n",
    "data_solv = \"/localhome/mlehner/sff_data/test_set_solf.sdf\"\n",
    "tree_folder = \"/home/mlehner/serenityff-charge/dev/test_jnbs/test_001_out/tree_pruned/\"\n",
    "out_folder = \"/home/mlehner/serenityff-charge/dev/test_jnbs/test_002_out\""
   ]
  },
  {
   "cell_type": "code",
   "execution_count": 3,
   "metadata": {},
   "outputs": [],
   "source": [
    "test_tree = tree()"
   ]
  },
  {
   "cell_type": "code",
   "execution_count": 4,
   "metadata": {},
   "outputs": [
    {
     "name": "stdout",
     "output_type": "stream",
     "text": [
      "Found 50 files in folder\n",
      "Added /home/mlehner/serenityff-charge/dev/test_jnbs/test_001_out/tree_pruned/tree_0.csv\n",
      "Added /home/mlehner/serenityff-charge/dev/test_jnbs/test_001_out/tree_pruned/tree_1.csv\n",
      "Added /home/mlehner/serenityff-charge/dev/test_jnbs/test_001_out/tree_pruned/tree_2.csv\n",
      "Added /home/mlehner/serenityff-charge/dev/test_jnbs/test_001_out/tree_pruned/tree_3.csv\n",
      "Added /home/mlehner/serenityff-charge/dev/test_jnbs/test_001_out/tree_pruned/tree_4.csv\n",
      "Added /home/mlehner/serenityff-charge/dev/test_jnbs/test_001_out/tree_pruned/tree_5.csv\n",
      "Added /home/mlehner/serenityff-charge/dev/test_jnbs/test_001_out/tree_pruned/tree_6.csv\n",
      "Added /home/mlehner/serenityff-charge/dev/test_jnbs/test_001_out/tree_pruned/tree_7.csv\n",
      "Added /home/mlehner/serenityff-charge/dev/test_jnbs/test_001_out/tree_pruned/tree_8.csv\n",
      "Added /home/mlehner/serenityff-charge/dev/test_jnbs/test_001_out/tree_pruned/tree_9.csv\n",
      "Added /home/mlehner/serenityff-charge/dev/test_jnbs/test_001_out/tree_pruned/tree_10.csv\n",
      "Added /home/mlehner/serenityff-charge/dev/test_jnbs/test_001_out/tree_pruned/tree_11.csv\n",
      "Added /home/mlehner/serenityff-charge/dev/test_jnbs/test_001_out/tree_pruned/tree_12.csv\n",
      "Added /home/mlehner/serenityff-charge/dev/test_jnbs/test_001_out/tree_pruned/tree_13.csv\n",
      "Added /home/mlehner/serenityff-charge/dev/test_jnbs/test_001_out/tree_pruned/tree_14.csv\n",
      "Added /home/mlehner/serenityff-charge/dev/test_jnbs/test_001_out/tree_pruned/tree_15.csv\n",
      "Added /home/mlehner/serenityff-charge/dev/test_jnbs/test_001_out/tree_pruned/tree_16.csv\n",
      "Added /home/mlehner/serenityff-charge/dev/test_jnbs/test_001_out/tree_pruned/tree_17.csv\n",
      "Added /home/mlehner/serenityff-charge/dev/test_jnbs/test_001_out/tree_pruned/tree_18.csv\n",
      "Added /home/mlehner/serenityff-charge/dev/test_jnbs/test_001_out/tree_pruned/tree_19.csv\n",
      "Added /home/mlehner/serenityff-charge/dev/test_jnbs/test_001_out/tree_pruned/tree_20.csv\n",
      "Added /home/mlehner/serenityff-charge/dev/test_jnbs/test_001_out/tree_pruned/tree_21.csv\n",
      "Added /home/mlehner/serenityff-charge/dev/test_jnbs/test_001_out/tree_pruned/tree_22.csv\n",
      "Added /home/mlehner/serenityff-charge/dev/test_jnbs/test_001_out/tree_pruned/tree_23.csv\n",
      "Added /home/mlehner/serenityff-charge/dev/test_jnbs/test_001_out/tree_pruned/tree_24.csv\n",
      "Added /home/mlehner/serenityff-charge/dev/test_jnbs/test_001_out/tree_pruned/tree_25.csv\n",
      "Added /home/mlehner/serenityff-charge/dev/test_jnbs/test_001_out/tree_pruned/tree_26.csv\n",
      "Added /home/mlehner/serenityff-charge/dev/test_jnbs/test_001_out/tree_pruned/tree_27.csv\n",
      "Added /home/mlehner/serenityff-charge/dev/test_jnbs/test_001_out/tree_pruned/tree_28.csv\n",
      "Added /home/mlehner/serenityff-charge/dev/test_jnbs/test_001_out/tree_pruned/tree_29.csv\n",
      "Added /home/mlehner/serenityff-charge/dev/test_jnbs/test_001_out/tree_pruned/tree_30.csv\n",
      "Added /home/mlehner/serenityff-charge/dev/test_jnbs/test_001_out/tree_pruned/tree_31.csv\n",
      "Added /home/mlehner/serenityff-charge/dev/test_jnbs/test_001_out/tree_pruned/tree_32.csv\n",
      "Added /home/mlehner/serenityff-charge/dev/test_jnbs/test_001_out/tree_pruned/tree_33.csv\n",
      "Added /home/mlehner/serenityff-charge/dev/test_jnbs/test_001_out/tree_pruned/tree_34.csv\n",
      "Added /home/mlehner/serenityff-charge/dev/test_jnbs/test_001_out/tree_pruned/tree_35.csv\n",
      "Added /home/mlehner/serenityff-charge/dev/test_jnbs/test_001_out/tree_pruned/tree_36.csv\n",
      "Added /home/mlehner/serenityff-charge/dev/test_jnbs/test_001_out/tree_pruned/tree_37.csv\n",
      "Added /home/mlehner/serenityff-charge/dev/test_jnbs/test_001_out/tree_pruned/tree_38.csv\n",
      "Added /home/mlehner/serenityff-charge/dev/test_jnbs/test_001_out/tree_pruned/tree_39.csv\n",
      "Added /home/mlehner/serenityff-charge/dev/test_jnbs/test_001_out/tree_pruned/tree_40.csv\n",
      "Added /home/mlehner/serenityff-charge/dev/test_jnbs/test_001_out/tree_pruned/tree_41.csv\n",
      "Added /home/mlehner/serenityff-charge/dev/test_jnbs/test_001_out/tree_pruned/tree_42.csv\n",
      "Added /home/mlehner/serenityff-charge/dev/test_jnbs/test_001_out/tree_pruned/tree_43.csv\n",
      "Added /home/mlehner/serenityff-charge/dev/test_jnbs/test_001_out/tree_pruned/tree_44.csv\n",
      "Added /home/mlehner/serenityff-charge/dev/test_jnbs/test_001_out/tree_pruned/tree_45.csv\n",
      "Added /home/mlehner/serenityff-charge/dev/test_jnbs/test_001_out/tree_pruned/tree_46.csv\n",
      "Added /home/mlehner/serenityff-charge/dev/test_jnbs/test_001_out/tree_pruned/tree_47.csv\n",
      "Added /home/mlehner/serenityff-charge/dev/test_jnbs/test_001_out/tree_pruned/tree_48.csv\n",
      "Added /home/mlehner/serenityff-charge/dev/test_jnbs/test_001_out/tree_pruned/tree_49.csv\n"
     ]
    }
   ],
   "source": [
    "test_tree.from_folder(tree_folder, verbose=True)"
   ]
  },
  {
   "cell_type": "code",
   "execution_count": 5,
   "metadata": {},
   "outputs": [
    {
     "data": {
      "text/plain": [
       "[node 1 - -0.1137617826461792 - 710434 - [C 4 0 SP3 False 0 None None],\n",
       " node 1 - -0.3762548863887787 - 92522 - [N 3 0 SP2 False 0 None None],\n",
       " node 1 - 0.3477131426334381 - 159730 - [C 3 0 SP2 False 0 None None],\n",
       " node 1 - -0.5390533804893494 - 152329 - [O 1 0 SP2 False 0 None None],\n",
       " node 1 - 1.1666322946548462 - 14553 - [S 4 0 SP3 False 0 None None],\n",
       " node 1 - -0.00800357200205326 - 956575 - [C 3 0 SP2 True 0 None None],\n",
       " node 1 - 0.12441444396972656 - 2130492 - [H 1 0 S False 0 None None],\n",
       " node 1 - -0.3358572721481323 - 80639 - [O 2 0 SP2 False 0 None None],\n",
       " node 1 - -0.08409099280834198 - 57357 - [N 3 0 SP2 True 0 None None],\n",
       " node 1 - -0.3607848286628723 - 97052 - [N 2 0 SP2 True 0 None None],\n",
       " node 1 - -0.10174304991960526 - 20798 - [Cl 1 0 SP3 False 0 None None],\n",
       " node 1 - -0.4165048599243164 - 44294 - [N 3 0 SP3 False 0 None None],\n",
       " node 1 - -0.45394107699394226 - 53629 - [O 2 0 SP3 False 0 None None],\n",
       " node 1 - -0.4374437928199768 - 17152 - [N 2 0 SP2 False 0 None None],\n",
       " node 1 - 0.061204634606838226 - 18476 - [S 2 0 SP2 True 0 None None],\n",
       " node 1 - -0.07724913954734802 - 11406 - [S 2 0 SP3 False 0 None None],\n",
       " node 1 - -0.4405932128429413 - 11524 - [N 1 0 SP False 0 None None],\n",
       " node 1 - 0.1679263561964035 - 16254 - [C 2 0 SP False 0 None None],\n",
       " node 1 - -0.20301631093025208 - 38503 - [F 1 0 SP3 False 0 None None],\n",
       " node 1 - -0.09567708522081375 - 11383 - [Br 1 0 SP3 False 0 None None],\n",
       " node 1 - -0.15419581532478333 - 15590 - [O 2 0 SP2 True 0 None None],\n",
       " node 1 - -0.05886215716600418 - 2177 - [I 1 0 SP3 False 0 None None],\n",
       " node 1 - -0.15057452023029327 - 37 - [O 2 1 SP2 True 0 None None],\n",
       " node 1 - 0.5787345767021179 - 705 - [S 3 0 SP3 False 0 None None],\n",
       " node 1 - 0.4993613064289093 - 3085 - [N 3 1 SP2 False 0 None None],\n",
       " node 1 - 0.5900077819824219 - 31 - [S 3 0 SP2 False 0 None None],\n",
       " node 1 - 0.37113431096076965 - 376 - [N 2 1 SP False 0 None None],\n",
       " node 1 - 0.18719886243343353 - 1190 - [N 3 1 SP2 True 0 None None],\n",
       " node 1 - -0.40352723002433777 - 3122 - [O 1 -1 SP2 False 0 None None],\n",
       " node 1 - -0.22003598511219025 - 318 - [N 1 -1 SP2 False 0 None None],\n",
       " node 1 - -0.2803865075111389 - 10 - [O 2 1 SP2 False 0 None None],\n",
       " node 1 - 0.1522781103849411 - 17 - [S 2 1 SP2 True 0 None None],\n",
       " node 1 - -0.5036097168922424 - 2412 - [S 1 0 SP2 False 0 None None],\n",
       " node 1 - 0.36565136909484863 - 8 - [S 2 0 SP2 False 0 None None],\n",
       " node 1 - -0.07079099863767624 - 2 - [C 3 1 SP2 True 0 None None],\n",
       " node 1 - 1.2840169668197632 - 2079 - [P 4 0 SP3 False 0 None None],\n",
       " node 1 - 0.6741340160369873 - 469 - [S 3 1 SP3 False 0 None None],\n",
       " node 1 - 0.2145162671804428 - 465 - [N 4 1 SP3 False 0 None None],\n",
       " node 1 - -0.6669068932533264 - 37 - [O 1 -1 SP3 False 0 None None],\n",
       " node 1 - 1.1872026920318604 - 74 - [S 4 1 SP3 False 0 None None],\n",
       " node 1 - -0.24326500296592712 - 1 - [C 3 -1 SP3 False 0 None None],\n",
       " node 1 - 0.7570729851722717 - 2 - [S 4 0 SP3D False 0 None None],\n",
       " node 1 - -0.2043984979391098 - 2 - [P 2 0 SP2 False 0 None None],\n",
       " node 1 - 0.757678747177124 - 21 - [S 3 1 SP2 True 0 None None],\n",
       " node 1 - -0.35430824756622314 - 8 - [C 3 -1 SP2 True 0 None None],\n",
       " node 1 - -0.09595859795808792 - 5 - [C 3 -1 SP2 False 0 None None],\n",
       " node 1 - 0.23900733888149261 - 15 - [P 3 0 SP3 False 0 None None],\n",
       " node 1 - -0.0979510024189949 - 2 - [P 2 0 SP2 True 0 None None],\n",
       " node 1 - 0.8122286796569824 - 3 - [P 4 1 SP3 False 0 None None],\n",
       " node 1 - 0.48236921429634094 - 5 - [C 3 1 SP2 False 0 None None]]"
      ]
     },
     "execution_count": 5,
     "metadata": {},
     "output_type": "execute_result"
    }
   ],
   "source": [
    "test_tree.root.children"
   ]
  },
  {
   "cell_type": "code",
   "execution_count": 6,
   "metadata": {},
   "outputs": [],
   "source": [
    "test_tree.update_tree_length()"
   ]
  },
  {
   "cell_type": "code",
   "execution_count": 7,
   "metadata": {},
   "outputs": [
    {
     "data": {
      "text/plain": [
       "<AxesSubplot:>"
      ]
     },
     "execution_count": 7,
     "metadata": {},
     "output_type": "execute_result"
    },
    {
     "data": {
      "image/png": "[encoded data removed]",
      "image/svg+xml": "<?xml version=\"1.0\" encoding=\"utf-8\" standalone=\"no\"?>\n<!DOCTYPE svg PUBLIC \"-//W3C//DTD SVG 1.1//EN\"\n  \"http://www.w3.org/Graphics/SVG/1.1/DTD/svg11.dtd\">\n<svg xmlns:xlink=\"http://www.w3.org/1999/xlink\" width=\"372.103125pt\" height=\"262.163437pt\" viewBox=\"0 0 372.103125 262.163437\" xmlns=\"http://www.w3.org/2000/svg\" version=\"1.1\">\n <metadata>\n  <rdf:RDF xmlns:dc=\"http://purl.org/dc/elements/1.1/\" xmlns:cc=\"http://creativecommons.org/ns#\" xmlns:rdf=\"http://www.w3.org/1999/02/22-rdf-syntax-ns#\">\n   <cc:Work>\n    <dc:type rdf:resource=\"http://purl.org/dc/dcmitype/StillImage\"/>\n    <dc:date>2022-08-25T16:35:42.659104</dc:date>\n    <dc:format>image/svg+xml</dc:format>\n    <dc:creator>\n     <cc:Agent>\n      <dc:title>Matplotlib v3.5.2, https://matplotlib.org/</dc:title>\n     </cc:Agent>\n    </dc:creator>\n   </cc:Work>\n  </rdf:RDF>\n </metadata>\n <defs>\n  <style type=\"text/css\">*{stroke-linejoin: round; stroke-linecap: butt}</style>\n </defs>\n <g id=\"figure_1\">\n  <g id=\"patch_1\">\n   <path d=\"M 0 262.163437 \nL 372.103125 262.163437 \nL 372.103125 0 \nL 0 0 \nL 0 262.163437 \nz\n\" style=\"fill: none\"/>\n  </g>\n  <g id=\"axes_1\">\n   <g id=\"patch_2\">\n    <path d=\"M 30.103125 235.238437 \nL 364.903125 235.238437 \nL 364.903125 17.798437 \nL 30.103125 17.798437 \nz\n\" style=\"fill: #ffffff\"/>\n   </g>\n   <g id=\"patch_3\">\n    <path d=\"M 33.451125 235.238437 \nL 40.147125 235.238437 \nL 40.147125 235.23831 \nL 33.451125 235.23831 \nz\n\" clip-path=\"url(#pff41c84b54)\" style=\"fill: #1f77b4\"/>\n   </g>\n   <g id=\"patch_4\">\n    <path d=\"M 46.843125 235.238437 \nL 53.539125 235.238437 \nL 53.539125 235.23207 \nL 46.843125 235.23207 \nz\n\" clip-path=\"url(#pff41c84b54)\" style=\"fill: #1f77b4\"/>\n   </g>\n   <g id=\"patch_5\">\n    <path d=\"M 60.235125 235.238437 \nL 66.931125 235.238437 \nL 66.931125 235.193101 \nL 60.235125 235.193101 \nz\n\" clip-path=\"url(#pff41c84b54)\" style=\"fill: #1f77b4\"/>\n   </g>\n   <g id=\"patch_6\">\n    <path d=\"M 73.627125 235.238437 \nL 80.323125 235.238437 \nL 80.323125 235.069572 \nL 73.627125 235.069572 \nz\n\" clip-path=\"url(#pff41c84b54)\" style=\"fill: #1f77b4\"/>\n   </g>\n   <g id=\"patch_7\">\n    <path d=\"M 87.019125 235.238437 \nL 93.715125 235.238437 \nL 93.715125 234.727894 \nL 87.019125 234.727894 \nz\n\" clip-path=\"url(#pff41c84b54)\" style=\"fill: #1f77b4\"/>\n   </g>\n   <g id=\"patch_8\">\n    <path d=\"M 100.411125 235.238437 \nL 107.107125 235.238437 \nL 107.107125 233.801172 \nL 100.411125 233.801172 \nz\n\" clip-path=\"url(#pff41c84b54)\" style=\"fill: #1f77b4\"/>\n   </g>\n   <g id=\"patch_9\">\n    <path d=\"M 113.803125 235.238437 \nL 120.499125 235.238437 \nL 120.499125 231.538045 \nL 113.803125 231.538045 \nz\n\" clip-path=\"url(#pff41c84b54)\" style=\"fill: #1f77b4\"/>\n   </g>\n   <g id=\"patch_10\">\n    <path d=\"M 127.195125 235.238437 \nL 133.891125 235.238437 \nL 133.891125 226.922647 \nL 127.195125 226.922647 \nz\n\" clip-path=\"url(#pff41c84b54)\" style=\"fill: #1f77b4\"/>\n   </g>\n   <g id=\"patch_11\">\n    <path d=\"M 140.587125 235.238437 \nL 147.283125 235.238437 \nL 147.283125 218.999729 \nL 140.587125 218.999729 \nz\n\" clip-path=\"url(#pff41c84b54)\" style=\"fill: #1f77b4\"/>\n   </g>\n   <g id=\"patch_12\">\n    <path d=\"M 153.979125 235.238437 \nL 160.675125 235.238437 \nL 160.675125 207.196857 \nL 153.979125 207.196857 \nz\n\" clip-path=\"url(#pff41c84b54)\" style=\"fill: #1f77b4\"/>\n   </g>\n   <g id=\"patch_13\">\n    <path d=\"M 167.371125 235.238437 \nL 174.067125 235.238437 \nL 174.067125 191.37942 \nL 167.371125 191.37942 \nz\n\" clip-path=\"url(#pff41c84b54)\" style=\"fill: #1f77b4\"/>\n   </g>\n   <g id=\"patch_14\">\n    <path d=\"M 180.763125 235.238437 \nL 187.459125 235.238437 \nL 187.459125 171.875345 \nL 180.763125 171.875345 \nz\n\" clip-path=\"url(#pff41c84b54)\" style=\"fill: #1f77b4\"/>\n   </g>\n   <g id=\"patch_15\">\n    <path d=\"M 194.155125 235.238437 \nL 200.851125 235.238437 \nL 200.851125 149.390402 \nL 194.155125 149.390402 \nz\n\" clip-path=\"url(#pff41c84b54)\" style=\"fill: #1f77b4\"/>\n   </g>\n   <g id=\"patch_16\">\n    <path d=\"M 207.547125 235.238437 \nL 214.243125 235.238437 \nL 214.243125 124.99318 \nL 207.547125 124.99318 \nz\n\" clip-path=\"url(#pff41c84b54)\" style=\"fill: #1f77b4\"/>\n   </g>\n   <g id=\"patch_17\">\n    <path d=\"M 220.939125 235.238437 \nL 227.635125 235.238437 \nL 227.635125 100.136735 \nL 220.939125 100.136735 \nz\n\" clip-path=\"url(#pff41c84b54)\" style=\"fill: #1f77b4\"/>\n   </g>\n   <g id=\"patch_18\">\n    <path d=\"M 234.331125 235.238437 \nL 241.027125 235.238437 \nL 241.027125 76.76735 \nL 234.331125 76.76735 \nz\n\" clip-path=\"url(#pff41c84b54)\" style=\"fill: #1f77b4\"/>\n   </g>\n   <g id=\"patch_19\">\n    <path d=\"M 247.723125 235.238437 \nL 254.419125 235.238437 \nL 254.419125 56.557123 \nL 247.723125 56.557123 \nz\n\" clip-path=\"url(#pff41c84b54)\" style=\"fill: #1f77b4\"/>\n   </g>\n   <g id=\"patch_20\">\n    <path d=\"M 261.115125 235.238437 \nL 267.811125 235.238437 \nL 267.811125 41.334408 \nL 261.115125 41.334408 \nz\n\" clip-path=\"url(#pff41c84b54)\" style=\"fill: #1f77b4\"/>\n   </g>\n   <g id=\"patch_21\">\n    <path d=\"M 274.507125 235.238437 \nL 281.203125 235.238437 \nL 281.203125 31.773777 \nL 274.507125 31.773777 \nz\n\" clip-path=\"url(#pff41c84b54)\" style=\"fill: #1f77b4\"/>\n   </g>\n   <g id=\"patch_22\">\n    <path d=\"M 287.899125 235.238437 \nL 294.595125 235.238437 \nL 294.595125 28.152723 \nL 287.899125 28.152723 \nz\n\" clip-path=\"url(#pff41c84b54)\" style=\"fill: #1f77b4\"/>\n   </g>\n   <g id=\"patch_23\">\n    <path d=\"M 301.291125 235.238437 \nL 307.987125 235.238437 \nL 307.987125 30.5893 \nL 301.291125 30.5893 \nz\n\" clip-path=\"url(#pff41c84b54)\" style=\"fill: #1f77b4\"/>\n   </g>\n   <g id=\"patch_24\">\n    <path d=\"M 314.683125 235.238437 \nL 321.379125 235.238437 \nL 321.379125 40.353181 \nL 314.683125 40.353181 \nz\n\" clip-path=\"url(#pff41c84b54)\" style=\"fill: #1f77b4\"/>\n   </g>\n   <g id=\"patch_25\">\n    <path d=\"M 328.075125 235.238437 \nL 334.771125 235.238437 \nL 334.771125 58.757084 \nL 328.075125 58.757084 \nz\n\" clip-path=\"url(#pff41c84b54)\" style=\"fill: #1f77b4\"/>\n   </g>\n   <g id=\"patch_26\">\n    <path d=\"M 341.467125 235.238437 \nL 348.163125 235.238437 \nL 348.163125 81.762505 \nL 341.467125 81.762505 \nz\n\" clip-path=\"url(#pff41c84b54)\" style=\"fill: #1f77b4\"/>\n   </g>\n   <g id=\"patch_27\">\n    <path d=\"M 354.859125 235.238437 \nL 361.555125 235.238437 \nL 361.555125 99.949022 \nL 354.859125 99.949022 \nz\n\" clip-path=\"url(#pff41c84b54)\" style=\"fill: #1f77b4\"/>\n   </g>\n   <g id=\"matplotlib.axis_1\">\n    <g id=\"xtick_1\">\n     <g id=\"line2d_1\">\n      <defs>\n       <path id=\"med6fba83ce\" d=\"M 0 0 \nL 0 3.5 \n\" style=\"stroke: #000000; stroke-width: 0.8\"/>\n      </defs>\n      <g>\n       <use xlink:href=\"#med6fba83ce\" x=\"36.799125\" y=\"235.238437\" style=\"stroke: #000000; stroke-width: 0.8\"/>\n      </g>\n     </g>\n     <g id=\"text_1\">\n      <!-- 0 -->\n      <g transform=\"translate(39.5585 248.600937)rotate(-90)scale(0.1 -0.1)\">\n       <defs>\n        <path id=\"DejaVuSans-30\" d=\"M 2034 4250 \nQ 1547 4250 1301 3770 \nQ 1056 3291 1056 2328 \nQ 1056 1369 1301 889 \nQ 1547 409 2034 409 \nQ 2525 409 2770 889 \nQ 3016 1369 3016 2328 \nQ 3016 3291 2770 3770 \nQ 2525 4250 2034 4250 \nz\nM 2034 4750 \nQ 2819 4750 3233 4129 \nQ 3647 3509 3647 2328 \nQ 3647 1150 3233 529 \nQ 2819 -91 2034 -91 \nQ 1250 -91 836 529 \nQ 422 1150 422 2328 \nQ 422 3509 836 4129 \nQ 1250 4750 2034 4750 \nz\n\" transform=\"scale(0.015625)\"/>\n       </defs>\n       <use xlink:href=\"#DejaVuSans-30\"/>\n      </g>\n     </g>\n    </g>\n    <g id=\"xtick_2\">\n     <g id=\"line2d_2\">\n      <g>\n       <use xlink:href=\"#med6fba83ce\" x=\"50.191125\" y=\"235.238437\" style=\"stroke: #000000; stroke-width: 0.8\"/>\n      </g>\n     </g>\n     <g id=\"text_2\">\n      <!-- 1 -->\n      <g transform=\"translate(52.9505 248.600937)rotate(-90)scale(0.1 -0.1)\">\n       <defs>\n        <path id=\"DejaVuSans-31\" d=\"M 794 531 \nL 1825 531 \nL 1825 4091 \nL 703 3866 \nL 703 4441 \nL 1819 4666 \nL 2450 4666 \nL 2450 531 \nL 3481 531 \nL 3481 0 \nL 794 0 \nL 794 531 \nz\n\" transform=\"scale(0.015625)\"/>\n       </defs>\n       <use xlink:href=\"#DejaVuSans-31\"/>\n      </g>\n     </g>\n    </g>\n    <g id=\"xtick_3\">\n     <g id=\"line2d_3\">\n      <g>\n       <use xlink:href=\"#med6fba83ce\" x=\"63.583125\" y=\"235.238437\" style=\"stroke: #000000; stroke-width: 0.8\"/>\n      </g>\n     </g>\n     <g id=\"text_3\">\n      <!-- 2 -->\n      <g transform=\"translate(66.3425 248.600937)rotate(-90)scale(0.1 -0.1)\">\n       <defs>\n        <path id=\"DejaVuSans-32\" d=\"M 1228 531 \nL 3431 531 \nL 3431 0 \nL 469 0 \nL 469 531 \nQ 828 903 1448 1529 \nQ 2069 2156 2228 2338 \nQ 2531 2678 2651 2914 \nQ 2772 3150 2772 3378 \nQ 2772 3750 2511 3984 \nQ 2250 4219 1831 4219 \nQ 1534 4219 1204 4116 \nQ 875 4013 500 3803 \nL 500 4441 \nQ 881 4594 1212 4672 \nQ 1544 4750 1819 4750 \nQ 2544 4750 2975 4387 \nQ 3406 4025 3406 3419 \nQ 3406 3131 3298 2873 \nQ 3191 2616 2906 2266 \nQ 2828 2175 2409 1742 \nQ 1991 1309 1228 531 \nz\n\" transform=\"scale(0.015625)\"/>\n       </defs>\n       <use xlink:href=\"#DejaVuSans-32\"/>\n      </g>\n     </g>\n    </g>\n    <g id=\"xtick_4\">\n     <g id=\"line2d_4\">\n      <g>\n       <use xlink:href=\"#med6fba83ce\" x=\"76.975125\" y=\"235.238437\" style=\"stroke: #000000; stroke-width: 0.8\"/>\n      </g>\n     </g>\n     <g id=\"text_4\">\n      <!-- 3 -->\n      <g transform=\"translate(79.7345 248.600937)rotate(-90)scale(0.1 -0.1)\">\n       <defs>\n        <path id=\"DejaVuSans-33\" d=\"M 2597 2516 \nQ 3050 2419 3304 2112 \nQ 3559 1806 3559 1356 \nQ 3559 666 3084 287 \nQ 2609 -91 1734 -91 \nQ 1441 -91 1130 -33 \nQ 819 25 488 141 \nL 488 750 \nQ 750 597 1062 519 \nQ 1375 441 1716 441 \nQ 2309 441 2620 675 \nQ 2931 909 2931 1356 \nQ 2931 1769 2642 2001 \nQ 2353 2234 1838 2234 \nL 1294 2234 \nL 1294 2753 \nL 1863 2753 \nQ 2328 2753 2575 2939 \nQ 2822 3125 2822 3475 \nQ 2822 3834 2567 4026 \nQ 2313 4219 1838 4219 \nQ 1578 4219 1281 4162 \nQ 984 4106 628 3988 \nL 628 4550 \nQ 988 4650 1302 4700 \nQ 1616 4750 1894 4750 \nQ 2613 4750 3031 4423 \nQ 3450 4097 3450 3541 \nQ 3450 3153 3228 2886 \nQ 3006 2619 2597 2516 \nz\n\" transform=\"scale(0.015625)\"/>\n       </defs>\n       <use xlink:href=\"#DejaVuSans-33\"/>\n      </g>\n     </g>\n    </g>\n    <g id=\"xtick_5\">\n     <g id=\"line2d_5\">\n      <g>\n       <use xlink:href=\"#med6fba83ce\" x=\"90.367125\" y=\"235.238437\" style=\"stroke: #000000; stroke-width: 0.8\"/>\n      </g>\n     </g>\n     <g id=\"text_5\">\n      <!-- 4 -->\n      <g transform=\"translate(93.1265 248.600937)rotate(-90)scale(0.1 -0.1)\">\n       <defs>\n        <path id=\"DejaVuSans-34\" d=\"M 2419 4116 \nL 825 1625 \nL 2419 1625 \nL 2419 4116 \nz\nM 2253 4666 \nL 3047 4666 \nL 3047 1625 \nL 3713 1625 \nL 3713 1100 \nL 3047 1100 \nL 3047 0 \nL 2419 0 \nL 2419 1100 \nL 313 1100 \nL 313 1709 \nL 2253 4666 \nz\n\" transform=\"scale(0.015625)\"/>\n       </defs>\n       <use xlink:href=\"#DejaVuSans-34\"/>\n      </g>\n     </g>\n    </g>\n    <g id=\"xtick_6\">\n     <g id=\"line2d_6\">\n      <g>\n       <use xlink:href=\"#med6fba83ce\" x=\"103.759125\" y=\"235.238437\" style=\"stroke: #000000; stroke-width: 0.8\"/>\n      </g>\n     </g>\n     <g id=\"text_6\">\n      <!-- 5 -->\n      <g transform=\"translate(106.5185 248.600937)rotate(-90)scale(0.1 -0.1)\">\n       <defs>\n        <path id=\"DejaVuSans-35\" d=\"M 691 4666 \nL 3169 4666 \nL 3169 4134 \nL 1269 4134 \nL 1269 2991 \nQ 1406 3038 1543 3061 \nQ 1681 3084 1819 3084 \nQ 2600 3084 3056 2656 \nQ 3513 2228 3513 1497 \nQ 3513 744 3044 326 \nQ 2575 -91 1722 -91 \nQ 1428 -91 1123 -41 \nQ 819 9 494 109 \nL 494 744 \nQ 775 591 1075 516 \nQ 1375 441 1709 441 \nQ 2250 441 2565 725 \nQ 2881 1009 2881 1497 \nQ 2881 1984 2565 2268 \nQ 2250 2553 1709 2553 \nQ 1456 2553 1204 2497 \nQ 953 2441 691 2322 \nL 691 4666 \nz\n\" transform=\"scale(0.015625)\"/>\n       </defs>\n       <use xlink:href=\"#DejaVuSans-35\"/>\n      </g>\n     </g>\n    </g>\n    <g id=\"xtick_7\">\n     <g id=\"line2d_7\">\n      <g>\n       <use xlink:href=\"#med6fba83ce\" x=\"117.151125\" y=\"235.238437\" style=\"stroke: #000000; stroke-width: 0.8\"/>\n      </g>\n     </g>\n     <g id=\"text_7\">\n      <!-- 6 -->\n      <g transform=\"translate(119.9105 248.600937)rotate(-90)scale(0.1 -0.1)\">\n       <defs>\n        <path id=\"DejaVuSans-36\" d=\"M 2113 2584 \nQ 1688 2584 1439 2293 \nQ 1191 2003 1191 1497 \nQ 1191 994 1439 701 \nQ 1688 409 2113 409 \nQ 2538 409 2786 701 \nQ 3034 994 3034 1497 \nQ 3034 2003 2786 2293 \nQ 2538 2584 2113 2584 \nz\nM 3366 4563 \nL 3366 3988 \nQ 3128 4100 2886 4159 \nQ 2644 4219 2406 4219 \nQ 1781 4219 1451 3797 \nQ 1122 3375 1075 2522 \nQ 1259 2794 1537 2939 \nQ 1816 3084 2150 3084 \nQ 2853 3084 3261 2657 \nQ 3669 2231 3669 1497 \nQ 3669 778 3244 343 \nQ 2819 -91 2113 -91 \nQ 1303 -91 875 529 \nQ 447 1150 447 2328 \nQ 447 3434 972 4092 \nQ 1497 4750 2381 4750 \nQ 2619 4750 2861 4703 \nQ 3103 4656 3366 4563 \nz\n\" transform=\"scale(0.015625)\"/>\n       </defs>\n       <use xlink:href=\"#DejaVuSans-36\"/>\n      </g>\n     </g>\n    </g>\n    <g id=\"xtick_8\">\n     <g id=\"line2d_8\">\n      <g>\n       <use xlink:href=\"#med6fba83ce\" x=\"130.543125\" y=\"235.238437\" style=\"stroke: #000000; stroke-width: 0.8\"/>\n      </g>\n     </g>\n     <g id=\"text_8\">\n      <!-- 7 -->\n      <g transform=\"translate(133.3025 248.600937)rotate(-90)scale(0.1 -0.1)\">\n       <defs>\n        <path id=\"DejaVuSans-37\" d=\"M 525 4666 \nL 3525 4666 \nL 3525 4397 \nL 1831 0 \nL 1172 0 \nL 2766 4134 \nL 525 4134 \nL 525 4666 \nz\n\" transform=\"scale(0.015625)\"/>\n       </defs>\n       <use xlink:href=\"#DejaVuSans-37\"/>\n      </g>\n     </g>\n    </g>\n    <g id=\"xtick_9\">\n     <g id=\"line2d_9\">\n      <g>\n       <use xlink:href=\"#med6fba83ce\" x=\"143.935125\" y=\"235.238437\" style=\"stroke: #000000; stroke-width: 0.8\"/>\n      </g>\n     </g>\n     <g id=\"text_9\">\n      <!-- 8 -->\n      <g transform=\"translate(146.6945 248.600937)rotate(-90)scale(0.1 -0.1)\">\n       <defs>\n        <path id=\"DejaVuSans-38\" d=\"M 2034 2216 \nQ 1584 2216 1326 1975 \nQ 1069 1734 1069 1313 \nQ 1069 891 1326 650 \nQ 1584 409 2034 409 \nQ 2484 409 2743 651 \nQ 3003 894 3003 1313 \nQ 3003 1734 2745 1975 \nQ 2488 2216 2034 2216 \nz\nM 1403 2484 \nQ 997 2584 770 2862 \nQ 544 3141 544 3541 \nQ 544 4100 942 4425 \nQ 1341 4750 2034 4750 \nQ 2731 4750 3128 4425 \nQ 3525 4100 3525 3541 \nQ 3525 3141 3298 2862 \nQ 3072 2584 2669 2484 \nQ 3125 2378 3379 2068 \nQ 3634 1759 3634 1313 \nQ 3634 634 3220 271 \nQ 2806 -91 2034 -91 \nQ 1263 -91 848 271 \nQ 434 634 434 1313 \nQ 434 1759 690 2068 \nQ 947 2378 1403 2484 \nz\nM 1172 3481 \nQ 1172 3119 1398 2916 \nQ 1625 2713 2034 2713 \nQ 2441 2713 2670 2916 \nQ 2900 3119 2900 3481 \nQ 2900 3844 2670 4047 \nQ 2441 4250 2034 4250 \nQ 1625 4250 1398 4047 \nQ 1172 3844 1172 3481 \nz\n\" transform=\"scale(0.015625)\"/>\n       </defs>\n       <use xlink:href=\"#DejaVuSans-38\"/>\n      </g>\n     </g>\n    </g>\n    <g id=\"xtick_10\">\n     <g id=\"line2d_10\">\n      <g>\n       <use xlink:href=\"#med6fba83ce\" x=\"157.327125\" y=\"235.238437\" style=\"stroke: #000000; stroke-width: 0.8\"/>\n      </g>\n     </g>\n     <g id=\"text_10\">\n      <!-- 9 -->\n      <g transform=\"translate(160.0865 248.600937)rotate(-90)scale(0.1 -0.1)\">\n       <defs>\n        <path id=\"DejaVuSans-39\" d=\"M 703 97 \nL 703 672 \nQ 941 559 1184 500 \nQ 1428 441 1663 441 \nQ 2288 441 2617 861 \nQ 2947 1281 2994 2138 \nQ 2813 1869 2534 1725 \nQ 2256 1581 1919 1581 \nQ 1219 1581 811 2004 \nQ 403 2428 403 3163 \nQ 403 3881 828 4315 \nQ 1253 4750 1959 4750 \nQ 2769 4750 3195 4129 \nQ 3622 3509 3622 2328 \nQ 3622 1225 3098 567 \nQ 2575 -91 1691 -91 \nQ 1453 -91 1209 -44 \nQ 966 3 703 97 \nz\nM 1959 2075 \nQ 2384 2075 2632 2365 \nQ 2881 2656 2881 3163 \nQ 2881 3666 2632 3958 \nQ 2384 4250 1959 4250 \nQ 1534 4250 1286 3958 \nQ 1038 3666 1038 3163 \nQ 1038 2656 1286 2365 \nQ 1534 2075 1959 2075 \nz\n\" transform=\"scale(0.015625)\"/>\n       </defs>\n       <use xlink:href=\"#DejaVuSans-39\"/>\n      </g>\n     </g>\n    </g>\n    <g id=\"xtick_11\">\n     <g id=\"line2d_11\">\n      <g>\n       <use xlink:href=\"#med6fba83ce\" x=\"170.719125\" y=\"235.238437\" style=\"stroke: #000000; stroke-width: 0.8\"/>\n      </g>\n     </g>\n     <g id=\"text_11\">\n      <!-- 10 -->\n      <g transform=\"translate(173.4785 254.963437)rotate(-90)scale(0.1 -0.1)\">\n       <use xlink:href=\"#DejaVuSans-31\"/>\n       <use xlink:href=\"#DejaVuSans-30\" x=\"63.623047\"/>\n      </g>\n     </g>\n    </g>\n    <g id=\"xtick_12\">\n     <g id=\"line2d_12\">\n      <g>\n       <use xlink:href=\"#med6fba83ce\" x=\"184.111125\" y=\"235.238437\" style=\"stroke: #000000; stroke-width: 0.8\"/>\n      </g>\n     </g>\n     <g id=\"text_12\">\n      <!-- 11 -->\n      <g transform=\"translate(186.8705 254.963437)rotate(-90)scale(0.1 -0.1)\">\n       <use xlink:href=\"#DejaVuSans-31\"/>\n       <use xlink:href=\"#DejaVuSans-31\" x=\"63.623047\"/>\n      </g>\n     </g>\n    </g>\n    <g id=\"xtick_13\">\n     <g id=\"line2d_13\">\n      <g>\n       <use xlink:href=\"#med6fba83ce\" x=\"197.503125\" y=\"235.238437\" style=\"stroke: #000000; stroke-width: 0.8\"/>\n      </g>\n     </g>\n     <g id=\"text_13\">\n      <!-- 12 -->\n      <g transform=\"translate(200.2625 254.963437)rotate(-90)scale(0.1 -0.1)\">\n       <use xlink:href=\"#DejaVuSans-31\"/>\n       <use xlink:href=\"#DejaVuSans-32\" x=\"63.623047\"/>\n      </g>\n     </g>\n    </g>\n    <g id=\"xtick_14\">\n     <g id=\"line2d_14\">\n      <g>\n       <use xlink:href=\"#med6fba83ce\" x=\"210.895125\" y=\"235.238437\" style=\"stroke: #000000; stroke-width: 0.8\"/>\n      </g>\n     </g>\n     <g id=\"text_14\">\n      <!-- 13 -->\n      <g transform=\"translate(213.6545 254.963437)rotate(-90)scale(0.1 -0.1)\">\n       <use xlink:href=\"#DejaVuSans-31\"/>\n       <use xlink:href=\"#DejaVuSans-33\" x=\"63.623047\"/>\n      </g>\n     </g>\n    </g>\n    <g id=\"xtick_15\">\n     <g id=\"line2d_15\">\n      <g>\n       <use xlink:href=\"#med6fba83ce\" x=\"224.287125\" y=\"235.238437\" style=\"stroke: #000000; stroke-width: 0.8\"/>\n      </g>\n     </g>\n     <g id=\"text_15\">\n      <!-- 14 -->\n      <g transform=\"translate(227.0465 254.963437)rotate(-90)scale(0.1 -0.1)\">\n       <use xlink:href=\"#DejaVuSans-31\"/>\n       <use xlink:href=\"#DejaVuSans-34\" x=\"63.623047\"/>\n      </g>\n     </g>\n    </g>\n    <g id=\"xtick_16\">\n     <g id=\"line2d_16\">\n      <g>\n       <use xlink:href=\"#med6fba83ce\" x=\"237.679125\" y=\"235.238437\" style=\"stroke: #000000; stroke-width: 0.8\"/>\n      </g>\n     </g>\n     <g id=\"text_16\">\n      <!-- 15 -->\n      <g transform=\"translate(240.4385 254.963437)rotate(-90)scale(0.1 -0.1)\">\n       <use xlink:href=\"#DejaVuSans-31\"/>\n       <use xlink:href=\"#DejaVuSans-35\" x=\"63.623047\"/>\n      </g>\n     </g>\n    </g>\n    <g id=\"xtick_17\">\n     <g id=\"line2d_17\">\n      <g>\n       <use xlink:href=\"#med6fba83ce\" x=\"251.071125\" y=\"235.238437\" style=\"stroke: #000000; stroke-width: 0.8\"/>\n      </g>\n     </g>\n     <g id=\"text_17\">\n      <!-- 16 -->\n      <g transform=\"translate(253.8305 254.963437)rotate(-90)scale(0.1 -0.1)\">\n       <use xlink:href=\"#DejaVuSans-31\"/>\n       <use xlink:href=\"#DejaVuSans-36\" x=\"63.623047\"/>\n      </g>\n     </g>\n    </g>\n    <g id=\"xtick_18\">\n     <g id=\"line2d_18\">\n      <g>\n       <use xlink:href=\"#med6fba83ce\" x=\"264.463125\" y=\"235.238437\" style=\"stroke: #000000; stroke-width: 0.8\"/>\n      </g>\n     </g>\n     <g id=\"text_18\">\n      <!-- 17 -->\n      <g transform=\"translate(267.2225 254.963437)rotate(-90)scale(0.1 -0.1)\">\n       <use xlink:href=\"#DejaVuSans-31\"/>\n       <use xlink:href=\"#DejaVuSans-37\" x=\"63.623047\"/>\n      </g>\n     </g>\n    </g>\n    <g id=\"xtick_19\">\n     <g id=\"line2d_19\">\n      <g>\n       <use xlink:href=\"#med6fba83ce\" x=\"277.855125\" y=\"235.238437\" style=\"stroke: #000000; stroke-width: 0.8\"/>\n      </g>\n     </g>\n     <g id=\"text_19\">\n      <!-- 18 -->\n      <g transform=\"translate(280.6145 254.963437)rotate(-90)scale(0.1 -0.1)\">\n       <use xlink:href=\"#DejaVuSans-31\"/>\n       <use xlink:href=\"#DejaVuSans-38\" x=\"63.623047\"/>\n      </g>\n     </g>\n    </g>\n    <g id=\"xtick_20\">\n     <g id=\"line2d_20\">\n      <g>\n       <use xlink:href=\"#med6fba83ce\" x=\"291.247125\" y=\"235.238437\" style=\"stroke: #000000; stroke-width: 0.8\"/>\n      </g>\n     </g>\n     <g id=\"text_20\">\n      <!-- 19 -->\n      <g transform=\"translate(294.0065 254.963437)rotate(-90)scale(0.1 -0.1)\">\n       <use xlink:href=\"#DejaVuSans-31\"/>\n       <use xlink:href=\"#DejaVuSans-39\" x=\"63.623047\"/>\n      </g>\n     </g>\n    </g>\n    <g id=\"xtick_21\">\n     <g id=\"line2d_21\">\n      <g>\n       <use xlink:href=\"#med6fba83ce\" x=\"304.639125\" y=\"235.238437\" style=\"stroke: #000000; stroke-width: 0.8\"/>\n      </g>\n     </g>\n     <g id=\"text_21\">\n      <!-- 20 -->\n      <g transform=\"translate(307.3985 254.963437)rotate(-90)scale(0.1 -0.1)\">\n       <use xlink:href=\"#DejaVuSans-32\"/>\n       <use xlink:href=\"#DejaVuSans-30\" x=\"63.623047\"/>\n      </g>\n     </g>\n    </g>\n    <g id=\"xtick_22\">\n     <g id=\"line2d_22\">\n      <g>\n       <use xlink:href=\"#med6fba83ce\" x=\"318.031125\" y=\"235.238437\" style=\"stroke: #000000; stroke-width: 0.8\"/>\n      </g>\n     </g>\n     <g id=\"text_22\">\n      <!-- 21 -->\n      <g transform=\"translate(320.7905 254.963437)rotate(-90)scale(0.1 -0.1)\">\n       <use xlink:href=\"#DejaVuSans-32\"/>\n       <use xlink:href=\"#DejaVuSans-31\" x=\"63.623047\"/>\n      </g>\n     </g>\n    </g>\n    <g id=\"xtick_23\">\n     <g id=\"line2d_23\">\n      <g>\n       <use xlink:href=\"#med6fba83ce\" x=\"331.423125\" y=\"235.238437\" style=\"stroke: #000000; stroke-width: 0.8\"/>\n      </g>\n     </g>\n     <g id=\"text_23\">\n      <!-- 22 -->\n      <g transform=\"translate(334.1825 254.963437)rotate(-90)scale(0.1 -0.1)\">\n       <use xlink:href=\"#DejaVuSans-32\"/>\n       <use xlink:href=\"#DejaVuSans-32\" x=\"63.623047\"/>\n      </g>\n     </g>\n    </g>\n    <g id=\"xtick_24\">\n     <g id=\"line2d_24\">\n      <g>\n       <use xlink:href=\"#med6fba83ce\" x=\"344.815125\" y=\"235.238437\" style=\"stroke: #000000; stroke-width: 0.8\"/>\n      </g>\n     </g>\n     <g id=\"text_24\">\n      <!-- 23 -->\n      <g transform=\"translate(347.5745 254.963437)rotate(-90)scale(0.1 -0.1)\">\n       <use xlink:href=\"#DejaVuSans-32\"/>\n       <use xlink:href=\"#DejaVuSans-33\" x=\"63.623047\"/>\n      </g>\n     </g>\n    </g>\n    <g id=\"xtick_25\">\n     <g id=\"line2d_25\">\n      <g>\n       <use xlink:href=\"#med6fba83ce\" x=\"358.207125\" y=\"235.238437\" style=\"stroke: #000000; stroke-width: 0.8\"/>\n      </g>\n     </g>\n     <g id=\"text_25\">\n      <!-- 24 -->\n      <g transform=\"translate(360.9665 254.963437)rotate(-90)scale(0.1 -0.1)\">\n       <use xlink:href=\"#DejaVuSans-32\"/>\n       <use xlink:href=\"#DejaVuSans-34\" x=\"63.623047\"/>\n      </g>\n     </g>\n    </g>\n   </g>\n   <g id=\"matplotlib.axis_2\">\n    <g id=\"ytick_1\">\n     <g id=\"line2d_26\">\n      <defs>\n       <path id=\"m4f61f535c7\" d=\"M 0 0 \nL -3.5 0 \n\" style=\"stroke: #000000; stroke-width: 0.8\"/>\n      </defs>\n      <g>\n       <use xlink:href=\"#m4f61f535c7\" x=\"30.103125\" y=\"235.238437\" style=\"stroke: #000000; stroke-width: 0.8\"/>\n      </g>\n     </g>\n     <g id=\"text_26\">\n      <!-- 0.0 -->\n      <g transform=\"translate(7.2 239.037656)scale(0.1 -0.1)\">\n       <defs>\n        <path id=\"DejaVuSans-2e\" d=\"M 684 794 \nL 1344 794 \nL 1344 0 \nL 684 0 \nL 684 794 \nz\n\" transform=\"scale(0.015625)\"/>\n       </defs>\n       <use xlink:href=\"#DejaVuSans-30\"/>\n       <use xlink:href=\"#DejaVuSans-2e\" x=\"63.623047\"/>\n       <use xlink:href=\"#DejaVuSans-30\" x=\"95.410156\"/>\n      </g>\n     </g>\n    </g>\n    <g id=\"ytick_2\">\n     <g id=\"line2d_27\">\n      <g>\n       <use xlink:href=\"#m4f61f535c7\" x=\"30.103125\" y=\"209.768551\" style=\"stroke: #000000; stroke-width: 0.8\"/>\n      </g>\n     </g>\n     <g id=\"text_27\">\n      <!-- 0.2 -->\n      <g transform=\"translate(7.2 213.56777)scale(0.1 -0.1)\">\n       <use xlink:href=\"#DejaVuSans-30\"/>\n       <use xlink:href=\"#DejaVuSans-2e\" x=\"63.623047\"/>\n       <use xlink:href=\"#DejaVuSans-32\" x=\"95.410156\"/>\n      </g>\n     </g>\n    </g>\n    <g id=\"ytick_3\">\n     <g id=\"line2d_28\">\n      <g>\n       <use xlink:href=\"#m4f61f535c7\" x=\"30.103125\" y=\"184.298664\" style=\"stroke: #000000; stroke-width: 0.8\"/>\n      </g>\n     </g>\n     <g id=\"text_28\">\n      <!-- 0.4 -->\n      <g transform=\"translate(7.2 188.097883)scale(0.1 -0.1)\">\n       <use xlink:href=\"#DejaVuSans-30\"/>\n       <use xlink:href=\"#DejaVuSans-2e\" x=\"63.623047\"/>\n       <use xlink:href=\"#DejaVuSans-34\" x=\"95.410156\"/>\n      </g>\n     </g>\n    </g>\n    <g id=\"ytick_4\">\n     <g id=\"line2d_29\">\n      <g>\n       <use xlink:href=\"#m4f61f535c7\" x=\"30.103125\" y=\"158.828778\" style=\"stroke: #000000; stroke-width: 0.8\"/>\n      </g>\n     </g>\n     <g id=\"text_29\">\n      <!-- 0.6 -->\n      <g transform=\"translate(7.2 162.627997)scale(0.1 -0.1)\">\n       <use xlink:href=\"#DejaVuSans-30\"/>\n       <use xlink:href=\"#DejaVuSans-2e\" x=\"63.623047\"/>\n       <use xlink:href=\"#DejaVuSans-36\" x=\"95.410156\"/>\n      </g>\n     </g>\n    </g>\n    <g id=\"ytick_5\">\n     <g id=\"line2d_30\">\n      <g>\n       <use xlink:href=\"#m4f61f535c7\" x=\"30.103125\" y=\"133.358891\" style=\"stroke: #000000; stroke-width: 0.8\"/>\n      </g>\n     </g>\n     <g id=\"text_30\">\n      <!-- 0.8 -->\n      <g transform=\"translate(7.2 137.15811)scale(0.1 -0.1)\">\n       <use xlink:href=\"#DejaVuSans-30\"/>\n       <use xlink:href=\"#DejaVuSans-2e\" x=\"63.623047\"/>\n       <use xlink:href=\"#DejaVuSans-38\" x=\"95.410156\"/>\n      </g>\n     </g>\n    </g>\n    <g id=\"ytick_6\">\n     <g id=\"line2d_31\">\n      <g>\n       <use xlink:href=\"#m4f61f535c7\" x=\"30.103125\" y=\"107.889005\" style=\"stroke: #000000; stroke-width: 0.8\"/>\n      </g>\n     </g>\n     <g id=\"text_31\">\n      <!-- 1.0 -->\n      <g transform=\"translate(7.2 111.688223)scale(0.1 -0.1)\">\n       <use xlink:href=\"#DejaVuSans-31\"/>\n       <use xlink:href=\"#DejaVuSans-2e\" x=\"63.623047\"/>\n       <use xlink:href=\"#DejaVuSans-30\" x=\"95.410156\"/>\n      </g>\n     </g>\n    </g>\n    <g id=\"ytick_7\">\n     <g id=\"line2d_32\">\n      <g>\n       <use xlink:href=\"#m4f61f535c7\" x=\"30.103125\" y=\"82.419118\" style=\"stroke: #000000; stroke-width: 0.8\"/>\n      </g>\n     </g>\n     <g id=\"text_32\">\n      <!-- 1.2 -->\n      <g transform=\"translate(7.2 86.218337)scale(0.1 -0.1)\">\n       <use xlink:href=\"#DejaVuSans-31\"/>\n       <use xlink:href=\"#DejaVuSans-2e\" x=\"63.623047\"/>\n       <use xlink:href=\"#DejaVuSans-32\" x=\"95.410156\"/>\n      </g>\n     </g>\n    </g>\n    <g id=\"ytick_8\">\n     <g id=\"line2d_33\">\n      <g>\n       <use xlink:href=\"#m4f61f535c7\" x=\"30.103125\" y=\"56.949232\" style=\"stroke: #000000; stroke-width: 0.8\"/>\n      </g>\n     </g>\n     <g id=\"text_33\">\n      <!-- 1.4 -->\n      <g transform=\"translate(7.2 60.74845)scale(0.1 -0.1)\">\n       <use xlink:href=\"#DejaVuSans-31\"/>\n       <use xlink:href=\"#DejaVuSans-2e\" x=\"63.623047\"/>\n       <use xlink:href=\"#DejaVuSans-34\" x=\"95.410156\"/>\n      </g>\n     </g>\n    </g>\n    <g id=\"ytick_9\">\n     <g id=\"line2d_34\">\n      <g>\n       <use xlink:href=\"#m4f61f535c7\" x=\"30.103125\" y=\"31.479345\" style=\"stroke: #000000; stroke-width: 0.8\"/>\n      </g>\n     </g>\n     <g id=\"text_34\">\n      <!-- 1.6 -->\n      <g transform=\"translate(7.2 35.278564)scale(0.1 -0.1)\">\n       <use xlink:href=\"#DejaVuSans-31\"/>\n       <use xlink:href=\"#DejaVuSans-2e\" x=\"63.623047\"/>\n       <use xlink:href=\"#DejaVuSans-36\" x=\"95.410156\"/>\n      </g>\n     </g>\n    </g>\n    <g id=\"text_35\">\n     <!-- 1e6 -->\n     <g transform=\"translate(30.103125 14.798437)scale(0.1 -0.1)\">\n      <defs>\n       <path id=\"DejaVuSans-65\" d=\"M 3597 1894 \nL 3597 1613 \nL 953 1613 \nQ 991 1019 1311 708 \nQ 1631 397 2203 397 \nQ 2534 397 2845 478 \nQ 3156 559 3463 722 \nL 3463 178 \nQ 3153 47 2828 -22 \nQ 2503 -91 2169 -91 \nQ 1331 -91 842 396 \nQ 353 884 353 1716 \nQ 353 2575 817 3079 \nQ 1281 3584 2069 3584 \nQ 2775 3584 3186 3129 \nQ 3597 2675 3597 1894 \nz\nM 3022 2063 \nQ 3016 2534 2758 2815 \nQ 2500 3097 2075 3097 \nQ 1594 3097 1305 2825 \nQ 1016 2553 972 2059 \nL 3022 2063 \nz\n\" transform=\"scale(0.015625)\"/>\n      </defs>\n      <use xlink:href=\"#DejaVuSans-31\"/>\n      <use xlink:href=\"#DejaVuSans-65\" x=\"63.623047\"/>\n      <use xlink:href=\"#DejaVuSans-36\" x=\"125.146484\"/>\n     </g>\n    </g>\n   </g>\n   <g id=\"patch_28\">\n    <path d=\"M 30.103125 235.238437 \nL 30.103125 17.798437 \n\" style=\"fill: none; stroke: #000000; stroke-width: 0.8; stroke-linejoin: miter; stroke-linecap: square\"/>\n   </g>\n   <g id=\"patch_29\">\n    <path d=\"M 364.903125 235.238437 \nL 364.903125 17.798437 \n\" style=\"fill: none; stroke: #000000; stroke-width: 0.8; stroke-linejoin: miter; stroke-linecap: square\"/>\n   </g>\n   <g id=\"patch_30\">\n    <path d=\"M 30.103125 235.238437 \nL 364.903125 235.238437 \n\" style=\"fill: none; stroke: #000000; stroke-width: 0.8; stroke-linejoin: miter; stroke-linecap: square\"/>\n   </g>\n   <g id=\"patch_31\">\n    <path d=\"M 30.103125 17.798437 \nL 364.903125 17.798437 \n\" style=\"fill: none; stroke: #000000; stroke-width: 0.8; stroke-linejoin: miter; stroke-linecap: square\"/>\n   </g>\n  </g>\n </g>\n <defs>\n  <clipPath id=\"pff41c84b54\">\n   <rect x=\"30.103125\" y=\"17.798437\" width=\"334.8\" height=\"217.44\"/>\n  </clipPath>\n </defs>\n</svg>\n",
      "text/plain": [
       "<Figure size 432x288 with 1 Axes>"
      ]
     },
     "metadata": {
      "needs_background": "light"
     },
     "output_type": "display_data"
    }
   ],
   "source": [
    "pd.Series(test_tree.tree_lengths).plot.bar()"
   ]
  },
  {
   "cell_type": "code",
   "execution_count": 8,
   "metadata": {},
   "outputs": [],
   "source": [
    "def calculate_RMSE_tree_vs_truth(df, arg1, arg2):\n",
    "    return ((df[arg1]-df[arg2])**2).mean()**0.5\n",
    "\n",
    "def calculate_r2_tree_vs_truth(df, arg1, arg2):\n",
    "    return df[[arg1, arg2]].corr()[arg1][arg2]**2"
   ]
  },
  {
   "cell_type": "code",
   "execution_count": 9,
   "metadata": {},
   "outputs": [],
   "source": [
    "test_df = pd.read_csv(tree_folder+\"../test_df.csv\")"
   ]
  },
  {
   "cell_type": "code",
   "execution_count": 10,
   "metadata": {},
   "outputs": [
    {
     "name": "stderr",
     "output_type": "stream",
     "text": [
      "100%|██████████| 83/83 [00:01<00:00, 49.33it/s]\n",
      " 80%|███████▉  | 995/1250 [00:58<00:15, 15.97it/s][16:36:43] Conflicting single bond directions around double bond at index 4.\n",
      "[16:36:43]   BondStereo set to STEREONONE and single bond directions set to NONE.\n",
      "100%|██████████| 1250/1250 [01:19<00:00, 15.72it/s]\n",
      " 83%|████████▎ | 107898/130267 [01:11<00:13, 1637.90it/s][16:38:16] Warning: molecule is tagged as 3D, but all Z coords are zero\n",
      "100%|██████████| 130267/130267 [01:27<00:00, 1495.49it/s]\n"
     ]
    }
   ],
   "source": [
    "df_solv = test_tree.match_dataset(mol_sup=Chem.SDMolSupplier(data_solv, removeHs=False))\n",
    "df_ext = test_tree.match_dataset(mol_sup=Chem.SDMolSupplier(data_external, removeHs=False))\n",
    "df_test = test_tree.match_dataset_with_indices(mol_sup=Chem.SDMolSupplier(sdf_suply, removeHs=False), indices=test_df.mol_index.unique().tolist())"
   ]
  },
  {
   "cell_type": "code",
   "execution_count": 11,
   "metadata": {},
   "outputs": [
    {
     "data": {
      "text/html": [
       "<div>\n",
       "<style scoped>\n",
       "    .dataframe tbody tr th:only-of-type {\n",
       "        vertical-align: middle;\n",
       "    }\n",
       "\n",
       "    .dataframe tbody tr th {\n",
       "        vertical-align: top;\n",
       "    }\n",
       "\n",
       "    .dataframe thead th {\n",
       "        text-align: right;\n",
       "    }\n",
       "</style>\n",
       "<table border=\"1\" class=\"dataframe\">\n",
       "  <thead>\n",
       "    <tr style=\"text-align: right;\">\n",
       "      <th></th>\n",
       "      <th>mol_idx</th>\n",
       "      <th>atom_idx</th>\n",
       "      <th>atomtype</th>\n",
       "      <th>truth</th>\n",
       "      <th>tree</th>\n",
       "      <th>tree_std</th>\n",
       "      <th>tree_norm1</th>\n",
       "      <th>tree_norm2</th>\n",
       "    </tr>\n",
       "  </thead>\n",
       "  <tbody>\n",
       "    <tr>\n",
       "      <th>0</th>\n",
       "      <td>0</td>\n",
       "      <td>0</td>\n",
       "      <td>C</td>\n",
       "      <td>-0.319911</td>\n",
       "      <td>-0.326272</td>\n",
       "      <td>0.001872</td>\n",
       "      <td>-0.329266</td>\n",
       "      <td>-0.327184</td>\n",
       "    </tr>\n",
       "    <tr>\n",
       "      <th>1</th>\n",
       "      <td>0</td>\n",
       "      <td>1</td>\n",
       "      <td>C</td>\n",
       "      <td>-0.073353</td>\n",
       "      <td>-0.066682</td>\n",
       "      <td>0.003209</td>\n",
       "      <td>-0.069676</td>\n",
       "      <td>-0.068246</td>\n",
       "    </tr>\n",
       "  </tbody>\n",
       "</table>\n",
       "</div>"
      ],
      "text/plain": [
       "   mol_idx  atom_idx atomtype     truth      tree  tree_std  tree_norm1  \\\n",
       "0        0         0        C -0.319911 -0.326272  0.001872   -0.329266   \n",
       "1        0         1        C -0.073353 -0.066682  0.003209   -0.069676   \n",
       "\n",
       "   tree_norm2  \n",
       "0   -0.327184  \n",
       "1   -0.068246  "
      ]
     },
     "execution_count": 11,
     "metadata": {},
     "output_type": "execute_result"
    }
   ],
   "source": [
    "df_solv.head(2)"
   ]
  },
  {
   "cell_type": "code",
   "execution_count": 12,
   "metadata": {},
   "outputs": [
    {
     "name": "stdout",
     "output_type": "stream",
     "text": [
      "0.03551115062630851\n",
      "0.03715962973545461\n",
      "nan\n"
     ]
    }
   ],
   "source": [
    "print(calculate_RMSE_tree_vs_truth(df_solv, \"truth\", \"tree_norm2\"))\n",
    "print(calculate_RMSE_tree_vs_truth(df_ext, \"truth\", \"tree_norm2\"))\n",
    "print(calculate_RMSE_tree_vs_truth(df_test, \"truth\", \"tree_norm2\"))"
   ]
  },
  {
   "cell_type": "markdown",
   "metadata": {},
   "source": [
    "## prune tune"
   ]
  },
  {
   "cell_type": "code",
   "execution_count": 13,
   "metadata": {},
   "outputs": [],
   "source": [
    "#test_tree.root.prune(threshold=0.005)"
   ]
  },
  {
   "cell_type": "code",
   "execution_count": 14,
   "metadata": {},
   "outputs": [],
   "source": [
    "def new_prune(current_node:node, threshold:int=0.001):\n",
    "    if hasattr(current_node, \"stdDeviation\") and current_node.stdDeviation != np.nan:\n",
    "        adjusted_threshold = threshold * ((current_node.level / 8))\n",
    "        #adjusted_threshold = threshold\n",
    "        if current_node.stdDeviation < adjusted_threshold:\n",
    "            for child in current_node.children:\n",
    "                if np.abs(child.result - current_node.result) < adjusted_threshold:\n",
    "                    current_node.children.remove(child)\n",
    "    else:\n",
    "        all_children_similar=True\n",
    "        for child in current_node.children:\n",
    "            if np.abs(child.result - current_node.result) > adjusted_threshold:\n",
    "                all_children_similar=False\n",
    "                break\n",
    "        if all_children_similar:\n",
    "            for child in current_node.children:\n",
    "                current_node.children.remove(child)\n",
    "        current_node.stdDeviation = 0.05\n",
    "                \n",
    "    for child in current_node.children:\n",
    "        if child.count < 3 and child.level > 3:\n",
    "            current_node.children.remove(child)\n",
    "        else:\n",
    "            new_prune(child, threshold)"
   ]
  },
  {
   "cell_type": "code",
   "execution_count": 15,
   "metadata": {},
   "outputs": [],
   "source": [
    "new_prune(test_tree.root)"
   ]
  },
  {
   "cell_type": "code",
   "execution_count": 16,
   "metadata": {},
   "outputs": [],
   "source": [
    "def fix_nan_stdDeviation(current_node:node):\n",
    "    if hasattr(current_node, \"stdDeviation\") and not np.isnan(current_node.stdDeviation):\n",
    "        pass\n",
    "    else:\n",
    "        current_node.stdDeviation = 0.05\n",
    "    for child in current_node.children:\n",
    "        fix_nan_stdDeviation(child)"
   ]
  },
  {
   "cell_type": "code",
   "execution_count": 17,
   "metadata": {},
   "outputs": [],
   "source": [
    "fix_nan_stdDeviation(test_tree.root)"
   ]
  },
  {
   "cell_type": "code",
   "execution_count": 18,
   "metadata": {},
   "outputs": [],
   "source": [
    "test_tree.update_tree_length()"
   ]
  },
  {
   "cell_type": "code",
   "execution_count": 19,
   "metadata": {},
   "outputs": [
    {
     "data": {
      "text/plain": [
       "<AxesSubplot:>"
      ]
     },
     "execution_count": 19,
     "metadata": {},
     "output_type": "execute_result"
    },
    {
     "data": {
      "image/png": "[encoded data removed]",
      "image/svg+xml": "<?xml version=\"1.0\" encoding=\"utf-8\" standalone=\"no\"?>\n<!DOCTYPE svg PUBLIC \"-//W3C//DTD SVG 1.1//EN\"\n  \"http://www.w3.org/Graphics/SVG/1.1/DTD/svg11.dtd\">\n<svg xmlns:xlink=\"http://www.w3.org/1999/xlink\" width=\"394.375pt\" height=\"251.565pt\" viewBox=\"0 0 394.375 251.565\" xmlns=\"http://www.w3.org/2000/svg\" version=\"1.1\">\n <metadata>\n  <rdf:RDF xmlns:dc=\"http://purl.org/dc/elements/1.1/\" xmlns:cc=\"http://creativecommons.org/ns#\" xmlns:rdf=\"http://www.w3.org/1999/02/22-rdf-syntax-ns#\">\n   <cc:Work>\n    <dc:type rdf:resource=\"http://purl.org/dc/dcmitype/StillImage\"/>\n    <dc:date>2022-08-25T16:38:51.440560</dc:date>\n    <dc:format>image/svg+xml</dc:format>\n    <dc:creator>\n     <cc:Agent>\n      <dc:title>Matplotlib v3.5.2, https://matplotlib.org/</dc:title>\n     </cc:Agent>\n    </dc:creator>\n   </cc:Work>\n  </rdf:RDF>\n </metadata>\n <defs>\n  <style type=\"text/css\">*{stroke-linejoin: round; stroke-linecap: butt}</style>\n </defs>\n <g id=\"figure_1\">\n  <g id=\"patch_1\">\n   <path d=\"M 0 251.565 \nL 394.375 251.565 \nL 394.375 0 \nL 0 0 \nL 0 251.565 \nz\n\" style=\"fill: none\"/>\n  </g>\n  <g id=\"axes_1\">\n   <g id=\"patch_2\">\n    <path d=\"M 52.375 224.64 \nL 387.175 224.64 \nL 387.175 7.2 \nL 52.375 7.2 \nz\n\" style=\"fill: #ffffff\"/>\n   </g>\n   <g id=\"patch_3\">\n    <path d=\"M 55.723 224.64 \nL 62.419 224.64 \nL 62.419 224.638876 \nL 55.723 224.638876 \nz\n\" clip-path=\"url(#p3dacde1bb7)\" style=\"fill: #1f77b4\"/>\n   </g>\n   <g id=\"patch_4\">\n    <path d=\"M 69.115 224.64 \nL 75.811 224.64 \nL 75.811 224.583776 \nL 69.115 224.583776 \nz\n\" clip-path=\"url(#p3dacde1bb7)\" style=\"fill: #1f77b4\"/>\n   </g>\n   <g id=\"patch_5\">\n    <path d=\"M 82.507 224.64 \nL 89.203 224.64 \nL 89.203 224.239687 \nL 82.507 224.239687 \nz\n\" clip-path=\"url(#p3dacde1bb7)\" style=\"fill: #1f77b4\"/>\n   </g>\n   <g id=\"patch_6\">\n    <path d=\"M 95.899 224.64 \nL 102.595 224.64 \nL 102.595 223.148945 \nL 95.899 223.148945 \nz\n\" clip-path=\"url(#p3dacde1bb7)\" style=\"fill: #1f77b4\"/>\n   </g>\n   <g id=\"patch_7\">\n    <path d=\"M 109.291 224.64 \nL 115.987 224.64 \nL 115.987 221.176615 \nL 109.291 221.176615 \nz\n\" clip-path=\"url(#p3dacde1bb7)\" style=\"fill: #1f77b4\"/>\n   </g>\n   <g id=\"patch_8\">\n    <path d=\"M 122.683 224.64 \nL 129.379 224.64 \nL 129.379 216.142336 \nL 122.683 216.142336 \nz\n\" clip-path=\"url(#p3dacde1bb7)\" style=\"fill: #1f77b4\"/>\n   </g>\n   <g id=\"patch_9\">\n    <path d=\"M 136.075 224.64 \nL 142.771 224.64 \nL 142.771 206.269439 \nL 136.075 206.269439 \nz\n\" clip-path=\"url(#p3dacde1bb7)\" style=\"fill: #1f77b4\"/>\n   </g>\n   <g id=\"patch_10\">\n    <path d=\"M 149.467 224.64 \nL 156.163 224.64 \nL 156.163 191.191343 \nL 149.467 191.191343 \nz\n\" clip-path=\"url(#p3dacde1bb7)\" style=\"fill: #1f77b4\"/>\n   </g>\n   <g id=\"patch_11\">\n    <path d=\"M 162.859 224.64 \nL 169.555 224.64 \nL 169.555 172.622873 \nL 162.859 172.622873 \nz\n\" clip-path=\"url(#p3dacde1bb7)\" style=\"fill: #1f77b4\"/>\n   </g>\n   <g id=\"patch_12\">\n    <path d=\"M 176.251 224.64 \nL 182.947 224.64 \nL 182.947 152.247372 \nL 176.251 152.247372 \nz\n\" clip-path=\"url(#p3dacde1bb7)\" style=\"fill: #1f77b4\"/>\n   </g>\n   <g id=\"patch_13\">\n    <path d=\"M 189.643 224.64 \nL 196.339 224.64 \nL 196.339 131.084737 \nL 189.643 131.084737 \nz\n\" clip-path=\"url(#p3dacde1bb7)\" style=\"fill: #1f77b4\"/>\n   </g>\n   <g id=\"patch_14\">\n    <path d=\"M 203.035 224.64 \nL 209.731 224.64 \nL 209.731 109.762427 \nL 203.035 109.762427 \nz\n\" clip-path=\"url(#p3dacde1bb7)\" style=\"fill: #1f77b4\"/>\n   </g>\n   <g id=\"patch_15\">\n    <path d=\"M 216.427 224.64 \nL 223.123 224.64 \nL 223.123 89.231747 \nL 216.427 89.231747 \nz\n\" clip-path=\"url(#p3dacde1bb7)\" style=\"fill: #1f77b4\"/>\n   </g>\n   <g id=\"patch_16\">\n    <path d=\"M 229.819 224.64 \nL 236.515 224.64 \nL 236.515 69.516313 \nL 229.819 69.516313 \nz\n\" clip-path=\"url(#p3dacde1bb7)\" style=\"fill: #1f77b4\"/>\n   </g>\n   <g id=\"patch_17\">\n    <path d=\"M 243.211 224.64 \nL 249.907 224.64 \nL 249.907 51.831682 \nL 243.211 51.831682 \nz\n\" clip-path=\"url(#p3dacde1bb7)\" style=\"fill: #1f77b4\"/>\n   </g>\n   <g id=\"patch_18\">\n    <path d=\"M 256.603 224.64 \nL 263.299 224.64 \nL 263.299 37.742 \nL 256.603 37.742 \nz\n\" clip-path=\"url(#p3dacde1bb7)\" style=\"fill: #1f77b4\"/>\n   </g>\n   <g id=\"patch_19\">\n    <path d=\"M 269.995 224.64 \nL 276.691 224.64 \nL 276.691 27.179799 \nL 269.995 27.179799 \nz\n\" clip-path=\"url(#p3dacde1bb7)\" style=\"fill: #1f77b4\"/>\n   </g>\n   <g id=\"patch_20\">\n    <path d=\"M 283.387 224.64 \nL 290.083 224.64 \nL 290.083 20.401458 \nL 283.387 20.401458 \nz\n\" clip-path=\"url(#p3dacde1bb7)\" style=\"fill: #1f77b4\"/>\n   </g>\n   <g id=\"patch_21\">\n    <path d=\"M 296.779 224.64 \nL 303.475 224.64 \nL 303.475 17.554286 \nL 296.779 17.554286 \nz\n\" clip-path=\"url(#p3dacde1bb7)\" style=\"fill: #1f77b4\"/>\n   </g>\n   <g id=\"patch_22\">\n    <path d=\"M 310.171 224.64 \nL 316.867 224.64 \nL 316.867 18.177245 \nL 310.171 18.177245 \nz\n\" clip-path=\"url(#p3dacde1bb7)\" style=\"fill: #1f77b4\"/>\n   </g>\n   <g id=\"patch_23\">\n    <path d=\"M 323.563 224.64 \nL 330.259 224.64 \nL 330.259 23.052972 \nL 323.563 23.052972 \nz\n\" clip-path=\"url(#p3dacde1bb7)\" style=\"fill: #1f77b4\"/>\n   </g>\n   <g id=\"patch_24\">\n    <path d=\"M 336.955 224.64 \nL 343.651 224.64 \nL 343.651 33.325059 \nL 336.955 33.325059 \nz\n\" clip-path=\"url(#p3dacde1bb7)\" style=\"fill: #1f77b4\"/>\n   </g>\n   <g id=\"patch_25\">\n    <path d=\"M 350.347 224.64 \nL 357.043 224.64 \nL 357.043 49.186915 \nL 350.347 49.186915 \nz\n\" clip-path=\"url(#p3dacde1bb7)\" style=\"fill: #1f77b4\"/>\n   </g>\n   <g id=\"patch_26\">\n    <path d=\"M 363.739 224.64 \nL 370.435 224.64 \nL 370.435 68.163569 \nL 363.739 68.163569 \nz\n\" clip-path=\"url(#p3dacde1bb7)\" style=\"fill: #1f77b4\"/>\n   </g>\n   <g id=\"patch_27\">\n    <path d=\"M 377.131 224.64 \nL 383.827 224.64 \nL 383.827 82.841351 \nL 377.131 82.841351 \nz\n\" clip-path=\"url(#p3dacde1bb7)\" style=\"fill: #1f77b4\"/>\n   </g>\n   <g id=\"matplotlib.axis_1\">\n    <g id=\"xtick_1\">\n     <g id=\"line2d_1\">\n      <defs>\n       <path id=\"m03266d6ef6\" d=\"M 0 0 \nL 0 3.5 \n\" style=\"stroke: #000000; stroke-width: 0.8\"/>\n      </defs>\n      <g>\n       <use xlink:href=\"#m03266d6ef6\" x=\"59.071\" y=\"224.64\" style=\"stroke: #000000; stroke-width: 0.8\"/>\n      </g>\n     </g>\n     <g id=\"text_1\">\n      <!-- 0 -->\n      <g transform=\"translate(61.830375 238.0025)rotate(-90)scale(0.1 -0.1)\">\n       <defs>\n        <path id=\"DejaVuSans-30\" d=\"M 2034 4250 \nQ 1547 4250 1301 3770 \nQ 1056 3291 1056 2328 \nQ 1056 1369 1301 889 \nQ 1547 409 2034 409 \nQ 2525 409 2770 889 \nQ 3016 1369 3016 2328 \nQ 3016 3291 2770 3770 \nQ 2525 4250 2034 4250 \nz\nM 2034 4750 \nQ 2819 4750 3233 4129 \nQ 3647 3509 3647 2328 \nQ 3647 1150 3233 529 \nQ 2819 -91 2034 -91 \nQ 1250 -91 836 529 \nQ 422 1150 422 2328 \nQ 422 3509 836 4129 \nQ 1250 4750 2034 4750 \nz\n\" transform=\"scale(0.015625)\"/>\n       </defs>\n       <use xlink:href=\"#DejaVuSans-30\"/>\n      </g>\n     </g>\n    </g>\n    <g id=\"xtick_2\">\n     <g id=\"line2d_2\">\n      <g>\n       <use xlink:href=\"#m03266d6ef6\" x=\"72.463\" y=\"224.64\" style=\"stroke: #000000; stroke-width: 0.8\"/>\n      </g>\n     </g>\n     <g id=\"text_2\">\n      <!-- 1 -->\n      <g transform=\"translate(75.222375 238.0025)rotate(-90)scale(0.1 -0.1)\">\n       <defs>\n        <path id=\"DejaVuSans-31\" d=\"M 794 531 \nL 1825 531 \nL 1825 4091 \nL 703 3866 \nL 703 4441 \nL 1819 4666 \nL 2450 4666 \nL 2450 531 \nL 3481 531 \nL 3481 0 \nL 794 0 \nL 794 531 \nz\n\" transform=\"scale(0.015625)\"/>\n       </defs>\n       <use xlink:href=\"#DejaVuSans-31\"/>\n      </g>\n     </g>\n    </g>\n    <g id=\"xtick_3\">\n     <g id=\"line2d_3\">\n      <g>\n       <use xlink:href=\"#m03266d6ef6\" x=\"85.855\" y=\"224.64\" style=\"stroke: #000000; stroke-width: 0.8\"/>\n      </g>\n     </g>\n     <g id=\"text_3\">\n      <!-- 2 -->\n      <g transform=\"translate(88.614375 238.0025)rotate(-90)scale(0.1 -0.1)\">\n       <defs>\n        <path id=\"DejaVuSans-32\" d=\"M 1228 531 \nL 3431 531 \nL 3431 0 \nL 469 0 \nL 469 531 \nQ 828 903 1448 1529 \nQ 2069 2156 2228 2338 \nQ 2531 2678 2651 2914 \nQ 2772 3150 2772 3378 \nQ 2772 3750 2511 3984 \nQ 2250 4219 1831 4219 \nQ 1534 4219 1204 4116 \nQ 875 4013 500 3803 \nL 500 4441 \nQ 881 4594 1212 4672 \nQ 1544 4750 1819 4750 \nQ 2544 4750 2975 4387 \nQ 3406 4025 3406 3419 \nQ 3406 3131 3298 2873 \nQ 3191 2616 2906 2266 \nQ 2828 2175 2409 1742 \nQ 1991 1309 1228 531 \nz\n\" transform=\"scale(0.015625)\"/>\n       </defs>\n       <use xlink:href=\"#DejaVuSans-32\"/>\n      </g>\n     </g>\n    </g>\n    <g id=\"xtick_4\">\n     <g id=\"line2d_4\">\n      <g>\n       <use xlink:href=\"#m03266d6ef6\" x=\"99.247\" y=\"224.64\" style=\"stroke: #000000; stroke-width: 0.8\"/>\n      </g>\n     </g>\n     <g id=\"text_4\">\n      <!-- 3 -->\n      <g transform=\"translate(102.006375 238.0025)rotate(-90)scale(0.1 -0.1)\">\n       <defs>\n        <path id=\"DejaVuSans-33\" d=\"M 2597 2516 \nQ 3050 2419 3304 2112 \nQ 3559 1806 3559 1356 \nQ 3559 666 3084 287 \nQ 2609 -91 1734 -91 \nQ 1441 -91 1130 -33 \nQ 819 25 488 141 \nL 488 750 \nQ 750 597 1062 519 \nQ 1375 441 1716 441 \nQ 2309 441 2620 675 \nQ 2931 909 2931 1356 \nQ 2931 1769 2642 2001 \nQ 2353 2234 1838 2234 \nL 1294 2234 \nL 1294 2753 \nL 1863 2753 \nQ 2328 2753 2575 2939 \nQ 2822 3125 2822 3475 \nQ 2822 3834 2567 4026 \nQ 2313 4219 1838 4219 \nQ 1578 4219 1281 4162 \nQ 984 4106 628 3988 \nL 628 4550 \nQ 988 4650 1302 4700 \nQ 1616 4750 1894 4750 \nQ 2613 4750 3031 4423 \nQ 3450 4097 3450 3541 \nQ 3450 3153 3228 2886 \nQ 3006 2619 2597 2516 \nz\n\" transform=\"scale(0.015625)\"/>\n       </defs>\n       <use xlink:href=\"#DejaVuSans-33\"/>\n      </g>\n     </g>\n    </g>\n    <g id=\"xtick_5\">\n     <g id=\"line2d_5\">\n      <g>\n       <use xlink:href=\"#m03266d6ef6\" x=\"112.639\" y=\"224.64\" style=\"stroke: #000000; stroke-width: 0.8\"/>\n      </g>\n     </g>\n     <g id=\"text_5\">\n      <!-- 4 -->\n      <g transform=\"translate(115.398375 238.0025)rotate(-90)scale(0.1 -0.1)\">\n       <defs>\n        <path id=\"DejaVuSans-34\" d=\"M 2419 4116 \nL 825 1625 \nL 2419 1625 \nL 2419 4116 \nz\nM 2253 4666 \nL 3047 4666 \nL 3047 1625 \nL 3713 1625 \nL 3713 1100 \nL 3047 1100 \nL 3047 0 \nL 2419 0 \nL 2419 1100 \nL 313 1100 \nL 313 1709 \nL 2253 4666 \nz\n\" transform=\"scale(0.015625)\"/>\n       </defs>\n       <use xlink:href=\"#DejaVuSans-34\"/>\n      </g>\n     </g>\n    </g>\n    <g id=\"xtick_6\">\n     <g id=\"line2d_6\">\n      <g>\n       <use xlink:href=\"#m03266d6ef6\" x=\"126.031\" y=\"224.64\" style=\"stroke: #000000; stroke-width: 0.8\"/>\n      </g>\n     </g>\n     <g id=\"text_6\">\n      <!-- 5 -->\n      <g transform=\"translate(128.790375 238.0025)rotate(-90)scale(0.1 -0.1)\">\n       <defs>\n        <path id=\"DejaVuSans-35\" d=\"M 691 4666 \nL 3169 4666 \nL 3169 4134 \nL 1269 4134 \nL 1269 2991 \nQ 1406 3038 1543 3061 \nQ 1681 3084 1819 3084 \nQ 2600 3084 3056 2656 \nQ 3513 2228 3513 1497 \nQ 3513 744 3044 326 \nQ 2575 -91 1722 -91 \nQ 1428 -91 1123 -41 \nQ 819 9 494 109 \nL 494 744 \nQ 775 591 1075 516 \nQ 1375 441 1709 441 \nQ 2250 441 2565 725 \nQ 2881 1009 2881 1497 \nQ 2881 1984 2565 2268 \nQ 2250 2553 1709 2553 \nQ 1456 2553 1204 2497 \nQ 953 2441 691 2322 \nL 691 4666 \nz\n\" transform=\"scale(0.015625)\"/>\n       </defs>\n       <use xlink:href=\"#DejaVuSans-35\"/>\n      </g>\n     </g>\n    </g>\n    <g id=\"xtick_7\">\n     <g id=\"line2d_7\">\n      <g>\n       <use xlink:href=\"#m03266d6ef6\" x=\"139.423\" y=\"224.64\" style=\"stroke: #000000; stroke-width: 0.8\"/>\n      </g>\n     </g>\n     <g id=\"text_7\">\n      <!-- 6 -->\n      <g transform=\"translate(142.182375 238.0025)rotate(-90)scale(0.1 -0.1)\">\n       <defs>\n        <path id=\"DejaVuSans-36\" d=\"M 2113 2584 \nQ 1688 2584 1439 2293 \nQ 1191 2003 1191 1497 \nQ 1191 994 1439 701 \nQ 1688 409 2113 409 \nQ 2538 409 2786 701 \nQ 3034 994 3034 1497 \nQ 3034 2003 2786 2293 \nQ 2538 2584 2113 2584 \nz\nM 3366 4563 \nL 3366 3988 \nQ 3128 4100 2886 4159 \nQ 2644 4219 2406 4219 \nQ 1781 4219 1451 3797 \nQ 1122 3375 1075 2522 \nQ 1259 2794 1537 2939 \nQ 1816 3084 2150 3084 \nQ 2853 3084 3261 2657 \nQ 3669 2231 3669 1497 \nQ 3669 778 3244 343 \nQ 2819 -91 2113 -91 \nQ 1303 -91 875 529 \nQ 447 1150 447 2328 \nQ 447 3434 972 4092 \nQ 1497 4750 2381 4750 \nQ 2619 4750 2861 4703 \nQ 3103 4656 3366 4563 \nz\n\" transform=\"scale(0.015625)\"/>\n       </defs>\n       <use xlink:href=\"#DejaVuSans-36\"/>\n      </g>\n     </g>\n    </g>\n    <g id=\"xtick_8\">\n     <g id=\"line2d_8\">\n      <g>\n       <use xlink:href=\"#m03266d6ef6\" x=\"152.815\" y=\"224.64\" style=\"stroke: #000000; stroke-width: 0.8\"/>\n      </g>\n     </g>\n     <g id=\"text_8\">\n      <!-- 7 -->\n      <g transform=\"translate(155.574375 238.0025)rotate(-90)scale(0.1 -0.1)\">\n       <defs>\n        <path id=\"DejaVuSans-37\" d=\"M 525 4666 \nL 3525 4666 \nL 3525 4397 \nL 1831 0 \nL 1172 0 \nL 2766 4134 \nL 525 4134 \nL 525 4666 \nz\n\" transform=\"scale(0.015625)\"/>\n       </defs>\n       <use xlink:href=\"#DejaVuSans-37\"/>\n      </g>\n     </g>\n    </g>\n    <g id=\"xtick_9\">\n     <g id=\"line2d_9\">\n      <g>\n       <use xlink:href=\"#m03266d6ef6\" x=\"166.207\" y=\"224.64\" style=\"stroke: #000000; stroke-width: 0.8\"/>\n      </g>\n     </g>\n     <g id=\"text_9\">\n      <!-- 8 -->\n      <g transform=\"translate(168.966375 238.0025)rotate(-90)scale(0.1 -0.1)\">\n       <defs>\n        <path id=\"DejaVuSans-38\" d=\"M 2034 2216 \nQ 1584 2216 1326 1975 \nQ 1069 1734 1069 1313 \nQ 1069 891 1326 650 \nQ 1584 409 2034 409 \nQ 2484 409 2743 651 \nQ 3003 894 3003 1313 \nQ 3003 1734 2745 1975 \nQ 2488 2216 2034 2216 \nz\nM 1403 2484 \nQ 997 2584 770 2862 \nQ 544 3141 544 3541 \nQ 544 4100 942 4425 \nQ 1341 4750 2034 4750 \nQ 2731 4750 3128 4425 \nQ 3525 4100 3525 3541 \nQ 3525 3141 3298 2862 \nQ 3072 2584 2669 2484 \nQ 3125 2378 3379 2068 \nQ 3634 1759 3634 1313 \nQ 3634 634 3220 271 \nQ 2806 -91 2034 -91 \nQ 1263 -91 848 271 \nQ 434 634 434 1313 \nQ 434 1759 690 2068 \nQ 947 2378 1403 2484 \nz\nM 1172 3481 \nQ 1172 3119 1398 2916 \nQ 1625 2713 2034 2713 \nQ 2441 2713 2670 2916 \nQ 2900 3119 2900 3481 \nQ 2900 3844 2670 4047 \nQ 2441 4250 2034 4250 \nQ 1625 4250 1398 4047 \nQ 1172 3844 1172 3481 \nz\n\" transform=\"scale(0.015625)\"/>\n       </defs>\n       <use xlink:href=\"#DejaVuSans-38\"/>\n      </g>\n     </g>\n    </g>\n    <g id=\"xtick_10\">\n     <g id=\"line2d_10\">\n      <g>\n       <use xlink:href=\"#m03266d6ef6\" x=\"179.599\" y=\"224.64\" style=\"stroke: #000000; stroke-width: 0.8\"/>\n      </g>\n     </g>\n     <g id=\"text_10\">\n      <!-- 9 -->\n      <g transform=\"translate(182.358375 238.0025)rotate(-90)scale(0.1 -0.1)\">\n       <defs>\n        <path id=\"DejaVuSans-39\" d=\"M 703 97 \nL 703 672 \nQ 941 559 1184 500 \nQ 1428 441 1663 441 \nQ 2288 441 2617 861 \nQ 2947 1281 2994 2138 \nQ 2813 1869 2534 1725 \nQ 2256 1581 1919 1581 \nQ 1219 1581 811 2004 \nQ 403 2428 403 3163 \nQ 403 3881 828 4315 \nQ 1253 4750 1959 4750 \nQ 2769 4750 3195 4129 \nQ 3622 3509 3622 2328 \nQ 3622 1225 3098 567 \nQ 2575 -91 1691 -91 \nQ 1453 -91 1209 -44 \nQ 966 3 703 97 \nz\nM 1959 2075 \nQ 2384 2075 2632 2365 \nQ 2881 2656 2881 3163 \nQ 2881 3666 2632 3958 \nQ 2384 4250 1959 4250 \nQ 1534 4250 1286 3958 \nQ 1038 3666 1038 3163 \nQ 1038 2656 1286 2365 \nQ 1534 2075 1959 2075 \nz\n\" transform=\"scale(0.015625)\"/>\n       </defs>\n       <use xlink:href=\"#DejaVuSans-39\"/>\n      </g>\n     </g>\n    </g>\n    <g id=\"xtick_11\">\n     <g id=\"line2d_11\">\n      <g>\n       <use xlink:href=\"#m03266d6ef6\" x=\"192.991\" y=\"224.64\" style=\"stroke: #000000; stroke-width: 0.8\"/>\n      </g>\n     </g>\n     <g id=\"text_11\">\n      <!-- 10 -->\n      <g transform=\"translate(195.750375 244.365)rotate(-90)scale(0.1 -0.1)\">\n       <use xlink:href=\"#DejaVuSans-31\"/>\n       <use xlink:href=\"#DejaVuSans-30\" x=\"63.623047\"/>\n      </g>\n     </g>\n    </g>\n    <g id=\"xtick_12\">\n     <g id=\"line2d_12\">\n      <g>\n       <use xlink:href=\"#m03266d6ef6\" x=\"206.383\" y=\"224.64\" style=\"stroke: #000000; stroke-width: 0.8\"/>\n      </g>\n     </g>\n     <g id=\"text_12\">\n      <!-- 11 -->\n      <g transform=\"translate(209.142375 244.365)rotate(-90)scale(0.1 -0.1)\">\n       <use xlink:href=\"#DejaVuSans-31\"/>\n       <use xlink:href=\"#DejaVuSans-31\" x=\"63.623047\"/>\n      </g>\n     </g>\n    </g>\n    <g id=\"xtick_13\">\n     <g id=\"line2d_13\">\n      <g>\n       <use xlink:href=\"#m03266d6ef6\" x=\"219.775\" y=\"224.64\" style=\"stroke: #000000; stroke-width: 0.8\"/>\n      </g>\n     </g>\n     <g id=\"text_13\">\n      <!-- 12 -->\n      <g transform=\"translate(222.534375 244.365)rotate(-90)scale(0.1 -0.1)\">\n       <use xlink:href=\"#DejaVuSans-31\"/>\n       <use xlink:href=\"#DejaVuSans-32\" x=\"63.623047\"/>\n      </g>\n     </g>\n    </g>\n    <g id=\"xtick_14\">\n     <g id=\"line2d_14\">\n      <g>\n       <use xlink:href=\"#m03266d6ef6\" x=\"233.167\" y=\"224.64\" style=\"stroke: #000000; stroke-width: 0.8\"/>\n      </g>\n     </g>\n     <g id=\"text_14\">\n      <!-- 13 -->\n      <g transform=\"translate(235.926375 244.365)rotate(-90)scale(0.1 -0.1)\">\n       <use xlink:href=\"#DejaVuSans-31\"/>\n       <use xlink:href=\"#DejaVuSans-33\" x=\"63.623047\"/>\n      </g>\n     </g>\n    </g>\n    <g id=\"xtick_15\">\n     <g id=\"line2d_15\">\n      <g>\n       <use xlink:href=\"#m03266d6ef6\" x=\"246.559\" y=\"224.64\" style=\"stroke: #000000; stroke-width: 0.8\"/>\n      </g>\n     </g>\n     <g id=\"text_15\">\n      <!-- 14 -->\n      <g transform=\"translate(249.318375 244.365)rotate(-90)scale(0.1 -0.1)\">\n       <use xlink:href=\"#DejaVuSans-31\"/>\n       <use xlink:href=\"#DejaVuSans-34\" x=\"63.623047\"/>\n      </g>\n     </g>\n    </g>\n    <g id=\"xtick_16\">\n     <g id=\"line2d_16\">\n      <g>\n       <use xlink:href=\"#m03266d6ef6\" x=\"259.951\" y=\"224.64\" style=\"stroke: #000000; stroke-width: 0.8\"/>\n      </g>\n     </g>\n     <g id=\"text_16\">\n      <!-- 15 -->\n      <g transform=\"translate(262.710375 244.365)rotate(-90)scale(0.1 -0.1)\">\n       <use xlink:href=\"#DejaVuSans-31\"/>\n       <use xlink:href=\"#DejaVuSans-35\" x=\"63.623047\"/>\n      </g>\n     </g>\n    </g>\n    <g id=\"xtick_17\">\n     <g id=\"line2d_17\">\n      <g>\n       <use xlink:href=\"#m03266d6ef6\" x=\"273.343\" y=\"224.64\" style=\"stroke: #000000; stroke-width: 0.8\"/>\n      </g>\n     </g>\n     <g id=\"text_17\">\n      <!-- 16 -->\n      <g transform=\"translate(276.102375 244.365)rotate(-90)scale(0.1 -0.1)\">\n       <use xlink:href=\"#DejaVuSans-31\"/>\n       <use xlink:href=\"#DejaVuSans-36\" x=\"63.623047\"/>\n      </g>\n     </g>\n    </g>\n    <g id=\"xtick_18\">\n     <g id=\"line2d_18\">\n      <g>\n       <use xlink:href=\"#m03266d6ef6\" x=\"286.735\" y=\"224.64\" style=\"stroke: #000000; stroke-width: 0.8\"/>\n      </g>\n     </g>\n     <g id=\"text_18\">\n      <!-- 17 -->\n      <g transform=\"translate(289.494375 244.365)rotate(-90)scale(0.1 -0.1)\">\n       <use xlink:href=\"#DejaVuSans-31\"/>\n       <use xlink:href=\"#DejaVuSans-37\" x=\"63.623047\"/>\n      </g>\n     </g>\n    </g>\n    <g id=\"xtick_19\">\n     <g id=\"line2d_19\">\n      <g>\n       <use xlink:href=\"#m03266d6ef6\" x=\"300.127\" y=\"224.64\" style=\"stroke: #000000; stroke-width: 0.8\"/>\n      </g>\n     </g>\n     <g id=\"text_19\">\n      <!-- 18 -->\n      <g transform=\"translate(302.886375 244.365)rotate(-90)scale(0.1 -0.1)\">\n       <use xlink:href=\"#DejaVuSans-31\"/>\n       <use xlink:href=\"#DejaVuSans-38\" x=\"63.623047\"/>\n      </g>\n     </g>\n    </g>\n    <g id=\"xtick_20\">\n     <g id=\"line2d_20\">\n      <g>\n       <use xlink:href=\"#m03266d6ef6\" x=\"313.519\" y=\"224.64\" style=\"stroke: #000000; stroke-width: 0.8\"/>\n      </g>\n     </g>\n     <g id=\"text_20\">\n      <!-- 19 -->\n      <g transform=\"translate(316.278375 244.365)rotate(-90)scale(0.1 -0.1)\">\n       <use xlink:href=\"#DejaVuSans-31\"/>\n       <use xlink:href=\"#DejaVuSans-39\" x=\"63.623047\"/>\n      </g>\n     </g>\n    </g>\n    <g id=\"xtick_21\">\n     <g id=\"line2d_21\">\n      <g>\n       <use xlink:href=\"#m03266d6ef6\" x=\"326.911\" y=\"224.64\" style=\"stroke: #000000; stroke-width: 0.8\"/>\n      </g>\n     </g>\n     <g id=\"text_21\">\n      <!-- 20 -->\n      <g transform=\"translate(329.670375 244.365)rotate(-90)scale(0.1 -0.1)\">\n       <use xlink:href=\"#DejaVuSans-32\"/>\n       <use xlink:href=\"#DejaVuSans-30\" x=\"63.623047\"/>\n      </g>\n     </g>\n    </g>\n    <g id=\"xtick_22\">\n     <g id=\"line2d_22\">\n      <g>\n       <use xlink:href=\"#m03266d6ef6\" x=\"340.303\" y=\"224.64\" style=\"stroke: #000000; stroke-width: 0.8\"/>\n      </g>\n     </g>\n     <g id=\"text_22\">\n      <!-- 21 -->\n      <g transform=\"translate(343.062375 244.365)rotate(-90)scale(0.1 -0.1)\">\n       <use xlink:href=\"#DejaVuSans-32\"/>\n       <use xlink:href=\"#DejaVuSans-31\" x=\"63.623047\"/>\n      </g>\n     </g>\n    </g>\n    <g id=\"xtick_23\">\n     <g id=\"line2d_23\">\n      <g>\n       <use xlink:href=\"#m03266d6ef6\" x=\"353.695\" y=\"224.64\" style=\"stroke: #000000; stroke-width: 0.8\"/>\n      </g>\n     </g>\n     <g id=\"text_23\">\n      <!-- 22 -->\n      <g transform=\"translate(356.454375 244.365)rotate(-90)scale(0.1 -0.1)\">\n       <use xlink:href=\"#DejaVuSans-32\"/>\n       <use xlink:href=\"#DejaVuSans-32\" x=\"63.623047\"/>\n      </g>\n     </g>\n    </g>\n    <g id=\"xtick_24\">\n     <g id=\"line2d_24\">\n      <g>\n       <use xlink:href=\"#m03266d6ef6\" x=\"367.087\" y=\"224.64\" style=\"stroke: #000000; stroke-width: 0.8\"/>\n      </g>\n     </g>\n     <g id=\"text_24\">\n      <!-- 23 -->\n      <g transform=\"translate(369.846375 244.365)rotate(-90)scale(0.1 -0.1)\">\n       <use xlink:href=\"#DejaVuSans-32\"/>\n       <use xlink:href=\"#DejaVuSans-33\" x=\"63.623047\"/>\n      </g>\n     </g>\n    </g>\n    <g id=\"xtick_25\">\n     <g id=\"line2d_25\">\n      <g>\n       <use xlink:href=\"#m03266d6ef6\" x=\"380.479\" y=\"224.64\" style=\"stroke: #000000; stroke-width: 0.8\"/>\n      </g>\n     </g>\n     <g id=\"text_25\">\n      <!-- 24 -->\n      <g transform=\"translate(383.238375 244.365)rotate(-90)scale(0.1 -0.1)\">\n       <use xlink:href=\"#DejaVuSans-32\"/>\n       <use xlink:href=\"#DejaVuSans-34\" x=\"63.623047\"/>\n      </g>\n     </g>\n    </g>\n   </g>\n   <g id=\"matplotlib.axis_2\">\n    <g id=\"ytick_1\">\n     <g id=\"line2d_26\">\n      <defs>\n       <path id=\"mf66b482195\" d=\"M 0 0 \nL -3.5 0 \n\" style=\"stroke: #000000; stroke-width: 0.8\"/>\n      </defs>\n      <g>\n       <use xlink:href=\"#mf66b482195\" x=\"52.375\" y=\"224.64\" style=\"stroke: #000000; stroke-width: 0.8\"/>\n      </g>\n     </g>\n     <g id=\"text_26\">\n      <!-- 0 -->\n      <g transform=\"translate(39.0125 228.439219)scale(0.1 -0.1)\">\n       <use xlink:href=\"#DejaVuSans-30\"/>\n      </g>\n     </g>\n    </g>\n    <g id=\"ytick_2\">\n     <g id=\"line2d_27\">\n      <g>\n       <use xlink:href=\"#mf66b482195\" x=\"52.375\" y=\"196.528105\" style=\"stroke: #000000; stroke-width: 0.8\"/>\n      </g>\n     </g>\n     <g id=\"text_27\">\n      <!-- 25000 -->\n      <g transform=\"translate(13.5625 200.327323)scale(0.1 -0.1)\">\n       <use xlink:href=\"#DejaVuSans-32\"/>\n       <use xlink:href=\"#DejaVuSans-35\" x=\"63.623047\"/>\n       <use xlink:href=\"#DejaVuSans-30\" x=\"127.246094\"/>\n       <use xlink:href=\"#DejaVuSans-30\" x=\"190.869141\"/>\n       <use xlink:href=\"#DejaVuSans-30\" x=\"254.492188\"/>\n      </g>\n     </g>\n    </g>\n    <g id=\"ytick_3\">\n     <g id=\"line2d_28\">\n      <g>\n       <use xlink:href=\"#mf66b482195\" x=\"52.375\" y=\"168.416209\" style=\"stroke: #000000; stroke-width: 0.8\"/>\n      </g>\n     </g>\n     <g id=\"text_28\">\n      <!-- 50000 -->\n      <g transform=\"translate(13.5625 172.215428)scale(0.1 -0.1)\">\n       <use xlink:href=\"#DejaVuSans-35\"/>\n       <use xlink:href=\"#DejaVuSans-30\" x=\"63.623047\"/>\n       <use xlink:href=\"#DejaVuSans-30\" x=\"127.246094\"/>\n       <use xlink:href=\"#DejaVuSans-30\" x=\"190.869141\"/>\n       <use xlink:href=\"#DejaVuSans-30\" x=\"254.492188\"/>\n      </g>\n     </g>\n    </g>\n    <g id=\"ytick_4\">\n     <g id=\"line2d_29\">\n      <g>\n       <use xlink:href=\"#mf66b482195\" x=\"52.375\" y=\"140.304314\" style=\"stroke: #000000; stroke-width: 0.8\"/>\n      </g>\n     </g>\n     <g id=\"text_29\">\n      <!-- 75000 -->\n      <g transform=\"translate(13.5625 144.103533)scale(0.1 -0.1)\">\n       <use xlink:href=\"#DejaVuSans-37\"/>\n       <use xlink:href=\"#DejaVuSans-35\" x=\"63.623047\"/>\n       <use xlink:href=\"#DejaVuSans-30\" x=\"127.246094\"/>\n       <use xlink:href=\"#DejaVuSans-30\" x=\"190.869141\"/>\n       <use xlink:href=\"#DejaVuSans-30\" x=\"254.492188\"/>\n      </g>\n     </g>\n    </g>\n    <g id=\"ytick_5\">\n     <g id=\"line2d_30\">\n      <g>\n       <use xlink:href=\"#mf66b482195\" x=\"52.375\" y=\"112.192419\" style=\"stroke: #000000; stroke-width: 0.8\"/>\n      </g>\n     </g>\n     <g id=\"text_30\">\n      <!-- 100000 -->\n      <g transform=\"translate(7.2 115.991638)scale(0.1 -0.1)\">\n       <use xlink:href=\"#DejaVuSans-31\"/>\n       <use xlink:href=\"#DejaVuSans-30\" x=\"63.623047\"/>\n       <use xlink:href=\"#DejaVuSans-30\" x=\"127.246094\"/>\n       <use xlink:href=\"#DejaVuSans-30\" x=\"190.869141\"/>\n       <use xlink:href=\"#DejaVuSans-30\" x=\"254.492188\"/>\n       <use xlink:href=\"#DejaVuSans-30\" x=\"318.115234\"/>\n      </g>\n     </g>\n    </g>\n    <g id=\"ytick_6\">\n     <g id=\"line2d_31\">\n      <g>\n       <use xlink:href=\"#mf66b482195\" x=\"52.375\" y=\"84.080524\" style=\"stroke: #000000; stroke-width: 0.8\"/>\n      </g>\n     </g>\n     <g id=\"text_31\">\n      <!-- 125000 -->\n      <g transform=\"translate(7.2 87.879742)scale(0.1 -0.1)\">\n       <use xlink:href=\"#DejaVuSans-31\"/>\n       <use xlink:href=\"#DejaVuSans-32\" x=\"63.623047\"/>\n       <use xlink:href=\"#DejaVuSans-35\" x=\"127.246094\"/>\n       <use xlink:href=\"#DejaVuSans-30\" x=\"190.869141\"/>\n       <use xlink:href=\"#DejaVuSans-30\" x=\"254.492188\"/>\n       <use xlink:href=\"#DejaVuSans-30\" x=\"318.115234\"/>\n      </g>\n     </g>\n    </g>\n    <g id=\"ytick_7\">\n     <g id=\"line2d_32\">\n      <g>\n       <use xlink:href=\"#mf66b482195\" x=\"52.375\" y=\"55.968628\" style=\"stroke: #000000; stroke-width: 0.8\"/>\n      </g>\n     </g>\n     <g id=\"text_32\">\n      <!-- 150000 -->\n      <g transform=\"translate(7.2 59.767847)scale(0.1 -0.1)\">\n       <use xlink:href=\"#DejaVuSans-31\"/>\n       <use xlink:href=\"#DejaVuSans-35\" x=\"63.623047\"/>\n       <use xlink:href=\"#DejaVuSans-30\" x=\"127.246094\"/>\n       <use xlink:href=\"#DejaVuSans-30\" x=\"190.869141\"/>\n       <use xlink:href=\"#DejaVuSans-30\" x=\"254.492188\"/>\n       <use xlink:href=\"#DejaVuSans-30\" x=\"318.115234\"/>\n      </g>\n     </g>\n    </g>\n    <g id=\"ytick_8\">\n     <g id=\"line2d_33\">\n      <g>\n       <use xlink:href=\"#mf66b482195\" x=\"52.375\" y=\"27.856733\" style=\"stroke: #000000; stroke-width: 0.8\"/>\n      </g>\n     </g>\n     <g id=\"text_33\">\n      <!-- 175000 -->\n      <g transform=\"translate(7.2 31.655952)scale(0.1 -0.1)\">\n       <use xlink:href=\"#DejaVuSans-31\"/>\n       <use xlink:href=\"#DejaVuSans-37\" x=\"63.623047\"/>\n       <use xlink:href=\"#DejaVuSans-35\" x=\"127.246094\"/>\n       <use xlink:href=\"#DejaVuSans-30\" x=\"190.869141\"/>\n       <use xlink:href=\"#DejaVuSans-30\" x=\"254.492188\"/>\n       <use xlink:href=\"#DejaVuSans-30\" x=\"318.115234\"/>\n      </g>\n     </g>\n    </g>\n   </g>\n   <g id=\"patch_28\">\n    <path d=\"M 52.375 224.64 \nL 52.375 7.2 \n\" style=\"fill: none; stroke: #000000; stroke-width: 0.8; stroke-linejoin: miter; stroke-linecap: square\"/>\n   </g>\n   <g id=\"patch_29\">\n    <path d=\"M 387.175 224.64 \nL 387.175 7.2 \n\" style=\"fill: none; stroke: #000000; stroke-width: 0.8; stroke-linejoin: miter; stroke-linecap: square\"/>\n   </g>\n   <g id=\"patch_30\">\n    <path d=\"M 52.375 224.64 \nL 387.175 224.64 \n\" style=\"fill: none; stroke: #000000; stroke-width: 0.8; stroke-linejoin: miter; stroke-linecap: square\"/>\n   </g>\n   <g id=\"patch_31\">\n    <path d=\"M 52.375 7.2 \nL 387.175 7.2 \n\" style=\"fill: none; stroke: #000000; stroke-width: 0.8; stroke-linejoin: miter; stroke-linecap: square\"/>\n   </g>\n  </g>\n </g>\n <defs>\n  <clipPath id=\"p3dacde1bb7\">\n   <rect x=\"52.375\" y=\"7.2\" width=\"334.8\" height=\"217.44\"/>\n  </clipPath>\n </defs>\n</svg>\n",
      "text/plain": [
       "<Figure size 432x288 with 1 Axes>"
      ]
     },
     "metadata": {
      "needs_background": "light"
     },
     "output_type": "display_data"
    }
   ],
   "source": [
    "pd.Series(test_tree.tree_lengths).plot.bar()"
   ]
  },
  {
   "cell_type": "code",
   "execution_count": 20,
   "metadata": {},
   "outputs": [
    {
     "name": "stderr",
     "output_type": "stream",
     "text": [
      "100%|██████████| 83/83 [00:01<00:00, 50.91it/s]\n",
      " 80%|███████▉  | 995/1250 [00:52<00:14, 17.20it/s][16:39:46] Conflicting single bond directions around double bond at index 4.\n",
      "[16:39:46]   BondStereo set to STEREONONE and single bond directions set to NONE.\n",
      "100%|██████████| 1250/1250 [01:11<00:00, 17.61it/s]\n",
      " 83%|████████▎ | 108094/130267 [01:07<00:10, 2190.69it/s][16:41:12] Warning: molecule is tagged as 3D, but all Z coords are zero\n",
      "100%|██████████| 130267/130267 [01:22<00:00, 1585.81it/s]\n"
     ]
    }
   ],
   "source": [
    "df_solv_pruned = test_tree.match_dataset(mol_sup=Chem.SDMolSupplier(data_solv, removeHs=False))\n",
    "df_ext_pruned = test_tree.match_dataset(mol_sup=Chem.SDMolSupplier(data_external, removeHs=False))\n",
    "df_test_pruned = test_tree.match_dataset_with_indices(mol_sup=Chem.SDMolSupplier(sdf_suply, removeHs=False), indices=test_df.mol_index.unique().tolist())"
   ]
  },
  {
   "cell_type": "code",
   "execution_count": 21,
   "metadata": {},
   "outputs": [
    {
     "data": {
      "text/html": [
       "<div>\n",
       "<style scoped>\n",
       "    .dataframe tbody tr th:only-of-type {\n",
       "        vertical-align: middle;\n",
       "    }\n",
       "\n",
       "    .dataframe tbody tr th {\n",
       "        vertical-align: top;\n",
       "    }\n",
       "\n",
       "    .dataframe thead th {\n",
       "        text-align: right;\n",
       "    }\n",
       "</style>\n",
       "<table border=\"1\" class=\"dataframe\">\n",
       "  <thead>\n",
       "    <tr style=\"text-align: right;\">\n",
       "      <th></th>\n",
       "      <th>mol_idx</th>\n",
       "      <th>atom_idx</th>\n",
       "      <th>atomtype</th>\n",
       "      <th>truth</th>\n",
       "      <th>tree</th>\n",
       "      <th>tree_std</th>\n",
       "      <th>tree_norm1</th>\n",
       "      <th>tree_norm2</th>\n",
       "    </tr>\n",
       "  </thead>\n",
       "  <tbody>\n",
       "    <tr>\n",
       "      <th>0</th>\n",
       "      <td>53</td>\n",
       "      <td>0</td>\n",
       "      <td>C</td>\n",
       "      <td>-0.354219</td>\n",
       "      <td>-0.353274</td>\n",
       "      <td>0.002720</td>\n",
       "      <td>-0.345110</td>\n",
       "      <td>-0.352470</td>\n",
       "    </tr>\n",
       "    <tr>\n",
       "      <th>1</th>\n",
       "      <td>53</td>\n",
       "      <td>1</td>\n",
       "      <td>C</td>\n",
       "      <td>0.014673</td>\n",
       "      <td>-0.105948</td>\n",
       "      <td>0.050000</td>\n",
       "      <td>-0.097784</td>\n",
       "      <td>-0.091164</td>\n",
       "    </tr>\n",
       "    <tr>\n",
       "      <th>2</th>\n",
       "      <td>53</td>\n",
       "      <td>2</td>\n",
       "      <td>N</td>\n",
       "      <td>0.074374</td>\n",
       "      <td>0.047553</td>\n",
       "      <td>0.075738</td>\n",
       "      <td>0.055716</td>\n",
       "      <td>0.069947</td>\n",
       "    </tr>\n",
       "    <tr>\n",
       "      <th>3</th>\n",
       "      <td>53</td>\n",
       "      <td>3</td>\n",
       "      <td>N</td>\n",
       "      <td>-0.189175</td>\n",
       "      <td>-0.307659</td>\n",
       "      <td>0.004880</td>\n",
       "      <td>-0.299495</td>\n",
       "      <td>-0.306216</td>\n",
       "    </tr>\n",
       "    <tr>\n",
       "      <th>4</th>\n",
       "      <td>53</td>\n",
       "      <td>4</td>\n",
       "      <td>C</td>\n",
       "      <td>-0.071835</td>\n",
       "      <td>-0.033663</td>\n",
       "      <td>0.050000</td>\n",
       "      <td>-0.025499</td>\n",
       "      <td>-0.018879</td>\n",
       "    </tr>\n",
       "    <tr>\n",
       "      <th>5</th>\n",
       "      <td>53</td>\n",
       "      <td>5</td>\n",
       "      <td>S</td>\n",
       "      <td>1.222628</td>\n",
       "      <td>1.235243</td>\n",
       "      <td>0.050000</td>\n",
       "      <td>1.243406</td>\n",
       "      <td>1.250027</td>\n",
       "    </tr>\n",
       "    <tr>\n",
       "      <th>6</th>\n",
       "      <td>53</td>\n",
       "      <td>6</td>\n",
       "      <td>N</td>\n",
       "      <td>-0.790059</td>\n",
       "      <td>-0.782210</td>\n",
       "      <td>0.050000</td>\n",
       "      <td>-0.774046</td>\n",
       "      <td>-0.767426</td>\n",
       "    </tr>\n",
       "    <tr>\n",
       "      <th>7</th>\n",
       "      <td>53</td>\n",
       "      <td>7</td>\n",
       "      <td>O</td>\n",
       "      <td>-0.573067</td>\n",
       "      <td>-0.566501</td>\n",
       "      <td>0.050000</td>\n",
       "      <td>-0.558338</td>\n",
       "      <td>-0.551717</td>\n",
       "    </tr>\n",
       "    <tr>\n",
       "      <th>8</th>\n",
       "      <td>53</td>\n",
       "      <td>8</td>\n",
       "      <td>O</td>\n",
       "      <td>-0.553338</td>\n",
       "      <td>-0.566501</td>\n",
       "      <td>0.050000</td>\n",
       "      <td>-0.558338</td>\n",
       "      <td>-0.551717</td>\n",
       "    </tr>\n",
       "    <tr>\n",
       "      <th>9</th>\n",
       "      <td>53</td>\n",
       "      <td>9</td>\n",
       "      <td>S</td>\n",
       "      <td>0.030839</td>\n",
       "      <td>0.034617</td>\n",
       "      <td>0.055143</td>\n",
       "      <td>0.042781</td>\n",
       "      <td>0.050921</td>\n",
       "    </tr>\n",
       "  </tbody>\n",
       "</table>\n",
       "</div>"
      ],
      "text/plain": [
       "   mol_idx  atom_idx atomtype     truth      tree  tree_std  tree_norm1  \\\n",
       "0       53         0        C -0.354219 -0.353274  0.002720   -0.345110   \n",
       "1       53         1        C  0.014673 -0.105948  0.050000   -0.097784   \n",
       "2       53         2        N  0.074374  0.047553  0.075738    0.055716   \n",
       "3       53         3        N -0.189175 -0.307659  0.004880   -0.299495   \n",
       "4       53         4        C -0.071835 -0.033663  0.050000   -0.025499   \n",
       "5       53         5        S  1.222628  1.235243  0.050000    1.243406   \n",
       "6       53         6        N -0.790059 -0.782210  0.050000   -0.774046   \n",
       "7       53         7        O -0.573067 -0.566501  0.050000   -0.558338   \n",
       "8       53         8        O -0.553338 -0.566501  0.050000   -0.558338   \n",
       "9       53         9        S  0.030839  0.034617  0.055143    0.042781   \n",
       "\n",
       "   tree_norm2  \n",
       "0   -0.352470  \n",
       "1   -0.091164  \n",
       "2    0.069947  \n",
       "3   -0.306216  \n",
       "4   -0.018879  \n",
       "5    1.250027  \n",
       "6   -0.767426  \n",
       "7   -0.551717  \n",
       "8   -0.551717  \n",
       "9    0.050921  "
      ]
     },
     "execution_count": 21,
     "metadata": {},
     "output_type": "execute_result"
    }
   ],
   "source": [
    "df_test_pruned.head(10)"
   ]
  },
  {
   "cell_type": "code",
   "execution_count": 22,
   "metadata": {},
   "outputs": [
    {
     "data": {
      "text/plain": [
       "node 1 - 0.655353844165802 - 9184 - [F 1 0 SP3 False 0 0 SINGLE]"
      ]
     },
     "execution_count": 22,
     "metadata": {},
     "output_type": "execute_result"
    }
   ],
   "source": [
    "test_tree.root.children[0].children[0]"
   ]
  },
  {
   "cell_type": "code",
   "execution_count": 23,
   "metadata": {},
   "outputs": [
    {
     "name": "stdout",
     "output_type": "stream",
     "text": [
      "0.06111260932052677\n",
      "0.05881370272740009\n",
      "0.05652102139409456\n"
     ]
    }
   ],
   "source": [
    "print(calculate_RMSE_tree_vs_truth(df_solv_pruned, \"truth\", \"tree_norm2\"))\n",
    "print(calculate_RMSE_tree_vs_truth(df_ext_pruned, \"truth\", \"tree_norm2\"))\n",
    "print(calculate_RMSE_tree_vs_truth(df_test_pruned, \"truth\", \"tree_norm2\"))"
   ]
  },
  {
   "cell_type": "code",
   "execution_count": null,
   "metadata": {},
   "outputs": [],
   "source": []
  }
 ],
 "metadata": {
  "kernelspec": {
   "display_name": "Python 3.9.13 ('serenityff-charge-test')",
   "language": "python",
   "name": "python3"
  },
  "language_info": {
   "codemirror_mode": {
    "name": "ipython",
    "version": 3
   },
   "file_extension": ".py",
   "mimetype": "text/x-python",
   "name": "python",
   "nbconvert_exporter": "python",
   "pygments_lexer": "ipython3",
   "version": "3.9.13"
  },
  "orig_nbformat": 4,
  "vscode": {
   "interpreter": {
    "hash": "d01f8240a16224ecf1691df01439556071b10b574bf92c0a8d9e73dd9abb4a28"
   }
  }
 },
 "nbformat": 4,
 "nbformat_minor": 2
}
