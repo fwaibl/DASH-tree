{
 "cells": [
  {
   "cell_type": "code",
   "execution_count": null,
   "metadata": {},
   "outputs": [],
   "source": [
    "import pandas as pd\n",
    "import numpy as np\n",
    "import io\n",
    "from rdkit import Chem\n",
    "from rdkit.Chem import AllChem\n",
    "from rdkit.Chem import Draw\n",
    "from rdkit.Chem.Draw import rdMolDraw2D\n",
    "import IPython.display\n",
    "from collections import defaultdict\n",
    "from tqdm import tqdm\n",
    "import matplotlib.pyplot as plt\n",
    "from matplotlib.colors import LogNorm\n",
    "from serenityff.charge.tree.dash_tree import DASHTree\n",
    "from rdkit.Chem.Draw.IPythonConsole import drawMol3D\n",
    "from rdkit.Chem.MolStandardize import rdMolStandardize\n",
    "import pickle\n",
    "from rdkit.Chem import rdDetermineBonds\n",
    "import glob\n",
    "import py3Dmol\n",
    "plt.rcParams.update({'font.size': 16})\n",
    "try:\n",
    "    import IPython.display\n",
    "except ImportError:\n",
    "    pass\n",
    "from PIL import Image\n",
    "from rdkit.Chem.Draw import rdMolDraw2D\n",
    "from collections import defaultdict"
   ]
  },
  {
   "cell_type": "code",
   "execution_count": null,
   "metadata": {},
   "outputs": [],
   "source": [
    "def dash_corr_plot(df, x, y, fig, ax, xy_range, xlabel=None, ylabel=None, vmin=0.1, vmax=10000, text=None, err_range=(-0.5,0.5), stats=False):\n",
    "    df_plot = df[[x,y]].dropna()\n",
    "    h1 = ax.hist2d(df_plot[x], df_plot[y], bins=100, cmap=\"Greens\", norm=LogNorm(vmin=vmin, vmax=vmax), range=(xy_range, xy_range))\n",
    "    if xlabel is None:\n",
    "        xlabel = x\n",
    "    if ylabel is None:\n",
    "        ylabel = y\n",
    "    ax.set_xlabel(f\"{xlabel}\")\n",
    "    ax.set_ylabel(f\"{ylabel}\")\n",
    "    ax.plot(xy_range, xy_range, color='grey', linestyle=':')\n",
    "    if text is not None:\n",
    "        ax.text(0.05, 0.95, text, transform=ax.transAxes,\n",
    "        fontsize=16, fontweight='bold', va='top')\n",
    "    if stats:\n",
    "        rmse = np.sqrt(np.mean((df_plot[x]-df_plot[y])**2))\n",
    "        r2 = df_plot[[x,y]].corr().iloc[0,1]**2\n",
    "        tau = df_plot[[x,y]].corr(method=\"kendall\").iloc[0,1]\n",
    "        ax.text(0.05, 0.85, f\"RMSE: {rmse:.3f}\\nR2: {r2:.3f}\\nTau: {tau:.3f}\", transform=ax.transAxes,\n",
    "        fontsize=12, va='top')\n",
    "    ax_ins = ax.inset_axes([0.69 , 0.06, 0.3, 0.3], frameon=True)\n",
    "    err = df_plot[x]-df_plot[y]\n",
    "    ax_ins.hist(err, bins=100, color=\"C2\", range=err_range)\n",
    "    ax_ins.set_xlabel(f\"error\", fontsize=11)\n",
    "    ax_ins.tick_params(axis='both', which='major', labelsize=11)\n",
    "    ax_ins.xaxis.set_label_position(\"top\")\n",
    "    ax_ins.yaxis.set_ticklabels([])\n",
    "    ax_ins.set_yticks([])\n",
    "    fig.subplots_adjust(right=0.9)\n",
    "    cbar_ax = fig.add_axes([0.91, 0.15, 0.05, 0.7])\n",
    "    cbar = fig.colorbar(h1[3], cax=cbar_ax)\n",
    "    cbar.ax.set_ylabel('Counts', rotation=270, labelpad=15, fontsize=14)"
   ]
  },
  {
   "cell_type": "code",
   "execution_count": null,
   "metadata": {},
   "outputs": [],
   "source": [
    "sdf_file = f\"./sdf_qmugs500_mbis_collect.sdf\"\n",
    "df_atom = pd.read_csv(\"./test_184_atomData_grouped.csv\")\n",
    "df_mol = pd.read_csv(\"./test_184_molData_withMBIS_ref.csv\")"
   ]
  },
  {
   "cell_type": "code",
   "execution_count": null,
   "metadata": {},
   "outputs": [],
   "source": [
    "df_atom[\"mbis\"] = df_atom[\"MBIScharge\"]"
   ]
  },
  {
   "cell_type": "code",
   "execution_count": null,
   "metadata": {},
   "outputs": [],
   "source": [
    "prop_keys = ['mbis', 'mulliken', 'resp1', 'resp2', 'dual', 'mbis_dipole_strength', 'dipole_bond_1']\n",
    "charge_range = (-2.5, 2.5)\n",
    "prop_range = {\"mbis\": charge_range, \"mulliken\": charge_range, \"resp1\": charge_range, \"resp2\": charge_range, \"dual\": (-1,1), \"mbis_dipole_strength\": (0, 1), \"dipole_bond_1\": (0, 1)}\n",
    "prop_labels_x = {\"mbis\": \"MBIS charge [e]\", \"mulliken\": \"Mulliken charge [e]\", \"resp1\": \"RESP1 charge [e]\", \"resp2\": \"RESP2 charge [e]\", \"dual\": \"Dual Descriptor\", \"mbis_dipole_strength\": \"MBIS dipole strength [eA]\", \"dipole_bond_1\": \"Dipole bond 1 [eA]\"}\n",
    "prop_labels_y = {\"mbis\": \"DASH prediction [e]\", \"mulliken\": \"DASH prediction [e]\", \"resp1\": \"DASH prediction [e]\", \"resp2\": \"DASH prediction [e]\", \"dual\": \"DASH prediction\", \"mbis_dipole_strength\": \"DASH prediction [eA]\", \"dipole_bond_1\": \"DASH prediction [eA]\"}"
   ]
  },
  {
   "cell_type": "code",
   "execution_count": null,
   "metadata": {},
   "outputs": [],
   "source": [
    "for prop in prop_keys:\n",
    "    x_prop = prop\n",
    "    y_prop = f\"{prop}_pred\"\n",
    "    fig, ax = plt.subplots(1,1, figsize=(6,6))\n",
    "    dash_corr_plot(df_atom, x_prop, y_prop, fig, ax, prop_range[prop], stats=True, \n",
    "                   xlabel=prop_labels_x[prop], ylabel=prop_labels_y[prop], vmin=0.2, vmax=1e5)\n",
    "    fig.savefig(f\"./test_185/test_185_{prop}_corr.pdf\", bbox_inches=\"tight\")\n",
    "    fig.savefig(f\"./test_185/test_185_{prop}_corr.svg\", bbox_inches=\"tight\")\n",
    "    fig.show()\n",
    "    "
   ]
  },
  {
   "cell_type": "code",
   "execution_count": null,
   "metadata": {},
   "outputs": [],
   "source": [
    "df_mol"
   ]
  },
  {
   "cell_type": "code",
   "execution_count": null,
   "metadata": {},
   "outputs": [],
   "source": [
    "df_mol[\"mol_dipole_with_atomic_eA\"] = df_mol[\"mol_dipole_with_atomic\"]*0.393430307\n",
    "df_mol[\"mol_dipole_no_atomic_eA\"] = df_mol[\"mol_dipole_no_atomic\"]*0.393430307"
   ]
  },
  {
   "cell_type": "code",
   "execution_count": null,
   "metadata": {},
   "outputs": [],
   "source": [
    "df_mol_cnf_grouped = df_mol.groupby(\"DASH_IDX\").median()"
   ]
  },
  {
   "cell_type": "code",
   "execution_count": null,
   "metadata": {},
   "outputs": [],
   "source": [
    "fig, ax = plt.subplots(1,1, figsize=(6,6))\n",
    "dash_corr_plot(df_mol_cnf_grouped, \"mol_dipole_with_atomic_eA\", \"mol_dipole_from_mbis_ref\", fig, ax, (0, 5), stats=True, \n",
    "               xlabel=\"Molecular dipole [eA]\", ylabel=\"DASH prediction [eA]\", vmin=0.2, vmax=100, err_range=(-1,1))\n",
    "fig.savefig(f\"./test_185/test_185_mol_dipole_corr.pdf\", bbox_inches=\"tight\")\n",
    "fig.savefig(f\"./test_185/test_185_mol_dipole_corr.svg\", bbox_inches=\"tight\")"
   ]
  },
  {
   "cell_type": "code",
   "execution_count": null,
   "metadata": {},
   "outputs": [],
   "source": [
    "df_am1bcc = pd.read_hdf(\"./test_145_am1bcc_prediction_df.h5\", key=\"df\")"
   ]
  },
  {
   "cell_type": "code",
   "execution_count": null,
   "metadata": {},
   "outputs": [],
   "source": [
    "df_c6_atom = pd.read_csv(\"./test_143_c6_prediction_df.csv\")\n",
    "df_c6_mol = pd.read_csv(\"./test_143_c6_mol_prediction_df.csv\")"
   ]
  },
  {
   "cell_type": "code",
   "execution_count": null,
   "metadata": {},
   "outputs": [],
   "source": [
    "selected_dash_idx_set = set(df_mol[\"DASH_IDX\"].unique())"
   ]
  },
  {
   "cell_type": "code",
   "execution_count": null,
   "metadata": {},
   "outputs": [],
   "source": [
    "dftd4_sdf_path = \"/localhome/mlehner/test170_dftd4/mols_comb_dftd4.sdf\"\n",
    "mol_sup_c6 = Chem.SDMolSupplier(dftd4_sdf_path, removeHs=False)"
   ]
  },
  {
   "cell_type": "code",
   "execution_count": null,
   "metadata": {},
   "outputs": [],
   "source": [
    "selected_atom_mask = []\n",
    "selected_mol_mask = []\n",
    "counter_qmugs = 0\n",
    "counter_rest = 0\n",
    "for mol_idx, mol in tqdm(enumerate(mol_sup_c6), total=len(mol_sup_c6)):\n",
    "    tmp_dash_idx = None\n",
    "    if mol.HasProp(\"CHEMBL_ID\"):\n",
    "        counter_qmugs += 1\n",
    "        tmp_dash_idx = f\"QMUGS500_{counter_qmugs}\"\n",
    "    else:\n",
    "        counter_rest += 1\n",
    "        tmp_dash_idx = f\"REST_{counter_rest}\"\n",
    "        \n",
    "    if tmp_dash_idx in selected_dash_idx_set:\n",
    "        selected_mol_mask.append(True)\n",
    "        selected_atom_mask.extend([True]*mol.GetNumAtoms())\n",
    "    else:\n",
    "        selected_mol_mask.append(False)\n",
    "        selected_atom_mask.extend([False]*mol.GetNumAtoms())\n"
   ]
  },
  {
   "cell_type": "code",
   "execution_count": null,
   "metadata": {},
   "outputs": [],
   "source": [
    "print(len(selected_atom_mask))\n",
    "print(len(df_c6_atom.dropna()))\n",
    "print(\"----\")\n",
    "print(len(selected_mol_mask))\n",
    "print(len(df_c6_mol))"
   ]
  },
  {
   "cell_type": "code",
   "execution_count": null,
   "metadata": {},
   "outputs": [],
   "source": [
    "df_c6_mol = df_c6_mol[selected_mol_mask]"
   ]
  },
  {
   "cell_type": "code",
   "execution_count": null,
   "metadata": {},
   "outputs": [],
   "source": [
    "df_c6_atom = df_c6_atom.dropna()[selected_atom_mask[:len(df_c6_atom.dropna())]]"
   ]
  },
  {
   "cell_type": "code",
   "execution_count": null,
   "metadata": {},
   "outputs": [],
   "source": [
    "df_c6_atom"
   ]
  },
  {
   "cell_type": "code",
   "execution_count": null,
   "metadata": {},
   "outputs": [],
   "source": [
    "fig, ax = plt.subplots(1,1, figsize=(6,6))\n",
    "dash_corr_plot(df_c6_atom, \"c6\", \"c6_pred\", fig, ax, (0, 200), stats=True,\n",
    "                xlabel=r\"C6 [au Bohr$^6$]\", ylabel=r\"DASH prediction [au Bohr$^6$]\", vmin=0.2, vmax=1000, err_range=(-5,5))\n",
    "fig.savefig(f\"./test_185/test_185_c6_corr.pdf\", bbox_inches=\"tight\")\n",
    "fig.savefig(f\"./test_185/test_185_c6_corr.svg\", bbox_inches=\"tight\")"
   ]
  },
  {
   "cell_type": "code",
   "execution_count": null,
   "metadata": {},
   "outputs": [],
   "source": [
    "fig, ax = plt.subplots(1,1, figsize=(6,6))\n",
    "dash_corr_plot(df_c6_atom, \"polar\", \"polar_pred\", fig, ax, (0, 40), stats=True,\n",
    "                xlabel=r\"Polarizability [au]\", ylabel=r\"DASH prediction [au]\", vmin=0.2, vmax=1000, err_range=(-1,1))\n",
    "fig.savefig(f\"./test_185/test_185_polar_corr.pdf\", bbox_inches=\"tight\")\n",
    "fig.savefig(f\"./test_185/test_185_polar_corr.svg\", bbox_inches=\"tight\")"
   ]
  },
  {
   "cell_type": "code",
   "execution_count": null,
   "metadata": {},
   "outputs": [],
   "source": [
    "fig, ax = plt.subplots(1,1, figsize=(6,6))\n",
    "dash_corr_plot(df_c6_mol, \"polarization\", \"polarization_pred\", fig, ax, (0, 320), stats=True,\n",
    "                xlabel=r\"Polarization [au]\", ylabel=r\"DASH prediction [au]\", vmin=0.2, vmax=100, err_range=(-10,10))\n",
    "fig.savefig(f\"./test_185/test_185_polarization_corr_mol.pdf\", bbox_inches=\"tight\")\n",
    "fig.savefig(f\"./test_185/test_185_polarization_corr_mol.svg\", bbox_inches=\"tight\")"
   ]
  },
  {
   "cell_type": "code",
   "execution_count": null,
   "metadata": {},
   "outputs": [],
   "source": [
    "mol_sup_am1bcc = Chem.SDMolSupplier(\"/localhome/mlehner/dash_data/sdf_qmugs500_mbis_collect.sdf\", removeHs=False)"
   ]
  },
  {
   "cell_type": "code",
   "execution_count": null,
   "metadata": {},
   "outputs": [],
   "source": [
    "mol_sup_am1bcc[0].GetProp(\"DASH_IDX\")"
   ]
  },
  {
   "cell_type": "code",
   "execution_count": null,
   "metadata": {},
   "outputs": [],
   "source": [
    "selected_am1bcc_mask = []\n",
    "for mol_idx, mol in tqdm(enumerate(mol_sup_am1bcc), total=len(mol_sup_am1bcc)):\n",
    "    tmp_dash_idx = mol.GetProp(\"DASH_IDX\")\n",
    "    nAtoms = mol.GetNumAtoms()        \n",
    "    if tmp_dash_idx in selected_dash_idx_set:\n",
    "        selected_am1bcc_mask.extend([True]*nAtoms)\n",
    "    else:\n",
    "        selected_am1bcc_mask.extend([False]*nAtoms)"
   ]
  },
  {
   "cell_type": "code",
   "execution_count": null,
   "metadata": {},
   "outputs": [],
   "source": [
    "print(len(selected_am1bcc_mask))\n",
    "print(len(df_am1bcc))"
   ]
  },
  {
   "cell_type": "code",
   "execution_count": null,
   "metadata": {},
   "outputs": [],
   "source": [
    "df_am1bcc = df_am1bcc[selected_am1bcc_mask]"
   ]
  },
  {
   "cell_type": "code",
   "execution_count": null,
   "metadata": {},
   "outputs": [],
   "source": [
    "df_am1bcc.head()"
   ]
  },
  {
   "cell_type": "code",
   "execution_count": null,
   "metadata": {},
   "outputs": [],
   "source": [
    "# drop all lines where am1bcc is exactly 0\n",
    "df_am1bcc = df_am1bcc[df_am1bcc[\"am1bcc\"] != 0]"
   ]
  },
  {
   "cell_type": "code",
   "execution_count": null,
   "metadata": {},
   "outputs": [],
   "source": [
    "fig, ax = plt.subplots(1,1, figsize=(6,6))\n",
    "dash_corr_plot(df_am1bcc, \"am1bcc\", \"am1bcc_pred\", fig, ax, charge_range, stats=True,\n",
    "                xlabel=\"AM1-BCC charge [e]\", ylabel=\"DASH prediction [e]\", vmin=0.2, vmax=1000, err_range=(-0.5,0.5))"
   ]
  },
  {
   "cell_type": "code",
   "execution_count": null,
   "metadata": {},
   "outputs": [],
   "source": [
    "# combine am1bcc, mulliken and resp2\n",
    "fig, ax = plt.subplots(1,3, figsize=(18,6))\n",
    "dash_corr_plot(df_am1bcc, \"am1bcc\", \"am1bcc_pred\", fig, ax[0], charge_range, stats=True,\n",
    "                xlabel=\"AM1-BCC charge [e]\", ylabel=\"DASH prediction [e]\", vmin=0.2, vmax=1e4, err_range=(-0.5,0.5), text=\"A\")\n",
    "dash_corr_plot(df_atom, \"mulliken\", \"mulliken_pred\", fig, ax[1], charge_range, stats=True,\n",
    "                xlabel=\"Mulliken charge [e]\", ylabel=\"DASH prediction [e]\", vmin=0.2, vmax=1e4, err_range=(-0.5,0.5), text=\"B\")\n",
    "dash_corr_plot(df_atom, \"resp2\", \"resp2_pred\", fig, ax[2], charge_range, stats=True,\n",
    "                xlabel=\"RESP2 charge [e]\", ylabel=\"DASH prediction [e]\", vmin=0.2, vmax=1e4, err_range=(-0.5,0.5), text=\"C\")\n",
    "# fix cbar size\n",
    "cbar_axes = fig.axes[3:]\n",
    "for cbar_ax in cbar_axes:\n",
    "    cbar_ax.set_position([0.91, 0.15, 0.02, 0.7])\n",
    "\n",
    "\n",
    "fig.savefig(f\"./test_185/test_185_3charges_corr.pdf\", bbox_inches=\"tight\")\n",
    "fig.savefig(f\"./test_185/test_185_3charges_corr.svg\", bbox_inches=\"tight\")\n"
   ]
  },
  {
   "cell_type": "code",
   "execution_count": null,
   "metadata": {},
   "outputs": [],
   "source": [
    "# combine atomic c6 and polarizability\n",
    "fig, ax = plt.subplots(1,2, figsize=(12,6))\n",
    "dash_corr_plot(df_c6_atom, \"c6\", \"c6_pred\", fig, ax[0], (0, 200), stats=True,\n",
    "                xlabel=r\"C6 [au Bohr$^6$]\", ylabel=r\"DASH prediction [au Bohr$^6$]\", vmin=0.2, vmax=1e4, err_range=(-5,5), text=\"A\")\n",
    "dash_corr_plot(df_c6_atom, \"polar\", \"polar_pred\", fig, ax[1], (0, 40), stats=True,\n",
    "                xlabel=r\"Polarizability [au]\", ylabel=r\"DASH prediction [au]\", vmin=0.2, vmax=1e4, err_range=(-1,1), text=\"B\")\n",
    "# fix cbar size\n",
    "cbar_axes = fig.axes[2:]\n",
    "for cbar_ax in cbar_axes:\n",
    "    cbar_ax.set_position([0.91, 0.15, 0.025, 0.7])\n",
    "\n",
    "fig.savefig(f\"./test_185/test_185_C6+polar_corr.pdf\", bbox_inches=\"tight\")\n",
    "fig.savefig(f\"./test_185/test_185_C6+polar_corr.svg\", bbox_inches=\"tight\")"
   ]
  },
  {
   "cell_type": "code",
   "execution_count": null,
   "metadata": {},
   "outputs": [],
   "source": [
    "#df_mol_cnf_grouped_plot = df_mol_cnf_grouped[(df_mol_cnf_grouped[\"mol_dipole_from_mbis_ref\"] < 5) & (df_mol_cnf_grouped[\"mol_dipole_with_atomic_eA\"] < 5)]\n",
    "df_mol_cnf_grouped_plot = df_mol_cnf_grouped"
   ]
  },
  {
   "cell_type": "code",
   "execution_count": null,
   "metadata": {},
   "outputs": [],
   "source": [
    "df_mol_cnf_grouped_plot"
   ]
  },
  {
   "cell_type": "code",
   "execution_count": null,
   "metadata": {},
   "outputs": [],
   "source": [
    "# combine molecular dipole and polarization\n",
    "fig, ax = plt.subplots(1,2, figsize=(12,6))\n",
    "dash_corr_plot(df_c6_mol, \"polarization\", \"polarization_pred\", fig, ax[0], (0, 320), stats=True,\n",
    "                xlabel=r\"Polarizability [au]\", ylabel=r\"DASH prediction [au]\", vmin=0.2, vmax=100, err_range=(-10,10), text=\"A\")\n",
    "dash_corr_plot(df_mol_cnf_grouped_plot, \"mol_dipole_with_atomic_eA\", \"mol_dipole_from_mbis_ref\", fig, ax[1], (0, 5), stats=True, \n",
    "               xlabel=\"Molecular dipole [eA]\", ylabel=\"DASH prediction [eA]\", vmin=0.2, vmax=100, err_range=(-1,1), text=\"B\")\n",
    "# dash_corr_plot(df_mol_cnf_grouped_plot, \"mol_dipole_no_atomic_eA\", \"mol_dipole_from_mbis_ref\", fig, ax[1], (0, 5), stats=True, \n",
    "#                xlabel=\"Molecular dipole [eA]\", ylabel=\"DASH prediction [eA]\", vmin=0.2, vmax=100, err_range=(-1,1), text=\"B\")\n",
    "# fix cbar size\n",
    "cbar_axes = fig.axes[2:]\n",
    "for cbar_ax in cbar_axes:\n",
    "    cbar_ax.set_position([0.91, 0.15, 0.025, 0.7])\n",
    "\n",
    "fig.savefig(f\"./test_185/test_185_mol_dipole+polarization_corr.pdf\", bbox_inches=\"tight\")\n",
    "fig.savefig(f\"./test_185/test_185_mol_dipole+polarization_corr.svg\", bbox_inches=\"tight\")"
   ]
  },
  {
   "cell_type": "code",
   "execution_count": null,
   "metadata": {},
   "outputs": [],
   "source": [
    "def dual_confusion_4(x, x_pred, threshold=0.1):\n",
    "    ret_val = np.zeros((4,4))\n",
    "    ret_val[0,0] = len(x[(x < -threshold) & (x_pred < -threshold)])\n",
    "    ret_val[0,1] = len(x[(x < -threshold) & (x_pred > -threshold) & (x_pred < 0)])\n",
    "    ret_val[0,2] = len(x[(x < -threshold) & (x_pred > 0) & (x_pred < threshold)])\n",
    "    ret_val[0,3] = len(x[(x < -threshold) & (x_pred > threshold)])\n",
    "    ret_val[1,0] = len(x[(x > -threshold) & (x < 0) & (x_pred < -threshold)])\n",
    "    ret_val[1,1] = len(x[(x > -threshold) & (x < 0) & (x_pred > -threshold) & (x_pred < 0)])\n",
    "    ret_val[1,2] = len(x[(x > -threshold) & (x < 0) & (x_pred > 0) & (x_pred < threshold)])\n",
    "    ret_val[1,3] = len(x[(x > -threshold) & (x < 0) & (x_pred > threshold)])\n",
    "    ret_val[2,0] = len(x[(x > 0) & (x < threshold) & (x_pred < -threshold)])\n",
    "    ret_val[2,1] = len(x[(x > 0) & (x < threshold) & (x_pred > -threshold) & (x_pred < 0)])\n",
    "    ret_val[2,2] = len(x[(x > 0) & (x < threshold) & (x_pred > 0) & (x_pred < threshold)])\n",
    "    ret_val[2,3] = len(x[(x > 0) & (x < threshold) & (x_pred > threshold)])\n",
    "    ret_val[3,0] = len(x[(x > threshold) & (x_pred < -threshold)])\n",
    "    ret_val[3,1] = len(x[(x > threshold) & (x_pred > -threshold) & (x_pred < 0)])\n",
    "    ret_val[3,2] = len(x[(x > threshold) & (x_pred > 0) & (x_pred < threshold)])\n",
    "    ret_val[3,3] = len(x[(x > threshold) & (x_pred > threshold)])\n",
    "    return ret_val / np.sum(ret_val)"
   ]
  },
  {
   "cell_type": "code",
   "execution_count": null,
   "metadata": {},
   "outputs": [],
   "source": [
    "df_atom.head()"
   ]
  },
  {
   "cell_type": "code",
   "execution_count": null,
   "metadata": {},
   "outputs": [],
   "source": [
    "confusion_thresh = 0.05\n",
    "confusion_4 = dual_confusion_4(df_atom[\"dual\"], df_atom[\"dual_pred\"], threshold=confusion_thresh)"
   ]
  },
  {
   "cell_type": "code",
   "execution_count": null,
   "metadata": {},
   "outputs": [],
   "source": [
    "fig, ax = plt.subplots(figsize=(6,6))\n",
    "# scale confusion matrix logarithmically\n",
    "im = ax.imshow(confusion_4.T, cmap=\"Greens\", norm=LogNorm(vmin=0.001, vmax=1), origin=\"lower\")\n",
    "ax.set_xticks(np.arange(4))\n",
    "ax.set_yticks(np.arange(4))\n",
    "ax.set_xticklabels([f\"<{confusion_thresh}\",f\"{confusion_thresh}-0\",f\"0-{confusion_thresh}\",f\">{confusion_thresh}\"], fontsize=16)\n",
    "ax.set_yticklabels([f\"<{confusion_thresh}\",f\"{confusion_thresh}-0\",f\"0-{confusion_thresh}\",f\">{confusion_thresh}\"], fontsize=16)\n",
    "ax.set_xlabel(\"TPSSh Dual Descriptor\", fontsize=16)\n",
    "ax.set_ylabel(\"DASH Dual Descriptor\", fontsize=16)\n",
    "for i in range(4):\n",
    "    for j in range(4):\n",
    "        text = ax.text(j, i, f\"{confusion_4.T[i, j]:.2f}\", ha=\"center\", va=\"center\", color=\"black\", fontsize=16)\n",
    "plt.savefig(f\"./test_185/test_185_confusion_4.pdf\", bbox_inches=\"tight\", dpi=400)\n",
    "plt.savefig(f\"./test_185/test_185_confusion_4.svg\", bbox_inches=\"tight\")\n",
    "plt.savefig(f\"./test_185/test_185_confusion_4.png\", bbox_inches=\"tight\", dpi=400)"
   ]
  },
  {
   "cell_type": "code",
   "execution_count": null,
   "metadata": {},
   "outputs": [],
   "source": [
    "df_atom_plot_dipole_bonds = df_atom[(df_atom[\"dipole_bond_1\"] < 1) & (df_atom[\"dipole_bond_1_pred\"] < 1) & (df_atom[\"dipole_bond_1\"] > -1 ) & (df_atom[\"dipole_bond_1_pred\"] > -1)]"
   ]
  },
  {
   "cell_type": "code",
   "execution_count": null,
   "metadata": {},
   "outputs": [],
   "source": [
    "# combine atomic dipole and dipole bond 1\n",
    "fig, ax = plt.subplots(1,2, figsize=(14,6))\n",
    "dash_corr_plot(df_atom, \"mbis_dipole_strength\", \"mbis_dipole_strength_pred\", fig, ax[0], (0, 1), stats=True,\n",
    "                xlabel=r\"MBIS dipole strength [eA]\", ylabel=r\"DASH prediction [eA]\", vmin=0.2, vmax=1e4, err_range=(-0.01,0.01), text=\"A\")\n",
    "dash_corr_plot(df_atom_plot_dipole_bonds, \"dipole_bond_1\", \"dipole_bond_1_pred\", fig, ax[1], (-1, 1), stats=True,\n",
    "                xlabel=r\"Dipole bond 1 [eA]\", ylabel=r\"DASH prediction [eA]\", vmin=0.2, vmax=1e4, err_range=(-0.01,0.01), text=\"B\")\n",
    "# fix cbar size\n",
    "cbar_axes = fig.axes[2:]\n",
    "for cbar_ax in cbar_axes:\n",
    "    cbar_ax.set_position([0.91, 0.15, 0.025, 0.7])\n",
    "ax[0].set_aspect('equal')\n",
    "ax[1].set_aspect('equal')\n",
    "plt.subplots_adjust(wspace=0.3)\n",
    "fig.savefig(f\"./test_185/test_185_atomic_dipole_corr_mag_dir.pdf\", bbox_inches=\"tight\")\n",
    "fig.savefig(f\"./test_185/test_185_atomic_dipole_corr_mag_dir.svg\", bbox_inches=\"tight\")\n",
    "plt.show()"
   ]
  },
  {
   "cell_type": "code",
   "execution_count": null,
   "metadata": {},
   "outputs": [],
   "source": [
    "tree = DASHTree(\"../../serenityff/charge/data/dashProps/\", preload=False)"
   ]
  },
  {
   "cell_type": "code",
   "execution_count": null,
   "metadata": {},
   "outputs": [],
   "source": [
    "rmol = mol_sup_am1bcc[42755]\n",
    "atom_idx = 7"
   ]
  },
  {
   "cell_type": "code",
   "execution_count": null,
   "metadata": {},
   "outputs": [],
   "source": [
    "node_path, match_indices = tree.match_new_atom(mol=rmol, atom=atom_idx, return_atom_indices=True)\n",
    "mbis = [tree.data_storage[node_path[0]].iloc[i][\"result\"] for i in node_path[1:]]\n",
    "mbis_std = [tree.data_storage[node_path[0]].iloc[i][\"std\"] for i in node_path[1:]]\n",
    "mulliken = [tree.data_storage[node_path[0]].iloc[i][\"mulliken\"] for i in node_path[1:]]\n",
    "resp2 = [tree.data_storage[node_path[0]].iloc[i][\"resp2\"] for i in node_path[1:]]\n",
    "am1bcc = [tree.data_storage[node_path[0]].iloc[i][\"AM1BCC\"] for i in node_path[1:]]\n",
    "am1bcc_std = [tree.data_storage[node_path[0]].iloc[i][\"AM1BCC_std\"] for i in node_path[1:]]"
   ]
  },
  {
   "cell_type": "code",
   "execution_count": null,
   "metadata": {},
   "outputs": [],
   "source": [
    "print(mulliken)"
   ]
  },
  {
   "cell_type": "code",
   "execution_count": null,
   "metadata": {},
   "outputs": [],
   "source": [
    "# fill nans with last non-nan value\n",
    "mbis = pd.Series(mbis).fillna(method=\"ffill\").to_numpy()\n",
    "mulliken = pd.Series(mulliken).fillna(method=\"ffill\").to_numpy()\n",
    "resp2 = pd.Series(resp2).fillna(method=\"ffill\").to_numpy()\n",
    "am1bcc = pd.Series(am1bcc).fillna(method=\"ffill\").to_numpy()"
   ]
  },
  {
   "cell_type": "code",
   "execution_count": null,
   "metadata": {},
   "outputs": [],
   "source": [
    "node_path, match_indices = tree.match_new_atom(atom_idx,rmol,return_atom_indices=True)"
   ]
  },
  {
   "cell_type": "code",
   "execution_count": null,
   "metadata": {},
   "outputs": [],
   "source": [
    "def draw_mol_with_highlights_in_order(\n",
    "    mol,\n",
    "    highlight_atoms=[],\n",
    "    highlight_bonds=[],\n",
    "    text_per_atom=[],\n",
    "    plot_title: str = None,\n",
    "    plot_size=(600, 400),\n",
    "    useSVG=False,\n",
    "):\n",
    "    #color = (0, 0.6, 0.1)\n",
    "    color = (0.9, 0.7, 0.25)\n",
    "    alphas = [1 - i / (len(highlight_atoms) + 4) for i in range(len(highlight_atoms) + 1)]\n",
    "    athighlights = defaultdict(list)\n",
    "    bthighlights = defaultdict(list)\n",
    "    arads = {}\n",
    "    brads = {}\n",
    "    for i, atom in enumerate(highlight_atoms):\n",
    "        athighlights[atom].append((color[0], color[1], color[2], alphas[i]))\n",
    "        arads[atom] = 0.75\n",
    "        if len(text_per_atom) < len(highlight_atoms):\n",
    "            text_per_atom = [str(i) for i in highlight_atoms]\n",
    "        mol.GetAtomWithIdx(atom).SetProp(\"atomNote\", f\"{text_per_atom[i]}\")\n",
    "    for i, bond in enumerate(highlight_bonds):\n",
    "        bthighlights[bond].append((color[0], color[1], color[2], alphas[i + 1]))\n",
    "        brads[bond] = 100\n",
    "    if useSVG:\n",
    "        d2d = rdMolDraw2D.MolDraw2DSVG(plot_size[0], plot_size[1])\n",
    "    else:\n",
    "        d2d = rdMolDraw2D.MolDraw2DCairo(plot_size[0], plot_size[1])\n",
    "    dopts = d2d.drawOptions()\n",
    "    dopts.scaleHighlightBondWidth = False\n",
    "    # remove Hs\n",
    "    mol_pic = Chem.RemoveHs(mol)\n",
    "    AllChem.Compute2DCoords(mol_pic)\n",
    "    if plot_title is not None:\n",
    "        dopts.legendFontSize = 30\n",
    "        d2d.DrawMoleculeWithHighlights(mol_pic, plot_title, dict(athighlights), dict(bthighlights), arads, brads)\n",
    "    else:\n",
    "        d2d.DrawMoleculeWithHighlights(mol_pic, \"\", dict(athighlights), dict(bthighlights), arads, brads)\n",
    "    d2d.FinishDrawing()\n",
    "    if useSVG:\n",
    "        if not IPython:\n",
    "            raise ImportError(\"IPython is not available, cannot use SVG\")\n",
    "        p = d2d.GetDrawingText().replace(\"svg:\", \"\")\n",
    "        img = IPython.display.SVG(data=p)\n",
    "    else:\n",
    "        bio = io.BytesIO(d2d.GetDrawingText())\n",
    "        img = Image.open(bio)\n",
    "    return img"
   ]
  },
  {
   "cell_type": "code",
   "execution_count": null,
   "metadata": {},
   "outputs": [],
   "source": [
    "fig, ax = plt.subplots(1, 2, figsize=(16, 6), gridspec_kw={'width_ratios': [1, 1.5]})\n",
    "# slightly staggered to avoid overlap\n",
    "x_axis_mulliken = np.arange(len(mbis)) - 0.15\n",
    "x_axis_mbis = np.arange(len(mbis)) - 0.05\n",
    "x_axis_resp2 = np.arange(len(mbis)) + 0.05\n",
    "x_axis_am1bcc = np.arange(len(mbis)) + 0.15\n",
    "ax[0].errorbar(x_axis_mbis, mbis, yerr=mbis_std, fmt=\"o\", color=\"#1f77b4\")\n",
    "ax[0].errorbar(x_axis_resp2, resp2, yerr=am1bcc_std, fmt=\"o\", color=\"#ff7f0e\")\n",
    "ax[0].errorbar(x_axis_mulliken, mulliken, yerr=am1bcc_std, fmt=\"o\", color=\"#2ca02c\")\n",
    "ax[0].errorbar(x_axis_am1bcc, am1bcc, yerr=am1bcc_std, fmt=\"o\", color=\"#9467bd\")\n",
    "ax[0].set_xticks(range(len(mbis)))\n",
    "#ax[0].set_ylim([-2.5,2.5])\n",
    "ax[0].set_xlabel(\"DASH tree node\")\n",
    "ax[0].set_ylabel(\"Charge [e]\")\n",
    "ax[0].legend([\"Mulliken\", \"RESP2\", \"MBIS\", \"AM1-BCC\"])\n",
    "\n",
    "ax[1].axis('off')\n",
    "#im = Chem.Draw.MolToImage(rmol, size=(800, 800), fitImage=True, highlightAtoms=[atom_idx], highlightColor=(0.8, 0, 0.8))\n",
    "#ax[1].imshow(im, resample=False, interpolation='bilinear')\n",
    "ax[1].imshow(draw_mol_with_highlights_in_order(rmol, highlight_atoms=match_indices, text_per_atom=range(len(match_indices)), plot_size=(900,600), useSVG=False), resample=False, interpolation='bilinear')\n",
    "\n",
    "fig.savefig(\"./test_185/test_185_dashTree_explain4Chg.pdf\", bbox_inches=\"tight\")\n",
    "fig.savefig(\"./test_185/test_185_dashTree_explain4Chg.svg\", bbox_inches=\"tight\")"
   ]
  },
  {
   "cell_type": "code",
   "execution_count": null,
   "metadata": {},
   "outputs": [],
   "source": []
  },
  {
   "cell_type": "code",
   "execution_count": null,
   "metadata": {},
   "outputs": [],
   "source": []
  }
 ],
 "metadata": {
  "kernelspec": {
   "display_name": "sff_19",
   "language": "python",
   "name": "python3"
  },
  "language_info": {
   "codemirror_mode": {
    "name": "ipython",
    "version": 3
   },
   "file_extension": ".py",
   "mimetype": "text/x-python",
   "name": "python",
   "nbconvert_exporter": "python",
   "pygments_lexer": "ipython3",
   "version": "3.10.11"
  }
 },
 "nbformat": 4,
 "nbformat_minor": 2
}
