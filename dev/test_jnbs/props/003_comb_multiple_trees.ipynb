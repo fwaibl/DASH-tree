{
 "cells": [
  {
   "cell_type": "code",
   "execution_count": null,
   "metadata": {},
   "outputs": [],
   "source": [
    "import pandas as pd\n",
    "import numpy as np\n",
    "import matplotlib.pyplot as plt\n",
    "from rdkit import Chem\n",
    "from rdkit.Chem import Draw\n",
    "from rdkit.Chem.Draw import rdMolDraw2D\n",
    "import IPython.display\n",
    "from collections import defaultdict\n",
    "from tqdm import tqdm\n",
    "\n",
    "from serenityff.charge.tree.dash_tree import DASHTree"
   ]
  },
  {
   "cell_type": "code",
   "execution_count": null,
   "metadata": {},
   "outputs": [],
   "source": [
    "dftd4_sdf_path = \"./mols_comb_dftd4.sdf\"\n",
    "mol_sup = Chem.SDMolSupplier(dftd4_sdf_path, removeHs=False)"
   ]
  },
  {
   "cell_type": "markdown",
   "metadata": {},
   "source": [
    "## combine trees"
   ]
  },
  {
   "cell_type": "code",
   "execution_count": null,
   "metadata": {},
   "outputs": [],
   "source": [
    "base_tree = DASHTree(tree_folder_path=\"./props_tree/\")"
   ]
  },
  {
   "cell_type": "code",
   "execution_count": null,
   "metadata": {},
   "outputs": [],
   "source": [
    "new_tree = DASHTree()\n",
    "new_tree.tree_folder_path = \"./dashProps_tree/\""
   ]
  },
  {
   "cell_type": "code",
   "execution_count": null,
   "metadata": {},
   "outputs": [],
   "source": [
    "for key in tqdm(base_tree.data_storage.keys()):\n",
    "    df = base_tree.data_storage[key]\n",
    "    df_c6 = pd.read_hdf(f'./test_143_c6/{key}.h5', key='df', mode='r')[[\"DFTD4:C6\",\t\"DFTD4:C6_std\",\t\"DFTD4:polarizability\",\t\"DFTD4:polarizability_std\"]]\n",
    "    df_am1bcc = pd.read_hdf(f'./test_145_am1bcc/{key}.h5', key='df', mode='r')[[\"AM1BCC\",\t\"AM1BCC_std\"]]\n",
    "    df_all = pd.concat([df, df_am1bcc,df_c6], axis=1)\n",
    "    new_tree.data_storage[key] = df_all.copy(deep=True)"
   ]
  },
  {
   "cell_type": "code",
   "execution_count": null,
   "metadata": {},
   "outputs": [],
   "source": [
    "rename_columns = {\"atom\": \"atom_type\", \"con\": \"con_atom\", \"conType\": \"con_type\", \"stdDeviation\":\"std\", \"attention\": \"max_attention\", \"count\": \"size\"}"
   ]
  },
  {
   "cell_type": "code",
   "execution_count": null,
   "metadata": {},
   "outputs": [],
   "source": [
    "for key in tqdm(new_tree.data_storage.keys()):\n",
    "    df = new_tree.data_storage[key]\n",
    "    df.rename(columns=rename_columns, inplace=True)\n",
    "    new_tree.data_storage[key] = df"
   ]
  },
  {
   "cell_type": "code",
   "execution_count": null,
   "metadata": {},
   "outputs": [],
   "source": [
    "new_tree.save_all_trees_and_data()"
   ]
  },
  {
   "cell_type": "markdown",
   "metadata": {},
   "source": [
    "## plots"
   ]
  },
  {
   "cell_type": "code",
   "execution_count": null,
   "metadata": {},
   "outputs": [],
   "source": [
    "mol = Chem.MolFromSmiles(\"c1ccccc1O\")\n",
    "mol = Chem.AddHs(mol)"
   ]
  },
  {
   "cell_type": "code",
   "execution_count": null,
   "metadata": {},
   "outputs": [],
   "source": [
    "mol"
   ]
  },
  {
   "cell_type": "code",
   "execution_count": null,
   "metadata": {},
   "outputs": [],
   "source": [
    "npath, match_indices = new_tree.match_new_atom(mol=mol, atom=1, return_atom_indices=True)\n",
    "print(npath)\n",
    "print(match_indices)"
   ]
  },
  {
   "cell_type": "code",
   "execution_count": null,
   "metadata": {},
   "outputs": [],
   "source": [
    "new_tree.get_atom_properties(matched_node_path=new_tree.match_new_atom(mol=mol, atom=1))"
   ]
  },
  {
   "cell_type": "code",
   "execution_count": null,
   "metadata": {},
   "outputs": [],
   "source": [
    "new_tree.get_property_noNAN(mol=mol, atom=1, property_name=\"DFTD4:C6\")"
   ]
  },
  {
   "cell_type": "code",
   "execution_count": null,
   "metadata": {},
   "outputs": [],
   "source": [
    "mol = mol_sup[2857]"
   ]
  },
  {
   "cell_type": "code",
   "execution_count": null,
   "metadata": {},
   "outputs": [],
   "source": [
    "mol"
   ]
  },
  {
   "cell_type": "code",
   "execution_count": null,
   "metadata": {},
   "outputs": [],
   "source": [
    "mol.GetPropsAsDict()"
   ]
  },
  {
   "cell_type": "code",
   "execution_count": null,
   "metadata": {},
   "outputs": [],
   "source": [
    "new_tree.get_molecules_partial_charges(mol=mol, chg_std_key=\"std\")['charges']"
   ]
  },
  {
   "cell_type": "code",
   "execution_count": null,
   "metadata": {},
   "outputs": [],
   "source": [
    "mol_c6 = []\n",
    "for atom_idx in range(mol.GetNumAtoms()):\n",
    "    mol_c6.append(new_tree.get_property_noNAN(mol=mol, atom=atom_idx, property_name=\"DFTD4:C6\"))\n",
    "mol_c6"
   ]
  }
 ],
 "metadata": {
  "kernelspec": {
   "display_name": "sff_19",
   "language": "python",
   "name": "python3"
  },
  "language_info": {
   "codemirror_mode": {
    "name": "ipython",
    "version": 3
   },
   "file_extension": ".py",
   "mimetype": "text/x-python",
   "name": "python",
   "nbconvert_exporter": "python",
   "pygments_lexer": "ipython3",
   "version": "3.10.11"
  }
 },
 "nbformat": 4,
 "nbformat_minor": 2
}
